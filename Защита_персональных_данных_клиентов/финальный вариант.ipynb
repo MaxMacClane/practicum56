{
 "cells": [
  {
   "cell_type": "markdown",
   "metadata": {},
   "source": [
    " <div class=\"alert alert-success\" style=\"border-color: green; border-radius: 5px\">\n",
    "    <font color='green'> <b><u>КОММЕНТАРИЙ РЕВЬЮЕРА</u></b><br>\n",
    "Максим, доброго дня! рад приветствовать тебя) <br />\n",
    "<br />\n",
    "Меня зовут Николай Шавлюго. <br />И на этом этапе твоего движения к новой профессии от меня будут комментарии по написанному коду. <br />Чтобы меньше \"мусорить эфир\" и чтобы максимально наглядно отделяться от основного кода, есть предложение условиться в некоторых обозначениях:<br /> <br />\n",
    "<div class=\"alert alert-success\" style=\"border-color: green; border-radius: 5px\">\n",
    "    <p><u><b>✅ КОММЕНТАРИЙ РЕВЬЮЕРА</b></u></p>\n",
    "    <p>Всё хорошо.</p>\n",
    "</div>\n",
    "\n",
    "<div class=\"alert alert-warning\" style=\"border-color: darkorange; border-radius: 5px\">\n",
    "    <p><u><b>⚠️ КОММЕНТАРИЙ РЕВЬЮЕРА</b></u></p>\n",
    "    <p>Обрати внимание, есть потенциал</p>\n",
    "</div>\n",
    "\n",
    "<div class=\"alert alert-danger\" style=\"border-color: darkred; border-radius: 5px\">\n",
    "    <p><u><b>❌ КОММЕНТАРИЙ РЕВЬЮЕРА</b></u></p>\n",
    "    <p>Нужно ещё раз глянуть</p>\n",
    "</div>\n",
    "</font><br /><br />\n",
    "<font color='green'>Моей целью является не \"уличить\" в не знании, а просто высказать сверху твоих знаний - свой опыт, что бы ты мог использовать его для своего дальнейшего успеха) И очень здорово будет, если удастся задавать вопросы, да и вообще - всячески доставать меня, если я по каким-то причинам не приму проект:) При этом, из своего опыта скажу, хорошо и важно, когда переписка ревьюера и студента - сохраняется на следующие проекты и даже на будущую практическую деятельность.<br>\n",
    "<br> Я сразу же начал общаться на ты:) но если это не очень удобно, то дай знать)) <BR> В ПУТЬ!<br></div>"
   ]
  },
  {
   "cell_type": "markdown",
   "metadata": {},
   "source": [
    "<div class=\"alert alert-info\">\n",
    "<h2> Николай привет <a class=\"tocSkip\"> </h2>\n",
    "Спасибо за комментарии и проверку проекта<br>\n",
    "Поправил проект учётом твоего опыта<br>\n",
    "    \n",
    "Теперь он стал цельным и завершённым<br>\n",
    "Этот вариант нравится мне больше<br>\n",
    "    \n",
    "Отличное вступление с правильным посылом!<br>\n",
    "Хочу заметить, что в месте `что бы тебе использовать его для своего дальнейшего успеха)`<br>\n",
    "    Слово `тебе` замени на `ты мог` будет звучать так как ты задумал)\n",
    "    \n",
    "    \n",
    " </div>"
   ]
  },
  {
   "cell_type": "markdown",
   "metadata": {},
   "source": [
    "<div class=\"alert alert-success\" style=\"border-color: green; border-radius: 5px\">\n",
    "    <p><u><b>✅ КОММЕНТАРИЙ РЕВЬЮЕРА 2</b></u></p>\n",
    "    <p>Привет, Максим! Спасибо за отклик!!! Согласен, звучит интереснее. Уже исправил)<br><br>\n",
    "\n",
    "Вернулся с обхода:))<br>\n",
    "Всё так, что добавить-то мне больше и нечего.<BR> \n",
    "Единственное, ещё несколько идей в целом по теме: если рассматривать передачу данных третьим лицам, то к преимуществам данного подхода можно отнести, в первую очередь, ощутимую экономию ресурсов по сравнению с некоторыми известными алгоритмами шифрования, в особенности это касается ассиметричных алгоритмов с достаточно длинными ключами (AES, RSA), которые требуют много процессорного времени.<br><br>\n",
    "    \n",
    "К главному недостатку подхода можно отнести увеличение сложности проверки на вырожденность преобразования с ростом количества признаков в выборке. В рассмотренном случае необходимо подобрать подходящую матрицу размера  4×4 . Однако, если признаки будут исчисляться тысячами, что в теории всегда надо положить, то расчет соответствующих определителей может быть крайне ресурсозатратным. Но и эту проблему можно будет решить)<br><br>\n",
    "    \n",
    "Если есть время и желание, то можно воту этот маткриал просмотреть:<br>\n",
    "Обзоры по применению криптографии в машинном обучении: https://arxiv.org/pdf/1902.04109.pdf, https://www.researchgate.net/publication/342746786_Some_Applications_of_Machine_Learning_in_Cryptography\n",
    "Подробнее про аналогичный алгоритм: https://www.cs.cmu.edu/~rjhall/JOS_revised_May_31a.pdf<br>\n",
    "Шифрование исходного ключа по методу \"Цезаря\" (https://ru.wikipedia.org/wiki/%D0%A8%D0%B8%D1%84%D1%80_%D0%A6%D0%B5%D0%B7%D0%B0%D1%80%D1%8F)<br>\n",
    "<font color='green'><font color='green'>\n",
    "Спасибо за проект и интересное общение!!! <br>\n",
    "Успешного дальнейшего обучения\n",
    "    \n",
    "</p>\n",
    "</div>\n"
   ]
  },
  {
   "cell_type": "markdown",
   "metadata": {
    "toc": true
   },
   "source": [
    "<h1>Содержание<span class=\"tocSkip\"></span></h1>\n",
    "<div class=\"toc\"><ul class=\"toc-item\"><li><span><a href=\"#Цель\" data-toc-modified-id=\"Цель-1\"><span class=\"toc-item-num\">1&nbsp;&nbsp;</span>Цель</a></span></li><li><span><a href=\"#Описание-данных\" data-toc-modified-id=\"Описание-данных-2\"><span class=\"toc-item-num\">2&nbsp;&nbsp;</span>Описание данных</a></span></li><li><span><a href=\"#Загрузка-данных\" data-toc-modified-id=\"Загрузка-данных-3\"><span class=\"toc-item-num\">3&nbsp;&nbsp;</span>Загрузка данных</a></span><ul class=\"toc-item\"><li><span><a href=\"#Вывод\" data-toc-modified-id=\"Вывод-3.1\"><span class=\"toc-item-num\">3.1&nbsp;&nbsp;</span>Вывод</a></span></li></ul></li><li><span><a href=\"#Умножение-матриц\" data-toc-modified-id=\"Умножение-матриц-4\"><span class=\"toc-item-num\">4&nbsp;&nbsp;</span>Умножение матриц</a></span><ul class=\"toc-item\"><li><span><a href=\"#Вывод\" data-toc-modified-id=\"Вывод-4.1\"><span class=\"toc-item-num\">4.1&nbsp;&nbsp;</span>Вывод</a></span></li></ul></li><li><span><a href=\"#Алгоритм-преобразования\" data-toc-modified-id=\"Алгоритм-преобразования-5\"><span class=\"toc-item-num\">5&nbsp;&nbsp;</span>Алгоритм преобразования</a></span><ul class=\"toc-item\"><li><span><a href=\"#Вывод\" data-toc-modified-id=\"Вывод-5.1\"><span class=\"toc-item-num\">5.1&nbsp;&nbsp;</span>Вывод</a></span></li></ul></li><li><span><a href=\"#Проверка-алгоритма\" data-toc-modified-id=\"Проверка-алгоритма-6\"><span class=\"toc-item-num\">6&nbsp;&nbsp;</span>Проверка алгоритма</a></span><ul class=\"toc-item\"><li><span><a href=\"#Вывод\" data-toc-modified-id=\"Вывод-6.1\"><span class=\"toc-item-num\">6.1&nbsp;&nbsp;</span>Вывод</a></span></li></ul></li><li><span><a href=\"#Вывод-по-проекту\" data-toc-modified-id=\"Вывод-по-проекту-7\"><span class=\"toc-item-num\">7&nbsp;&nbsp;</span>Вывод по проекту</a></span></li><li><span><a href=\"#Чек-лист-проверки\" data-toc-modified-id=\"Чек-лист-проверки-8\"><span class=\"toc-item-num\">8&nbsp;&nbsp;</span>Чек-лист проверки</a></span></li></ul></div>"
   ]
  },
  {
   "cell_type": "markdown",
   "metadata": {},
   "source": [
    "# Защита персональных данных клиентов"
   ]
  },
  {
   "cell_type": "markdown",
   "metadata": {},
   "source": [
    "## Цель \n",
    "\n",
    "Разработайть метод преобразования данных для компании «Хоть потоп»<br>\n",
    "С целью защиты персональных данных её клиентов <br>\n",
    "Что бы по ним было сложно восстановить персональную информацию<br>\n",
    "\n",
    "Доказать корректность работы метода<br>\n",
    "<br>\n",
    "При этом:<br>\n",
    "Качество модели на преобразованных данных должно соответствовать качеству модели на исходных данных<br>"
   ]
  },
  {
   "cell_type": "markdown",
   "metadata": {},
   "source": [
    "## Описание данных\n",
    "\n",
    "Набор данных находится в файле https://code.s3.yandex.net/datasets/insurance.csv\n",
    "- Признаки: пол, возраст, зарплата застрахованного, количество членов его семьи\n",
    "- Целевой признак: количество страховых выплат клиенту за последние 5 лет"
   ]
  },
  {
   "cell_type": "markdown",
   "metadata": {},
   "source": [
    "## Загрузка данных"
   ]
  },
  {
   "cell_type": "code",
   "execution_count": 1,
   "metadata": {},
   "outputs": [],
   "source": [
    "import pandas as pd\n",
    "import numpy as np\n",
    "import seaborn as sns\n",
    "import random\n",
    "import matplotlib.pyplot as plt\n",
    "from plotly.subplots import make_subplots\n",
    "\n",
    "# pd.set_option('display.max_rows', None)\n",
    "# pd.set_option('display.max_columns', None)\n",
    "pd.options.mode.chained_assignment = None\n",
    "import warnings\n",
    "warnings.simplefilter(action='ignore', category=FutureWarning)"
   ]
  },
  {
   "cell_type": "code",
   "execution_count": 2,
   "metadata": {},
   "outputs": [],
   "source": [
    "from sklearn.linear_model import LinearRegression\n",
    "from sklearn.metrics import make_scorer, r2_score "
   ]
  },
  {
   "cell_type": "code",
   "execution_count": 5,
   "metadata": {},
   "outputs": [
    {
     "data": {
      "text/plain": "Available line magics:\n%alias  %alias_magic  %autoawait  %autocall  %automagic  %autosave  %bookmark  %cat  %cd  %clear  %colors  %conda  %config  %connect_info  %cp  %debug  %dhist  %dirs  %doctest_mode  %ed  %edit  %env  %gui  %hist  %history  %killbgscripts  %ldir  %less  %lf  %lk  %ll  %load  %load_ext  %loadpy  %logoff  %logon  %logstart  %logstate  %logstop  %ls  %lsmagic  %lx  %macro  %magic  %man  %matplotlib  %mkdir  %more  %mv  %notebook  %page  %pastebin  %pdb  %pdef  %pdoc  %pfile  %pinfo  %pinfo2  %pip  %popd  %pprint  %precision  %prun  %psearch  %psource  %pushd  %pwd  %pycat  %pylab  %qtconsole  %quickref  %recall  %rehashx  %reload_ext  %rep  %rerun  %reset  %reset_selective  %rm  %rmdir  %run  %save  %sc  %set_env  %store  %sx  %system  %tb  %time  %timeit  %unalias  %unload_ext  %who  %who_ls  %whos  %xdel  %xmode\n\nAvailable cell magics:\n%%!  %%HTML  %%SVG  %%bash  %%capture  %%debug  %%file  %%html  %%javascript  %%js  %%latex  %%markdown  %%perl  %%prun  %%pypy  %%python  %%python2  %%python3  %%ruby  %%script  %%sh  %%svg  %%sx  %%system  %%time  %%timeit  %%writefile\n\nAutomagic is ON, % prefix IS NOT needed for line magics.",
      "application/json": {
       "line": {
        "automagic": "AutoMagics",
        "autocall": "AutoMagics",
        "alias_magic": "BasicMagics",
        "lsmagic": "BasicMagics",
        "magic": "BasicMagics",
        "page": "BasicMagics",
        "pprint": "BasicMagics",
        "colors": "BasicMagics",
        "xmode": "BasicMagics",
        "quickref": "BasicMagics",
        "doctest_mode": "BasicMagics",
        "gui": "BasicMagics",
        "precision": "BasicMagics",
        "notebook": "BasicMagics",
        "save": "CodeMagics",
        "pastebin": "CodeMagics",
        "loadpy": "CodeMagics",
        "load": "CodeMagics",
        "edit": "KernelMagics",
        "config": "ConfigMagics",
        "prun": "ExecutionMagics",
        "pdb": "ExecutionMagics",
        "debug": "ExecutionMagics",
        "tb": "ExecutionMagics",
        "run": "ExecutionMagics",
        "timeit": "ExecutionMagics",
        "time": "ExecutionMagics",
        "macro": "ExecutionMagics",
        "load_ext": "ExtensionMagics",
        "unload_ext": "ExtensionMagics",
        "reload_ext": "ExtensionMagics",
        "history": "HistoryMagics",
        "recall": "HistoryMagics",
        "rerun": "HistoryMagics",
        "logstart": "LoggingMagics",
        "logstop": "LoggingMagics",
        "logoff": "LoggingMagics",
        "logon": "LoggingMagics",
        "logstate": "LoggingMagics",
        "pinfo": "NamespaceMagics",
        "pinfo2": "NamespaceMagics",
        "pdef": "NamespaceMagics",
        "pdoc": "NamespaceMagics",
        "psource": "NamespaceMagics",
        "pfile": "NamespaceMagics",
        "psearch": "NamespaceMagics",
        "who_ls": "NamespaceMagics",
        "who": "NamespaceMagics",
        "whos": "NamespaceMagics",
        "reset": "NamespaceMagics",
        "reset_selective": "NamespaceMagics",
        "xdel": "NamespaceMagics",
        "alias": "OSMagics",
        "unalias": "OSMagics",
        "rehashx": "OSMagics",
        "pwd": "OSMagics",
        "cd": "OSMagics",
        "env": "OSMagics",
        "set_env": "OSMagics",
        "pushd": "OSMagics",
        "popd": "OSMagics",
        "dirs": "OSMagics",
        "dhist": "OSMagics",
        "sc": "OSMagics",
        "sx": "OSMagics",
        "system": "OSMagics",
        "bookmark": "OSMagics",
        "pycat": "OSMagics",
        "pip": "PackagingMagics",
        "conda": "PackagingMagics",
        "matplotlib": "PylabMagics",
        "pylab": "PylabMagics",
        "killbgscripts": "ScriptMagics",
        "autoawait": "AsyncMagics",
        "ed": "Other",
        "hist": "Other",
        "rep": "Other",
        "clear": "KernelMagics",
        "less": "KernelMagics",
        "more": "KernelMagics",
        "man": "KernelMagics",
        "connect_info": "KernelMagics",
        "qtconsole": "KernelMagics",
        "autosave": "KernelMagics",
        "mkdir": "Other",
        "rmdir": "Other",
        "mv": "Other",
        "rm": "Other",
        "cp": "Other",
        "cat": "Other",
        "ls": "Other",
        "ll": "Other",
        "lf": "Other",
        "lk": "Other",
        "ldir": "Other",
        "lx": "Other",
        "store": "StoreMagics"
       },
       "cell": {
        "js": "DisplayMagics",
        "javascript": "DisplayMagics",
        "latex": "DisplayMagics",
        "svg": "DisplayMagics",
        "html": "DisplayMagics",
        "markdown": "DisplayMagics",
        "prun": "ExecutionMagics",
        "debug": "ExecutionMagics",
        "timeit": "ExecutionMagics",
        "time": "ExecutionMagics",
        "capture": "ExecutionMagics",
        "sx": "OSMagics",
        "system": "OSMagics",
        "!": "OSMagics",
        "writefile": "OSMagics",
        "script": "ScriptMagics",
        "sh": "Other",
        "bash": "Other",
        "perl": "Other",
        "ruby": "Other",
        "python": "Other",
        "python2": "Other",
        "python3": "Other",
        "pypy": "Other",
        "SVG": "Other",
        "HTML": "Other",
        "file": "Other"
       }
      }
     },
     "execution_count": 5,
     "metadata": {},
     "output_type": "execute_result"
    }
   ],
   "source": [
    "%lsmagic"
   ]
  },
  {
   "cell_type": "code",
   "execution_count": 6,
   "metadata": {},
   "outputs": [],
   "source": [
    "try:\n",
    "    import phik\n",
    "    from phik.report import plot_correlation_matrix\n",
    "    from phik import report\n",
    "except:\n",
    "    !pip install phik\n",
    "    import phik\n",
    "    from phik.report import plot_correlation_matrix\n",
    "    from phik import report"
   ]
  },
  {
   "cell_type": "code",
   "execution_count": 7,
   "metadata": {},
   "outputs": [],
   "source": [
    "try:\n",
    "    data = pd.read_csv('insurance.csv')\n",
    "\n",
    "except:\n",
    "    data = pd.read_csv('https://code.s3.yandex.net/datasets/insurance.csv')\n",
    "  "
   ]
  },
  {
   "cell_type": "markdown",
   "metadata": {},
   "source": [
    "<div class=\"alert alert-success\" style=\"border-color: green; border-radius: 5px\">\n",
    "    <p><u><b>✅ КОММЕНТАРИЙ РЕВЬЮЕРА</b></u></p>\n",
    "    <p>ОК, данные на базе)</p>\n",
    "</div>"
   ]
  },
  {
   "cell_type": "code",
   "execution_count": 8,
   "metadata": {},
   "outputs": [],
   "source": [
    "def isna_count_procent(data, name):\n",
    "    isna_columns = data.isna().sum() > 0\n",
    "    isna_columns = pd.DataFrame([data.isna().sum()[isna_columns]/data.shape[0], data.isna().sum()[isna_columns]]).T\n",
    "    isna_columns = isna_columns.rename(columns={0: 'procent', 1: 'count'})\n",
    "    isna_columns['count'] = isna_columns['count'].map('{:,.2f}'.format)\n",
    "    isna_columns['procent'] = isna_columns['procent'].map('{:,.2%}'.format)\n",
    "    isna_columns = isna_columns.sort_values('procent', ascending=False)\n",
    "    # блок показывае всё о данных\n",
    "    display(data.head(5))\n",
    "    print('#'*55)\n",
    "    print()\n",
    "    display(data.describe())\n",
    "    print('#'*55)\n",
    "    print()\n",
    "    data.info()\n",
    "    print('#'*55)\n",
    "    isna = data.isna().sum().sum()\n",
    "    isna_procent = isna/data.shape[0]\n",
    "    print()\n",
    "    print(f'Всего пропусков в {name} {isna} шт. в {len(isna_columns)} столбцах')\n",
    "    print(f'В процентном отношении {isna_procent:.2%} шт. от {data.shape[0]} длинны')\n",
    "    print()\n",
    "    s = data.duplicated().sum()\n",
    "    print(f'Количество дубликатов в данных  равно {s}')\n",
    "\n",
    "    return isna_columns, pd.set_option('display.max_rows', None)"
   ]
  },
  {
   "cell_type": "code",
   "execution_count": 9,
   "metadata": {},
   "outputs": [
    {
     "data": {
      "text/plain": "   Пол  Возраст  Зарплата  Члены семьи  Страховые выплаты\n0    1     41.0   49600.0            1                  0\n1    0     46.0   38000.0            1                  1\n2    0     29.0   21000.0            0                  0\n3    0     21.0   41700.0            2                  0\n4    1     28.0   26100.0            0                  0",
      "text/html": "<div>\n<style scoped>\n    .dataframe tbody tr th:only-of-type {\n        vertical-align: middle;\n    }\n\n    .dataframe tbody tr th {\n        vertical-align: top;\n    }\n\n    .dataframe thead th {\n        text-align: right;\n    }\n</style>\n<table border=\"1\" class=\"dataframe\">\n  <thead>\n    <tr style=\"text-align: right;\">\n      <th></th>\n      <th>Пол</th>\n      <th>Возраст</th>\n      <th>Зарплата</th>\n      <th>Члены семьи</th>\n      <th>Страховые выплаты</th>\n    </tr>\n  </thead>\n  <tbody>\n    <tr>\n      <th>0</th>\n      <td>1</td>\n      <td>41.0</td>\n      <td>49600.0</td>\n      <td>1</td>\n      <td>0</td>\n    </tr>\n    <tr>\n      <th>1</th>\n      <td>0</td>\n      <td>46.0</td>\n      <td>38000.0</td>\n      <td>1</td>\n      <td>1</td>\n    </tr>\n    <tr>\n      <th>2</th>\n      <td>0</td>\n      <td>29.0</td>\n      <td>21000.0</td>\n      <td>0</td>\n      <td>0</td>\n    </tr>\n    <tr>\n      <th>3</th>\n      <td>0</td>\n      <td>21.0</td>\n      <td>41700.0</td>\n      <td>2</td>\n      <td>0</td>\n    </tr>\n    <tr>\n      <th>4</th>\n      <td>1</td>\n      <td>28.0</td>\n      <td>26100.0</td>\n      <td>0</td>\n      <td>0</td>\n    </tr>\n  </tbody>\n</table>\n</div>"
     },
     "metadata": {},
     "output_type": "display_data"
    },
    {
     "name": "stdout",
     "output_type": "stream",
     "text": [
      "#######################################################\n",
      "\n"
     ]
    },
    {
     "data": {
      "text/plain": "               Пол      Возраст      Зарплата  Члены семьи  Страховые выплаты\ncount  5000.000000  5000.000000   5000.000000  5000.000000        5000.000000\nmean      0.499000    30.952800  39916.360000     1.194200           0.148000\nstd       0.500049     8.440807   9900.083569     1.091387           0.463183\nmin       0.000000    18.000000   5300.000000     0.000000           0.000000\n25%       0.000000    24.000000  33300.000000     0.000000           0.000000\n50%       0.000000    30.000000  40200.000000     1.000000           0.000000\n75%       1.000000    37.000000  46600.000000     2.000000           0.000000\nmax       1.000000    65.000000  79000.000000     6.000000           5.000000",
      "text/html": "<div>\n<style scoped>\n    .dataframe tbody tr th:only-of-type {\n        vertical-align: middle;\n    }\n\n    .dataframe tbody tr th {\n        vertical-align: top;\n    }\n\n    .dataframe thead th {\n        text-align: right;\n    }\n</style>\n<table border=\"1\" class=\"dataframe\">\n  <thead>\n    <tr style=\"text-align: right;\">\n      <th></th>\n      <th>Пол</th>\n      <th>Возраст</th>\n      <th>Зарплата</th>\n      <th>Члены семьи</th>\n      <th>Страховые выплаты</th>\n    </tr>\n  </thead>\n  <tbody>\n    <tr>\n      <th>count</th>\n      <td>5000.000000</td>\n      <td>5000.000000</td>\n      <td>5000.000000</td>\n      <td>5000.000000</td>\n      <td>5000.000000</td>\n    </tr>\n    <tr>\n      <th>mean</th>\n      <td>0.499000</td>\n      <td>30.952800</td>\n      <td>39916.360000</td>\n      <td>1.194200</td>\n      <td>0.148000</td>\n    </tr>\n    <tr>\n      <th>std</th>\n      <td>0.500049</td>\n      <td>8.440807</td>\n      <td>9900.083569</td>\n      <td>1.091387</td>\n      <td>0.463183</td>\n    </tr>\n    <tr>\n      <th>min</th>\n      <td>0.000000</td>\n      <td>18.000000</td>\n      <td>5300.000000</td>\n      <td>0.000000</td>\n      <td>0.000000</td>\n    </tr>\n    <tr>\n      <th>25%</th>\n      <td>0.000000</td>\n      <td>24.000000</td>\n      <td>33300.000000</td>\n      <td>0.000000</td>\n      <td>0.000000</td>\n    </tr>\n    <tr>\n      <th>50%</th>\n      <td>0.000000</td>\n      <td>30.000000</td>\n      <td>40200.000000</td>\n      <td>1.000000</td>\n      <td>0.000000</td>\n    </tr>\n    <tr>\n      <th>75%</th>\n      <td>1.000000</td>\n      <td>37.000000</td>\n      <td>46600.000000</td>\n      <td>2.000000</td>\n      <td>0.000000</td>\n    </tr>\n    <tr>\n      <th>max</th>\n      <td>1.000000</td>\n      <td>65.000000</td>\n      <td>79000.000000</td>\n      <td>6.000000</td>\n      <td>5.000000</td>\n    </tr>\n  </tbody>\n</table>\n</div>"
     },
     "metadata": {},
     "output_type": "display_data"
    },
    {
     "name": "stdout",
     "output_type": "stream",
     "text": [
      "#######################################################\n",
      "\n",
      "<class 'pandas.core.frame.DataFrame'>\n",
      "RangeIndex: 5000 entries, 0 to 4999\n",
      "Data columns (total 5 columns):\n",
      " #   Column             Non-Null Count  Dtype  \n",
      "---  ------             --------------  -----  \n",
      " 0   Пол                5000 non-null   int64  \n",
      " 1   Возраст            5000 non-null   float64\n",
      " 2   Зарплата           5000 non-null   float64\n",
      " 3   Члены семьи        5000 non-null   int64  \n",
      " 4   Страховые выплаты  5000 non-null   int64  \n",
      "dtypes: float64(2), int64(3)\n",
      "memory usage: 195.4 KB\n",
      "#######################################################\n",
      "\n",
      "Всего пропусков в insurance.csv 0 шт. в 0 столбцах\n",
      "В процентном отношении 0.00% шт. от 5000 длинны\n",
      "\n",
      "Количество дубликатов в данных  равно 153\n"
     ]
    },
    {
     "data": {
      "text/plain": "(Empty DataFrame\n Columns: [procent, count]\n Index: [],\n None)"
     },
     "execution_count": 9,
     "metadata": {},
     "output_type": "execute_result"
    }
   ],
   "source": [
    "isna_count_procent(data, 'insurance.csv')"
   ]
  },
  {
   "cell_type": "markdown",
   "metadata": {},
   "source": [
    "<div class=\"alert alert-success\" style=\"border-color: green; border-radius: 5px\">\n",
    "    <p><u><b>✅ КОММЕНТАРИЙ РЕВЬЮЕРА</b></u></p>\n",
    "    <p>Интересная функция! ОК.</p>\n",
    "</div>"
   ]
  },
  {
   "cell_type": "code",
   "execution_count": 10,
   "metadata": {},
   "outputs": [
    {
     "name": "stdout",
     "output_type": "stream",
     "text": [
      "Количество дубликатов в данных  равно 0\n",
      "Количество строк insurance.csv после удаления дубликатов 4847\n"
     ]
    }
   ],
   "source": [
    "# удалим дубоикаты в данных\n",
    "data = data.drop_duplicates().reset_index(drop=True)\n",
    "\n",
    "s = data.duplicated().sum()\n",
    "print(f'Количество дубликатов в данных  равно {s}')\n",
    "print(f'Количество строк insurance.csv после удаления дубликатов {data.shape[0]}')"
   ]
  },
  {
   "cell_type": "markdown",
   "metadata": {},
   "source": [
    "<div class=\"alert alert-warning\" style=\"border-color: darkorange; border-radius: 5px\">\n",
    "    <p><u><b>⚠️ КОММЕНТАРИЙ РЕВЬЮЕРА</b></u></p>\n",
    "    <p>На обсуждение: у нас тут нет Id клинета. И тогда получается, что чисто теоретичнески - одинаковые строки вполне могут быть разным клиентами. Т.е. математические дубликаты в данной задаче не есть дубликаты по смыслу жизни. Как ты думаешь?</p>\n",
    "</div>"
   ]
  },
  {
   "cell_type": "markdown",
   "metadata": {},
   "source": [
    "<div class=\"alert alert-info\">\n",
    "<h4> Тонко подмечено) <a class=\"tocSkip\"> </h4>\n",
    "    \n",
    "Конечно, было бы больше данных мы бы смогли установить этот факт однозначно<br>\n",
    "Теоретически полные дубликаты в таком наборе могут принадлежать разным людям<br>\n",
    "Но конкретно в этом случае это дубликат \n",
    "    \n",
    "</div>"
   ]
  },
  {
   "cell_type": "markdown",
   "metadata": {},
   "source": [
    "<div class=\"alert alert-success\" style=\"border-color: green; border-radius: 5px\">\n",
    "    <p><u><b>✅ КОММЕНТАРИЙ РЕВЬЮЕРА 2</b></u></p>\n",
    "    <p>ОК, понял, что у тебя этот момент на контроле)</p>\n",
    "</div>"
   ]
  },
  {
   "cell_type": "code",
   "execution_count": 11,
   "metadata": {},
   "outputs": [],
   "source": [
    "# поправим названия признаков \n",
    "data.columns = data.columns.str.lower() \n",
    "data = data.rename(columns={'члены семьи': 'члены_семьи', 'страховые выплаты': 'страховые_выплаты'})\n",
    "data['возраст'] = data['возраст'].astype(int)"
   ]
  },
  {
   "cell_type": "markdown",
   "metadata": {},
   "source": [
    "Познакомились с данными, удалили дубликаты в строках<br>\n",
    "Пропуски отсутствуют<br>\n",
    "В данных 5 столбцов все в числовом формате<br>\n",
    "Признак `пол` закодирован в нули и единицы, это единственный категориальный признак<br>\n",
    "Привели названия признаков к нижнему регистру<br>\n",
    "Признак `возраст` поменяли тип на целочисленный<br>"
   ]
  },
  {
   "cell_type": "code",
   "execution_count": 12,
   "metadata": {},
   "outputs": [],
   "source": [
    "# функция гистограммы данных \n",
    "family = data.groupby('члены_семьи')['члены_семьи'].agg('count').copy()\n",
    "def data_hist(data, name_data):\n",
    "    fig, (ax, ax1, ax2, ax3, ax4) = plt.subplots(1, 5, figsize=(25, 4))\n",
    "\n",
    "    data['пол'].value_counts().plot.pie( ylabel='', autopct='%1.2f%%', legend=False, ax=ax);                                                 \n",
    "    sns.histplot(data = data['возраст'], edgecolor='black', bins=40, linewidth=1, ax=ax1);                   \n",
    "    sns.histplot(data = data['зарплата'], edgecolor='black', bins=30, linewidth=1, ax=ax2);\n",
    "    family.plot.bar(linewidth=1, edgecolor='black', stacked=True, ax=ax3);                        \n",
    "    data['страховые_выплаты'].value_counts().plot.bar(linewidth=1, edgecolor='black', stacked=True, ax=ax4);\n",
    "                            \n",
    "    ax.set_title(f'Пол ', dict(fontweight='bold', fontsize=14));\n",
    "    ax1.set_title(f'Гистограмма возраста', dict(fontweight='bold', fontsize=14));\n",
    "    ax2.set_title(f'Гистограмма зарплат', dict(fontweight='bold', fontsize=14));\n",
    "    ax3.set_title(f'Количество членов семьи', dict(fontweight='bold', fontsize=14)); \n",
    "    ax4.set_title(f'Частота страховых выплат', dict(fontweight='bold', fontsize=14));\n",
    "    ax4.set_xlabel('страховые_выплаты')\n",
    "    \n",
    "    plt.show()"
   ]
  },
  {
   "cell_type": "code",
   "execution_count": 13,
   "metadata": {},
   "outputs": [
    {
     "data": {
      "text/plain": "<Figure size 2500x400 with 5 Axes>",
      "image/png": "[encoded data removed]"
     },
     "metadata": {},
     "output_type": "display_data"
    }
   ],
   "source": [
    "# построим гистограммы наших данных\n",
    "data_hist(data, 'insurance.csv')"
   ]
  },
  {
   "cell_type": "markdown",
   "metadata": {},
   "source": [
    "Данные распределены согласованно с логикой<br>\n",
    "В признаке `возраст` присутствуют всплески <br>\n",
    "У признака `зарплата` распределение нормальное<br>"
   ]
  },
  {
   "cell_type": "code",
   "execution_count": 14,
   "metadata": {},
   "outputs": [],
   "source": [
    "# функция анализа корреляции признаков\n",
    "def corr_psk(data): \n",
    "    fig, (ax, ax1, ax2, ax3 ) = plt.subplots(1, 4, figsize=(35, 4))\n",
    "\n",
    "    sns.heatmap(data = data.corr(), annot=True, ax=ax).set_title('Корреляция Пирсона', weight='bold', size='large');\n",
    "    sns.heatmap(data = data.corr(method = 'spearman'), annot=True, ax=ax1).set_title('Корреляция Спирмена', weight='bold', size='large');\n",
    "    sns.heatmap(data = data.corr(method = 'kendall'), annot=True, ax=ax2).set_title('Корреляция Кенделла', weight='bold', size='large');\n",
    "    sns.heatmap(data = data.phik_matrix(interval_cols=data.columns), annot=True, ax=ax3).set_title('Корреляция $\\phi_K$', weight='bold', size='large');\n",
    "    \n",
    "    plt.show()"
   ]
  },
  {
   "cell_type": "code",
   "execution_count": 15,
   "metadata": {},
   "outputs": [
    {
     "data": {
      "text/plain": "<Figure size 3500x400 with 8 Axes>",
      "image/png": "[encoded data removed]"
     },
     "metadata": {},
     "output_type": "display_data"
    }
   ],
   "source": [
    "corr_psk(data)"
   ]
  },
  {
   "cell_type": "markdown",
   "metadata": {},
   "source": [
    "На всех тепловых картах мультиколлинеарность признаков отсутствует<br>\n",
    "С целевым признаком корреляция у признака `возраст` в диапазоне слабая-средняя<br>\n",
    "У категориального признака `пол` очень слабая корреляция с целевым признаком<br>"
   ]
  },
  {
   "cell_type": "code",
   "execution_count": 16,
   "metadata": {},
   "outputs": [
    {
     "data": {
      "text/plain": "<Figure size 1300x400 with 4 Axes>",
      "image/png": "[encoded data removed]"
     },
     "metadata": {},
     "output_type": "display_data"
    }
   ],
   "source": [
    "#проверим значимость корреляции признаков и целевого признака и глоб. коэффициент корреляции\n",
    "fig, (ax, ax1 ) = plt.subplots(1, 2, figsize=(13, 4))\n",
    "plt.subplots_adjust(wspace=0.3, hspace=0.5)\n",
    "significance_overview = data.significance_matrix(interval_cols=data.columns)\n",
    "sns.heatmap(data = significance_overview.round(2), annot=True, ax=ax)\\\n",
    "                            .set_title('Значимость корреляция $\\phi_K$', weight='bold', size='large');\n",
    "global_labels = data.global_phik(interval_cols=data.columns)\n",
    "sns.heatmap(data=global_labels[0], yticklabels=global_labels[1], annot=True, ax=ax1)\\\n",
    "                            .set_title('Глобальный коэффициент корреляции', weight='bold', size='large');"
   ]
  },
  {
   "cell_type": "markdown",
   "metadata": {},
   "source": [
    "Значимость корреляции относительно целевого признака подтверждает признак `возраст`<br>\n",
    "Категориальный признак имеет ничтожную значимость, а признак `члены семьи` почти нулевую <br>\n",
    "У признака `члены семьи` нулевой глобальный коэффициент корреляции<br>"
   ]
  },
  {
   "cell_type": "code",
   "execution_count": 17,
   "metadata": {},
   "outputs": [
    {
     "data": {
      "text/plain": "<Figure size 2000x400 with 4 Axes>",
      "image/png": "[encoded data removed]"
     },
     "metadata": {},
     "output_type": "display_data"
    }
   ],
   "source": [
    "# скаттер плот корреляции целевого признака с признаками\n",
    "sns.set_theme()\n",
    "fig, (ax1, ax2, ax3, ax4) = plt.subplots(1, 4, figsize=(20, 4))\n",
    "fig.text(0.34, 0.95,'Корреляция  страховых выплат и признаков', dict(fontweight='bold', fontsize=14))\n",
    "plt.subplots_adjust(wspace=0.4)\n",
    "\n",
    "sns.regplot(data=data, x='страховые_выплаты', y='пол', ax=ax1, line_kws={'color':'red'}, marker='x')\\\n",
    ".set_xlim(-0.3, 3.3)\n",
    "sns.regplot(data=data, x='страховые_выплаты', y='возраст', ax=ax2, line_kws={'color':'red'}, marker='x')\\\n",
    ".set_xlim(-0.3, 3.3)\n",
    "sns.regplot(data=data, x='страховые_выплаты', y='зарплата', ax=ax3, line_kws={'color':'red'}, marker='x')\\\n",
    ".set_xlim(-0.3, 3.3)\n",
    "sns.regplot(data=data, x='страховые_выплаты', y='члены_семьи', ax=ax4, line_kws={'color':'red'}, marker='x')\\\n",
    ".set_xlim(-0.3, 3.3)\n",
    "\n",
    "\n",
    "plt.show()"
   ]
  },
  {
   "cell_type": "markdown",
   "metadata": {},
   "source": [
    "Видим, что признак `пол` и `зарплата` не имеют корреляции с целевым признаком `страховые выплаты`, приблизительно равны среднему<br>\n",
    "Признак `возраст` имеет выраженную положительную корреляцию средней силы 0.56 в следствии `неоднородной выборки`<br>\n",
    "Признак `члены семьи` имеет слабо выраженную отрицательную корреляцию -0.032<br>"
   ]
  },
  {
   "cell_type": "code",
   "execution_count": 18,
   "metadata": {},
   "outputs": [],
   "source": [
    "# посмотрим выбросы\n",
    "def mustache_box(data, name):\n",
    "    fig, ax = plt.subplots(1, 1, figsize=(6, 4))\n",
    "    sns.boxplot(data=data, orient='h').set_title(name, weight='bold', size='large');\n",
    "    plt.show()"
   ]
  },
  {
   "cell_type": "code",
   "execution_count": 19,
   "metadata": {},
   "outputs": [
    {
     "data": {
      "text/plain": "<Figure size 600x400 with 1 Axes>",
      "image/png": "[encoded data removed]"
     },
     "metadata": {},
     "output_type": "display_data"
    }
   ],
   "source": [
    "mustache_box(data=data, name='Выбросы в данных')"
   ]
  },
  {
   "cell_type": "code",
   "execution_count": 20,
   "metadata": {
    "tags": []
   },
   "outputs": [],
   "source": [
    "# функция размаха ящика с усами\n",
    "def cut_crap(data, features):\n",
    "    for features in features:\n",
    "        q1 = np.percentile(data[features], 25)\n",
    "        q3 = np.percentile(data[features], 75)\n",
    "        min_ = q1-(1.5*(q3-q1))\n",
    "        max_ = q3+(1.5*(q3-q1))\n",
    "        data = data.loc[(data[features] > min_) & (data[features] < max_)]\n",
    "    return data"
   ]
  },
  {
   "cell_type": "code",
   "execution_count": 21,
   "metadata": {
    "tags": []
   },
   "outputs": [],
   "source": [
    "# отфильтруем признаки от выбрасов по ящику с усами\n",
    "list_features = ['пол', 'возраст', 'зарплата', 'члены_семьи']\n",
    "data = cut_crap(data=data, features=list_features)"
   ]
  },
  {
   "cell_type": "code",
   "execution_count": 22,
   "metadata": {
    "tags": []
   },
   "outputs": [
    {
     "data": {
      "text/plain": "<Figure size 600x400 with 1 Axes>",
      "image/png": "[encoded data removed]"
     },
     "metadata": {},
     "output_type": "display_data"
    }
   ],
   "source": [
    "mustache_box(data=data, name='Выбросы в данных после фильтрации')"
   ]
  },
  {
   "cell_type": "markdown",
   "metadata": {
    "tags": []
   },
   "source": [
    "Отфильтровали данные от выбрасов"
   ]
  },
  {
   "cell_type": "code",
   "execution_count": 23,
   "metadata": {
    "tags": []
   },
   "outputs": [],
   "source": [
    "# разделим на признаки и целевые признаки\n",
    "features = data.drop(columns='страховые_выплаты', axis=1)\n",
    "target = data['страховые_выплаты']"
   ]
  },
  {
   "cell_type": "code",
   "execution_count": 24,
   "metadata": {
    "tags": []
   },
   "outputs": [],
   "source": [
    "# инициируем модель линейной регрессии обучим и сделаем предсказание\n",
    "model_lr = LinearRegression()\n",
    "model_lr.fit(features, target);\n",
    "predict_lr = model_lr.predict(features)"
   ]
  },
  {
   "cell_type": "code",
   "execution_count": 25,
   "metadata": {
    "tags": []
   },
   "outputs": [
    {
     "data": {
      "text/plain": "       пол  возраст  зарплата  члены_семьи  intercept\n0  0.00547  0.03358       0.0     -0.01402  -0.887187",
      "text/html": "<div>\n<style scoped>\n    .dataframe tbody tr th:only-of-type {\n        vertical-align: middle;\n    }\n\n    .dataframe tbody tr th {\n        vertical-align: top;\n    }\n\n    .dataframe thead th {\n        text-align: right;\n    }\n</style>\n<table border=\"1\" class=\"dataframe\">\n  <thead>\n    <tr style=\"text-align: right;\">\n      <th></th>\n      <th>пол</th>\n      <th>возраст</th>\n      <th>зарплата</th>\n      <th>члены_семьи</th>\n      <th>intercept</th>\n    </tr>\n  </thead>\n  <tbody>\n    <tr>\n      <th>0</th>\n      <td>0.00547</td>\n      <td>0.03358</td>\n      <td>0.0</td>\n      <td>-0.01402</td>\n      <td>-0.887187</td>\n    </tr>\n  </tbody>\n</table>\n</div>"
     },
     "execution_count": 25,
     "metadata": {},
     "output_type": "execute_result"
    }
   ],
   "source": [
    "# посмотрим не коэфициенты\n",
    "angle_coefficients = pd.DataFrame([model_lr.coef_.round(5)], columns=list_features)\n",
    "angle_coefficients['intercept'] = model_lr.intercept_\n",
    "angle_coefficients"
   ]
  },
  {
   "cell_type": "markdown",
   "metadata": {},
   "source": [
    "<div class=\"alert alert-danger\" style=\"border-color: darkred; border-radius: 5px\">\n",
    "    <p><u><b>❌ КОММЕНТАРИЙ РЕВЬЮЕРА</b></u></p>При загруке библиотек - у тебя описка - загружается логистическая регрессия))) Поэтому тут вот так("
   ]
  },
  {
   "cell_type": "markdown",
   "metadata": {},
   "source": [
    "<div class=\"alert alert-info\">\n",
    "<h4>Поправил <a class=\"tocSkip\"> </h4>\n",
    "    \n",
    "</div>"
   ]
  },
  {
   "cell_type": "markdown",
   "metadata": {},
   "source": [
    "<div class=\"alert alert-success\" style=\"border-color: green; border-radius: 5px\">\n",
    "    <p><u><b>✅ КОММЕНТАРИЙ РЕВЬЮЕРА 2</b></u></p>\n",
    "    <p>ОК</p>\n",
    "</div>\n"
   ]
  },
  {
   "cell_type": "markdown",
   "metadata": {
    "tags": []
   },
   "source": [
    "Коэффициент признака `зарплата` определяется в нуле поэтому его полезность ничему не равна и мы могли бы его удалить<br>\n",
    "Нашей задачей является преобразовать данные таким образом, чтобы качество модели до преобразования и после сохранилось<br>\n",
    "По этому оставим все признаки как есть <br>"
   ]
  },
  {
   "cell_type": "markdown",
   "metadata": {},
   "source": [
    "### Вывод\n",
    "\n",
    "Познакомились с данными, удалили дубликаты в строках <br>\n",
    "Пропуски отсутствуют<br>\n",
    "В данных 5 столбцов все в числовом формате<br>\n",
    "Признак `пол` закодирован в нули и единицы, это единственный категориальный признак<br>\n",
    "Привели названия признаков к нижнему регистру<br>\n",
    "Признак `возраст` поменяли тип на целочисленный<br>\n",
    "<br>\n",
    "Данные распределены согласованно с логикой<br>\n",
    "В признаке возраст присутствуют всплески<br>\n",
    "У признака зарплата распределение нормальное<br>\n",
    "<br>\n",
    "На тепловых картах корреляции, мультиколлинеарность признаков отсутствует<br>\n",
    "С целевым признаком корреляция у признака `возраст` в диапазоне слабая-средняя<br>\n",
    "У категориального признака  `пол` очень слабая корреляция с целевым признаком<br>\n",
    "<br>\n",
    "Значимость корреляции относительно целевого признака присутствует у признака `возраст`<br>\n",
    "Категориальный признак `пол` имеет ничтожную значимость, а признак `члены семьи` почти нулевую<br>\n",
    "У признака `члены семьи` нулевой глобальный коэффициент корреляции<br>\n",
    "<br>\n",
    "Удалили выбросы в целевых признаках, размер данных составил 4762 строки | 5 столбцов<br>\n"
   ]
  },
  {
   "cell_type": "markdown",
   "metadata": {},
   "source": [
    "<div class=\"alert alert-success\" style=\"border-color: green; border-radius: 5px\">\n",
    "    <p><u><b>✅ КОММЕНТАРИЙ РЕВЬЮЕРА</b></u></p>\n",
    "    <p>Отлично, в любом проекте необходимо делать такое аналитическое начало</p>\n",
    "</div>\n",
    "<div class=\"alert alert-warning\" style=\"border-color: darkorange; border-radius: 5px\">\n",
    "    <p><u><b>⚠️ КОММЕНТАРИЙ РЕВЬЮЕРА</b></u></p>\n",
    "    <p>Оставлю пару дополнительных моментов:<br>\n",
    "1) По графикам заметил, что везде используется гистограмма.Но не всегда это оправдано. Если наши данные колличественные, то гистограммы/ящик с усами подходят. А вот если данные категориальные (или бинарные, как пол), то применяется другой тип графика - столбчатый или круговая диаграммы.<br>\n",
    "Тут можно подисскутировать про \"страховые выплаты\" и \"члены семьи\" - они колличественные. Но больше могут походить на категории. Поэтому интереснее и к ним применить столбчатый или круговые диаграммы.<br><br>\n",
    "2) по корреляционному анализу:<br>\n",
    "ВАЖНО!!! по использованию корреляций СПИРМЕНА/ ПИРСОНА<br>\n",
    "Этот инструмент - исключительно для данных в количественной шкале!!!!<br>\n",
    "Т.е. пол и возраст (например) - корреляцию не посмотреть. Т.к. Одна величина - номинальная (в виде 0 и 1, т.е. да/нет можно сказать), другая количественная. Поэтому для таких ситуаций подойдёт другая техника - сравнение групп (из темы \"проверка гипотез\" спринт 4, например). (пол из таблицы в данном случае стоит убрать)<br><br>\n",
    "    \n",
    "    \n",
    "Если корреляция между фаткорами более 0.9. То говорим о явлении мультиколлинеарности.<br>\n",
    "По мультиколлинеарности в целом:<br>\n",
    "Тут два аспекта можно рассматривать:<br>\n",
    "- математический: когда два фактора имеют сильную корреляцию, то при матричных вычислениях внутри некоторых методов наступаю сложности. И самим методам внутри прихрдится их решать. Это может давать некторые неточности в расчётах. Плюс - скорость расчётов снижается.<br>\n",
    "- бизнесово-логичесвкая: если два фактора очень сильно связаны друг с другом, то значит они имеют примерно одинаковое влияние на целевую переменную. А значит какой смысл оба их держать в модели. Напрмиер, каким-то образом попадутся факторы скорости, измеренные в км/ч и м/с - тут всем ясно (и бизнесу в том числе), что один фактор - излишний.<br>Если факторы имеют высокую корреляцию, НО логически НИКАК не связы друг с другом, то надо поисследолвать ещё, прежде чем удалять)<br>\n",
    "    \n",
    "какой фактор лучше оставлять: оставляем тот, кто сильнее влияет на целевую.<br>\n",
    "1) Если целевая - количественная(регерссионные модели), то посмотрим на корреляции между фактором и целевой.<br>\n",
    "2) Если целевая - качественная (модели классификации), то можно построить ящики с усами по группам по каждому фактору. Напротив того фактора, который сильнее покажет разность между средними (середина ящика), тот и оставляям.<br>\n",
    "3) Ну или экспертно - прислушаться к \"чуйке\")<br>\n",
    " \n",
    "Ну и до \"кучи\" - такой ещё момент: есть понятие ложной корреляции (второй ряд картинок). Поэтому, вместе с расчётом самого коэффициента, также всегда смотерть скатерплот.<br> "
   ]
  },
  {
   "cell_type": "markdown",
   "metadata": {},
   "source": [
    "<div class=\"alert alert-info\">\n",
    "<h4> Пункт первый поправил <a class=\"tocSkip\"> </h4>\n",
    "\n",
    "</div>"
   ]
  },
  {
   "cell_type": "markdown",
   "metadata": {},
   "source": [
    "<div class=\"alert alert-info\">\n",
    "<h4> Пункт второй размышления <a class=\"tocSkip\"> </h4>\n",
    "Проверка гипотезы покажет вероятность того, что, допустим, пол = 0 моложе 30 лет <br> \n",
    "В этом случае это более направленное включение и исключение  <br> \n",
    "Конечно, мне понятно твоё замечание относительно корреляции СПИРМЕНА/ ПИРСОНА<br>\n",
    "По этим причинам, вместе с этими корреляциями рассматриваю phik корреляцию<br>\n",
    "Которая, согласно <a href=\"https://phik.readthedocs.io/en/latest/\">документации</a> отлично справляется с переменными <br>\n",
    "Классификации и числовыми \n",
    "    \n",
    "Понимая эти моменты, использую технику в которой не удаляю признаки потому, что визуализация потеряет симметричность<br>\n",
    "Эстетика придёт в упадок от чего, появится стресс меланхолия и другие гадости\n",
    "    \n",
    "    \n",
    "    \n",
    "</div>"
   ]
  },
  {
   "cell_type": "markdown",
   "metadata": {},
   "source": [
    "<div class=\"alert alert-success\" style=\"border-color: green; border-radius: 5px\">\n",
    "    <p><u><b>✅ КОММЕНТАРИЙ РЕВЬЮЕРА 2</b></u></p>\n",
    "    <p>\n",
    "phik - новая библиотека. Лично я её ещё не сильно тестил. Но она заявлена, как умопопрачительная и \"всеядная\". Расчёт понятен. Надо бы поискать аналитическую статью по сравнению используемых методов. Но ОК, твоя работа мне понятна. А аргументция про эстетику - эффектной))    \n",
    "</p>\n",
    "</div>\n"
   ]
  },
  {
   "cell_type": "code",
   "execution_count": 25,
   "metadata": {},
   "outputs": [],
   "source": []
  },
  {
   "cell_type": "markdown",
   "metadata": {},
   "source": [
    "<div class=\"alert alert-info\">\n",
    "<h4> Ложная корреляция присутствует у признака возрост проверил <a class=\"tocSkip\"> </h4>\n",
    "        В следствии неоднородной выборки\n",
    "    \n",
    "</div>"
   ]
  },
  {
   "cell_type": "markdown",
   "metadata": {},
   "source": [
    "<div class=\"alert alert-success\" style=\"border-color: green; border-radius: 5px\">\n",
    "    <p><u><b>✅ КОММЕНТАРИЙ РЕВЬЮЕРА 2</b></u></p>\n",
    "    <p>ОК</p>\n",
    "</div>\n"
   ]
  },
  {
   "attachments": {
    "image.png": {
     "image/png": "[encoded data removed]"
    }
   },
   "cell_type": "markdown",
   "metadata": {},
   "source": [
    "![image.png](attachment:image.png)"
   ]
  },
  {
   "cell_type": "markdown",
   "metadata": {},
   "source": [
    "## Умножение матриц"
   ]
  },
  {
   "cell_type": "markdown",
   "metadata": {},
   "source": [
    "Вопрос на который мы хотим ответить:<br>\n",
    "Изменится ли качество модели предсказания линейной регрессии до и после преобразования?"
   ]
  },
  {
   "cell_type": "markdown",
   "metadata": {},
   "source": [
    "Обозначения:\n",
    "\n",
    "- $X$ — матрица признаков (нулевой столбец состоит из единиц)\n",
    "\n",
    "- $y$ — вектор целевого признака\n",
    "\n",
    "- $M$ — квадратная матрица $det  ≠ 0  $ на которую умножаются признаки\n",
    "\n",
    "- $w$ — вектор весов линейной регрессии (нулевой элемент равен сдвигу)\n",
    "\n",
    "- $E$ - единичная матрица\n",
    "\n",
    "- $ M^{-1}$ - обратная матрица "
   ]
  },
  {
   "cell_type": "markdown",
   "metadata": {},
   "source": [
    "Предсказания:\n",
    "\n",
    "$$\n",
    "a = Xw\n",
    "$$\n",
    "\n",
    "Задача обучения:\n",
    "\n",
    "$$\n",
    "w = \\arg\\min_w MSE(Xw, y)\n",
    "$$\n",
    "\n",
    "Формула обучения:\n",
    "\n",
    "$$\n",
    "w = (X^T X)^{-1} X^T y\n",
    "$$"
   ]
  },
  {
   "cell_type": "markdown",
   "metadata": {},
   "source": [
    "\n",
    "Для разработки метода по защите данных будем использовать свойство матриц<br>\n",
    "Нам известно, что любая матрица умноженная на единичную матрицу если их произведение определено – равна самой себе<br>\n",
    "Так же мы знаем, что любая квадратная матрица чей *определитель* отличен от нуля умноженная на обратную к себе матрицу<br>\n",
    "Как слева так и справа равна единичной матрице <br>\n",
    "$$\n",
    "M  M^{-1} =M^{-1} M = E\n",
    "$$\n",
    "Важным свойством умножения матриц является свойство ассоциативности <br>\n",
    "$$\n",
    "X(MC) = (XM)C\n",
    "$$\n",
    "Для преобразования будем умножать признаки наших данных на обратимую квадратную матрицу<br>\n",
    "$$\n",
    "a' = (XM)w\n",
    "$$\n",
    "Для преобразования обратно умножим на обратную $M^{-1}$матрицу\n",
    "\n",
    "$$\n",
    "a' = (X(MM^{-1}))w\n",
    "$$ \n",
    "\n",
    "Как нам известно если квадратную матрицу умножить на обратную ей матрицу результатом будет единичная матрица <br>\n",
    "Подставим в нашу формулу\n",
    "$$\n",
    "a' = (XE)w\n",
    "$$\n",
    "Матрица умноженная на единичную равна самой себе сократим $E$\n",
    "\n",
    "$$\n",
    "a' = Xw = a\n",
    "$$\n",
    "\n",
    "Получили равенство исходных и приобразованных данных"
   ]
  },
  {
   "cell_type": "markdown",
   "metadata": {},
   "source": [
    "### Вывод\n",
    "\n",
    "\n",
    "**Ответ:** Качество модели линейной регрессии не изменится после преобразования матрицы признаков <br>\n",
    "Путём умножения на обратимую квадратную матрицу<br>\n",
    "<br>\n",
    "**Обоснование:** Предсказания модели есть не что иное, как поиск наилучших коэффициентов для признаков<br>\n",
    "Оптимальные коэффициенты задают лучший угол и высоту восстановленной линейной зависимости минимизируя <br>\n",
    "Сумму квадратной разности ошибки между истинным значением и предсказанным<br>\n",
    "\n",
    "Предсказания преобразованной матрицы находятся по формуле \n",
    "$$\n",
    "a' = (XE)w\n",
    "$$\n",
    "Получается, что преобразованная матрица и выраженные из неё коэффициенты в равной степени изменяются<br>\n",
    "Их вектора приобретают единообразный сдвих<br>\n",
    "По этому качество модели линейной регрессии до и после преобразования одинаковое<br>"
   ]
  },
  {
   "cell_type": "markdown",
   "metadata": {},
   "source": [
    "## Алгоритм преобразования"
   ]
  },
  {
   "cell_type": "markdown",
   "metadata": {},
   "source": [
    "**Алгоритм**\n",
    "\n",
    "умножаем данные на квадратную матрицу\n",
    "$$a'= (XM)((XM)^T XM)^{-1} (XM)^T y$$\n",
    "\n",
    "выделим правую сторону с коэффициентом\n",
    "$$w' = ((XM)^T XM)^{-1} (XM)^T y$$   <br>\n",
    "\n",
    "раскроем скобки для квадратной транспонированной матрицы\n",
    "$$w' = (M^T X^T XM)^{-1} M^T X^T y$$<br>\n",
    "\n",
    "выносим квадратную матрицу за скобки\n",
    "$$ w' = M^{-1} (X^T X)^{-1} (M^T)^{-1} M^T X^T y  $$<br>\n",
    "\n",
    "Сокращаем на единичную матрицу\n",
    "$$ E = (M^T)^{-1} M^T$$<br>\n",
    "\n",
    "представляем правую часть как изначальный коэффициент\n",
    "$$ w' = M^{-1} (X^T X)^{-1} X^T y$$<br>\n",
    "\n",
    "получаем преобразованный коэффициент\n",
    "$$w' = M^{-1} w$$<br>\n",
    "\n",
    "подставляем в формулу предсказания\n",
    "$$ a' = (X(MM^{-1}))w  $$<br>\n",
    "\n",
    "сокращаем единичную матрицу получаем равное отношение преобразованных и исходных данных\n",
    "$$ a' = Xw = a$$"
   ]
  },
  {
   "cell_type": "markdown",
   "metadata": {},
   "source": [
    "<div class=\"alert alert-success\" style=\"border-color: green; border-radius: 5px\">\n",
    "    <p><u><b>✅ КОММЕНТАРИЙ РЕВЬЮЕРА</b></u></p>есть контакт)"
   ]
  },
  {
   "cell_type": "markdown",
   "metadata": {},
   "source": [
    "### Вывод\n",
    "**Обоснование**\n",
    "\n",
    "Как и в предыдущем обосновании умножения матриц, алгоритм преобразования имеет идентичный подход<br>\n",
    "Мы можем утверждать, что в процессе преобразования данные после умножения на обратимую квадратную матрицу и<br>\n",
    "Обратного преобразования умножения на обратную матрицу полностью восстановятся<br>\n",
    "Потому, что наше преобразование есть, ничто иное как умножение матрицы данных на единичную матрицу<br>\n",
    "Результатом умножения любой матрицы на единичную матрицу если их произведение определено является исходная матрица<br>"
   ]
  },
  {
   "cell_type": "markdown",
   "metadata": {},
   "source": [
    "## Проверка алгоритма"
   ]
  },
  {
   "cell_type": "code",
   "execution_count": 26,
   "metadata": {},
   "outputs": [
    {
     "name": "stdout",
     "output_type": "stream",
     "text": [
      "Квадратная матрица обратимая\n"
     ]
    }
   ],
   "source": [
    "# создадим квадратную матрицу размером по количеству столбцов признаков\n",
    "square_matrix = np.random.normal(1, 20, (features.shape[1], features.shape[1]))\n",
    "# проверим матрицу что её определитель не равен нулю\n",
    "square_matrix_det = np.linalg.det(square_matrix)\n",
    "if square_matrix_det != 0:\n",
    "    print('Квадратная матрица обратимая')\n",
    "else:\n",
    "    print('Определитель матрицы равен нулю')\n",
    "    \n",
    "# создадим преобразованную матрицу признаков\n",
    "crypto_matrix = features.dot(square_matrix)\n"
   ]
  },
  {
   "cell_type": "markdown",
   "metadata": {},
   "source": [
    "<div class=\"alert alert-success\" style=\"border-color: green; border-radius: 5px\">\n",
    "    <p><u><b>✅ КОММЕНТАРИЙ РЕВЬЮЕРА</b></u></p>однозначно надо проверять на обратимость, согласен."
   ]
  },
  {
   "cell_type": "code",
   "execution_count": 27,
   "metadata": {},
   "outputs": [],
   "source": [
    "# инициируем класс модели линейной регрессии \n",
    "class LinearRegression_square:\n",
    "\n",
    "    def fit(self, train_features, train_target):\n",
    "        X = np.concatenate((np.ones((train_features.shape[0], 1)), train_features), axis=1)\n",
    "        y = train_target\n",
    "        w = np.linalg.inv(X.T.dot(X)).dot(X.T).dot(y)\n",
    "        self.w = w[1:]\n",
    "        self.w0 = w[0]\n",
    "\n",
    "    def predict(self, test_features):\n",
    "        return test_features.dot(self.w) + self.w0"
   ]
  },
  {
   "cell_type": "code",
   "execution_count": 28,
   "metadata": {},
   "outputs": [],
   "source": [
    "# инициируем модель линейной регрессии\n",
    "model_square = LinearRegression_square()\n",
    "model_square.fit(crypto_matrix, target)\n",
    "predict_square = model_square.predict(crypto_matrix)"
   ]
  },
  {
   "cell_type": "code",
   "execution_count": 29,
   "metadata": {},
   "outputs": [
    {
     "name": "stdout",
     "output_type": "stream",
     "text": [
      "Метрика r2 модели линейной регрессии равна до и после преобразования данных\n",
      "Преобразование выполнено корректно\n"
     ]
    }
   ],
   "source": [
    "# сравним значения предсказаний модели линейной регрессии на данных до и после преобразования\n",
    "R2_liner_regression = r2_score(target, predict_lr)\n",
    "R2_liner_regression_square = r2_score(target, predict_square)\n",
    "\n",
    "if R2_liner_regression.round(9) == R2_liner_regression_square.round(9):\n",
    "    print('Метрика r2 модели линейной регрессии равна до и после преобразования данных')\n",
    "    print('Преобразование выполнено корректно')\n",
    "else:\n",
    "    print('Метрика r2 модели линейной регрессии отличаются')\n",
    "    print('Преобразование работает не корректно')"
   ]
  },
  {
   "cell_type": "code",
   "execution_count": 30,
   "outputs": [
    {
     "data": {
      "text/plain": "        пол  возраст  зарплата  члены_семьи\ncount  True     True      True         True\nmean   True     True      True         True\nstd    True     True      True         True\nmin    True     True      True         True\n25%    True     True      True         True\n50%    True     True      True         True\n75%    True     True      True         True\nmax    True     True      True         True",
      "text/html": "<div>\n<style scoped>\n    .dataframe tbody tr th:only-of-type {\n        vertical-align: middle;\n    }\n\n    .dataframe tbody tr th {\n        vertical-align: top;\n    }\n\n    .dataframe thead th {\n        text-align: right;\n    }\n</style>\n<table border=\"1\" class=\"dataframe\">\n  <thead>\n    <tr style=\"text-align: right;\">\n      <th></th>\n      <th>пол</th>\n      <th>возраст</th>\n      <th>зарплата</th>\n      <th>члены_семьи</th>\n    </tr>\n  </thead>\n  <tbody>\n    <tr>\n      <th>count</th>\n      <td>True</td>\n      <td>True</td>\n      <td>True</td>\n      <td>True</td>\n    </tr>\n    <tr>\n      <th>mean</th>\n      <td>True</td>\n      <td>True</td>\n      <td>True</td>\n      <td>True</td>\n    </tr>\n    <tr>\n      <th>std</th>\n      <td>True</td>\n      <td>True</td>\n      <td>True</td>\n      <td>True</td>\n    </tr>\n    <tr>\n      <th>min</th>\n      <td>True</td>\n      <td>True</td>\n      <td>True</td>\n      <td>True</td>\n    </tr>\n    <tr>\n      <th>25%</th>\n      <td>True</td>\n      <td>True</td>\n      <td>True</td>\n      <td>True</td>\n    </tr>\n    <tr>\n      <th>50%</th>\n      <td>True</td>\n      <td>True</td>\n      <td>True</td>\n      <td>True</td>\n    </tr>\n    <tr>\n      <th>75%</th>\n      <td>True</td>\n      <td>True</td>\n      <td>True</td>\n      <td>True</td>\n    </tr>\n    <tr>\n      <th>max</th>\n      <td>True</td>\n      <td>True</td>\n      <td>True</td>\n      <td>True</td>\n    </tr>\n  </tbody>\n</table>\n</div>"
     },
     "execution_count": 30,
     "metadata": {},
     "output_type": "execute_result"
    }
   ],
   "source": [
    "# восстановим данные обратно и проверим равны ли они\n",
    "ecoded_features = crypto_matrix.dot(np.linalg.inv(square_matrix))\n",
    "\n",
    "# инициируем описание данных до и после восстановления\n",
    "featuresrt = pd.DataFrame(features).describe().round(6)\n",
    "ecoded_features = pd.DataFrame(ecoded_features).describe().round(6)\n",
    "ecoded_features.columns = list_features\n",
    "# сравним описания\n",
    "ecoded_features == featuresrt"
   ],
   "metadata": {
    "collapsed": false
   }
  },
  {
   "cell_type": "code",
   "execution_count": 42,
   "outputs": [
    {
     "data": {
      "text/plain": "pandas.core.frame.DataFrame"
     },
     "execution_count": 42,
     "metadata": {},
     "output_type": "execute_result"
    }
   ],
   "source": [],
   "metadata": {
    "collapsed": false
   }
  },
  {
   "cell_type": "markdown",
   "metadata": {},
   "source": [
    "### Вывод\n",
    "\n",
    "Реализвали алгоритм преобразования данных<br>\n",
    "Создали квадратную обратимую матрицу и преобразовали данные<br>\n",
    "Проверили метрику R2 предсказания модели линейной регрессии на исходных данных и на преобразованных<br>\n",
    "Метрика оказалась равна до и после преобразования<br>\n",
    "Восстановили данные обратно проверили равенство описаний данных до и после восстановления<br>\n",
    "Описание данных до и после восстановления равны, что свидетельствует о корректной работе данных<br>\n"
   ]
  },
  {
   "cell_type": "markdown",
   "metadata": {},
   "source": [
    "\n",
    "## Вывод по проекту\n",
    "\n",
    "Разработали метод преобразования данных<br>\n",
    "$$ a' = (X(MM^{-1}))w  $$\n",
    "Проверили корректную работу метода, модель линейной регрессии работает с одинаковым качеством на данных после<br>\n",
    "Преобразования и до изменения<br>\n",
    "Информация восстановилась без потерь<br>\n",
    "Данные компании «Хоть потоп» будут под надёжной защитой<br>\n",
    "<br>\n",
    "В ходе разработки метода были реализованны следующие этапы:<br>\n",
    "<br>\n",
    "Первый этап<br>\n",
    "Познакомились с данными, удалили дубликаты в строках <br>\n",
    "Пропуски отсутствуют<br>\n",
    "В данных 5 столбцов все в числовом формате<br>\n",
    "Признак `пол` закодирован в нули и единицы, это единственный категориальный признак<br>\n",
    "Привели названия признаков к нижнему регистру<br>\n",
    "Признак `возраст` поменяли тип на целочисленный<br>\n",
    "<br>\n",
    "Данные распределены согласованно с логикой<br>\n",
    "В признаке возраст присутствуют всплески<br>\n",
    "У признака зарплата распределение нормальное<br>\n",
    "<br>\n",
    "На тепловых картах корреляции, мультиколлинеарность признаков отсутствует<br>\n",
    "С целевым признаком, корреляция у признака `возраст` в диапазоне слабая-средняя<br>\n",
    "У категориального признака  `пол` очень слабая корреляция с целевым признаком<br>\n",
    "<br>\n",
    "Значимость корреляции относительно целевого признака присутствует у признака `возраст`<br>\n",
    "Категориальный признак `пол` имеет ничтожную значимость, а признак `члены семьи` почти нулевую<br>\n",
    "У признака `члены семьи` нулевой глобальный коэффициент корреляции<br>\n",
    "<br>\n",
    "Удалили выбросы в целевых признаках, размер данных составил 4762 строки | 5 столбцов<br>\n",
    "<br><br>\n",
    "\n",
    "Второй этап умножение матриц<br>\n",
    "Работая с формулами предсказания линейной регрессии<br>\n",
    "$$\n",
    "a = Xw\n",
    "$$\n",
    "Используя свойства квадратных обратимых матриц<br>\n",
    "Доказали равенство<br>\n",
    "$$\n",
    "a' = Xw = a\n",
    "$$\n",
    "Результатом доказанного равенства стал вывод, что <br>\n",
    "Качество модели линейной регрессии не изменится после преобразования матрицы признаков <br>\n",
    "Путём умножения на обратимую квадратную матрицу<br>\n",
    "<br>\n",
    "**Обоснование:** Предсказания модели есть не что иное, как поиск наилучших коэффициентов для признаков<br>\n",
    "Оптимальные коэффициенты задают лучший угол и высоту восстановленной линейной зависимости минимизируя <br>\n",
    "Сумму квадратной разности ошибки между истинным значением и предсказанным<br>\n",
    "Предсказания преобразованной матрицы находятся по формуле<br> \n",
    "$$\n",
    "a' = (XE)w\n",
    "$$\n",
    "Получается, что преобразованная матрица и выраженные из неё коэффициенты в равной степени изменяются<br>\n",
    "Их вектора приобретают единообразный сдвиг<br>\n",
    "По этому качество модели линейной регрессии до и после преобразования одинаковое<br>\n",
    "<br>\n",
    "Третий этап <br>\n",
    "Алгоритм преобразования<br>\n",
    "Работая с формулой обучения<br>\n",
    "$$\n",
    "w = (X^T X)^{-1} X^T y\n",
    "$$\n",
    "Получили формулу обучения преобразованного коэффициента<br>\n",
    "$$w' = M^{-1} w$$\n",
    "Подтвердив доказанное ранее равенство<br>\n",
    "$$\n",
    "a' = Xw = a\n",
    "$$\n",
    "Алгоритм преобразования основан на свойстве умножения матриц на единичную матрицу<br>\n",
    "В процессе преобразования данные после умножения на обратимую квадратную матрицу и<br>\n",
    "Обратного преобразования, умножения на обратную матрицу полностью восстановились<br>\n",
    "<br>\n",
    "\n",
    "Четвёртый этап<br>\n",
    "Реализация алгоритма<br>\n",
    "\n",
    "Создали квадратную обратимую матрицу <br>\n",
    "Умножили матрицу признаков на созданную квадратную матрицу<br>\n",
    "Проверили метрику R2 предсказания модели линейной регрессии на исходных данных и на преобразованных<br>\n",
    "Метрика оказалась равна до и после преобразования<br>\n",
    "Восстановили данные обратно, проверили равенство описаний данных до и после восстановления<br>\n",
    "Описание данных до и после восстановления равны, что свидетельствует о корректной работе данных<br>\n"
   ]
  },
  {
   "cell_type": "markdown",
   "metadata": {},
   "source": [
    "<div class=\"alert alert-success\" style=\"border-color: green; border-radius: 5px\">\n",
    "    <p><u><b>✅ КОММЕНТАРИЙ РЕВЬЮЕРА</b></u></p>\n",
    "ОК, Максим, и с линейной алгеброй ты справилась классно!!!!<br>\n",
    "Всё, в общем-то, по делу, со смыслом. Доказательство в п.2 - понятно)<br>\n",
    "Да и весь проект - на уровне.<br>\n",
    "Не забыл про проверку на обратимость! ОК<br>\n",
    "    \n",
    "В общем-то, вопросов у меня и нет особых. Есть описка одна, комментарий по графике - посмртри, пожалуйста.<br>"
   ]
  },
  {
   "cell_type": "markdown",
   "metadata": {},
   "source": [
    "## Чек-лист проверки"
   ]
  },
  {
   "cell_type": "markdown",
   "metadata": {},
   "source": [
    "Поставьте 'x' в выполненных пунктах. Далее нажмите Shift+Enter."
   ]
  },
  {
   "cell_type": "markdown",
   "metadata": {},
   "source": [
    "- [x]  Jupyter Notebook открыт\n",
    "- [x]  Весь код выполняется без ошибок\n",
    "- [x]  Ячейки с кодом расположены в порядке исполнения\n",
    "- [x]  Выполнен шаг 1: данные загружены\n",
    "- [x]  Выполнен шаг 2: получен ответ на вопрос об умножении матриц\n",
    "    - [x]  Указан правильный вариант ответа\n",
    "    - [x]  Вариант обоснован\n",
    "- [x]  Выполнен шаг 3: предложен алгоритм преобразования\n",
    "    - [x]  Алгоритм описан\n",
    "    - [x]  Алгоритм обоснован\n",
    "- [x]  Выполнен шаг 4: алгоритм проверен\n",
    "    - [x]  Алгоритм реализован\n",
    "    - [x]  Проведено сравнение качества моделей до и после преобразования"
   ]
  }
 ],
 "metadata": {
  "ExecuteTimeLog": [
   {
    "duration": 1126,
    "start_time": "2023-02-24T08:16:44.484Z"
   },
   {
    "duration": 1100,
    "start_time": "2023-02-24T08:16:45.634Z"
   },
   {
    "duration": 6,
    "start_time": "2023-02-24T08:16:46.811Z"
   },
   {
    "duration": 13,
    "start_time": "2023-02-24T08:16:47.745Z"
   },
   {
    "duration": 66,
    "start_time": "2023-02-24T08:16:48.480Z"
   },
   {
    "duration": 6,
    "start_time": "2023-02-24T08:17:05.627Z"
   },
   {
    "duration": 64,
    "start_time": "2023-02-24T08:17:06.194Z"
   },
   {
    "duration": 8,
    "start_time": "2023-02-24T08:17:07.062Z"
   },
   {
    "duration": 5,
    "start_time": "2023-02-24T08:17:08.019Z"
   },
   {
    "duration": 5,
    "start_time": "2023-02-24T08:17:08.376Z"
   },
   {
    "duration": 715,
    "start_time": "2023-02-24T08:17:08.534Z"
   },
   {
    "duration": 5,
    "start_time": "2023-02-24T08:17:09.524Z"
   },
   {
    "duration": 2083,
    "start_time": "2023-02-24T08:17:09.728Z"
   },
   {
    "duration": 7682,
    "start_time": "2023-02-24T08:17:11.812Z"
   },
   {
    "duration": 4,
    "start_time": "2023-02-24T08:17:19.496Z"
   },
   {
    "duration": 187,
    "start_time": "2023-02-24T08:17:19.501Z"
   },
   {
    "duration": 4,
    "start_time": "2023-02-24T08:17:19.690Z"
   },
   {
    "duration": 14,
    "start_time": "2023-02-24T08:17:19.696Z"
   },
   {
    "duration": 182,
    "start_time": "2023-02-24T08:17:19.712Z"
   },
   {
    "duration": 4,
    "start_time": "2023-02-24T08:17:19.896Z"
   },
   {
    "duration": 124,
    "start_time": "2023-02-24T08:17:19.903Z"
   },
   {
    "duration": 0,
    "start_time": "2023-02-24T08:17:20.029Z"
   },
   {
    "duration": 13,
    "start_time": "2023-02-24T08:18:46.411Z"
   },
   {
    "duration": 7,
    "start_time": "2023-02-24T08:22:49.554Z"
   },
   {
    "duration": 4,
    "start_time": "2023-02-24T08:22:54.284Z"
   },
   {
    "duration": 8,
    "start_time": "2023-02-24T08:22:55.597Z"
   },
   {
    "duration": 13,
    "start_time": "2023-02-24T08:22:56.364Z"
   },
   {
    "duration": 43,
    "start_time": "2023-02-24T08:23:00.616Z"
   },
   {
    "duration": 1586,
    "start_time": "2023-02-24T10:01:37.690Z"
   },
   {
    "duration": 335,
    "start_time": "2023-02-24T10:01:39.278Z"
   },
   {
    "duration": 13,
    "start_time": "2023-02-24T10:01:39.615Z"
   },
   {
    "duration": 3676,
    "start_time": "2023-02-24T10:01:39.632Z"
   },
   {
    "duration": 215,
    "start_time": "2023-02-24T10:01:43.314Z"
   },
   {
    "duration": 10,
    "start_time": "2023-02-24T10:01:43.532Z"
   },
   {
    "duration": 86,
    "start_time": "2023-02-24T10:01:43.545Z"
   },
   {
    "duration": 13,
    "start_time": "2023-02-24T10:01:43.633Z"
   },
   {
    "duration": 8,
    "start_time": "2023-02-24T10:01:43.649Z"
   },
   {
    "duration": 11,
    "start_time": "2023-02-24T10:01:43.661Z"
   },
   {
    "duration": 1068,
    "start_time": "2023-02-24T10:01:43.673Z"
   },
   {
    "duration": 11,
    "start_time": "2023-02-24T10:01:44.743Z"
   },
   {
    "duration": 2669,
    "start_time": "2023-02-24T10:01:44.756Z"
   },
   {
    "duration": 8852,
    "start_time": "2023-02-24T10:01:47.427Z"
   },
   {
    "duration": 3,
    "start_time": "2023-02-24T10:01:56.281Z"
   },
   {
    "duration": 374,
    "start_time": "2023-02-24T10:01:56.286Z"
   },
   {
    "duration": 6,
    "start_time": "2023-02-24T10:01:56.663Z"
   },
   {
    "duration": 32,
    "start_time": "2023-02-24T10:01:56.671Z"
   },
   {
    "duration": 206,
    "start_time": "2023-02-24T10:01:56.706Z"
   },
   {
    "duration": 5,
    "start_time": "2023-02-24T10:01:56.914Z"
   },
   {
    "duration": 144,
    "start_time": "2023-02-24T10:01:56.922Z"
   },
   {
    "duration": 0,
    "start_time": "2023-02-24T10:01:57.068Z"
   },
   {
    "duration": 0,
    "start_time": "2023-02-24T10:01:57.069Z"
   },
   {
    "duration": 0,
    "start_time": "2023-02-24T10:01:57.070Z"
   },
   {
    "duration": 0,
    "start_time": "2023-02-24T10:01:57.071Z"
   },
   {
    "duration": 0,
    "start_time": "2023-02-24T10:01:57.073Z"
   },
   {
    "duration": 0,
    "start_time": "2023-02-24T10:01:57.075Z"
   },
   {
    "duration": 11,
    "start_time": "2023-02-24T10:02:22.072Z"
   },
   {
    "duration": 7,
    "start_time": "2023-02-24T10:03:33.825Z"
   },
   {
    "duration": 13,
    "start_time": "2023-02-24T10:03:33.835Z"
   },
   {
    "duration": 10,
    "start_time": "2023-02-24T10:03:33.850Z"
   },
   {
    "duration": 7,
    "start_time": "2023-02-24T10:03:33.862Z"
   },
   {
    "duration": 110,
    "start_time": "2023-02-24T10:03:33.871Z"
   },
   {
    "duration": 134,
    "start_time": "2023-02-24T10:03:33.983Z"
   },
   {
    "duration": 93,
    "start_time": "2023-02-24T10:03:34.126Z"
   },
   {
    "duration": 19,
    "start_time": "2023-02-24T10:03:34.221Z"
   },
   {
    "duration": 19,
    "start_time": "2023-02-24T10:03:34.246Z"
   },
   {
    "duration": 16,
    "start_time": "2023-02-24T10:03:34.268Z"
   },
   {
    "duration": 1007,
    "start_time": "2023-02-24T10:03:34.287Z"
   },
   {
    "duration": 13,
    "start_time": "2023-02-24T10:03:35.302Z"
   },
   {
    "duration": 2244,
    "start_time": "2023-02-24T10:03:35.322Z"
   },
   {
    "duration": 9017,
    "start_time": "2023-02-24T10:03:37.570Z"
   },
   {
    "duration": 5,
    "start_time": "2023-02-24T10:03:46.590Z"
   },
   {
    "duration": 232,
    "start_time": "2023-02-24T10:03:46.611Z"
   },
   {
    "duration": 5,
    "start_time": "2023-02-24T10:03:46.845Z"
   },
   {
    "duration": 16,
    "start_time": "2023-02-24T10:03:46.852Z"
   },
   {
    "duration": 226,
    "start_time": "2023-02-24T10:03:46.870Z"
   },
   {
    "duration": 17,
    "start_time": "2023-02-24T10:03:47.098Z"
   },
   {
    "duration": 248,
    "start_time": "2023-02-24T10:03:47.124Z"
   },
   {
    "duration": 43,
    "start_time": "2023-02-24T10:03:47.376Z"
   },
   {
    "duration": 37,
    "start_time": "2023-02-24T10:03:47.422Z"
   },
   {
    "duration": 9,
    "start_time": "2023-02-24T10:03:47.461Z"
   },
   {
    "duration": 74,
    "start_time": "2023-02-24T10:03:47.473Z"
   },
   {
    "duration": 109,
    "start_time": "2023-02-24T10:03:47.606Z"
   },
   {
    "duration": 186,
    "start_time": "2023-02-24T10:03:47.721Z"
   },
   {
    "duration": 5,
    "start_time": "2023-02-24T10:41:28.102Z"
   },
   {
    "duration": 460,
    "start_time": "2023-02-24T10:41:30.565Z"
   },
   {
    "duration": 6,
    "start_time": "2023-02-24T10:41:48.376Z"
   },
   {
    "duration": 819,
    "start_time": "2023-02-24T10:41:53.078Z"
   },
   {
    "duration": 6,
    "start_time": "2023-02-24T10:42:24.488Z"
   },
   {
    "duration": 414,
    "start_time": "2023-02-24T10:42:26.885Z"
   },
   {
    "duration": 8,
    "start_time": "2023-02-24T10:45:28.801Z"
   },
   {
    "duration": 512,
    "start_time": "2023-02-24T10:45:31.029Z"
   },
   {
    "duration": 6,
    "start_time": "2023-02-24T10:46:12.204Z"
   },
   {
    "duration": 482,
    "start_time": "2023-02-24T10:46:13.994Z"
   },
   {
    "duration": 6,
    "start_time": "2023-02-24T10:46:21.530Z"
   },
   {
    "duration": 414,
    "start_time": "2023-02-24T10:46:21.991Z"
   },
   {
    "duration": 5,
    "start_time": "2023-02-24T10:46:29.205Z"
   },
   {
    "duration": 393,
    "start_time": "2023-02-24T10:46:29.936Z"
   },
   {
    "duration": 6,
    "start_time": "2023-02-24T10:46:42.327Z"
   },
   {
    "duration": 6,
    "start_time": "2023-02-24T10:46:43.686Z"
   },
   {
    "duration": 35867,
    "start_time": "2023-02-24T10:46:44.170Z"
   },
   {
    "duration": 9,
    "start_time": "2023-02-24T10:48:39.233Z"
   },
   {
    "duration": 496,
    "start_time": "2023-02-24T10:48:39.930Z"
   },
   {
    "duration": 9,
    "start_time": "2023-02-24T10:49:01.204Z"
   },
   {
    "duration": 7,
    "start_time": "2023-02-24T10:49:02.367Z"
   },
   {
    "duration": 403,
    "start_time": "2023-02-24T10:49:03.038Z"
   },
   {
    "duration": 5,
    "start_time": "2023-02-24T10:49:49.187Z"
   },
   {
    "duration": 684,
    "start_time": "2023-02-24T10:49:49.783Z"
   },
   {
    "duration": 6,
    "start_time": "2023-02-24T10:52:30.671Z"
   },
   {
    "duration": 688,
    "start_time": "2023-02-24T10:52:31.317Z"
   },
   {
    "duration": 5,
    "start_time": "2023-02-24T10:54:15.525Z"
   },
   {
    "duration": 404,
    "start_time": "2023-02-24T10:54:16.125Z"
   },
   {
    "duration": 5,
    "start_time": "2023-02-24T10:54:32.128Z"
   },
   {
    "duration": 6,
    "start_time": "2023-02-24T10:54:33.747Z"
   },
   {
    "duration": 400,
    "start_time": "2023-02-24T10:54:34.320Z"
   },
   {
    "duration": 6,
    "start_time": "2023-02-24T10:56:15.071Z"
   },
   {
    "duration": 382,
    "start_time": "2023-02-24T10:56:15.765Z"
   },
   {
    "duration": 7,
    "start_time": "2023-02-24T10:56:44.184Z"
   },
   {
    "duration": 6,
    "start_time": "2023-02-24T10:56:58.211Z"
   },
   {
    "duration": 6,
    "start_time": "2023-02-24T11:00:21.683Z"
   },
   {
    "duration": 392,
    "start_time": "2023-02-24T11:00:22.224Z"
   },
   {
    "duration": 5,
    "start_time": "2023-02-24T11:00:28.387Z"
   },
   {
    "duration": 412,
    "start_time": "2023-02-24T11:00:28.826Z"
   },
   {
    "duration": 5,
    "start_time": "2023-02-24T11:01:00.935Z"
   },
   {
    "duration": 444,
    "start_time": "2023-02-24T11:01:01.755Z"
   },
   {
    "duration": 5,
    "start_time": "2023-02-24T11:01:59.930Z"
   },
   {
    "duration": 401,
    "start_time": "2023-02-24T11:02:00.461Z"
   },
   {
    "duration": 76,
    "start_time": "2023-02-24T11:02:36.122Z"
   },
   {
    "duration": 4,
    "start_time": "2023-02-24T11:03:20.673Z"
   },
   {
    "duration": 9,
    "start_time": "2023-02-24T11:03:20.679Z"
   },
   {
    "duration": 10,
    "start_time": "2023-02-24T11:03:20.690Z"
   },
   {
    "duration": 6,
    "start_time": "2023-02-24T11:03:20.703Z"
   },
   {
    "duration": 189,
    "start_time": "2023-02-24T11:03:20.710Z"
   },
   {
    "duration": 8,
    "start_time": "2023-02-24T11:03:20.901Z"
   },
   {
    "duration": 66,
    "start_time": "2023-02-24T11:03:20.911Z"
   },
   {
    "duration": 8,
    "start_time": "2023-02-24T11:03:20.979Z"
   },
   {
    "duration": 5,
    "start_time": "2023-02-24T11:03:21.003Z"
   },
   {
    "duration": 5,
    "start_time": "2023-02-24T11:03:21.011Z"
   },
   {
    "duration": 429,
    "start_time": "2023-02-24T11:03:21.018Z"
   },
   {
    "duration": 69,
    "start_time": "2023-02-24T11:05:18.040Z"
   },
   {
    "duration": 596,
    "start_time": "2023-02-24T11:05:25.640Z"
   },
   {
    "duration": 403,
    "start_time": "2023-02-24T11:05:41.886Z"
   },
   {
    "duration": 386,
    "start_time": "2023-02-24T11:06:18.090Z"
   },
   {
    "duration": 359,
    "start_time": "2023-02-24T11:06:35.957Z"
   },
   {
    "duration": 414,
    "start_time": "2023-02-24T11:07:04.450Z"
   },
   {
    "duration": 398,
    "start_time": "2023-02-24T11:08:03.121Z"
   },
   {
    "duration": 212,
    "start_time": "2023-02-24T11:08:48.965Z"
   },
   {
    "duration": 219,
    "start_time": "2023-02-24T11:10:29.038Z"
   },
   {
    "duration": 222,
    "start_time": "2023-02-24T11:11:46.852Z"
   },
   {
    "duration": 209,
    "start_time": "2023-02-24T11:12:00.365Z"
   },
   {
    "duration": 207,
    "start_time": "2023-02-24T11:12:14.736Z"
   },
   {
    "duration": 204,
    "start_time": "2023-02-24T11:12:41.522Z"
   },
   {
    "duration": 212,
    "start_time": "2023-02-24T11:12:51.092Z"
   },
   {
    "duration": 6,
    "start_time": "2023-02-24T11:14:00.796Z"
   },
   {
    "duration": 909,
    "start_time": "2023-02-24T11:14:01.438Z"
   },
   {
    "duration": 6,
    "start_time": "2023-02-24T11:14:32.636Z"
   },
   {
    "duration": 6,
    "start_time": "2023-02-24T11:14:34.935Z"
   },
   {
    "duration": 686,
    "start_time": "2023-02-24T11:14:35.436Z"
   },
   {
    "duration": 6,
    "start_time": "2023-02-24T11:15:34.832Z"
   },
   {
    "duration": 579,
    "start_time": "2023-02-24T11:15:35.733Z"
   },
   {
    "duration": 6,
    "start_time": "2023-02-24T11:16:24.081Z"
   },
   {
    "duration": 625,
    "start_time": "2023-02-24T11:16:24.973Z"
   },
   {
    "duration": 6,
    "start_time": "2023-02-24T11:20:23.508Z"
   },
   {
    "duration": 10,
    "start_time": "2023-02-24T11:20:48.685Z"
   },
   {
    "duration": 9,
    "start_time": "2023-02-24T11:21:32.968Z"
   },
   {
    "duration": 17,
    "start_time": "2023-02-24T11:22:00.799Z"
   },
   {
    "duration": 6,
    "start_time": "2023-02-24T11:22:02.760Z"
   },
   {
    "duration": 707,
    "start_time": "2023-02-24T11:22:03.630Z"
   },
   {
    "duration": 11,
    "start_time": "2023-02-24T11:22:34.134Z"
   },
   {
    "duration": 11,
    "start_time": "2023-02-24T11:22:38.498Z"
   },
   {
    "duration": 11,
    "start_time": "2023-02-24T11:22:39.702Z"
   },
   {
    "duration": 982,
    "start_time": "2023-02-24T11:22:40.646Z"
   },
   {
    "duration": 5,
    "start_time": "2023-02-24T11:25:16.988Z"
   },
   {
    "duration": 944,
    "start_time": "2023-02-24T11:25:17.925Z"
   },
   {
    "duration": 10,
    "start_time": "2023-02-24T11:25:27.214Z"
   },
   {
    "duration": 750,
    "start_time": "2023-02-24T11:25:28.871Z"
   },
   {
    "duration": 6,
    "start_time": "2023-02-24T11:25:37.359Z"
   },
   {
    "duration": 6,
    "start_time": "2023-02-24T11:25:48.973Z"
   },
   {
    "duration": 864,
    "start_time": "2023-02-24T11:25:50.248Z"
   },
   {
    "duration": 408,
    "start_time": "2023-02-24T11:26:02.139Z"
   },
   {
    "duration": 904,
    "start_time": "2023-02-24T11:26:02.645Z"
   },
   {
    "duration": 8,
    "start_time": "2023-02-24T11:26:11.578Z"
   },
   {
    "duration": 946,
    "start_time": "2023-02-24T11:26:12.467Z"
   },
   {
    "duration": 6,
    "start_time": "2023-02-24T11:26:23.075Z"
   },
   {
    "duration": 9,
    "start_time": "2023-02-24T11:27:09.261Z"
   },
   {
    "duration": 6,
    "start_time": "2023-02-24T11:27:11.474Z"
   },
   {
    "duration": 999,
    "start_time": "2023-02-24T11:27:12.025Z"
   },
   {
    "duration": 7,
    "start_time": "2023-02-24T11:28:16.086Z"
   },
   {
    "duration": 9,
    "start_time": "2023-02-24T11:28:16.568Z"
   },
   {
    "duration": 655,
    "start_time": "2023-02-24T11:28:16.984Z"
   },
   {
    "duration": 13,
    "start_time": "2023-02-24T11:28:34.974Z"
   },
   {
    "duration": 7,
    "start_time": "2023-02-24T11:28:35.378Z"
   },
   {
    "duration": 648,
    "start_time": "2023-02-24T11:28:35.866Z"
   },
   {
    "duration": 7,
    "start_time": "2023-02-24T11:29:18.242Z"
   },
   {
    "duration": 6,
    "start_time": "2023-02-24T11:29:21.769Z"
   },
   {
    "duration": 739,
    "start_time": "2023-02-24T11:29:22.394Z"
   },
   {
    "duration": 14,
    "start_time": "2023-02-24T11:30:00.993Z"
   },
   {
    "duration": 5,
    "start_time": "2023-02-24T11:30:06.473Z"
   },
   {
    "duration": 1117,
    "start_time": "2023-02-24T11:30:07.771Z"
   },
   {
    "duration": 13,
    "start_time": "2023-02-24T11:31:30.635Z"
   },
   {
    "duration": 6,
    "start_time": "2023-02-24T11:31:48.840Z"
   },
   {
    "duration": 6,
    "start_time": "2023-02-24T11:32:12.095Z"
   },
   {
    "duration": 683,
    "start_time": "2023-02-24T11:32:12.668Z"
   },
   {
    "duration": 16,
    "start_time": "2023-02-24T11:34:17.195Z"
   },
   {
    "duration": 604,
    "start_time": "2023-02-24T11:34:17.768Z"
   },
   {
    "duration": 6,
    "start_time": "2023-02-24T11:34:36.244Z"
   },
   {
    "duration": 10,
    "start_time": "2023-02-24T11:34:38.199Z"
   },
   {
    "duration": 626,
    "start_time": "2023-02-24T11:34:38.920Z"
   },
   {
    "duration": 6,
    "start_time": "2023-02-24T11:34:56.796Z"
   },
   {
    "duration": 1009,
    "start_time": "2023-02-24T11:34:57.192Z"
   },
   {
    "duration": 6,
    "start_time": "2023-02-24T11:35:06.641Z"
   },
   {
    "duration": 654,
    "start_time": "2023-02-24T11:35:07.173Z"
   },
   {
    "duration": 6,
    "start_time": "2023-02-24T11:35:25.394Z"
   },
   {
    "duration": 666,
    "start_time": "2023-02-24T11:35:26.014Z"
   },
   {
    "duration": 161,
    "start_time": "2023-02-24T11:38:32.921Z"
   },
   {
    "duration": 5,
    "start_time": "2023-02-24T11:39:23.530Z"
   },
   {
    "duration": 5,
    "start_time": "2023-02-24T11:39:25.687Z"
   },
   {
    "duration": 786,
    "start_time": "2023-02-24T11:39:26.104Z"
   },
   {
    "duration": 6,
    "start_time": "2023-02-24T11:41:04.565Z"
   },
   {
    "duration": 6,
    "start_time": "2023-02-24T11:41:05.456Z"
   },
   {
    "duration": 753,
    "start_time": "2023-02-24T11:41:05.873Z"
   },
   {
    "duration": 6,
    "start_time": "2023-02-24T11:41:17.550Z"
   },
   {
    "duration": 6,
    "start_time": "2023-02-24T11:41:18.274Z"
   },
   {
    "duration": 887,
    "start_time": "2023-02-24T11:41:18.673Z"
   },
   {
    "duration": 6,
    "start_time": "2023-02-24T11:43:13.685Z"
   },
   {
    "duration": 826,
    "start_time": "2023-02-24T11:43:14.349Z"
   },
   {
    "duration": 6,
    "start_time": "2023-02-24T11:43:30.922Z"
   },
   {
    "duration": 857,
    "start_time": "2023-02-24T11:43:31.427Z"
   },
   {
    "duration": 179,
    "start_time": "2023-02-24T11:45:24.189Z"
   },
   {
    "duration": 8,
    "start_time": "2023-02-24T11:46:17.548Z"
   },
   {
    "duration": 122,
    "start_time": "2023-02-24T11:46:42.129Z"
   },
   {
    "duration": 68,
    "start_time": "2023-02-24T11:47:06.925Z"
   },
   {
    "duration": 19,
    "start_time": "2023-02-24T11:47:25.251Z"
   },
   {
    "duration": 9,
    "start_time": "2023-02-24T11:47:34.414Z"
   },
   {
    "duration": 129,
    "start_time": "2023-02-24T11:47:44.602Z"
   },
   {
    "duration": 7,
    "start_time": "2023-02-24T11:48:32.272Z"
   },
   {
    "duration": 640,
    "start_time": "2023-02-24T11:48:32.843Z"
   },
   {
    "duration": 10,
    "start_time": "2023-02-24T11:50:55.106Z"
   },
   {
    "duration": 713,
    "start_time": "2023-02-24T11:50:55.540Z"
   },
   {
    "duration": 7,
    "start_time": "2023-02-24T11:51:43.619Z"
   },
   {
    "duration": 813,
    "start_time": "2023-02-24T11:51:44.073Z"
   },
   {
    "duration": 9,
    "start_time": "2023-02-24T11:52:42.106Z"
   },
   {
    "duration": 699,
    "start_time": "2023-02-24T11:52:42.585Z"
   },
   {
    "duration": 11,
    "start_time": "2023-02-24T11:56:18.603Z"
   },
   {
    "duration": 683,
    "start_time": "2023-02-24T11:56:19.074Z"
   },
   {
    "duration": 9,
    "start_time": "2023-02-24T11:56:33.465Z"
   },
   {
    "duration": 1240,
    "start_time": "2023-02-24T11:56:34.104Z"
   },
   {
    "duration": 12,
    "start_time": "2023-02-24T11:56:56.200Z"
   },
   {
    "duration": 729,
    "start_time": "2023-02-24T11:56:57.362Z"
   },
   {
    "duration": 7,
    "start_time": "2023-02-24T11:57:13.435Z"
   },
   {
    "duration": 774,
    "start_time": "2023-02-24T11:57:14.020Z"
   },
   {
    "duration": 7,
    "start_time": "2023-02-24T11:57:25.169Z"
   },
   {
    "duration": 658,
    "start_time": "2023-02-24T11:57:26.092Z"
   },
   {
    "duration": 6,
    "start_time": "2023-02-24T11:57:55.286Z"
   },
   {
    "duration": 646,
    "start_time": "2023-02-24T11:57:55.679Z"
   },
   {
    "duration": 8,
    "start_time": "2023-02-24T11:58:06.480Z"
   },
   {
    "duration": 662,
    "start_time": "2023-02-24T11:58:06.773Z"
   },
   {
    "duration": 6,
    "start_time": "2023-02-24T12:06:16.539Z"
   },
   {
    "duration": 516,
    "start_time": "2023-02-24T12:06:16.977Z"
   },
   {
    "duration": 6,
    "start_time": "2023-02-24T12:06:42.463Z"
   },
   {
    "duration": 641,
    "start_time": "2023-02-24T12:06:42.887Z"
   },
   {
    "duration": 485,
    "start_time": "2023-02-24T12:08:09.667Z"
   },
   {
    "duration": 733,
    "start_time": "2023-02-24T12:08:10.155Z"
   },
   {
    "duration": 7,
    "start_time": "2023-02-24T12:09:33.374Z"
   },
   {
    "duration": 720,
    "start_time": "2023-02-24T12:09:33.767Z"
   },
   {
    "duration": 7,
    "start_time": "2023-02-24T12:09:51.418Z"
   },
   {
    "duration": 9,
    "start_time": "2023-02-24T12:09:52.903Z"
   },
   {
    "duration": 683,
    "start_time": "2023-02-24T12:09:53.343Z"
   },
   {
    "duration": 9,
    "start_time": "2023-02-24T12:12:30.548Z"
   },
   {
    "duration": 748,
    "start_time": "2023-02-24T12:12:31.443Z"
   },
   {
    "duration": 4,
    "start_time": "2023-02-24T13:41:21.507Z"
   },
   {
    "duration": 11,
    "start_time": "2023-02-24T13:41:21.513Z"
   },
   {
    "duration": 8,
    "start_time": "2023-02-24T13:41:21.526Z"
   },
   {
    "duration": 5,
    "start_time": "2023-02-24T13:41:21.536Z"
   },
   {
    "duration": 203,
    "start_time": "2023-02-24T13:41:21.542Z"
   },
   {
    "duration": 9,
    "start_time": "2023-02-24T13:41:21.747Z"
   },
   {
    "duration": 52,
    "start_time": "2023-02-24T13:41:21.757Z"
   },
   {
    "duration": 9,
    "start_time": "2023-02-24T13:41:21.811Z"
   },
   {
    "duration": 6,
    "start_time": "2023-02-24T13:41:21.821Z"
   },
   {
    "duration": 13,
    "start_time": "2023-02-24T13:41:21.830Z"
   },
   {
    "duration": 660,
    "start_time": "2023-02-24T13:41:21.845Z"
   },
   {
    "duration": 6,
    "start_time": "2023-02-24T13:41:22.506Z"
   },
   {
    "duration": 2096,
    "start_time": "2023-02-24T13:41:22.514Z"
   },
   {
    "duration": 7641,
    "start_time": "2023-02-24T13:41:24.612Z"
   },
   {
    "duration": 2270,
    "start_time": "2023-02-24T13:41:32.255Z"
   },
   {
    "duration": 3,
    "start_time": "2023-02-24T13:41:34.528Z"
   },
   {
    "duration": 231,
    "start_time": "2023-02-24T13:41:34.533Z"
   },
   {
    "duration": 4,
    "start_time": "2023-02-24T13:41:34.766Z"
   },
   {
    "duration": 18,
    "start_time": "2023-02-24T13:41:34.772Z"
   },
   {
    "duration": 201,
    "start_time": "2023-02-24T13:41:34.792Z"
   },
   {
    "duration": 9,
    "start_time": "2023-02-24T13:41:34.995Z"
   },
   {
    "duration": 15,
    "start_time": "2023-02-24T13:41:35.005Z"
   },
   {
    "duration": 183,
    "start_time": "2023-02-24T13:41:35.021Z"
   },
   {
    "duration": 30,
    "start_time": "2023-02-24T13:41:35.207Z"
   },
   {
    "duration": 10,
    "start_time": "2023-02-24T13:41:35.239Z"
   },
   {
    "duration": 12,
    "start_time": "2023-02-24T13:41:35.251Z"
   },
   {
    "duration": 144,
    "start_time": "2023-02-24T13:41:35.265Z"
   },
   {
    "duration": 106,
    "start_time": "2023-02-24T13:41:35.413Z"
   },
   {
    "duration": 1731,
    "start_time": "2023-02-24T13:41:56.630Z"
   },
   {
    "duration": 783,
    "start_time": "2023-02-24T13:42:56.661Z"
   },
   {
    "duration": 1875,
    "start_time": "2023-02-24T13:43:22.661Z"
   },
   {
    "duration": 474,
    "start_time": "2023-02-24T13:43:52.406Z"
   },
   {
    "duration": 1815,
    "start_time": "2023-02-24T13:44:48.668Z"
   },
   {
    "duration": 76,
    "start_time": "2023-02-24T13:45:12.429Z"
   },
   {
    "duration": 1712,
    "start_time": "2023-02-24T13:45:17.682Z"
   },
   {
    "duration": 1821,
    "start_time": "2023-02-24T13:46:01.941Z"
   },
   {
    "duration": 1689,
    "start_time": "2023-02-24T13:46:27.872Z"
   },
   {
    "duration": 1668,
    "start_time": "2023-02-24T13:47:19.297Z"
   },
   {
    "duration": 1750,
    "start_time": "2023-02-24T13:47:33.169Z"
   },
   {
    "duration": 1718,
    "start_time": "2023-02-24T13:47:41.314Z"
   },
   {
    "duration": 1684,
    "start_time": "2023-02-24T13:47:48.750Z"
   },
   {
    "duration": 2144,
    "start_time": "2023-02-24T13:47:54.533Z"
   },
   {
    "duration": 1909,
    "start_time": "2023-02-24T13:51:18.004Z"
   },
   {
    "duration": 1930,
    "start_time": "2023-02-24T13:51:30.378Z"
   },
   {
    "duration": 1735,
    "start_time": "2023-02-24T13:51:45.714Z"
   },
   {
    "duration": 450,
    "start_time": "2023-02-24T13:57:19.326Z"
   },
   {
    "duration": 2176,
    "start_time": "2023-02-24T13:57:56.959Z"
   },
   {
    "duration": 1724,
    "start_time": "2023-02-24T13:58:26.288Z"
   },
   {
    "duration": 2278,
    "start_time": "2023-02-24T13:58:33.792Z"
   },
   {
    "duration": 1898,
    "start_time": "2023-02-24T14:00:09.216Z"
   },
   {
    "duration": 95,
    "start_time": "2023-02-24T14:00:21.366Z"
   },
   {
    "duration": 470,
    "start_time": "2023-02-24T14:00:26.182Z"
   },
   {
    "duration": 1900,
    "start_time": "2023-02-24T14:00:42.179Z"
   },
   {
    "duration": 1159,
    "start_time": "2023-02-24T14:19:37.795Z"
   },
   {
    "duration": 261,
    "start_time": "2023-02-24T14:19:38.956Z"
   },
   {
    "duration": 7,
    "start_time": "2023-02-24T14:19:39.219Z"
   },
   {
    "duration": 18,
    "start_time": "2023-02-24T14:19:39.228Z"
   },
   {
    "duration": 99,
    "start_time": "2023-02-24T14:19:39.248Z"
   },
   {
    "duration": 6,
    "start_time": "2023-02-24T14:19:39.349Z"
   },
   {
    "duration": 59,
    "start_time": "2023-02-24T14:19:39.356Z"
   },
   {
    "duration": 8,
    "start_time": "2023-02-24T14:19:39.417Z"
   },
   {
    "duration": 7,
    "start_time": "2023-02-24T14:19:39.427Z"
   },
   {
    "duration": 7,
    "start_time": "2023-02-24T14:19:39.436Z"
   },
   {
    "duration": 683,
    "start_time": "2023-02-24T14:19:39.444Z"
   },
   {
    "duration": 0,
    "start_time": "2023-02-24T14:19:40.129Z"
   },
   {
    "duration": 0,
    "start_time": "2023-02-24T14:19:40.130Z"
   },
   {
    "duration": 1,
    "start_time": "2023-02-24T14:19:40.131Z"
   },
   {
    "duration": 0,
    "start_time": "2023-02-24T14:19:40.133Z"
   },
   {
    "duration": 0,
    "start_time": "2023-02-24T14:19:40.134Z"
   },
   {
    "duration": 0,
    "start_time": "2023-02-24T14:19:40.135Z"
   },
   {
    "duration": 0,
    "start_time": "2023-02-24T14:19:40.136Z"
   },
   {
    "duration": 0,
    "start_time": "2023-02-24T14:19:40.137Z"
   },
   {
    "duration": 0,
    "start_time": "2023-02-24T14:19:40.138Z"
   },
   {
    "duration": 0,
    "start_time": "2023-02-24T14:19:40.139Z"
   },
   {
    "duration": 0,
    "start_time": "2023-02-24T14:19:40.140Z"
   },
   {
    "duration": 0,
    "start_time": "2023-02-24T14:19:40.142Z"
   },
   {
    "duration": 0,
    "start_time": "2023-02-24T14:19:40.143Z"
   },
   {
    "duration": 0,
    "start_time": "2023-02-24T14:19:40.144Z"
   },
   {
    "duration": 0,
    "start_time": "2023-02-24T14:19:40.145Z"
   },
   {
    "duration": 0,
    "start_time": "2023-02-24T14:19:40.146Z"
   },
   {
    "duration": 0,
    "start_time": "2023-02-24T14:19:40.148Z"
   },
   {
    "duration": 4,
    "start_time": "2023-02-24T14:19:58.090Z"
   },
   {
    "duration": 27,
    "start_time": "2023-02-24T14:19:58.096Z"
   },
   {
    "duration": 11,
    "start_time": "2023-02-24T14:19:58.125Z"
   },
   {
    "duration": 7,
    "start_time": "2023-02-24T14:19:58.138Z"
   },
   {
    "duration": 113,
    "start_time": "2023-02-24T14:19:58.147Z"
   },
   {
    "duration": 6,
    "start_time": "2023-02-24T14:19:58.262Z"
   },
   {
    "duration": 52,
    "start_time": "2023-02-24T14:19:58.270Z"
   },
   {
    "duration": 10,
    "start_time": "2023-02-24T14:19:58.324Z"
   },
   {
    "duration": 6,
    "start_time": "2023-02-24T14:19:58.336Z"
   },
   {
    "duration": 8,
    "start_time": "2023-02-24T14:19:58.345Z"
   },
   {
    "duration": 671,
    "start_time": "2023-02-24T14:19:58.355Z"
   },
   {
    "duration": 0,
    "start_time": "2023-02-24T14:19:59.028Z"
   },
   {
    "duration": 0,
    "start_time": "2023-02-24T14:19:59.029Z"
   },
   {
    "duration": 0,
    "start_time": "2023-02-24T14:19:59.031Z"
   },
   {
    "duration": 0,
    "start_time": "2023-02-24T14:19:59.031Z"
   },
   {
    "duration": 0,
    "start_time": "2023-02-24T14:19:59.032Z"
   },
   {
    "duration": 0,
    "start_time": "2023-02-24T14:19:59.033Z"
   },
   {
    "duration": 0,
    "start_time": "2023-02-24T14:19:59.034Z"
   },
   {
    "duration": 0,
    "start_time": "2023-02-24T14:19:59.035Z"
   },
   {
    "duration": 1,
    "start_time": "2023-02-24T14:19:59.036Z"
   },
   {
    "duration": 0,
    "start_time": "2023-02-24T14:19:59.038Z"
   },
   {
    "duration": 0,
    "start_time": "2023-02-24T14:19:59.038Z"
   },
   {
    "duration": 0,
    "start_time": "2023-02-24T14:19:59.040Z"
   },
   {
    "duration": 0,
    "start_time": "2023-02-24T14:19:59.041Z"
   },
   {
    "duration": 0,
    "start_time": "2023-02-24T14:19:59.042Z"
   },
   {
    "duration": 0,
    "start_time": "2023-02-24T14:19:59.043Z"
   },
   {
    "duration": 0,
    "start_time": "2023-02-24T14:19:59.044Z"
   },
   {
    "duration": 0,
    "start_time": "2023-02-24T14:19:59.045Z"
   },
   {
    "duration": 5,
    "start_time": "2023-02-24T14:22:35.112Z"
   },
   {
    "duration": 6,
    "start_time": "2023-02-24T14:22:41.062Z"
   },
   {
    "duration": 7,
    "start_time": "2023-02-24T14:22:44.553Z"
   },
   {
    "duration": 7,
    "start_time": "2023-02-24T14:22:49.306Z"
   },
   {
    "duration": 585,
    "start_time": "2023-02-24T14:22:50.018Z"
   },
   {
    "duration": 6,
    "start_time": "2023-02-24T14:23:27.335Z"
   },
   {
    "duration": 6,
    "start_time": "2023-02-24T14:23:29.990Z"
   },
   {
    "duration": 10,
    "start_time": "2023-02-24T14:23:30.418Z"
   },
   {
    "duration": 654,
    "start_time": "2023-02-24T14:23:30.856Z"
   },
   {
    "duration": 8,
    "start_time": "2023-02-24T14:25:04.511Z"
   },
   {
    "duration": 743,
    "start_time": "2023-02-24T14:25:04.997Z"
   },
   {
    "duration": 9,
    "start_time": "2023-02-24T14:25:30.491Z"
   },
   {
    "duration": 809,
    "start_time": "2023-02-24T14:25:31.008Z"
   },
   {
    "duration": 1230,
    "start_time": "2023-02-24T14:25:49.018Z"
   },
   {
    "duration": 239,
    "start_time": "2023-02-24T14:25:50.250Z"
   },
   {
    "duration": 6,
    "start_time": "2023-02-24T14:25:50.490Z"
   },
   {
    "duration": 19,
    "start_time": "2023-02-24T14:25:50.498Z"
   },
   {
    "duration": 81,
    "start_time": "2023-02-24T14:25:50.518Z"
   },
   {
    "duration": 6,
    "start_time": "2023-02-24T14:25:50.601Z"
   },
   {
    "duration": 61,
    "start_time": "2023-02-24T14:25:50.609Z"
   },
   {
    "duration": 33,
    "start_time": "2023-02-24T14:25:50.672Z"
   },
   {
    "duration": 6,
    "start_time": "2023-02-24T14:25:50.707Z"
   },
   {
    "duration": 11,
    "start_time": "2023-02-24T14:25:50.716Z"
   },
   {
    "duration": 699,
    "start_time": "2023-02-24T14:25:50.729Z"
   },
   {
    "duration": 6,
    "start_time": "2023-02-24T14:25:51.430Z"
   },
   {
    "duration": 2080,
    "start_time": "2023-02-24T14:25:51.438Z"
   },
   {
    "duration": 7768,
    "start_time": "2023-02-24T14:25:53.520Z"
   },
   {
    "duration": 1982,
    "start_time": "2023-02-24T14:26:01.290Z"
   },
   {
    "duration": 4,
    "start_time": "2023-02-24T14:26:03.274Z"
   },
   {
    "duration": 240,
    "start_time": "2023-02-24T14:26:03.280Z"
   },
   {
    "duration": 6,
    "start_time": "2023-02-24T14:26:03.522Z"
   },
   {
    "duration": 21,
    "start_time": "2023-02-24T14:26:03.531Z"
   },
   {
    "duration": 230,
    "start_time": "2023-02-24T14:26:03.554Z"
   },
   {
    "duration": 5,
    "start_time": "2023-02-24T14:26:03.786Z"
   },
   {
    "duration": 26,
    "start_time": "2023-02-24T14:26:03.809Z"
   },
   {
    "duration": 116,
    "start_time": "2023-02-24T14:26:03.906Z"
   },
   {
    "duration": 15,
    "start_time": "2023-02-24T14:26:04.025Z"
   },
   {
    "duration": 10,
    "start_time": "2023-02-24T14:26:04.044Z"
   },
   {
    "duration": 66,
    "start_time": "2023-02-24T14:26:04.057Z"
   },
   {
    "duration": 100,
    "start_time": "2023-02-24T14:26:04.126Z"
   },
   {
    "duration": 206,
    "start_time": "2023-02-24T14:26:04.230Z"
   }
  ],
  "kernelspec": {
   "display_name": "Python 3 (ipykernel)",
   "language": "python",
   "name": "python3"
  },
  "language_info": {
   "codemirror_mode": {
    "name": "ipython",
    "version": 3
   },
   "file_extension": ".py",
   "mimetype": "text/x-python",
   "name": "python",
   "nbconvert_exporter": "python",
   "pygments_lexer": "ipython3",
   "version": "3.9.15"
  },
  "toc": {
   "base_numbering": 1,
   "nav_menu": {},
   "number_sections": true,
   "sideBar": true,
   "skip_h1_title": true,
   "title_cell": "Содержание",
   "title_sidebar": "Contents",
   "toc_cell": true,
   "toc_position": {},
   "toc_section_display": true,
   "toc_window_display": true
  },
  "varInspector": {
   "cols": {
    "lenName": 16,
    "lenType": 16,
    "lenVar": 40
   },
   "kernels_config": {
    "python": {
     "delete_cmd_postfix": "",
     "delete_cmd_prefix": "del ",
     "library": "var_list.py",
     "varRefreshCmd": "print(var_dic_list())"
    },
    "r": {
     "delete_cmd_postfix": ") ",
     "delete_cmd_prefix": "rm(",
     "library": "var_list.r",
     "varRefreshCmd": "cat(var_dic_list()) "
    }
   },
   "types_to_exclude": [
    "module",
    "function",
    "builtin_function_or_method",
    "instance",
    "_Feature"
   ],
   "window_display": false
  },
  "widgets": {
   "application/vnd.jupyter.widget-state+json": {
    "state": {},
    "version_major": 2,
    "version_minor": 0
   }
  }
 },
 "nbformat": 4,
 "nbformat_minor": 4
}
