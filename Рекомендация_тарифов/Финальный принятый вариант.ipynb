{
 "cells": [
  {
   "cell_type": "markdown",
   "metadata": {},
   "source": [
    "<div style=\"border:solid Chocolate 2px; padding: 40px\">\n",
    "\n",
    "Привет Максим, меня зовут Саша Атаков. Сегодня я проверю твой проект.\n",
    "<br> Дальнейшее общение будет происходить на \"ты\" если это не вызывает никаких проблем.\n",
    "<br> Желательно реагировать на каждый мой комментарий ('исправил', 'не понятно как исправить ошибку', ...)\n",
    "<br> Пожалуйста, не удаляй комментарии ревьюера, так как они повышают качество повторного ревью.\n",
    "\n",
    "Комментарии будут в <font color='green'>зеленой</font>, <font color='blue'>синей</font> или <font color='red'>красной</font> рамках:\n",
    "\n",
    "<div class=\"alert alert-block alert-success\">\n",
    "<b>Успех👍:</b> Если все сделано отлично\n",
    "</div>\n",
    "\n",
    "<div class=\"alert alert-block alert-info\">\n",
    "<b>Совет🤔: </b> Если можно немного улучшить\n",
    "</div>\n",
    "\n",
    "<div class=\"alert alert-block alert-danger\">\n",
    "<b>Ошибка❌:</b> Если требуются исправления. Работа не может быть принята с красными комментариями.\n",
    "</div>\n",
    "\n",
    "-------------------\n",
    "\n",
    "Будет очень хорошо, если ты будешь помечать свои действия следующим образом:\n",
    "<div class=\"alert alert-block alert-warning\">\n",
    "<b>Комментарий студента:</b> ...\n",
    "</div>\n",
    "\n",
    "<div class=\"alert alert-block alert-warning\">\n",
    "<b>Изменения:</b> Были внесены следующие изменения ...\n",
    "</div>\n",
    "\n",
    "<b><font color='orange'>Вот тебе полезная ссылка, вдруг подчерпнешь что-то новое для себя):</font></b>\n",
    "\n",
    "* О логистической регрессии: https://habr.com/ru/company/io/blog/265007/\n",
    "* Ну и случайный лес: https://alexanderdyakonov.wordpress.com/2016/11/14/%D1%81%D0%BB%D1%83%D1%87%D0%B0%D0%B9%D0%BD%D1%8B%D0%B9-%D0%BB%D0%B5%D1%81-random-forest/\n",
    "* О dummy model - https://scikit-learn.org/stable/modules/generated/sklearn.dummy.DummyClassifier.html\n",
    "* Более подробно о dummy model - https://www.geeksforgeeks.org/ml-dummy-classifiers-using-sklearn/\n",
    "    \n",
    "<b><font color='orange'>Общее впечатление</font></b>\n",
    "* Большое спасибо за проделанную работу. Видно, что ты отлично освоил тему.\n",
    "* Отлично, что ноутбук хорошо структурирован. Приятно проверять такие работы.\n",
    "* В работе я оставил несколько советов. Буду рад, если ты учтешь их.\n",
    "* В конце прописал свой комментарий по всему проекту, ознакомься с ним, пожалуйста)\n",
    "* С радостью отвечу на твои вопросы, касательно выданной тебе темы, если они есть. Жду новую версию проекта.)"
   ]
  },
  {
   "cell_type": "markdown",
   "metadata": {},
   "source": [
    "# Рекомендация тарифов"
   ]
  },
  {
   "cell_type": "markdown",
   "metadata": {
    "toc-hr-collapsed": true
   },
   "source": [
    "## Цель\n",
    "Построит модель классификации подбора тарифов, для пользователей \"Мегалайн\" использующих архивные тарифы<br>\n",
    "\n",
    "Постройте модель с максимально большим значением accuracy<br>\n",
    "Минимальная доля правильных ответов 0.75<br>\n",
    "Проверьте accuracy на тестовой выборке самостоятельно<br>"
   ]
  },
  {
   "cell_type": "markdown",
   "metadata": {},
   "source": [
    "### Описание данных\n",
    "\n",
    "сalls — количество звонков<br>\n",
    "minutes — суммарная длительность звонков в минутах<br>\n",
    "messages — количество sms-сообщений<br>\n",
    "mb_used — израсходованный интернет-трафик в Мб<br>\n",
    "is_ultra — каким тарифом пользовался в течение месяца («Ультра» — 1, «Смарт» — 0)<br>"
   ]
  },
  {
   "cell_type": "markdown",
   "metadata": {},
   "source": [
    "<div class=\"alert alert-block alert-success\">\n",
    "<b>Успех👍:</b> \n",
    "    \n",
    "За цель и описание данных - отдельный лайк, мое почтение)\n",
    "</div>"
   ]
  },
  {
   "cell_type": "markdown",
   "metadata": {
    "toc-hr-collapsed": true
   },
   "source": [
    "## Откройте и изучите файл"
   ]
  },
  {
   "cell_type": "code",
   "execution_count": 1,
   "metadata": {},
   "outputs": [],
   "source": [
    "import pandas as pd\n",
    "import numpy as np\n",
    "import seaborn as sns\n",
    "\n",
    "from scipy import stats as st\n",
    "import matplotlib.pyplot as plt\n",
    "# pd.set_option('display.max_rows', None)\n",
    "# pd.set_option('display.max_columns', None)\n",
    "pd.options.mode.chained_assignment = None "
   ]
  },
  {
   "cell_type": "code",
   "execution_count": 2,
   "metadata": {},
   "outputs": [],
   "source": [
    "from sklearn.tree import DecisionTreeClassifier\n",
    "from sklearn.linear_model import LogisticRegression\n",
    "from sklearn.ensemble import RandomForestClassifier\n",
    "from sklearn.linear_model import LinearRegression\n",
    "from sklearn.model_selection import train_test_split\n",
    "from sklearn.metrics import mean_squared_error\n",
    "from sklearn.metrics import accuracy_score \n",
    "from sklearn.preprocessing import StandardScaler\n",
    "from sklearn.model_selection import RandomizedSearchCV, GridSearchCV\n",
    "from sklearn.dummy import DummyClassifier"
   ]
  },
  {
   "cell_type": "markdown",
   "metadata": {},
   "source": [
    "<div class=\"alert alert-block alert-success\">\n",
    "<b>Успех👍:</b> \n",
    "    \n",
    "Хороший шаг - импортировать все необходимые библиотеки перед работой с проектом, ведь так ты точно не запутаешься в том, какие библиотеки ты уже импортировал, а какие стоит добавить. Молодец!\n",
    "</div>"
   ]
  },
  {
   "cell_type": "code",
   "execution_count": 3,
   "metadata": {},
   "outputs": [],
   "source": [
    "try:\n",
    "    data = pd.read_csv('/datasets/users_behavior.csv')\n",
    "except:\n",
    "    data = pd.read_csv('https://code.s3.yandex.net/datasets/users_behavior.csv')"
   ]
  },
  {
   "cell_type": "markdown",
   "metadata": {},
   "source": [
    "<div class=\"alert alert-block alert-success\">\n",
    "<b>Успех👍:</b> \n",
    "    \n",
    "Дополнительный путь для загрузки данных - осторожно, круто)\n",
    "</div>"
   ]
  },
  {
   "cell_type": "code",
   "execution_count": 4,
   "metadata": {},
   "outputs": [
    {
     "data": {
      "text/html": [
       "<div>\n",
       "<style scoped>\n",
       "    .dataframe tbody tr th:only-of-type {\n",
       "        vertical-align: middle;\n",
       "    }\n",
       "\n",
       "    .dataframe tbody tr th {\n",
       "        vertical-align: top;\n",
       "    }\n",
       "\n",
       "    .dataframe thead th {\n",
       "        text-align: right;\n",
       "    }\n",
       "</style>\n",
       "<table border=\"1\" class=\"dataframe\">\n",
       "  <thead>\n",
       "    <tr style=\"text-align: right;\">\n",
       "      <th></th>\n",
       "      <th>calls</th>\n",
       "      <th>minutes</th>\n",
       "      <th>messages</th>\n",
       "      <th>mb_used</th>\n",
       "      <th>is_ultra</th>\n",
       "    </tr>\n",
       "  </thead>\n",
       "  <tbody>\n",
       "    <tr>\n",
       "      <th>0</th>\n",
       "      <td>40.0</td>\n",
       "      <td>311.90</td>\n",
       "      <td>83.0</td>\n",
       "      <td>19915.42</td>\n",
       "      <td>0</td>\n",
       "    </tr>\n",
       "    <tr>\n",
       "      <th>1</th>\n",
       "      <td>85.0</td>\n",
       "      <td>516.75</td>\n",
       "      <td>56.0</td>\n",
       "      <td>22696.96</td>\n",
       "      <td>0</td>\n",
       "    </tr>\n",
       "    <tr>\n",
       "      <th>2</th>\n",
       "      <td>77.0</td>\n",
       "      <td>467.66</td>\n",
       "      <td>86.0</td>\n",
       "      <td>21060.45</td>\n",
       "      <td>0</td>\n",
       "    </tr>\n",
       "    <tr>\n",
       "      <th>3</th>\n",
       "      <td>106.0</td>\n",
       "      <td>745.53</td>\n",
       "      <td>81.0</td>\n",
       "      <td>8437.39</td>\n",
       "      <td>1</td>\n",
       "    </tr>\n",
       "    <tr>\n",
       "      <th>4</th>\n",
       "      <td>66.0</td>\n",
       "      <td>418.74</td>\n",
       "      <td>1.0</td>\n",
       "      <td>14502.75</td>\n",
       "      <td>0</td>\n",
       "    </tr>\n",
       "    <tr>\n",
       "      <th>5</th>\n",
       "      <td>58.0</td>\n",
       "      <td>344.56</td>\n",
       "      <td>21.0</td>\n",
       "      <td>15823.37</td>\n",
       "      <td>0</td>\n",
       "    </tr>\n",
       "    <tr>\n",
       "      <th>6</th>\n",
       "      <td>57.0</td>\n",
       "      <td>431.64</td>\n",
       "      <td>20.0</td>\n",
       "      <td>3738.90</td>\n",
       "      <td>1</td>\n",
       "    </tr>\n",
       "    <tr>\n",
       "      <th>7</th>\n",
       "      <td>15.0</td>\n",
       "      <td>132.40</td>\n",
       "      <td>6.0</td>\n",
       "      <td>21911.60</td>\n",
       "      <td>0</td>\n",
       "    </tr>\n",
       "    <tr>\n",
       "      <th>8</th>\n",
       "      <td>7.0</td>\n",
       "      <td>43.39</td>\n",
       "      <td>3.0</td>\n",
       "      <td>2538.67</td>\n",
       "      <td>1</td>\n",
       "    </tr>\n",
       "    <tr>\n",
       "      <th>9</th>\n",
       "      <td>90.0</td>\n",
       "      <td>665.41</td>\n",
       "      <td>38.0</td>\n",
       "      <td>17358.61</td>\n",
       "      <td>0</td>\n",
       "    </tr>\n",
       "  </tbody>\n",
       "</table>\n",
       "</div>"
      ],
      "text/plain": [
       "   calls  minutes  messages   mb_used  is_ultra\n",
       "0   40.0   311.90      83.0  19915.42         0\n",
       "1   85.0   516.75      56.0  22696.96         0\n",
       "2   77.0   467.66      86.0  21060.45         0\n",
       "3  106.0   745.53      81.0   8437.39         1\n",
       "4   66.0   418.74       1.0  14502.75         0\n",
       "5   58.0   344.56      21.0  15823.37         0\n",
       "6   57.0   431.64      20.0   3738.90         1\n",
       "7   15.0   132.40       6.0  21911.60         0\n",
       "8    7.0    43.39       3.0   2538.67         1\n",
       "9   90.0   665.41      38.0  17358.61         0"
      ]
     },
     "metadata": {},
     "output_type": "display_data"
    },
    {
     "name": "stdout",
     "output_type": "stream",
     "text": [
      "#######################################################\n",
      "<class 'pandas.core.frame.DataFrame'>\n",
      "RangeIndex: 3214 entries, 0 to 3213\n",
      "Data columns (total 5 columns):\n",
      " #   Column    Non-Null Count  Dtype  \n",
      "---  ------    --------------  -----  \n",
      " 0   calls     3214 non-null   float64\n",
      " 1   minutes   3214 non-null   float64\n",
      " 2   messages  3214 non-null   float64\n",
      " 3   mb_used   3214 non-null   float64\n",
      " 4   is_ultra  3214 non-null   int64  \n",
      "dtypes: float64(4), int64(1)\n",
      "memory usage: 125.7 KB\n",
      "#######################################################\n"
     ]
    },
    {
     "data": {
      "text/plain": [
       "calls       0\n",
       "minutes     0\n",
       "messages    0\n",
       "mb_used     0\n",
       "is_ultra    0\n",
       "dtype: int64"
      ]
     },
     "metadata": {},
     "output_type": "display_data"
    }
   ],
   "source": [
    "def data_info(data):\n",
    "    display(data.head(10))\n",
    "    print('#' * 55)\n",
    "    data.info()\n",
    "    print('#' * 55)\n",
    "    display(data.isna().sum())\n",
    "    \n",
    "    \n",
    "data_info(data)   "
   ]
  },
  {
   "cell_type": "markdown",
   "metadata": {},
   "source": [
    "<div class=\"alert alert-block alert-success\">\n",
    "<b>Успех👍:</b> \n",
    "    \n",
    "Грамотный анализ данных\n",
    "</div>"
   ]
  },
  {
   "cell_type": "markdown",
   "metadata": {},
   "source": [
    "приведём значение типа данных в столбце звонки и сообщения к целому числу"
   ]
  },
  {
   "cell_type": "code",
   "execution_count": 5,
   "metadata": {},
   "outputs": [],
   "source": [
    "data['calls'] = data['calls'].astype('int32')\n",
    "data['messages'] = data['messages'].astype('int32')"
   ]
  },
  {
   "cell_type": "code",
   "execution_count": 6,
   "metadata": {},
   "outputs": [
    {
     "data": {
      "text/plain": [
       "calls         int32\n",
       "minutes     float64\n",
       "messages      int32\n",
       "mb_used     float64\n",
       "is_ultra      int64\n",
       "dtype: object"
      ]
     },
     "execution_count": 6,
     "metadata": {},
     "output_type": "execute_result"
    }
   ],
   "source": [
    "data.dtypes"
   ]
  },
  {
   "cell_type": "code",
   "execution_count": 7,
   "metadata": {},
   "outputs": [],
   "source": [
    "# остальные столбцы с типом float64 сделаем float32 \n",
    "for i in data.select_dtypes('float64'):\n",
    "    data[i] = data[i].astype('float32')\n"
   ]
  },
  {
   "cell_type": "code",
   "execution_count": 8,
   "metadata": {},
   "outputs": [
    {
     "name": "stdout",
     "output_type": "stream",
     "text": [
      "Тариф \"Ультра\" 30.65%\n",
      "Тариф \"Смарт\" 69.35%\n"
     ]
    }
   ],
   "source": [
    "#посмотрим как распределены тарифы\n",
    "s = data['is_ultra'].value_counts(normalize=True)\n",
    "print('Тариф \"Ультра\" {:,.2%}'.format(s[1])) \n",
    "print('Тариф \"Смарт\" {:,.2%}'.format(s[0])) "
   ]
  },
  {
   "cell_type": "markdown",
   "metadata": {},
   "source": [
    "### Вывод \n",
    "Данные готовы к созданию и обучению модели классификации подбора тарифа<br>\n",
    "Представлены два тарифа<br>\n",
    "Тариф \"Ультра\" 30.65%<br>\n",
    "Тариф \"Смарт\" 69.35%<br>\n",
    "\n"
   ]
  },
  {
   "cell_type": "markdown",
   "metadata": {},
   "source": [
    "<div class=\"alert alert-block alert-success\">\n",
    "<b>Успех👍:</b> \n",
    "    \n",
    "Хорошо сработано\n",
    "</div>"
   ]
  },
  {
   "cell_type": "markdown",
   "metadata": {
    "toc-hr-collapsed": true
   },
   "source": [
    "## Разбьём данные на выборки"
   ]
  },
  {
   "cell_type": "code",
   "execution_count": 9,
   "metadata": {},
   "outputs": [],
   "source": [
    "features = data.drop('is_ultra', axis=1)\n",
    "target = data['is_ultra']\n",
    "# features = StandardScaler().fit_transform(features)\n"
   ]
  },
  {
   "cell_type": "markdown",
   "metadata": {},
   "source": [
    "<div class=\"alert alert-block alert-success\">\n",
    "<b>Успех👍:</b> \n",
    "    \n",
    "За использование стандартизации - снимаю шляпу, это тема следующих уроков, а ты уже ее применяешь, молодец\n",
    "</div>\n",
    "\n",
    "<div class=\"alert alert-block alert-danger\">\n",
    "<b>Ошибка❌:</b> \n",
    "    \n",
    "Однако стандартизацию нужно осуществлять по следующему алгоритму:\n",
    "* Делим данные на выборки (train/valid/test)\n",
    "* Обучаем scaler на train\n",
    "* Преобразуем все выборки методом transform\n",
    "* Проверяем как сработано\n",
    "    \n",
    "Применив такой алгоритм, у нас не произойдет утечка в данных, ведь стандартизация берет среднее и дисперсию по той выборке, на которой обучается и преобразует под тот манер, на каких данных обучилась. В твоем случае у нас в train выборку попали среднее и дисперсия от будущих valid и test значений, поэтому лучще все делать по алгоритму)\n",
    "</div>"
   ]
  },
  {
   "cell_type": "markdown",
   "metadata": {},
   "source": [
    "<div style=\"background: #2A57DB; padding: 20px; border: 1px solid SteelBlue; border-radius: 5px;\">\n",
    "    <font color='#F3F5F2'><u><b></b></u></font>\n",
    "    <br/>\n",
    "    <font color='#F3F5F2'>Поправил<br>\n",
    "        не понял относительно проверки – \"как сработано\"?<br>\n",
    "        вроде мы сперва оцениваем маштабы данных<br>\n",
    "        если они разные проводим стандартизацию<br>\n",
    "</font>\n",
    "</div>"
   ]
  },
  {
   "cell_type": "markdown",
   "metadata": {},
   "source": [
    "<div class=\"alert alert-block alert-success\">\n",
    "<b>Успех👍 V2:</b> \n",
    "    \n",
    "\"Проверяем как сработано\" - это просмотреть некоторые данные из выборок, чтобы проверить работу стандартизации. А по поводу оценивания масштаба данных - это конечно), но после того, как мы точно убедиль в том, что нам нужна стандартизация, то применяем алгоритм выше)\n",
    "</div>"
   ]
  },
  {
   "cell_type": "code",
   "execution_count": 10,
   "metadata": {},
   "outputs": [
    {
     "name": "stdout",
     "output_type": "stream",
     "text": [
      "Количество строк в y_train по классам: [1560  689]\n",
      "Количество строк в y_test по классам: [669 296]\n"
     ]
    }
   ],
   "source": [
    "X_train, X_test, y_train, y_test = train_test_split(features, target,\n",
    "                                                    train_size=0.7, \n",
    "                                                    random_state=42,\n",
    "                                                    stratify=target)\n",
    "\n",
    "print(f\"Количество строк в y_train по классам: {np.bincount(y_train)}\")\n",
    "print(f\"Количество строк в y_test по классам: {np.bincount(y_test)}\")"
   ]
  },
  {
   "cell_type": "code",
   "execution_count": 11,
   "metadata": {},
   "outputs": [
    {
     "name": "stdout",
     "output_type": "stream",
     "text": [
      "Количество строк в y_valid по классам: [334 148]\n",
      "Количество строк в y_test по классам: [335 148]\n"
     ]
    }
   ],
   "source": [
    "X_valid, X_test, y_valid, y_test = train_test_split(X_test, y_test,\n",
    "                                                    train_size=0.5, \n",
    "                                                    random_state=42,\n",
    "                                                    stratify=y_test)\n",
    "\n",
    "print(f\"Количество строк в y_valid по классам: {np.bincount(y_valid)}\")\n",
    "print(f\"Количество строк в y_test по классам: {np.bincount(y_test)}\")"
   ]
  },
  {
   "cell_type": "code",
   "execution_count": 12,
   "metadata": {},
   "outputs": [],
   "source": [
    "scaler = StandardScaler().fit(X_train)\n",
    "\n",
    "X_train = scaler.transform(X_train)\n",
    "X_valid = scaler.transform(X_valid)\n",
    "X_test = scaler.transform(X_test)\n"
   ]
  },
  {
   "cell_type": "markdown",
   "metadata": {},
   "source": [
    "### Вывод\n",
    "Данные разбиты на три стратифицированные выборки<br>\n",
    "70% от всех данных тренировочная <br>\n",
    "15% валидационная выборка<br>\n",
    "15% тестовая выборка<br>\n",
    "\n",
    "Из-за разного масштаба данных все признаки выборок были масштабированны <br>"
   ]
  },
  {
   "cell_type": "markdown",
   "metadata": {},
   "source": [
    "<div class=\"alert alert-block alert-success\">\n",
    "<b>Успех👍:</b> \n",
    "    \n",
    "А так, выборки реализованы, круто!\n",
    "</div>"
   ]
  },
  {
   "cell_type": "markdown",
   "metadata": {
    "toc-hr-collapsed": true
   },
   "source": [
    "## Исследуйте модели"
   ]
  },
  {
   "cell_type": "code",
   "execution_count": 13,
   "metadata": {},
   "outputs": [],
   "source": [
    "final_result = ({'DecisionTreeClassifier': [],\n",
    "                'RandomForestClassifier': [],\n",
    "                'LogisticRegression': []})\n"
   ]
  },
  {
   "cell_type": "markdown",
   "metadata": {},
   "source": [
    "### DecisionTreeClassifier"
   ]
  },
  {
   "cell_type": "code",
   "execution_count": 14,
   "metadata": {},
   "outputs": [
    {
     "data": {
      "image/png": "[encoded data removed]",
      "text/plain": [
       "<Figure size 360x216 with 1 Axes>"
      ]
     },
     "metadata": {},
     "output_type": "display_data"
    },
    {
     "name": "stdout",
     "output_type": "stream",
     "text": [
      "Лучший результат accuracy_score 80.08%\n",
      "Глубина дерева лучшего результата равна 6\n"
     ]
    }
   ],
   "source": [
    "# модель дерево решений\n",
    "# параметры подобраны в ручную кроме высоты дерева\n",
    "result_list_DT = []\n",
    "best_model_DT = None\n",
    "best_result = 0\n",
    "\n",
    "for depth in range(1, 15):\n",
    "    model =(DecisionTreeClassifier(random_state=12345, max_depth=depth, min_samples_leaf=8,\n",
    "                                   criterion='gini', splitter='best', min_samples_split=8)) # обучим модель с заданной глубиной дерева\n",
    "    model.fit(X_train, y_train) \n",
    "    predictions = model.predict(X_valid) # получили предсказания модели\n",
    "    result = accuracy_score(y_valid, predictions) # посчитали качество модели\n",
    "    result_list_DT.append(result)\n",
    "    if result > best_result:\n",
    "        max_depth = depth\n",
    "        best_model_DT = model\n",
    "        best_result = result\n",
    "\n",
    "final_result['DecisionTreeClassifier'].append(best_result)\n",
    "        \n",
    "sns.set_style(\"darkgrid\")  \n",
    "plt.figure(figsize=(5,3))\n",
    "result_list_DT = pd.Series(result_list_DT, index=np.arange(1,15))\n",
    "(sns.lineplot(data = result_list_DT).\n",
    "         set(title='DecisionTreeClassifier', \n",
    "          xlabel='глабина модели', ylabel='качество'));\n",
    "\n",
    "plt.scatter(x=[max_depth], y=[best_result], color='green', s=50, marker='o')\n",
    "plt.show()\n",
    "\n",
    "print(f'Лучший результат accuracy_score {best_result:,.2%}')\n",
    "print(f'Глубина дерева лучшего результата равна {max_depth}')\n"
   ]
  },
  {
   "cell_type": "markdown",
   "metadata": {},
   "source": [
    "<div class=\"alert alert-block alert-success\">\n",
    "<b>Успех👍:</b> \n",
    "    \n",
    "Прекрасная реализация обучения дерева и визиулизация графика его значений, снимаю шляпу\n",
    "</div>"
   ]
  },
  {
   "cell_type": "markdown",
   "metadata": {},
   "source": [
    "### RandomForestClassifier \n",
    "для подбора гиперпараметров воспользуемся методом RandomizedSearchCV"
   ]
  },
  {
   "cell_type": "markdown",
   "metadata": {},
   "source": [
    "<div class=\"alert alert-block alert-info\">\n",
    "<b>Совет🤔: </b> \n",
    "    \n",
    "Лучше импортировать все перед проектом, так ты точно не запутаешься в том, что ты импортировал, а что нет\n",
    "</div>"
   ]
  },
  {
   "cell_type": "markdown",
   "metadata": {},
   "source": [
    "<div style=\"background: #2A57DB; padding: 20px; border: 1px solid SteelBlue; border-radius: 5px;\">\n",
    "    <font color='#F3F5F2'><u><b></b></u></font>\n",
    "    <br/>\n",
    "    <font color='#F3F5F2'>Поправил<br>\n",
    "        <br>\n",
    "        \n",
    "</font>\n",
    "</div>"
   ]
  },
  {
   "cell_type": "markdown",
   "metadata": {},
   "source": [
    "<div class=\"alert alert-block alert-success\">\n",
    "<b>Успех👍 V2:</b> \n",
    "    \n",
    "Круто)\n",
    "</div>"
   ]
  },
  {
   "cell_type": "code",
   "execution_count": 15,
   "metadata": {},
   "outputs": [
    {
     "data": {
      "text/plain": [
       "RandomForestClassifier(criterion='entropy', max_depth=61, min_samples_leaf=8,\n",
       "                       min_samples_split=14, n_estimators=91)"
      ]
     },
     "execution_count": 15,
     "metadata": {},
     "output_type": "execute_result"
    }
   ],
   "source": [
    "random_search = {'criterion': ['entropy', 'gini'],\n",
    "               'max_depth': list(np.linspace(2, 120, 3, dtype = int)) + [None],\n",
    "               'max_features': ['auto', 'sqrt','log2', None],\n",
    "               'min_samples_leaf': [4, 6, 8, 12],\n",
    "               'min_samples_split': [5, 8, 10, 14],\n",
    "               'n_estimators': list(np.linspace(5, 120, 5, dtype = int))}\n",
    "\n",
    "clf = RandomForestClassifier();\n",
    "\n",
    "model = RandomizedSearchCV(estimator = clf, param_distributions = random_search, n_iter = 80, \n",
    "                               cv = 4, verbose= 0, random_state= 12345, n_jobs = -1)\n",
    "\n",
    "\n",
    "model.fit(X_train,y_train)\n",
    "model.best_estimator_"
   ]
  },
  {
   "cell_type": "markdown",
   "metadata": {},
   "source": [
    "<div class=\"alert alert-block alert-success\">\n",
    "<b>Успех👍:</b> \n",
    "    \n",
    "использовать randomsearch - похвально, ты и правда прекрасно знаешь материал\n",
    "</div>"
   ]
  },
  {
   "cell_type": "code",
   "execution_count": 16,
   "metadata": {},
   "outputs": [
    {
     "data": {
      "image/png": "[encoded data removed]",
      "text/plain": [
       "<Figure size 360x216 with 2 Axes>"
      ]
     },
     "metadata": {},
     "output_type": "display_data"
    }
   ],
   "source": [
    "table = pd.pivot_table(pd.DataFrame(model.cv_results_),\n",
    "    values='mean_test_score', index='param_n_estimators', \n",
    "                       columns='param_criterion')\n",
    "\n",
    "plt.figure(figsize=(5,3))     \n",
    "sns.heatmap(table).set(title='RandomizedSearchCV');\n"
   ]
  },
  {
   "cell_type": "markdown",
   "metadata": {},
   "source": [
    "<div class=\"alert alert-block alert-success\">\n",
    "<b>Успех👍:</b> \n",
    "    \n",
    "хорошая визуализация результатов randomsearch\n",
    "</div>"
   ]
  },
  {
   "cell_type": "code",
   "execution_count": 17,
   "metadata": {},
   "outputs": [
    {
     "name": "stdout",
     "output_type": "stream",
     "text": [
      "Результат применения метода RandomForestClassifier 79.668%\n"
     ]
    }
   ],
   "source": [
    "model = (RandomForestClassifier(random_state=12345, max_depth=120, max_features='sqrt', \n",
    "                                min_samples_leaf=8, min_samples_split=5, n_estimators=91, criterion='entropy')) \n",
    "model.fit(X_train,y_train)\n",
    "result = model.score(X_valid, y_valid)\n",
    "print(f'Результат применения метода RandomForestClassifier {result:,.3%}')"
   ]
  },
  {
   "cell_type": "code",
   "execution_count": 18,
   "metadata": {},
   "outputs": [
    {
     "name": "stdout",
     "output_type": "stream",
     "text": [
      "Результат применения метода RandomForestClassifier 79.876%\n"
     ]
    }
   ],
   "source": [
    "model = (RandomForestClassifier(random_state=12345, max_depth=120, max_features='sqrt', \n",
    "                                min_samples_leaf=8, min_samples_split=8, n_estimators=120, criterion='gini')) \n",
    "model.fit(X_train,y_train)\n",
    "result = model.score(X_valid, y_valid)\n",
    "print(f'Результат применения метода RandomForestClassifier {result:,.3%}')"
   ]
  },
  {
   "cell_type": "markdown",
   "metadata": {},
   "source": [
    "Результаты подбора параметров методом RandomizedSearchCV неудовлетворительные<br>\n",
    "Воспользуемся циклом для определения количества деревьев<br>\n",
    "Остальные параметры возьмем из DecisionTreeClassifier<br>"
   ]
  },
  {
   "cell_type": "code",
   "execution_count": 19,
   "metadata": {
    "tags": []
   },
   "outputs": [],
   "source": [
    "# модель с заданным количеством деревьев\n",
    "# экспериментально было установлено, что после 100 деревьев качество \n",
    "# модели не меняется наглядно демонстрируя закон больших чисел\n",
    "result_list_FD = []\n",
    "best_model_FD = None\n",
    "best_result = 0\n",
    "\n",
    "for est in range(1, 100):\n",
    "    model = (RandomForestClassifier(random_state=12345, n_estimators=est, \n",
    "                                    criterion='gini',  max_depth=6, min_samples_leaf=8, \n",
    "                                    min_samples_split=8)) \n",
    "    model.fit(X_train, y_train) # модель на тренировочной выборке\n",
    "    result = model.score(X_valid, y_valid) # качество модели на валидационной выборке\n",
    "    result_list_FD.append(result)\n",
    "    if result > best_result:\n",
    "        number_est = est\n",
    "        best_model_FD = model   # лучшая модель\n",
    "        best_result = result # наилучшее значение метрики accuracy на валидационных данных\n",
    " \n",
    "final_result['RandomForestClassifier'].append(best_result)"
   ]
  },
  {
   "cell_type": "code",
   "execution_count": 20,
   "metadata": {},
   "outputs": [
    {
     "data": {
      "image/png": "[encoded data removed]",
      "text/plain": [
       "<Figure size 360x216 with 1 Axes>"
      ]
     },
     "metadata": {},
     "output_type": "display_data"
    },
    {
     "name": "stdout",
     "output_type": "stream",
     "text": [
      "Лучший результат accuracy_score 80.71%\n",
      "Лучшее качество модели с количеством деревьев 9\n"
     ]
    }
   ],
   "source": [
    "sns.set_style(\"darkgrid\")  \n",
    "plt.figure(figsize=(5,3))\n",
    "plt.subplot().set(xlabel='количество деревьев', ylabel='качество')\n",
    "result_list_FD = pd.Series(result_list_FD, index=np.arange(1,100))\n",
    "sns.lineplot(data = result_list_FD).set(title='RandomForestClassifier');\n",
    "plt.scatter(x=[number_est], y=[best_result], color='green', s=50, marker='o')\n",
    "plt.show()\n",
    "\n",
    "print(f'Лучший результат accuracy_score {best_result:,.2%}')\n",
    "print(f'Лучшее качество модели с количеством деревьев {number_est}')"
   ]
  },
  {
   "cell_type": "markdown",
   "metadata": {},
   "source": [
    "<div class=\"alert alert-block alert-success\">\n",
    "<b>Успех👍:</b> \n",
    "    \n",
    "Старые добрые циклы помогают). Так держать\n",
    "</div>"
   ]
  },
  {
   "cell_type": "markdown",
   "metadata": {},
   "source": [
    "### LogisticRegression"
   ]
  },
  {
   "cell_type": "code",
   "execution_count": 21,
   "metadata": {},
   "outputs": [
    {
     "name": "stdout",
     "output_type": "stream",
     "text": [
      "LogisticRegression(C=0.4, max_iter=10000, random_state=12345)\n",
      "Лучший результат accuracy_score 73.44%\n"
     ]
    }
   ],
   "source": [
    "param_grid = ({'C':[0.2, 0.4, 0.8, 1.6, 3.2],'solver' : ['lbfgs'], 'max_iter' : [10000]})\n",
    "\n",
    "clf = (GridSearchCV(LogisticRegression(random_state = 12345), param_grid, cv = 5, verbose = 0, n_jobs = -1))\n",
    "\n",
    "best_model = clf.fit(X_train, y_train)\n",
    "print(best_model.best_estimator_)\n",
    "\n",
    "result = best_model.score(X_valid, y_valid)\n",
    "print(f'Лучший результат accuracy_score {result:,.2%}')\n",
    "\n",
    "final_result['LogisticRegression'].append(result)"
   ]
  },
  {
   "cell_type": "markdown",
   "metadata": {},
   "source": [
    "<div class=\"alert alert-block alert-success\">\n",
    "<b>Успех👍:</b> \n",
    "    \n",
    "А тут вообще gridsearch, прекрасно, ты меня очень порадовал на протяжении всего проекта. Хорошее владение материалом, правда\n",
    "</div>"
   ]
  },
  {
   "cell_type": "code",
   "execution_count": 22,
   "metadata": {},
   "outputs": [
    {
     "name": "stdout",
     "output_type": "stream",
     "text": [
      "Качество модели DecisionTreeClassifier составляет 80.08%\n",
      "Качество модели RandomForestClassifier составляет 80.71%\n",
      "Качество модели LogisticRegression составляет 73.44%\n"
     ]
    }
   ],
   "source": [
    "for i in final_result:\n",
    "    print('Качество модели {} составляет {:,.2%}'.format(i, *final_result[i]))"
   ]
  },
  {
   "cell_type": "code",
   "execution_count": 23,
   "metadata": {},
   "outputs": [
    {
     "data": {
      "image/png": "[encoded data removed]",
      "text/plain": [
       "<Figure size 576x288 with 1 Axes>"
      ]
     },
     "metadata": {},
     "output_type": "display_data"
    }
   ],
   "source": [
    "final_result = pd.DataFrame(final_result)\n",
    "final_result.T.plot.bar(figsize=(8, 4), legend=False).set(title='Качество моделей');\n",
    "plt.xticks(rotation=0)\n",
    "plt.show()"
   ]
  },
  {
   "cell_type": "markdown",
   "metadata": {},
   "source": [
    "### Вывод\n",
    "Модель классификации RandomForestClassifier показала лучшие показатели с результатом 80.71% <br>\n",
    "и количеством деревьев равное 9<br>\n",
    "\n",
    "Модель DecisionTreeClassifier справилась с с показателем 80.08% <br>\n",
    "и глубиной дерева равной 6<br>\n",
    "\n",
    "LogisticRegression показала худший результат с показателем 73.44% <br>"
   ]
  },
  {
   "cell_type": "markdown",
   "metadata": {},
   "source": [
    "<div class=\"alert alert-block alert-success\">\n",
    "<b>Успех👍:</b> \n",
    "    \n",
    "Согласен с тобой, лес лучше всех оказался\n",
    "</div>"
   ]
  },
  {
   "cell_type": "markdown",
   "metadata": {
    "toc-hr-collapsed": true
   },
   "source": [
    "## Проверьте модель на тестовой выборке"
   ]
  },
  {
   "cell_type": "markdown",
   "metadata": {},
   "source": [
    "<div class=\"alert alert-block alert-info\">\n",
    "<b>Совет🤔:</b> \n",
    "\n",
    "На тестовой выборке нужно проверять только свою лучшую выборку, так как во время реального проекта у нас не будет ни времени, не средств, чтобы проверять все модели на тестовых данных. Советую оставить на этапе тестирования только лучшую модель. Тем более в следующих проектах за это могут красный маркер поставить, а нам это не нужно, верно?)\n",
    "</div>"
   ]
  },
  {
   "cell_type": "markdown",
   "metadata": {},
   "source": [
    "<div style=\"background: #2A57DB; padding: 20px; border: 1px solid SteelBlue; border-radius: 5px;\">\n",
    "    <font color='#F3F5F2'><u><b></b></u></font>\n",
    "    <br/>\n",
    "    <font color='#F3F5F2'>Поправил<br>\n",
    "        <br>\n",
    "        \n",
    "</font>\n",
    "</div>"
   ]
  },
  {
   "cell_type": "markdown",
   "metadata": {},
   "source": [
    "<div class=\"alert alert-block alert-success\">\n",
    "<b>Успех👍 V2:</b> \n",
    "    \n",
    "Вот теперь тестирование выглядит как надо)\n",
    "</div>"
   ]
  },
  {
   "cell_type": "code",
   "execution_count": 24,
   "metadata": {},
   "outputs": [
    {
     "name": "stdout",
     "output_type": "stream",
     "text": [
      "Качество модели RandomForestClassifier равно 82.82%\n"
     ]
    }
   ],
   "source": [
    "result_FD = best_model_FD.score(X_test, y_test) # RandomForestClassifier\n",
    "\n",
    "print(f'Качество модели RandomForestClassifier равно {result_FD:,.2%}')\n"
   ]
  },
  {
   "cell_type": "markdown",
   "metadata": {},
   "source": [
    "### Вывод\n",
    "Проверка модел на тестовой выборке показала результат немного лучше, чем на <br>\n",
    "валидационной выборке<br>"
   ]
  },
  {
   "cell_type": "markdown",
   "metadata": {
    "toc-hr-collapsed": true
   },
   "source": [
    "## (бонус) Проверьте модели на адекватность"
   ]
  },
  {
   "cell_type": "code",
   "execution_count": 25,
   "metadata": {},
   "outputs": [],
   "source": [
    "strategies = ['most_frequent', 'stratified', 'uniform', 'constant']\n",
    "  \n",
    "test_scores = []\n",
    "for s in strategies:\n",
    "    if s =='constant':\n",
    "        dclf = DummyClassifier(strategy = s, random_state = 0, constant = 1)\n",
    "    else:\n",
    "        dclf = DummyClassifier(strategy = s, random_state = 0)\n",
    "    dclf.fit(X_train, y_train)\n",
    "    score = dclf.score(X_test, y_test)\n",
    "    test_scores.append({s : score})"
   ]
  },
  {
   "cell_type": "code",
   "execution_count": 26,
   "metadata": {},
   "outputs": [
    {
     "data": {
      "image/png": "[encoded data removed]",
      "text/plain": [
       "<Figure size 432x288 with 1 Axes>"
      ]
     },
     "metadata": {},
     "output_type": "display_data"
    },
    {
     "name": "stdout",
     "output_type": "stream",
     "text": [
      "Стратегия most_frequent качество предсказания 69.36%\n",
      "Стратегия stratified качество предсказания 57.97%\n",
      "Стратегия uniform качество предсказания 49.28%\n",
      "Стратегия constant качество предсказания 30.64%\n"
     ]
    }
   ],
   "source": [
    "plt.figure(figsize=(6,4))\n",
    "ax = sns.stripplot( data=pd.DataFrame(test_scores), s=20, marker='o');\n",
    "ax.set(xlabel ='Strategy', ylabel ='Test Score', title ='DummyClassifier')\n",
    "plt.show()\n",
    "\n",
    "for i in test_scores:\n",
    "    print('Стратегия {} качество предсказания {:,.2%}'.format(*i.keys(), *i.values()))"
   ]
  },
  {
   "cell_type": "markdown",
   "metadata": {},
   "source": [
    "<div class=\"alert alert-block alert-info\">\n",
    "<b>Совет🤔:</b> \n",
    "\n",
    "Проверка на адекватность делается по другому - мы обучаем дефолтную модель, обучаем ее и смотрим на ее ответы. Брать в качестве проверки на адекватность рандомайзер 0 и 1 не поможет проверить адекватность, ведь чаще всего такое распределение дает нам просто нормальное распределение 0 и 1, то есть 0.5. Лучше проверить на dummy_models (выше приложил ссылку)\n",
    "</div>"
   ]
  },
  {
   "cell_type": "markdown",
   "metadata": {},
   "source": [
    "<div style=\"background: #2A57DB; padding: 20px; border: 1px solid SteelBlue; border-radius: 5px;\">\n",
    "    <font color='#F3F5F2'><u><b></b></u></font>\n",
    "    <br/>\n",
    "    <font color='#F3F5F2'>Поправил<br>\n",
    "        <br>\n",
    "        \n",
    "</font>\n",
    "</div>"
   ]
  },
  {
   "cell_type": "markdown",
   "metadata": {},
   "source": [
    "<div class=\"alert alert-block alert-success\">\n",
    "<b>Успех👍 V2:</b> \n",
    "    \n",
    "Да, теперь все абсолютно верно, ты реализовал прекрасно dummy model, особенно красиво вышел график, мое почтение)\n",
    "</div>"
   ]
  },
  {
   "cell_type": "markdown",
   "metadata": {},
   "source": [
    "### Вывод\n",
    "Все модели классификации обученные с использованием DummyClassifier<br>\n",
    "Показали точность классификации значительно ниже моделей:  <br>\n",
    "RandomForestClassifier 80.71%<br>\n",
    "DecisionTreeClassifier 80.08%<br>\n",
    "LogisticRegression 73.44%<br>\n",
    "Наши модели адекватны с высоким качеством классификации<br>"
   ]
  },
  {
   "cell_type": "markdown",
   "metadata": {},
   "source": [
    "## Вывод финал\n",
    "\n",
    "Для обучения моделей классификации данные пользователей Тарифов «Ультра» и «Смарт»<br>\n",
    "были разбиты на три стратифицированные выборки в пропорциях <br>\n",
    "70% от всех данных тренировочная<br>\n",
    "15% валидационная выборка<br>\n",
    "15% тестовая выборка<br>\n",
    "и масштабированы для улучшения восприятия моделей и расширения диапазона характеристик<br>\n",
    "\n",
    "Были обучены три модели и показали качество на валидационной выборке<br>\n",
    "RandomForestClassifier 80.71%<br>\n",
    "DecisionTreeClassifier 80.08%<br>\n",
    "LogisticRegression 73.44%<br>\n",
    "\n",
    "Проведена проверка на адекватность с использованием фиктивного классификатора DummyClassifier<br>\n",
    "Результаты проверки подтвердили актуальность наших моделей<br>\n",
    "\n",
    "Цель достигнута <br>\n",
    "Модель построенная с использованием RandomForestClassifier \"best_model_FD\" рекомендуем <br>\n",
    "Для использования при классификации пользователей \"Мегалайн\" и рекомендации новых <br>\n",
    "Тарифов «Ультра» и «Смарт» <br>\n",
    "Точность модели на тестовых данных 82.82%<br>"
   ]
  },
  {
   "cell_type": "markdown",
   "metadata": {},
   "source": [
    "<div class=\"alert alert-block alert-success\">\n",
    "<b>Успех👍:</b> \n",
    "    \n",
    "Да, вывод хороший\n",
    "</div>\n",
    "\n",
    "<div class=\"alert alert-block alert-info\">\n",
    "<b>Совет🤔:</b> \n",
    "\n",
    "Однако лучше к нему добавить действия и выводы с этапов анализа данных и деления на выборки, так будет цельнее\n",
    "</div>"
   ]
  },
  {
   "cell_type": "markdown",
   "metadata": {},
   "source": [
    "<div style=\"background: #2A57DB; padding: 20px; border: 1px solid SteelBlue; border-radius: 5px;\">\n",
    "    <font color='#F3F5F2'><u><b></b></u></font>\n",
    "    <br/>\n",
    "    <font color='#F3F5F2'>Поправил<br>\n",
    "        <br>\n",
    "        \n",
    "</font>\n",
    "</div>"
   ]
  },
  {
   "cell_type": "markdown",
   "metadata": {},
   "source": [
    "<div class=\"alert alert-block alert-success\">\n",
    "<b>Успех👍 V2:</b> \n",
    "    \n",
    "Вывод реализован хорошо, так держать, мне все нравится)\n",
    "</div>"
   ]
  },
  {
   "cell_type": "markdown",
   "metadata": {},
   "source": [
    "## Чек-лист готовности проекта"
   ]
  },
  {
   "cell_type": "markdown",
   "metadata": {},
   "source": [
    "Поставьте 'x' в выполненных пунктах. Далее нажмите Shift+Enter."
   ]
  },
  {
   "cell_type": "markdown",
   "metadata": {},
   "source": [
    "- [x] Jupyter Notebook открыт\n",
    "- [x] Весь код исполняется без ошибок\n",
    "- [x] Ячейки с кодом расположены в порядке исполнения\n",
    "- [x] Выполнено задание 1: данные загружены и изучены\n",
    "- [x] Выполнено задание 2: данные разбиты на три выборки\n",
    "- [x] Выполнено задание 3: проведено исследование моделей\n",
    "    - [x] Рассмотрено больше одной модели\n",
    "    - [x] Рассмотрено хотя бы 3 значения гипепараметров для какой-нибудь модели\n",
    "    - [x] Написаны выводы по результатам исследования\n",
    "- [x] Выполнено задание 3: Проведено тестирование\n",
    "- [x] Удалось достичь accuracy не меньше 0.75\n"
   ]
  },
  {
   "cell_type": "markdown",
   "metadata": {},
   "source": [
    "<div style=\"border:solid Chocolate 2px; padding: 40px\">\n",
    "    \n",
    "<h2><b>Общий вывод по проекту</b></h2>\n",
    "    \n",
    "Ты очень постарался, спасибо тебе за такую работу!)\n",
    "\n",
    "В ходе проекта были выполнены все этапы проекта, главная цель достигнута. Конечно присутствует ряд моментов, которые необходимо рассмотреть, но ничего страшного, для это я здесь). Давай пройдемся по всем этапам твоего проекта чтобы понять, как ты справился:\n",
    "\n",
    "- Есть момент со стандартизацией, просмотри его    \n",
    "    \n",
    "- Если хочешь и есть время, то пройдись по моим советам (особенно по тестированию)\n",
    "    \n",
    "Работа хорошая, но нужно чуть-чуть поработать над ним. Удачи"
   ]
  },
  {
   "cell_type": "markdown",
   "metadata": {},
   "source": [
    "<div style=\"background: #2A57DB; padding: 20px; border: 1px solid SteelBlue; border-radius: 5px;\">\n",
    "    <font color='#F3F5F2'><u><b></b></u></font>\n",
    "    <br/>\n",
    "    <font color='#F3F5F2'>Все замечания исправлены<br>\n",
    "        Спасибо большое за проверку<br>\n",
    "        С наступающим Новым Годом 👍🕺<br>\n",
    "        👾\n",
    "        \n",
    "</font>\n",
    "</div>"
   ]
  },
  {
   "cell_type": "markdown",
   "metadata": {},
   "source": [
    "<div class=\"alert alert-block alert-success\">\n",
    "<b>Успех👍 V2:</b> \n",
    "    \n",
    "Огромное спасибо, тебя тоже с наступающим)\n",
    "</div>"
   ]
  },
  {
   "cell_type": "markdown",
   "metadata": {},
   "source": [
    "<div style=\"border:solid Chocolate 2px; padding: 40px\">\n",
    "    \n",
    "<h2><b>Общий вывод по проекту V2</b></h2>\n",
    "    \n",
    "Проект принимается, с наступающим Новым годом)"
   ]
  },
  {
   "cell_type": "code",
   "execution_count": null,
   "metadata": {},
   "outputs": [],
   "source": []
  }
 ],
 "metadata": {
  "ExecuteTimeLog": [
   {
    "duration": 78,
    "start_time": "2022-12-25T07:49:40.027Z"
   },
   {
    "duration": 1323,
    "start_time": "2022-12-25T09:25:57.750Z"
   },
   {
    "duration": 351,
    "start_time": "2022-12-25T09:25:59.076Z"
   },
   {
    "duration": 60,
    "start_time": "2022-12-25T09:25:59.429Z"
   },
   {
    "duration": 29,
    "start_time": "2022-12-25T09:25:59.492Z"
   },
   {
    "duration": 10,
    "start_time": "2022-12-25T09:25:59.522Z"
   },
   {
    "duration": 15,
    "start_time": "2022-12-25T09:25:59.534Z"
   },
   {
    "duration": 40,
    "start_time": "2022-12-25T09:25:59.551Z"
   },
   {
    "duration": 32,
    "start_time": "2022-12-25T09:25:59.593Z"
   },
   {
    "duration": 35,
    "start_time": "2022-12-25T09:25:59.626Z"
   },
   {
    "duration": 16,
    "start_time": "2022-12-25T09:25:59.663Z"
   },
   {
    "duration": 18,
    "start_time": "2022-12-25T09:25:59.681Z"
   },
   {
    "duration": 29,
    "start_time": "2022-12-25T09:25:59.701Z"
   },
   {
    "duration": 6,
    "start_time": "2022-12-25T09:27:04.885Z"
   },
   {
    "duration": 8,
    "start_time": "2022-12-25T09:38:57.916Z"
   },
   {
    "duration": 111,
    "start_time": "2022-12-25T09:39:09.504Z"
   },
   {
    "duration": 5,
    "start_time": "2022-12-25T09:39:21.586Z"
   },
   {
    "duration": 9,
    "start_time": "2022-12-25T09:40:17.275Z"
   },
   {
    "duration": 3,
    "start_time": "2022-12-25T09:40:26.919Z"
   },
   {
    "duration": 14,
    "start_time": "2022-12-25T09:40:26.924Z"
   },
   {
    "duration": 30,
    "start_time": "2022-12-25T09:40:26.939Z"
   },
   {
    "duration": 21,
    "start_time": "2022-12-25T09:40:26.971Z"
   },
   {
    "duration": 4,
    "start_time": "2022-12-25T09:40:26.994Z"
   },
   {
    "duration": 8,
    "start_time": "2022-12-25T09:40:27.000Z"
   },
   {
    "duration": 8,
    "start_time": "2022-12-25T09:40:27.010Z"
   },
   {
    "duration": 9,
    "start_time": "2022-12-25T09:40:27.019Z"
   },
   {
    "duration": 5,
    "start_time": "2022-12-25T09:40:27.030Z"
   },
   {
    "duration": 8,
    "start_time": "2022-12-25T09:40:27.037Z"
   },
   {
    "duration": 6,
    "start_time": "2022-12-25T09:40:27.047Z"
   },
   {
    "duration": 10,
    "start_time": "2022-12-25T09:40:27.054Z"
   },
   {
    "duration": 11,
    "start_time": "2022-12-25T09:40:27.066Z"
   },
   {
    "duration": 5,
    "start_time": "2022-12-25T09:40:59.597Z"
   },
   {
    "duration": 8,
    "start_time": "2022-12-25T09:41:39.817Z"
   },
   {
    "duration": 3,
    "start_time": "2022-12-25T09:42:15.670Z"
   },
   {
    "duration": 18,
    "start_time": "2022-12-25T09:42:15.675Z"
   },
   {
    "duration": 38,
    "start_time": "2022-12-25T09:42:15.695Z"
   },
   {
    "duration": 21,
    "start_time": "2022-12-25T09:42:15.735Z"
   },
   {
    "duration": 6,
    "start_time": "2022-12-25T09:42:15.758Z"
   },
   {
    "duration": 19,
    "start_time": "2022-12-25T09:42:15.765Z"
   },
   {
    "duration": 18,
    "start_time": "2022-12-25T09:42:15.785Z"
   },
   {
    "duration": 35,
    "start_time": "2022-12-25T09:42:15.805Z"
   },
   {
    "duration": 10,
    "start_time": "2022-12-25T09:42:15.841Z"
   },
   {
    "duration": 41,
    "start_time": "2022-12-25T09:42:15.854Z"
   },
   {
    "duration": 10,
    "start_time": "2022-12-25T09:42:15.896Z"
   },
   {
    "duration": 23,
    "start_time": "2022-12-25T09:42:15.907Z"
   },
   {
    "duration": 3,
    "start_time": "2022-12-25T09:42:15.932Z"
   },
   {
    "duration": 307,
    "start_time": "2022-12-25T09:42:15.936Z"
   },
   {
    "duration": 65958,
    "start_time": "2022-12-25T09:42:16.245Z"
   },
   {
    "duration": 366,
    "start_time": "2022-12-25T09:43:22.204Z"
   },
   {
    "duration": 403,
    "start_time": "2022-12-25T09:43:22.572Z"
   },
   {
    "duration": 452,
    "start_time": "2022-12-25T09:43:22.977Z"
   },
   {
    "duration": 12951,
    "start_time": "2022-12-25T09:43:23.431Z"
   },
   {
    "duration": 283,
    "start_time": "2022-12-25T09:43:36.384Z"
   },
   {
    "duration": 171,
    "start_time": "2022-12-25T09:43:36.669Z"
   },
   {
    "duration": 3,
    "start_time": "2022-12-25T09:43:36.842Z"
   },
   {
    "duration": 25,
    "start_time": "2022-12-25T09:43:36.847Z"
   },
   {
    "duration": 0,
    "start_time": "2022-12-25T09:43:36.874Z"
   },
   {
    "duration": 0,
    "start_time": "2022-12-25T09:43:36.876Z"
   },
   {
    "duration": 4,
    "start_time": "2022-12-25T09:45:14.955Z"
   },
   {
    "duration": 6,
    "start_time": "2022-12-25T09:45:14.960Z"
   },
   {
    "duration": 29,
    "start_time": "2022-12-25T09:45:14.967Z"
   },
   {
    "duration": 23,
    "start_time": "2022-12-25T09:45:14.999Z"
   },
   {
    "duration": 10,
    "start_time": "2022-12-25T09:45:15.023Z"
   },
   {
    "duration": 17,
    "start_time": "2022-12-25T09:45:15.035Z"
   },
   {
    "duration": 28,
    "start_time": "2022-12-25T09:45:15.053Z"
   },
   {
    "duration": 15,
    "start_time": "2022-12-25T09:45:15.083Z"
   },
   {
    "duration": 9,
    "start_time": "2022-12-25T09:45:15.100Z"
   },
   {
    "duration": 9,
    "start_time": "2022-12-25T09:45:15.110Z"
   },
   {
    "duration": 7,
    "start_time": "2022-12-25T09:45:15.121Z"
   },
   {
    "duration": 11,
    "start_time": "2022-12-25T09:45:15.130Z"
   },
   {
    "duration": 5,
    "start_time": "2022-12-25T09:45:15.143Z"
   },
   {
    "duration": 324,
    "start_time": "2022-12-25T09:45:15.150Z"
   },
   {
    "duration": 67964,
    "start_time": "2022-12-25T09:45:15.475Z"
   },
   {
    "duration": 265,
    "start_time": "2022-12-25T09:46:23.441Z"
   },
   {
    "duration": 432,
    "start_time": "2022-12-25T09:46:23.708Z"
   },
   {
    "duration": 498,
    "start_time": "2022-12-25T09:46:24.142Z"
   },
   {
    "duration": 13290,
    "start_time": "2022-12-25T09:46:24.642Z"
   },
   {
    "duration": 291,
    "start_time": "2022-12-25T09:46:37.934Z"
   },
   {
    "duration": 736,
    "start_time": "2022-12-25T09:46:38.227Z"
   },
   {
    "duration": 4,
    "start_time": "2022-12-25T09:46:38.964Z"
   },
   {
    "duration": 22,
    "start_time": "2022-12-25T09:46:38.969Z"
   },
   {
    "duration": 0,
    "start_time": "2022-12-25T09:46:38.993Z"
   },
   {
    "duration": 0,
    "start_time": "2022-12-25T09:46:38.995Z"
   },
   {
    "duration": 5,
    "start_time": "2022-12-25T09:47:45.955Z"
   },
   {
    "duration": 273,
    "start_time": "2022-12-25T09:48:25.995Z"
   },
   {
    "duration": 136,
    "start_time": "2022-12-25T09:50:22.198Z"
   },
   {
    "duration": 6,
    "start_time": "2022-12-25T09:50:33.234Z"
   },
   {
    "duration": 289,
    "start_time": "2022-12-25T09:50:48.208Z"
   },
   {
    "duration": 14,
    "start_time": "2022-12-25T09:52:18.907Z"
   },
   {
    "duration": 18,
    "start_time": "2022-12-25T09:52:31.800Z"
   },
   {
    "duration": 281,
    "start_time": "2022-12-25T09:53:39.988Z"
   },
   {
    "duration": 9,
    "start_time": "2022-12-25T09:55:22.105Z"
   },
   {
    "duration": 5,
    "start_time": "2022-12-25T09:55:34.173Z"
   },
   {
    "duration": 24,
    "start_time": "2022-12-25T09:55:34.180Z"
   },
   {
    "duration": 73,
    "start_time": "2022-12-25T09:55:34.206Z"
   },
   {
    "duration": 27,
    "start_time": "2022-12-25T09:55:34.282Z"
   },
   {
    "duration": 20,
    "start_time": "2022-12-25T09:55:34.311Z"
   },
   {
    "duration": 18,
    "start_time": "2022-12-25T09:55:34.337Z"
   },
   {
    "duration": 26,
    "start_time": "2022-12-25T09:55:34.357Z"
   },
   {
    "duration": 19,
    "start_time": "2022-12-25T09:55:34.385Z"
   },
   {
    "duration": 35,
    "start_time": "2022-12-25T09:55:34.406Z"
   },
   {
    "duration": 25,
    "start_time": "2022-12-25T09:55:34.444Z"
   },
   {
    "duration": 10,
    "start_time": "2022-12-25T09:55:34.470Z"
   },
   {
    "duration": 30,
    "start_time": "2022-12-25T09:55:34.482Z"
   },
   {
    "duration": 17,
    "start_time": "2022-12-25T09:55:34.514Z"
   },
   {
    "duration": 24,
    "start_time": "2022-12-25T09:55:34.534Z"
   },
   {
    "duration": 359,
    "start_time": "2022-12-25T09:55:34.560Z"
   },
   {
    "duration": 70227,
    "start_time": "2022-12-25T09:55:34.926Z"
   },
   {
    "duration": 288,
    "start_time": "2022-12-25T09:56:45.154Z"
   },
   {
    "duration": 520,
    "start_time": "2022-12-25T09:56:45.443Z"
   },
   {
    "duration": 490,
    "start_time": "2022-12-25T09:56:45.965Z"
   },
   {
    "duration": 14449,
    "start_time": "2022-12-25T09:56:46.458Z"
   },
   {
    "duration": 332,
    "start_time": "2022-12-25T09:57:00.909Z"
   },
   {
    "duration": 7,
    "start_time": "2022-12-25T09:57:01.242Z"
   },
   {
    "duration": 209,
    "start_time": "2022-12-25T09:57:01.250Z"
   },
   {
    "duration": 4,
    "start_time": "2022-12-25T09:57:01.461Z"
   },
   {
    "duration": 31,
    "start_time": "2022-12-25T09:57:01.466Z"
   },
   {
    "duration": 0,
    "start_time": "2022-12-25T09:57:01.498Z"
   },
   {
    "duration": 0,
    "start_time": "2022-12-25T09:57:01.500Z"
   },
   {
    "duration": 13,
    "start_time": "2022-12-25T09:58:06.797Z"
   },
   {
    "duration": 12,
    "start_time": "2022-12-25T09:58:13.064Z"
   },
   {
    "duration": 10,
    "start_time": "2022-12-25T09:58:33.932Z"
   },
   {
    "duration": 7,
    "start_time": "2022-12-25T09:58:39.569Z"
   },
   {
    "duration": 1134,
    "start_time": "2022-12-25T09:59:17.133Z"
   },
   {
    "duration": 1107,
    "start_time": "2022-12-25T09:59:31.983Z"
   },
   {
    "duration": 6,
    "start_time": "2022-12-25T10:00:53.897Z"
   },
   {
    "duration": 141,
    "start_time": "2022-12-25T10:01:07.138Z"
   },
   {
    "duration": 9,
    "start_time": "2022-12-25T10:02:36.915Z"
   },
   {
    "duration": 9,
    "start_time": "2022-12-25T10:02:40.143Z"
   },
   {
    "duration": 10,
    "start_time": "2022-12-25T10:03:06.052Z"
   },
   {
    "duration": 10,
    "start_time": "2022-12-25T10:03:17.300Z"
   },
   {
    "duration": 141,
    "start_time": "2022-12-25T10:04:05.881Z"
   },
   {
    "duration": 151,
    "start_time": "2022-12-25T10:04:39.745Z"
   },
   {
    "duration": 149,
    "start_time": "2022-12-25T10:05:17.545Z"
   },
   {
    "duration": 137,
    "start_time": "2022-12-25T10:05:29.414Z"
   },
   {
    "duration": 152,
    "start_time": "2022-12-25T10:05:56.571Z"
   },
   {
    "duration": 133,
    "start_time": "2022-12-25T10:06:34.906Z"
   },
   {
    "duration": 106,
    "start_time": "2022-12-25T10:06:49.144Z"
   },
   {
    "duration": 128,
    "start_time": "2022-12-25T10:07:17.763Z"
   },
   {
    "duration": 122,
    "start_time": "2022-12-25T10:08:41.038Z"
   },
   {
    "duration": 120,
    "start_time": "2022-12-25T10:09:23.209Z"
   },
   {
    "duration": 134,
    "start_time": "2022-12-25T10:11:15.020Z"
   },
   {
    "duration": 115,
    "start_time": "2022-12-25T10:11:28.283Z"
   },
   {
    "duration": 116,
    "start_time": "2022-12-25T10:11:45.451Z"
   },
   {
    "duration": 284,
    "start_time": "2022-12-25T10:12:11.473Z"
   },
   {
    "duration": 132,
    "start_time": "2022-12-25T10:14:55.963Z"
   },
   {
    "duration": 161,
    "start_time": "2022-12-25T10:15:00.801Z"
   },
   {
    "duration": 122,
    "start_time": "2022-12-25T10:15:09.485Z"
   },
   {
    "duration": 121,
    "start_time": "2022-12-25T10:15:28.106Z"
   },
   {
    "duration": 124,
    "start_time": "2022-12-25T10:15:52.843Z"
   },
   {
    "duration": 125,
    "start_time": "2022-12-25T10:16:02.642Z"
   },
   {
    "duration": 121,
    "start_time": "2022-12-25T10:16:14.331Z"
   },
   {
    "duration": 120,
    "start_time": "2022-12-25T10:16:26.313Z"
   },
   {
    "duration": 114,
    "start_time": "2022-12-25T10:16:36.899Z"
   },
   {
    "duration": 129,
    "start_time": "2022-12-25T10:16:51.412Z"
   },
   {
    "duration": 112,
    "start_time": "2022-12-25T10:17:01.975Z"
   },
   {
    "duration": 120,
    "start_time": "2022-12-25T10:17:09.558Z"
   },
   {
    "duration": 116,
    "start_time": "2022-12-25T10:17:20.752Z"
   },
   {
    "duration": 189,
    "start_time": "2022-12-25T10:20:57.815Z"
   },
   {
    "duration": 132,
    "start_time": "2022-12-25T10:21:12.890Z"
   },
   {
    "duration": 146,
    "start_time": "2022-12-25T10:22:19.671Z"
   },
   {
    "duration": 133,
    "start_time": "2022-12-25T10:26:39.697Z"
   },
   {
    "duration": 173,
    "start_time": "2022-12-25T10:26:45.742Z"
   },
   {
    "duration": 154,
    "start_time": "2022-12-25T10:26:50.216Z"
   },
   {
    "duration": 298,
    "start_time": "2022-12-25T10:26:55.155Z"
   },
   {
    "duration": 145,
    "start_time": "2022-12-25T10:27:00.983Z"
   },
   {
    "duration": 4,
    "start_time": "2022-12-25T10:30:56.413Z"
   },
   {
    "duration": 7,
    "start_time": "2022-12-25T10:30:56.419Z"
   },
   {
    "duration": 32,
    "start_time": "2022-12-25T10:30:56.428Z"
   },
   {
    "duration": 23,
    "start_time": "2022-12-25T10:30:56.462Z"
   },
   {
    "duration": 5,
    "start_time": "2022-12-25T10:30:56.487Z"
   },
   {
    "duration": 8,
    "start_time": "2022-12-25T10:30:56.494Z"
   },
   {
    "duration": 18,
    "start_time": "2022-12-25T10:30:56.504Z"
   },
   {
    "duration": 11,
    "start_time": "2022-12-25T10:30:56.524Z"
   },
   {
    "duration": 6,
    "start_time": "2022-12-25T10:30:56.536Z"
   },
   {
    "duration": 8,
    "start_time": "2022-12-25T10:30:56.546Z"
   },
   {
    "duration": 9,
    "start_time": "2022-12-25T10:30:56.556Z"
   },
   {
    "duration": 10,
    "start_time": "2022-12-25T10:30:56.567Z"
   },
   {
    "duration": 2,
    "start_time": "2022-12-25T10:30:56.579Z"
   },
   {
    "duration": 12,
    "start_time": "2022-12-25T10:30:56.582Z"
   },
   {
    "duration": 330,
    "start_time": "2022-12-25T10:30:56.595Z"
   },
   {
    "duration": 69042,
    "start_time": "2022-12-25T10:30:56.927Z"
   },
   {
    "duration": 319,
    "start_time": "2022-12-25T10:32:05.971Z"
   },
   {
    "duration": 418,
    "start_time": "2022-12-25T10:32:06.292Z"
   },
   {
    "duration": 495,
    "start_time": "2022-12-25T10:32:06.712Z"
   },
   {
    "duration": 14335,
    "start_time": "2022-12-25T10:32:07.209Z"
   },
   {
    "duration": 306,
    "start_time": "2022-12-25T10:32:21.546Z"
   },
   {
    "duration": 4,
    "start_time": "2022-12-25T10:32:59.257Z"
   },
   {
    "duration": 279,
    "start_time": "2022-12-25T10:33:46.564Z"
   },
   {
    "duration": 195,
    "start_time": "2022-12-25T10:36:26.553Z"
   },
   {
    "duration": 264,
    "start_time": "2022-12-25T10:37:51.572Z"
   },
   {
    "duration": 236,
    "start_time": "2022-12-25T10:38:06.253Z"
   },
   {
    "duration": 248,
    "start_time": "2022-12-25T10:39:02.136Z"
   },
   {
    "duration": 241,
    "start_time": "2022-12-25T10:39:42.364Z"
   },
   {
    "duration": 4,
    "start_time": "2022-12-25T10:40:02.482Z"
   },
   {
    "duration": 10,
    "start_time": "2022-12-25T10:40:02.488Z"
   },
   {
    "duration": 44,
    "start_time": "2022-12-25T10:40:02.500Z"
   },
   {
    "duration": 23,
    "start_time": "2022-12-25T10:40:02.546Z"
   },
   {
    "duration": 6,
    "start_time": "2022-12-25T10:40:02.571Z"
   },
   {
    "duration": 9,
    "start_time": "2022-12-25T10:40:02.579Z"
   },
   {
    "duration": 10,
    "start_time": "2022-12-25T10:40:02.591Z"
   },
   {
    "duration": 19,
    "start_time": "2022-12-25T10:40:02.603Z"
   },
   {
    "duration": 6,
    "start_time": "2022-12-25T10:40:02.626Z"
   },
   {
    "duration": 10,
    "start_time": "2022-12-25T10:40:02.633Z"
   },
   {
    "duration": 9,
    "start_time": "2022-12-25T10:40:02.646Z"
   },
   {
    "duration": 18,
    "start_time": "2022-12-25T10:40:02.657Z"
   },
   {
    "duration": 3,
    "start_time": "2022-12-25T10:40:02.677Z"
   },
   {
    "duration": 40,
    "start_time": "2022-12-25T10:40:02.683Z"
   },
   {
    "duration": 275,
    "start_time": "2022-12-25T10:40:02.726Z"
   },
   {
    "duration": 67607,
    "start_time": "2022-12-25T10:40:03.004Z"
   },
   {
    "duration": 278,
    "start_time": "2022-12-25T10:41:10.612Z"
   },
   {
    "duration": 412,
    "start_time": "2022-12-25T10:41:10.892Z"
   },
   {
    "duration": 476,
    "start_time": "2022-12-25T10:41:11.306Z"
   },
   {
    "duration": 13573,
    "start_time": "2022-12-25T10:41:11.784Z"
   },
   {
    "duration": 167,
    "start_time": "2022-12-25T10:41:25.359Z"
   },
   {
    "duration": 3,
    "start_time": "2022-12-25T10:41:25.528Z"
   },
   {
    "duration": 191,
    "start_time": "2022-12-25T10:41:25.532Z"
   },
   {
    "duration": 4,
    "start_time": "2022-12-25T10:41:25.726Z"
   },
   {
    "duration": 28,
    "start_time": "2022-12-25T10:41:25.731Z"
   },
   {
    "duration": 0,
    "start_time": "2022-12-25T10:41:25.761Z"
   },
   {
    "duration": 0,
    "start_time": "2022-12-25T10:41:25.762Z"
   },
   {
    "duration": 12,
    "start_time": "2022-12-25T10:43:05.879Z"
   },
   {
    "duration": 12,
    "start_time": "2022-12-25T10:43:16.793Z"
   },
   {
    "duration": 10,
    "start_time": "2022-12-25T10:44:07.654Z"
   },
   {
    "duration": 4,
    "start_time": "2022-12-25T10:44:50.361Z"
   },
   {
    "duration": 118,
    "start_time": "2022-12-25T10:45:23.200Z"
   },
   {
    "duration": 290,
    "start_time": "2022-12-25T10:45:31.311Z"
   },
   {
    "duration": 4,
    "start_time": "2022-12-25T10:45:44.789Z"
   },
   {
    "duration": 154,
    "start_time": "2022-12-25T10:45:44.795Z"
   },
   {
    "duration": 11,
    "start_time": "2022-12-25T10:45:44.952Z"
   },
   {
    "duration": 6,
    "start_time": "2022-12-25T10:45:44.965Z"
   },
   {
    "duration": 7,
    "start_time": "2022-12-25T10:47:10.267Z"
   },
   {
    "duration": 3,
    "start_time": "2022-12-25T12:02:10.403Z"
   },
   {
    "duration": 3,
    "start_time": "2022-12-25T12:02:10.418Z"
   },
   {
    "duration": 41,
    "start_time": "2022-12-25T12:02:10.423Z"
   },
   {
    "duration": 20,
    "start_time": "2022-12-25T12:02:10.466Z"
   },
   {
    "duration": 4,
    "start_time": "2022-12-25T12:02:10.488Z"
   },
   {
    "duration": 9,
    "start_time": "2022-12-25T12:02:10.494Z"
   },
   {
    "duration": 7,
    "start_time": "2022-12-25T12:02:10.504Z"
   },
   {
    "duration": 5,
    "start_time": "2022-12-25T12:02:10.513Z"
   },
   {
    "duration": 17,
    "start_time": "2022-12-25T12:02:10.522Z"
   },
   {
    "duration": 9,
    "start_time": "2022-12-25T12:02:10.541Z"
   },
   {
    "duration": 7,
    "start_time": "2022-12-25T12:02:10.552Z"
   },
   {
    "duration": 10,
    "start_time": "2022-12-25T12:02:10.561Z"
   },
   {
    "duration": 3,
    "start_time": "2022-12-25T12:02:10.573Z"
   },
   {
    "duration": 6,
    "start_time": "2022-12-25T12:02:10.578Z"
   },
   {
    "duration": 290,
    "start_time": "2022-12-25T12:02:10.586Z"
   },
   {
    "duration": 67865,
    "start_time": "2022-12-25T12:02:10.878Z"
   },
   {
    "duration": 304,
    "start_time": "2022-12-25T12:03:18.745Z"
   },
   {
    "duration": 447,
    "start_time": "2022-12-25T12:03:19.052Z"
   },
   {
    "duration": 470,
    "start_time": "2022-12-25T12:03:19.500Z"
   },
   {
    "duration": 13334,
    "start_time": "2022-12-25T12:03:19.972Z"
   },
   {
    "duration": 165,
    "start_time": "2022-12-25T12:03:33.307Z"
   },
   {
    "duration": 187,
    "start_time": "2022-12-25T12:03:33.474Z"
   },
   {
    "duration": 4,
    "start_time": "2022-12-25T12:03:33.663Z"
   },
   {
    "duration": 165,
    "start_time": "2022-12-25T12:03:33.669Z"
   },
   {
    "duration": 7,
    "start_time": "2022-12-25T12:03:33.838Z"
   },
   {
    "duration": 5,
    "start_time": "2022-12-25T12:03:33.847Z"
   },
   {
    "duration": 12,
    "start_time": "2022-12-25T14:24:35.471Z"
   },
   {
    "duration": 4,
    "start_time": "2022-12-25T14:26:26.063Z"
   },
   {
    "duration": 21,
    "start_time": "2022-12-25T14:26:26.069Z"
   },
   {
    "duration": 68,
    "start_time": "2022-12-25T14:26:26.092Z"
   },
   {
    "duration": 24,
    "start_time": "2022-12-25T14:26:26.162Z"
   },
   {
    "duration": 17,
    "start_time": "2022-12-25T14:26:26.188Z"
   },
   {
    "duration": 30,
    "start_time": "2022-12-25T14:26:26.207Z"
   },
   {
    "duration": 24,
    "start_time": "2022-12-25T14:26:26.239Z"
   },
   {
    "duration": 24,
    "start_time": "2022-12-25T14:26:26.265Z"
   },
   {
    "duration": 41,
    "start_time": "2022-12-25T14:26:26.290Z"
   },
   {
    "duration": 32,
    "start_time": "2022-12-25T14:26:26.334Z"
   },
   {
    "duration": 17,
    "start_time": "2022-12-25T14:26:26.368Z"
   },
   {
    "duration": 47,
    "start_time": "2022-12-25T14:26:26.387Z"
   },
   {
    "duration": 23,
    "start_time": "2022-12-25T14:26:26.435Z"
   },
   {
    "duration": 20,
    "start_time": "2022-12-25T14:26:26.460Z"
   },
   {
    "duration": 312,
    "start_time": "2022-12-25T14:26:26.481Z"
   },
   {
    "duration": 68688,
    "start_time": "2022-12-25T14:26:26.795Z"
   },
   {
    "duration": 339,
    "start_time": "2022-12-25T14:27:35.485Z"
   },
   {
    "duration": 444,
    "start_time": "2022-12-25T14:27:35.826Z"
   },
   {
    "duration": 462,
    "start_time": "2022-12-25T14:27:36.272Z"
   },
   {
    "duration": 13677,
    "start_time": "2022-12-25T14:27:36.736Z"
   },
   {
    "duration": 176,
    "start_time": "2022-12-25T14:27:50.415Z"
   },
   {
    "duration": 184,
    "start_time": "2022-12-25T14:27:50.593Z"
   },
   {
    "duration": 4,
    "start_time": "2022-12-25T14:27:50.780Z"
   },
   {
    "duration": 158,
    "start_time": "2022-12-25T14:27:50.785Z"
   },
   {
    "duration": 8,
    "start_time": "2022-12-25T14:27:50.944Z"
   },
   {
    "duration": 38,
    "start_time": "2022-12-25T14:27:50.954Z"
   },
   {
    "duration": 0,
    "start_time": "2022-12-25T14:27:50.993Z"
   },
   {
    "duration": 21,
    "start_time": "2022-12-25T14:30:51.609Z"
   },
   {
    "duration": 17,
    "start_time": "2022-12-25T14:31:57.864Z"
   },
   {
    "duration": 9,
    "start_time": "2022-12-25T14:32:16.405Z"
   },
   {
    "duration": 9,
    "start_time": "2022-12-25T14:32:23.411Z"
   },
   {
    "duration": 180,
    "start_time": "2022-12-25T14:32:45.867Z"
   },
   {
    "duration": 120,
    "start_time": "2022-12-25T14:33:33.219Z"
   },
   {
    "duration": 68,
    "start_time": "2022-12-25T14:33:43.597Z"
   },
   {
    "duration": 17,
    "start_time": "2022-12-25T14:33:50.668Z"
   },
   {
    "duration": 27,
    "start_time": "2022-12-25T14:33:54.933Z"
   },
   {
    "duration": 110,
    "start_time": "2022-12-25T14:34:06.069Z"
   },
   {
    "duration": 164,
    "start_time": "2022-12-25T14:34:28.311Z"
   },
   {
    "duration": 173,
    "start_time": "2022-12-25T14:35:03.570Z"
   },
   {
    "duration": 332,
    "start_time": "2022-12-25T14:35:16.501Z"
   },
   {
    "duration": 173,
    "start_time": "2022-12-25T14:35:22.244Z"
   },
   {
    "duration": 19,
    "start_time": "2022-12-25T14:35:59.572Z"
   },
   {
    "duration": 231,
    "start_time": "2022-12-25T14:36:12.668Z"
   },
   {
    "duration": 19,
    "start_time": "2022-12-25T14:36:55.105Z"
   },
   {
    "duration": 8,
    "start_time": "2022-12-25T14:37:05.780Z"
   },
   {
    "duration": 11,
    "start_time": "2022-12-25T14:37:12.230Z"
   },
   {
    "duration": 12,
    "start_time": "2022-12-25T14:37:14.746Z"
   },
   {
    "duration": 177,
    "start_time": "2022-12-25T14:37:36.250Z"
   },
   {
    "duration": 255,
    "start_time": "2022-12-25T14:37:49.111Z"
   },
   {
    "duration": 182,
    "start_time": "2022-12-25T14:38:12.507Z"
   },
   {
    "duration": 189,
    "start_time": "2022-12-25T14:38:24.971Z"
   },
   {
    "duration": 241,
    "start_time": "2022-12-25T14:38:30.539Z"
   },
   {
    "duration": 14,
    "start_time": "2022-12-25T14:40:03.140Z"
   },
   {
    "duration": 14,
    "start_time": "2022-12-25T14:40:28.947Z"
   },
   {
    "duration": 14,
    "start_time": "2022-12-25T14:40:52.901Z"
   },
   {
    "duration": 143,
    "start_time": "2022-12-25T14:41:12.981Z"
   },
   {
    "duration": 181,
    "start_time": "2022-12-25T14:41:47.207Z"
   },
   {
    "duration": 246,
    "start_time": "2022-12-25T14:42:04.013Z"
   },
   {
    "duration": 152,
    "start_time": "2022-12-25T14:42:21.619Z"
   },
   {
    "duration": 28,
    "start_time": "2022-12-25T14:42:41.532Z"
   },
   {
    "duration": 107,
    "start_time": "2022-12-25T14:43:02.810Z"
   },
   {
    "duration": 157,
    "start_time": "2022-12-25T14:43:31.855Z"
   },
   {
    "duration": 14,
    "start_time": "2022-12-25T14:44:02.319Z"
   },
   {
    "duration": 14,
    "start_time": "2022-12-25T14:44:09.406Z"
   },
   {
    "duration": 18,
    "start_time": "2022-12-25T14:44:10.138Z"
   },
   {
    "duration": 16,
    "start_time": "2022-12-25T14:44:39.468Z"
   },
   {
    "duration": 95,
    "start_time": "2022-12-25T14:45:03.374Z"
   },
   {
    "duration": 67,
    "start_time": "2022-12-25T14:45:17.537Z"
   },
   {
    "duration": 80,
    "start_time": "2022-12-25T14:45:23.806Z"
   },
   {
    "duration": 118,
    "start_time": "2022-12-25T14:45:34.582Z"
   },
   {
    "duration": 10,
    "start_time": "2022-12-25T14:45:49.544Z"
   },
   {
    "duration": 133,
    "start_time": "2022-12-25T14:45:59.403Z"
   },
   {
    "duration": 15,
    "start_time": "2022-12-25T14:46:18.289Z"
   },
   {
    "duration": 158,
    "start_time": "2022-12-25T14:46:22.137Z"
   },
   {
    "duration": 166,
    "start_time": "2022-12-25T14:47:29.346Z"
   },
   {
    "duration": 175,
    "start_time": "2022-12-25T14:48:22.481Z"
   },
   {
    "duration": 181,
    "start_time": "2022-12-25T14:49:26.021Z"
   },
   {
    "duration": 144,
    "start_time": "2022-12-25T14:49:36.856Z"
   },
   {
    "duration": 166,
    "start_time": "2022-12-25T14:49:42.762Z"
   },
   {
    "duration": 275,
    "start_time": "2022-12-25T14:50:13.102Z"
   },
   {
    "duration": 145,
    "start_time": "2022-12-25T14:50:23.330Z"
   },
   {
    "duration": 162,
    "start_time": "2022-12-25T14:50:26.909Z"
   },
   {
    "duration": 175,
    "start_time": "2022-12-25T14:51:36.726Z"
   },
   {
    "duration": 165,
    "start_time": "2022-12-25T14:52:33.539Z"
   },
   {
    "duration": 9,
    "start_time": "2022-12-25T14:57:56.710Z"
   },
   {
    "duration": 8,
    "start_time": "2022-12-25T14:57:58.284Z"
   },
   {
    "duration": 152,
    "start_time": "2022-12-25T14:57:59.502Z"
   },
   {
    "duration": 4,
    "start_time": "2022-12-25T14:58:26.875Z"
   },
   {
    "duration": 72,
    "start_time": "2022-12-25T14:59:11.280Z"
   },
   {
    "duration": 165,
    "start_time": "2022-12-25T14:59:16.683Z"
   },
   {
    "duration": 170,
    "start_time": "2022-12-25T14:59:58.802Z"
   },
   {
    "duration": 255,
    "start_time": "2022-12-25T15:01:00.676Z"
   },
   {
    "duration": 146,
    "start_time": "2022-12-25T15:01:12.871Z"
   },
   {
    "duration": 193,
    "start_time": "2022-12-25T15:01:18.834Z"
   },
   {
    "duration": 167,
    "start_time": "2022-12-25T15:01:35.639Z"
   },
   {
    "duration": 166,
    "start_time": "2022-12-25T15:01:47.740Z"
   },
   {
    "duration": 158,
    "start_time": "2022-12-25T15:01:59.605Z"
   },
   {
    "duration": 161,
    "start_time": "2022-12-25T15:02:10.778Z"
   },
   {
    "duration": 170,
    "start_time": "2022-12-25T15:02:37.743Z"
   },
   {
    "duration": 156,
    "start_time": "2022-12-25T15:03:01.237Z"
   },
   {
    "duration": 181,
    "start_time": "2022-12-25T15:03:29.370Z"
   },
   {
    "duration": 193,
    "start_time": "2022-12-25T15:03:33.409Z"
   },
   {
    "duration": 159,
    "start_time": "2022-12-25T15:03:39.045Z"
   },
   {
    "duration": 326,
    "start_time": "2022-12-25T15:03:49.891Z"
   },
   {
    "duration": 191,
    "start_time": "2022-12-25T15:03:56.382Z"
   },
   {
    "duration": 174,
    "start_time": "2022-12-25T15:04:10.040Z"
   },
   {
    "duration": 167,
    "start_time": "2022-12-25T15:04:25.442Z"
   },
   {
    "duration": 172,
    "start_time": "2022-12-25T15:05:37.172Z"
   },
   {
    "duration": 94,
    "start_time": "2022-12-25T15:07:38.652Z"
   },
   {
    "duration": 78,
    "start_time": "2022-12-25T15:07:49.464Z"
   },
   {
    "duration": 158,
    "start_time": "2022-12-25T15:07:57.057Z"
   },
   {
    "duration": 167,
    "start_time": "2022-12-25T15:08:05.686Z"
   },
   {
    "duration": 152,
    "start_time": "2022-12-25T15:08:28.119Z"
   },
   {
    "duration": 156,
    "start_time": "2022-12-25T15:08:51.992Z"
   },
   {
    "duration": 170,
    "start_time": "2022-12-25T15:08:57.088Z"
   },
   {
    "duration": 152,
    "start_time": "2022-12-25T15:09:28.667Z"
   },
   {
    "duration": 155,
    "start_time": "2022-12-25T15:11:20.990Z"
   },
   {
    "duration": 150,
    "start_time": "2022-12-25T15:12:41.158Z"
   },
   {
    "duration": 186,
    "start_time": "2022-12-25T15:12:54.063Z"
   },
   {
    "duration": 160,
    "start_time": "2022-12-25T15:13:02.612Z"
   },
   {
    "duration": 168,
    "start_time": "2022-12-25T15:13:39.716Z"
   },
   {
    "duration": 169,
    "start_time": "2022-12-25T15:14:00.878Z"
   },
   {
    "duration": 185,
    "start_time": "2022-12-25T15:14:14.043Z"
   },
   {
    "duration": 158,
    "start_time": "2022-12-25T15:14:42.818Z"
   },
   {
    "duration": 74,
    "start_time": "2022-12-25T15:15:52.120Z"
   },
   {
    "duration": 161,
    "start_time": "2022-12-25T15:15:55.079Z"
   },
   {
    "duration": 11,
    "start_time": "2022-12-25T15:16:58.271Z"
   },
   {
    "duration": 8,
    "start_time": "2022-12-25T15:17:18.012Z"
   },
   {
    "duration": 145,
    "start_time": "2022-12-25T15:18:15.200Z"
   },
   {
    "duration": 86,
    "start_time": "2022-12-25T15:18:23.795Z"
   },
   {
    "duration": 97,
    "start_time": "2022-12-25T15:18:28.992Z"
   },
   {
    "duration": 70,
    "start_time": "2022-12-25T15:18:43.703Z"
   },
   {
    "duration": 93,
    "start_time": "2022-12-25T15:18:49.692Z"
   },
   {
    "duration": 297,
    "start_time": "2022-12-25T15:18:56.893Z"
   },
   {
    "duration": 176,
    "start_time": "2022-12-25T15:19:15.793Z"
   },
   {
    "duration": 162,
    "start_time": "2022-12-25T15:19:20.608Z"
   },
   {
    "duration": 151,
    "start_time": "2022-12-25T15:19:44.429Z"
   },
   {
    "duration": 150,
    "start_time": "2022-12-25T15:20:44.747Z"
   },
   {
    "duration": 160,
    "start_time": "2022-12-25T15:20:54.997Z"
   },
   {
    "duration": 151,
    "start_time": "2022-12-25T15:21:45.568Z"
   },
   {
    "duration": 147,
    "start_time": "2022-12-25T15:22:02.870Z"
   },
   {
    "duration": 147,
    "start_time": "2022-12-25T15:22:08.082Z"
   },
   {
    "duration": 19,
    "start_time": "2022-12-25T15:22:14.716Z"
   },
   {
    "duration": 158,
    "start_time": "2022-12-25T15:22:19.048Z"
   },
   {
    "duration": 152,
    "start_time": "2022-12-25T15:22:37.206Z"
   },
   {
    "duration": 10,
    "start_time": "2022-12-25T15:30:51.029Z"
   },
   {
    "duration": 206,
    "start_time": "2022-12-25T15:30:51.866Z"
   },
   {
    "duration": 1078,
    "start_time": "2022-12-25T15:55:19.282Z"
   },
   {
    "duration": 273,
    "start_time": "2022-12-25T15:55:20.362Z"
   },
   {
    "duration": 28,
    "start_time": "2022-12-25T15:55:20.636Z"
   },
   {
    "duration": 29,
    "start_time": "2022-12-25T15:55:20.666Z"
   },
   {
    "duration": 4,
    "start_time": "2022-12-25T15:55:20.697Z"
   },
   {
    "duration": 12,
    "start_time": "2022-12-25T15:55:20.703Z"
   },
   {
    "duration": 11,
    "start_time": "2022-12-25T15:55:20.717Z"
   },
   {
    "duration": 11,
    "start_time": "2022-12-25T15:55:20.730Z"
   },
   {
    "duration": 5,
    "start_time": "2022-12-25T15:55:20.743Z"
   },
   {
    "duration": 17,
    "start_time": "2022-12-25T15:55:20.751Z"
   },
   {
    "duration": 10,
    "start_time": "2022-12-25T15:55:20.769Z"
   },
   {
    "duration": 11,
    "start_time": "2022-12-25T15:55:20.780Z"
   },
   {
    "duration": 4,
    "start_time": "2022-12-25T15:55:20.792Z"
   },
   {
    "duration": 8,
    "start_time": "2022-12-25T15:55:20.797Z"
   },
   {
    "duration": 281,
    "start_time": "2022-12-25T15:55:20.806Z"
   },
   {
    "duration": 67291,
    "start_time": "2022-12-25T15:55:21.089Z"
   },
   {
    "duration": 307,
    "start_time": "2022-12-25T15:56:28.382Z"
   },
   {
    "duration": 435,
    "start_time": "2022-12-25T15:56:28.691Z"
   },
   {
    "duration": 524,
    "start_time": "2022-12-25T15:56:29.128Z"
   },
   {
    "duration": 13333,
    "start_time": "2022-12-25T15:56:29.654Z"
   },
   {
    "duration": 344,
    "start_time": "2022-12-25T15:56:42.988Z"
   },
   {
    "duration": 0,
    "start_time": "2022-12-25T15:56:43.334Z"
   },
   {
    "duration": 0,
    "start_time": "2022-12-25T15:56:43.336Z"
   },
   {
    "duration": 0,
    "start_time": "2022-12-25T15:56:43.337Z"
   },
   {
    "duration": 0,
    "start_time": "2022-12-25T15:56:43.338Z"
   },
   {
    "duration": 0,
    "start_time": "2022-12-25T15:56:43.339Z"
   },
   {
    "duration": 0,
    "start_time": "2022-12-25T15:56:43.340Z"
   },
   {
    "duration": 158,
    "start_time": "2022-12-25T15:57:09.170Z"
   },
   {
    "duration": 179,
    "start_time": "2022-12-25T16:00:57.310Z"
   },
   {
    "duration": 175,
    "start_time": "2022-12-25T16:01:33.829Z"
   },
   {
    "duration": 186,
    "start_time": "2022-12-25T16:01:55.746Z"
   },
   {
    "duration": 151,
    "start_time": "2022-12-25T16:02:03.890Z"
   },
   {
    "duration": 151,
    "start_time": "2022-12-25T16:02:09.132Z"
   },
   {
    "duration": 159,
    "start_time": "2022-12-25T16:04:11.040Z"
   },
   {
    "duration": 197,
    "start_time": "2022-12-25T16:04:34.283Z"
   },
   {
    "duration": 225,
    "start_time": "2022-12-25T16:05:14.130Z"
   },
   {
    "duration": 1171,
    "start_time": "2022-12-25T16:05:50.713Z"
   },
   {
    "duration": 255,
    "start_time": "2022-12-25T16:05:51.885Z"
   },
   {
    "duration": 29,
    "start_time": "2022-12-25T16:05:52.141Z"
   },
   {
    "duration": 26,
    "start_time": "2022-12-25T16:05:52.172Z"
   },
   {
    "duration": 5,
    "start_time": "2022-12-25T16:05:52.201Z"
   },
   {
    "duration": 19,
    "start_time": "2022-12-25T16:05:52.208Z"
   },
   {
    "duration": 9,
    "start_time": "2022-12-25T16:05:52.229Z"
   },
   {
    "duration": 13,
    "start_time": "2022-12-25T16:05:52.240Z"
   },
   {
    "duration": 15,
    "start_time": "2022-12-25T16:05:52.255Z"
   },
   {
    "duration": 20,
    "start_time": "2022-12-25T16:05:52.271Z"
   },
   {
    "duration": 15,
    "start_time": "2022-12-25T16:05:52.292Z"
   },
   {
    "duration": 17,
    "start_time": "2022-12-25T16:05:52.308Z"
   },
   {
    "duration": 22,
    "start_time": "2022-12-25T16:05:52.326Z"
   },
   {
    "duration": 264,
    "start_time": "2022-12-25T16:05:52.350Z"
   },
   {
    "duration": 65352,
    "start_time": "2022-12-25T16:05:52.616Z"
   },
   {
    "duration": 332,
    "start_time": "2022-12-25T16:06:57.970Z"
   },
   {
    "duration": 414,
    "start_time": "2022-12-25T16:06:58.304Z"
   },
   {
    "duration": 483,
    "start_time": "2022-12-25T16:06:58.722Z"
   },
   {
    "duration": 13032,
    "start_time": "2022-12-25T16:06:59.206Z"
   },
   {
    "duration": 165,
    "start_time": "2022-12-25T16:07:12.240Z"
   },
   {
    "duration": 182,
    "start_time": "2022-12-25T16:07:12.407Z"
   },
   {
    "duration": 4,
    "start_time": "2022-12-25T16:07:12.591Z"
   },
   {
    "duration": 149,
    "start_time": "2022-12-25T16:07:12.597Z"
   },
   {
    "duration": 7,
    "start_time": "2022-12-25T16:07:12.748Z"
   },
   {
    "duration": 27,
    "start_time": "2022-12-25T16:07:12.757Z"
   },
   {
    "duration": 145,
    "start_time": "2022-12-25T16:07:12.786Z"
   }
  ],
  "kernelspec": {
   "display_name": "Python 3 (ipykernel)",
   "language": "python",
   "name": "python3"
  },
  "language_info": {
   "codemirror_mode": {
    "name": "ipython",
    "version": 3
   },
   "file_extension": ".py",
   "mimetype": "text/x-python",
   "name": "python",
   "nbconvert_exporter": "python",
   "pygments_lexer": "ipython3",
   "version": "3.9.15"
  },
  "toc": {
   "base_numbering": 1,
   "nav_menu": {
    "height": "434px",
    "width": "498px"
   },
   "number_sections": true,
   "sideBar": true,
   "skip_h1_title": true,
   "title_cell": "Table of Contents",
   "title_sidebar": "Contents",
   "toc_cell": false,
   "toc_position": {},
   "toc_section_display": true,
   "toc_window_display": false
  },
  "varInspector": {
   "cols": {
    "lenName": 16,
    "lenType": 16,
    "lenVar": 40
   },
   "kernels_config": {
    "python": {
     "delete_cmd_postfix": "",
     "delete_cmd_prefix": "del ",
     "library": "var_list.py",
     "varRefreshCmd": "print(var_dic_list())"
    },
    "r": {
     "delete_cmd_postfix": ") ",
     "delete_cmd_prefix": "rm(",
     "library": "var_list.r",
     "varRefreshCmd": "cat(var_dic_list()) "
    }
   },
   "types_to_exclude": [
    "module",
    "function",
    "builtin_function_or_method",
    "instance",
    "_Feature"
   ],
   "window_display": false
  },
  "widgets": {
   "application/vnd.jupyter.widget-state+json": {
    "state": {},
    "version_major": 2,
    "version_minor": 0
   }
  }
 },
 "nbformat": 4,
 "nbformat_minor": 4
}
