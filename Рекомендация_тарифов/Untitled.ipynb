{
 "cells": [
  {
   "cell_type": "code",
   "execution_count": 143,
   "id": "c8c68fb3-36f0-4b49-a204-821d47108801",
   "metadata": {},
   "outputs": [],
   "source": [
    "import pandas as pd\n",
    "from sklearn.tree import DecisionTreeClassifier\n",
    "from sklearn.model_selection import train_test_split\n",
    "from sklearn.metrics import f1_score, recall_score, precision_score, confusion_matrix \n",
    "from sklearn.metrics import roc_curve \n",
    "data = pd.read_csv('https://code.s3.yandex.net/datasets/travel_insurance_preprocessed.csv')\n",
    "import matplotlib.pyplot as plt\n",
    "import seaborn as sns\n",
    "target = data['Claim']\n",
    "features = data.drop('Claim', axis=1)\n",
    "features_train, features_valid, target_train, target_valid = train_test_split(\n",
    "    features, target, test_size=0.25, random_state=12345)\n",
    "\n",
    "model = DecisionTreeClassifier(random_state=12345)\n",
    "model.fit(features_train, target_train)\n",
    "predicted_valid = model.predict(features_valid)\n",
    "\n",
    "probabilities_valid = model.predict_proba(features_valid)\n",
    "probabilities_one_valid = probabilities_valid[:, 1]\n"
   ]
  },
  {
   "cell_type": "code",
   "execution_count": 157,
   "id": "9b73ef20-565f-44c8-bb79-c26739695c04",
   "metadata": {},
   "outputs": [
    {
     "name": "stdout",
     "output_type": "stream",
     "text": [
      "6\n",
      "6\n",
      "6\n"
     ]
    }
   ],
   "source": [
    "fpr, tpr, thresholds = roc_curve(target_valid, probabilities_one_valid) \n",
    "print(len(thresholds))\n",
    "print(len(fpr))\n",
    "print(len(tpr))"
   ]
  },
  {
   "cell_type": "code",
   "execution_count": 156,
   "id": "1b8a8933-0d47-40cd-b7dc-f99d1349aa03",
   "metadata": {},
   "outputs": [
    {
     "data": {
      "image/png": "[encoded data removed]",
      "text/plain": [
       "<Figure size 300x300 with 1 Axes>"
      ]
     },
     "metadata": {},
     "output_type": "display_data"
    }
   ],
   "source": [
    "plt.figure(figsize=(3,3));\n",
    "sns.scatterplot(x=fpr,y=tpr)\n",
    "sns.lineplot(thresholds)\n",
    "plt.plot(fpr, tpr, )\n",
    "# plt.xlim([0.0, 1.0])\n",
    "# plt.ylim([0.0, 1.0])\n",
    "plt.show()"
   ]
  },
  {
   "cell_type": "code",
   "execution_count": null,
   "id": "2e4f4789-220c-4f81-b0fe-7c1af306256a",
   "metadata": {},
   "outputs": [],
   "source": [
    "print(f1_score(target_valid, predicted_valid))\n",
    "print(recall_score(target_valid, predicted_valid))\n",
    "print(precision_score(target_valid, predicted_valid))\n",
    "print()\n",
    "print(confusion_matrix(target_valid, predicted_valid))"
   ]
  },
  {
   "cell_type": "code",
   "execution_count": null,
   "id": "c7b7f233-a500-4576-bbbb-3a3dd7b1526a",
   "metadata": {},
   "outputs": [],
   "source": [
    "target_valid.value_counts()"
   ]
  },
  {
   "cell_type": "code",
   "execution_count": null,
   "id": "d8feeed2-752f-446e-98b5-5525663d21fb",
   "metadata": {},
   "outputs": [],
   "source": [
    "re = 0.09\n",
    "pr = 0.09\n",
    "\n",
    "tpr = 12/169\n",
    "fpr = 166/(12330+166)\n",
    "fpr\n"
   ]
  },
  {
   "cell_type": "code",
   "execution_count": null,
   "id": "fa9598b6-34e9-4bf3-9950-236621a797d4",
   "metadata": {},
   "outputs": [],
   "source": []
  },
  {
   "cell_type": "code",
   "execution_count": 130,
   "id": "a7f597c2-9941-43dc-9318-47a7388e6413",
   "metadata": {},
   "outputs": [
    {
     "data": {
      "text/plain": [
       "0.09"
      ]
     },
     "execution_count": 130,
     "metadata": {},
     "output_type": "execute_result"
    }
   ],
   "source": [
    "s = ((2*re*pr)/\n",
    "     (pr+re))\n",
    "s"
   ]
  },
  {
   "cell_type": "code",
   "execution_count": null,
   "id": "2e13567b-40ef-482b-a4d7-848b01c2b722",
   "metadata": {},
   "outputs": [],
   "source": []
  }
 ],
 "metadata": {
  "kernelspec": {
   "display_name": "Python 3 (ipykernel)",
   "language": "python",
   "name": "python3"
  },
  "language_info": {
   "codemirror_mode": {
    "name": "ipython",
    "version": 3
   },
   "file_extension": ".py",
   "mimetype": "text/x-python",
   "name": "python",
   "nbconvert_exporter": "python",
   "pygments_lexer": "ipython3",
   "version": "3.9.13"
  },
  "widgets": {
   "application/vnd.jupyter.widget-state+json": {
    "state": {},
    "version_major": 2,
    "version_minor": 0
   }
  }
 },
 "nbformat": 4,
 "nbformat_minor": 5
}
