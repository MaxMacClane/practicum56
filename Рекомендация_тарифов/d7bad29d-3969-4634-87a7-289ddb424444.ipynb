{
 "cells": [
  {
   "cell_type": "markdown",
   "metadata": {},
   "source": [
    "# Рекомендация тарифов"
   ]
  },
  {
   "cell_type": "markdown",
   "metadata": {},
   "source": [
    "## Цель\n",
    "Построит модель классификации подбора тарифов, для пользователей \"Мегалайн\" использующих архивные тарифы<br>\n",
    "\n",
    "Постройте модель с максимально большим значением accuracy<br>\n",
    "Минимальная доля правильных ответов 0.75<br>\n",
    "Проверьте accuracy на тестовой выборке самостоятельно<br>"
   ]
  },
  {
   "cell_type": "markdown",
   "metadata": {
    "toc-hr-collapsed": true
   },
   "source": [
    "### Описание данных\n",
    "\n",
    "сalls — количество звонков<br>\n",
    "minutes — суммарная длительность звонков в минутах<br>\n",
    "messages — количество sms-сообщений<br>\n",
    "mb_used — израсходованный интернет-трафик в Мб<br>\n",
    "is_ultra — каким тарифом пользовался в течение месяца («Ультра» — 1, «Смарт» — 0)<br>"
   ]
  },
  {
   "cell_type": "markdown",
   "metadata": {},
   "source": [
    "## Откройте и изучите файл"
   ]
  },
  {
   "cell_type": "code",
   "execution_count": 1,
   "metadata": {},
   "outputs": [],
   "source": [
    "import pandas as pd\n",
    "import numpy as np\n",
    "import seaborn as sns\n",
    "\n",
    "from scipy import stats as st\n",
    "import matplotlib.pyplot as plt\n",
    "# pd.set_option('display.max_rows', None)\n",
    "# pd.set_option('display.max_columns', None)\n",
    "pd.options.mode.chained_assignment = None "
   ]
  },
  {
   "cell_type": "code",
   "execution_count": 2,
   "metadata": {},
   "outputs": [],
   "source": [
    "from sklearn.tree import DecisionTreeClassifier\n",
    "from sklearn.linear_model import LogisticRegression\n",
    "from sklearn.ensemble import RandomForestClassifier\n",
    "from sklearn.linear_model import LinearRegression\n",
    "from sklearn.model_selection import train_test_split\n",
    "from sklearn.metrics import mean_squared_error\n",
    "from sklearn.metrics import accuracy_score \n",
    "from sklearn.preprocessing import StandardScaler"
   ]
  },
  {
   "cell_type": "code",
   "execution_count": 3,
   "metadata": {},
   "outputs": [],
   "source": [
    "try:\n",
    "    data = pd.read_csv('/datasets/users_behavior.csv')\n",
    "except:\n",
    "    data = pd.read_csv('https://code.s3.yandex.net/datasets/users_behavior.csv')"
   ]
  },
  {
   "cell_type": "code",
   "execution_count": 4,
   "metadata": {},
   "outputs": [
    {
     "data": {
      "text/html": [
       "<div>\n",
       "<style scoped>\n",
       "    .dataframe tbody tr th:only-of-type {\n",
       "        vertical-align: middle;\n",
       "    }\n",
       "\n",
       "    .dataframe tbody tr th {\n",
       "        vertical-align: top;\n",
       "    }\n",
       "\n",
       "    .dataframe thead th {\n",
       "        text-align: right;\n",
       "    }\n",
       "</style>\n",
       "<table border=\"1\" class=\"dataframe\">\n",
       "  <thead>\n",
       "    <tr style=\"text-align: right;\">\n",
       "      <th></th>\n",
       "      <th>calls</th>\n",
       "      <th>minutes</th>\n",
       "      <th>messages</th>\n",
       "      <th>mb_used</th>\n",
       "      <th>is_ultra</th>\n",
       "    </tr>\n",
       "  </thead>\n",
       "  <tbody>\n",
       "    <tr>\n",
       "      <th>0</th>\n",
       "      <td>40.0</td>\n",
       "      <td>311.90</td>\n",
       "      <td>83.0</td>\n",
       "      <td>19915.42</td>\n",
       "      <td>0</td>\n",
       "    </tr>\n",
       "    <tr>\n",
       "      <th>1</th>\n",
       "      <td>85.0</td>\n",
       "      <td>516.75</td>\n",
       "      <td>56.0</td>\n",
       "      <td>22696.96</td>\n",
       "      <td>0</td>\n",
       "    </tr>\n",
       "    <tr>\n",
       "      <th>2</th>\n",
       "      <td>77.0</td>\n",
       "      <td>467.66</td>\n",
       "      <td>86.0</td>\n",
       "      <td>21060.45</td>\n",
       "      <td>0</td>\n",
       "    </tr>\n",
       "    <tr>\n",
       "      <th>3</th>\n",
       "      <td>106.0</td>\n",
       "      <td>745.53</td>\n",
       "      <td>81.0</td>\n",
       "      <td>8437.39</td>\n",
       "      <td>1</td>\n",
       "    </tr>\n",
       "    <tr>\n",
       "      <th>4</th>\n",
       "      <td>66.0</td>\n",
       "      <td>418.74</td>\n",
       "      <td>1.0</td>\n",
       "      <td>14502.75</td>\n",
       "      <td>0</td>\n",
       "    </tr>\n",
       "    <tr>\n",
       "      <th>5</th>\n",
       "      <td>58.0</td>\n",
       "      <td>344.56</td>\n",
       "      <td>21.0</td>\n",
       "      <td>15823.37</td>\n",
       "      <td>0</td>\n",
       "    </tr>\n",
       "    <tr>\n",
       "      <th>6</th>\n",
       "      <td>57.0</td>\n",
       "      <td>431.64</td>\n",
       "      <td>20.0</td>\n",
       "      <td>3738.90</td>\n",
       "      <td>1</td>\n",
       "    </tr>\n",
       "    <tr>\n",
       "      <th>7</th>\n",
       "      <td>15.0</td>\n",
       "      <td>132.40</td>\n",
       "      <td>6.0</td>\n",
       "      <td>21911.60</td>\n",
       "      <td>0</td>\n",
       "    </tr>\n",
       "    <tr>\n",
       "      <th>8</th>\n",
       "      <td>7.0</td>\n",
       "      <td>43.39</td>\n",
       "      <td>3.0</td>\n",
       "      <td>2538.67</td>\n",
       "      <td>1</td>\n",
       "    </tr>\n",
       "    <tr>\n",
       "      <th>9</th>\n",
       "      <td>90.0</td>\n",
       "      <td>665.41</td>\n",
       "      <td>38.0</td>\n",
       "      <td>17358.61</td>\n",
       "      <td>0</td>\n",
       "    </tr>\n",
       "  </tbody>\n",
       "</table>\n",
       "</div>"
      ],
      "text/plain": [
       "   calls  minutes  messages   mb_used  is_ultra\n",
       "0   40.0   311.90      83.0  19915.42         0\n",
       "1   85.0   516.75      56.0  22696.96         0\n",
       "2   77.0   467.66      86.0  21060.45         0\n",
       "3  106.0   745.53      81.0   8437.39         1\n",
       "4   66.0   418.74       1.0  14502.75         0\n",
       "5   58.0   344.56      21.0  15823.37         0\n",
       "6   57.0   431.64      20.0   3738.90         1\n",
       "7   15.0   132.40       6.0  21911.60         0\n",
       "8    7.0    43.39       3.0   2538.67         1\n",
       "9   90.0   665.41      38.0  17358.61         0"
      ]
     },
     "metadata": {},
     "output_type": "display_data"
    },
    {
     "name": "stdout",
     "output_type": "stream",
     "text": [
      "#######################################################\n",
      "<class 'pandas.core.frame.DataFrame'>\n",
      "RangeIndex: 3214 entries, 0 to 3213\n",
      "Data columns (total 5 columns):\n",
      " #   Column    Non-Null Count  Dtype  \n",
      "---  ------    --------------  -----  \n",
      " 0   calls     3214 non-null   float64\n",
      " 1   minutes   3214 non-null   float64\n",
      " 2   messages  3214 non-null   float64\n",
      " 3   mb_used   3214 non-null   float64\n",
      " 4   is_ultra  3214 non-null   int64  \n",
      "dtypes: float64(4), int64(1)\n",
      "memory usage: 125.7 KB\n",
      "#######################################################\n"
     ]
    },
    {
     "data": {
      "text/plain": [
       "calls       0\n",
       "minutes     0\n",
       "messages    0\n",
       "mb_used     0\n",
       "is_ultra    0\n",
       "dtype: int64"
      ]
     },
     "metadata": {},
     "output_type": "display_data"
    }
   ],
   "source": [
    "def data_info(data):\n",
    "    display(data.head(10))\n",
    "    print('#' * 55)\n",
    "    data.info()\n",
    "    print('#' * 55)\n",
    "    display(data.isna().sum())\n",
    "    \n",
    "    \n",
    "data_info(data)   "
   ]
  },
  {
   "cell_type": "raw",
   "metadata": {},
   "source": [
    "приведём значение типа данных в столбце звонки и сообщения к целому числу"
   ]
  },
  {
   "cell_type": "code",
   "execution_count": 5,
   "metadata": {},
   "outputs": [],
   "source": [
    "data['calls'] = data['calls'].astype('int32')\n",
    "data['messages'] = data['messages'].astype('int32')"
   ]
  },
  {
   "cell_type": "code",
   "execution_count": 6,
   "metadata": {},
   "outputs": [
    {
     "data": {
      "text/plain": [
       "calls         int32\n",
       "minutes     float64\n",
       "messages      int32\n",
       "mb_used     float64\n",
       "is_ultra      int64\n",
       "dtype: object"
      ]
     },
     "execution_count": 6,
     "metadata": {},
     "output_type": "execute_result"
    }
   ],
   "source": [
    "data.dtypes"
   ]
  },
  {
   "cell_type": "code",
   "execution_count": 7,
   "metadata": {},
   "outputs": [],
   "source": [
    "# остальные столбцы с типом float64 сделаем float32 \n",
    "for i in data.select_dtypes('float64'):\n",
    "    data[i] = data[i].astype('float32')\n"
   ]
  },
  {
   "cell_type": "code",
   "execution_count": 8,
   "metadata": {},
   "outputs": [
    {
     "name": "stdout",
     "output_type": "stream",
     "text": [
      "Тариф \"Ультра\" 30.65%\n",
      "Тариф \"Смарт\" 69.35%\n"
     ]
    }
   ],
   "source": [
    "#посмотрим как распределены тарифы\n",
    "s = data['is_ultra'].value_counts(normalize=True)\n",
    "print('Тариф \"Ультра\" {:,.2%}'.format(s[1])) \n",
    "print('Тариф \"Смарт\" {:,.2%}'.format(s[0])) "
   ]
  },
  {
   "cell_type": "markdown",
   "metadata": {},
   "source": [
    "### Вывод \n",
    "Данные готовы к созданию и обучению модели классификации подбора тарифа<br>\n",
    "Представлены два тарифа<br>\n",
    "Тариф \"Ультра\" 30.65%<br>\n",
    "Тариф \"Смарт\" 69.35%<br>\n",
    "\n"
   ]
  },
  {
   "cell_type": "markdown",
   "metadata": {
    "tags": []
   },
   "source": [
    "## Разбьём данные на выборки"
   ]
  },
  {
   "cell_type": "code",
   "execution_count": 9,
   "metadata": {},
   "outputs": [],
   "source": [
    "features = data.drop('is_ultra', axis=1)\n",
    "target = data['is_ultra']\n",
    "features = StandardScaler().fit_transform(features)\n"
   ]
  },
  {
   "cell_type": "code",
   "execution_count": 10,
   "metadata": {},
   "outputs": [
    {
     "name": "stdout",
     "output_type": "stream",
     "text": [
      "Количество строк в y_train по классам: [1560  689]\n",
      "Количество строк в y_test по классам: [669 296]\n"
     ]
    }
   ],
   "source": [
    "X_train, X_test, y_train, y_test = train_test_split(features, target,\n",
    "                                                    train_size=0.7, \n",
    "                                                    random_state=42,\n",
    "                                                    stratify=target)\n",
    "\n",
    "print(f\"Количество строк в y_train по классам: {np.bincount(y_train)}\")\n",
    "print(f\"Количество строк в y_test по классам: {np.bincount(y_test)}\")"
   ]
  },
  {
   "cell_type": "code",
   "execution_count": 11,
   "metadata": {},
   "outputs": [
    {
     "name": "stdout",
     "output_type": "stream",
     "text": [
      "Количество строк в y_valid по классам: [334 148]\n",
      "Количество строк в y_test по классам: [335 148]\n"
     ]
    }
   ],
   "source": [
    "X_valid, X_test, y_valid, y_test = train_test_split(X_test, y_test,\n",
    "                                                    train_size=0.5, \n",
    "                                                    random_state=42,\n",
    "                                                    stratify=y_test)\n",
    "\n",
    "print(f\"Количество строк в y_valid по классам: {np.bincount(y_valid)}\")\n",
    "print(f\"Количество строк в y_test по классам: {np.bincount(y_test)}\")"
   ]
  },
  {
   "cell_type": "markdown",
   "metadata": {},
   "source": [
    "### Вывод\n",
    "Данные разбиты на три стратифицированные выборки<br>\n",
    "70% от всех данных тренировочная <br>\n",
    "15% валидационная выборка<br>\n",
    "15% тестовая выборка<br>"
   ]
  },
  {
   "cell_type": "markdown",
   "metadata": {},
   "source": [
    "## Исследуйте модели"
   ]
  },
  {
   "cell_type": "code",
   "execution_count": 12,
   "metadata": {},
   "outputs": [],
   "source": [
    "final_result = ({'DecisionTreeClassifier': [],\n",
    "                'RandomForestClassifier': [],\n",
    "                'LogisticRegression': []})\n"
   ]
  },
  {
   "cell_type": "markdown",
   "metadata": {},
   "source": [
    "### DecisionTreeClassifier"
   ]
  },
  {
   "cell_type": "code",
   "execution_count": 13,
   "metadata": {},
   "outputs": [
    {
     "data": {
      "image/png": "[encoded data removed]",
      "text/plain": [
       "<Figure size 500x300 with 1 Axes>"
      ]
     },
     "metadata": {},
     "output_type": "display_data"
    },
    {
     "name": "stdout",
     "output_type": "stream",
     "text": [
      "Лучший результат accuracy_score 80.08%\n",
      "Глубина дерева лучшего результата равна 6\n"
     ]
    }
   ],
   "source": [
    "# модель дерево решений\n",
    "# параметры подобраны в ручную кроме высоты дерева\n",
    "result_list_DT = []\n",
    "best_model_DT = None\n",
    "best_result = 0\n",
    "\n",
    "for depth in range(1, 15):\n",
    "    model =(DecisionTreeClassifier(random_state=12345, max_depth=depth, min_samples_leaf=8,\n",
    "                                   criterion='gini', splitter='best', min_samples_split=8)) # обучим модель с заданной глубиной дерева\n",
    "    model.fit(X_train, y_train) \n",
    "    predictions = model.predict(X_valid) # получили предсказания модели\n",
    "    result = accuracy_score(y_valid, predictions) # посчитали качество модели\n",
    "    result_list_DT.append(result)\n",
    "    if result > best_result:\n",
    "        max_depth = depth\n",
    "        best_model_DT = model\n",
    "        best_result = result\n",
    "\n",
    "final_result['DecisionTreeClassifier'].append(best_result)\n",
    "        \n",
    "sns.set_style(\"darkgrid\")  \n",
    "plt.figure(figsize=(5,3))\n",
    "sns.lineplot(pd.Series(result_list_DT, index=np.arange(1,15))).set(title='DecisionTreeClassifier');\n",
    "plt.scatter(x=[max_depth], y=[best_result], color='green', s=50, marker='o')\n",
    "ax = plt.subplot()\n",
    "ax.set(xlabel='глабина модели', ylabel='качество')\n",
    "plt.show()\n",
    "\n",
    "print(f'Лучший результат accuracy_score {best_result:,.2%}')\n",
    "print(f'Глубина дерева лучшего результата равна {max_depth}')\n"
   ]
  },
  {
   "cell_type": "code",
   "execution_count": null,
   "metadata": {},
   "outputs": [],
   "source": []
  },
  {
   "cell_type": "code",
   "execution_count": 14,
   "metadata": {},
   "outputs": [
    {
     "data": {
      "text/plain": [
       "{'DecisionTreeClassifier': [0.8008298755186722],\n",
       " 'RandomForestClassifier': [],\n",
       " 'LogisticRegression': []}"
      ]
     },
     "execution_count": 14,
     "metadata": {},
     "output_type": "execute_result"
    }
   ],
   "source": [
    "final_result"
   ]
  },
  {
   "cell_type": "markdown",
   "metadata": {},
   "source": [
    "### RandomForestClassifier \n",
    "для подбора гиперпараметров воспользуемся методом RandomizedSearchCV"
   ]
  },
  {
   "cell_type": "code",
   "execution_count": 15,
   "metadata": {},
   "outputs": [],
   "source": [
    "from sklearn.model_selection import RandomizedSearchCV, GridSearchCV"
   ]
  },
  {
   "cell_type": "code",
   "execution_count": 16,
   "metadata": {},
   "outputs": [
    {
     "data": {
      "text/plain": [
       "RandomForestClassifier(criterion='entropy', max_depth=61, max_features='sqrt',\n",
       "                       min_samples_leaf=8, min_samples_split=8,\n",
       "                       n_estimators=120)"
      ]
     },
     "execution_count": 16,
     "metadata": {},
     "output_type": "execute_result"
    }
   ],
   "source": [
    "random_search = {'criterion': ['entropy', 'gini'],\n",
    "               'max_depth': list(np.linspace(2, 120, 3, dtype = int)) + [None],\n",
    "               'max_features': ['auto', 'sqrt','log2', None],\n",
    "               'min_samples_leaf': [4, 6, 8, 12],\n",
    "               'min_samples_split': [5, 8, 10, 14],\n",
    "               'n_estimators': list(np.linspace(5, 120, 5, dtype = int))}\n",
    "\n",
    "clf = RandomForestClassifier();\n",
    "\n",
    "model = RandomizedSearchCV(estimator = clf, param_distributions = random_search, n_iter = 80, \n",
    "                               cv = 4, verbose= 0, random_state= 12345, n_jobs = -1)\n",
    "\n",
    "\n",
    "model.fit(X_train,y_train)\n",
    "model.best_estimator_"
   ]
  },
  {
   "cell_type": "code",
   "execution_count": 17,
   "metadata": {},
   "outputs": [
    {
     "data": {
      "image/png": "[encoded data removed]",
      "text/plain": [
       "<Figure size 500x300 with 2 Axes>"
      ]
     },
     "metadata": {},
     "output_type": "display_data"
    }
   ],
   "source": [
    "table = pd.pivot_table(pd.DataFrame(model.cv_results_),\n",
    "    values='mean_test_score', index='param_n_estimators', \n",
    "                       columns='param_criterion')\n",
    "\n",
    "plt.figure(figsize=(5,3))     \n",
    "sns.heatmap(table).set(title='RandomizedSearchCV');\n"
   ]
  },
  {
   "cell_type": "code",
   "execution_count": 18,
   "metadata": {},
   "outputs": [
    {
     "name": "stdout",
     "output_type": "stream",
     "text": [
      "Результат применения метода RandomForestClassifier 79.668%\n"
     ]
    }
   ],
   "source": [
    "model = (RandomForestClassifier(random_state=12345, max_depth=120, max_features='sqrt', \n",
    "                                min_samples_leaf=8, min_samples_split=5, n_estimators=91, criterion='entropy')) \n",
    "model.fit(X_train,y_train)\n",
    "result = model.score(X_valid, y_valid)\n",
    "print(f'Результат применения метода RandomForestClassifier {result:,.3%}')"
   ]
  },
  {
   "cell_type": "code",
   "execution_count": 19,
   "metadata": {},
   "outputs": [
    {
     "name": "stdout",
     "output_type": "stream",
     "text": [
      "Результат применения метода RandomForestClassifier 79.876%\n"
     ]
    }
   ],
   "source": [
    "model = (RandomForestClassifier(random_state=12345, max_depth=120, max_features='sqrt', \n",
    "                                min_samples_leaf=8, min_samples_split=8, n_estimators=120, criterion='gini')) \n",
    "model.fit(X_train,y_train)\n",
    "result = model.score(X_valid, y_valid)\n",
    "print(f'Результат применения метода RandomForestClassifier {result:,.3%}')"
   ]
  },
  {
   "cell_type": "raw",
   "metadata": {},
   "source": [
    "Результаты подбора параметров методом RandomForestClassifier неудовлетворительные\n",
    "Воспользуемся циклом для определения количества деревьев\n",
    "Остальные параметры возьмем из DecisionTreeClassifier"
   ]
  },
  {
   "cell_type": "code",
   "execution_count": 20,
   "metadata": {
    "tags": []
   },
   "outputs": [],
   "source": [
    "# модель с заданным количеством деревьев\n",
    "# экспериментально было установлено, что после 100 деревьев качество \n",
    "# модели не меняется наглядно демонстрируя закон больших чисел\n",
    "result_list_FD = []\n",
    "best_model_FD = None\n",
    "best_result = 0\n",
    "\n",
    "for est in range(1, 100):\n",
    "    model = (RandomForestClassifier(random_state=12345, n_estimators=est, \n",
    "                                    criterion='gini',  max_depth=6, min_samples_leaf=8, \n",
    "                                    min_samples_split=8)) \n",
    "    model.fit(X_train, y_train) # модель на тренировочной выборке\n",
    "    result = model.score(X_valid, y_valid) # качество модели на валидационной выборке\n",
    "    result_list_FD.append(result)\n",
    "    if result > best_result:\n",
    "        number_est = est\n",
    "        best_model_FD = model   # лучшая модель\n",
    "        best_result = result # наилучшее значение метрики accuracy на валидационных данных\n",
    " \n",
    "final_result['RandomForestClassifier'].append(best_result)"
   ]
  },
  {
   "cell_type": "code",
   "execution_count": 21,
   "metadata": {},
   "outputs": [
    {
     "data": {
      "image/png": "[encoded data removed]",
      "text/plain": [
       "<Figure size 500x300 with 1 Axes>"
      ]
     },
     "metadata": {},
     "output_type": "display_data"
    },
    {
     "name": "stdout",
     "output_type": "stream",
     "text": [
      "Лучший результат accuracy_score 80.71%\n",
      "Лучшее качество модели с количеством деревьев 9\n"
     ]
    }
   ],
   "source": [
    "sns.set_style(\"darkgrid\")  \n",
    "plt.figure(figsize=(5,3))\n",
    "sns.lineplot(pd.Series(result_list_FD, index=np.arange(1,100))).set(title='RandomForestClassifier');\n",
    "plt.scatter(x=[number_est], y=[best_result], color='green', s=50, marker='o')\n",
    "ax = plt.subplot()\n",
    "ax.set(xlabel='количество деревьев', ylabel='качество')\n",
    "plt.show()\n",
    "\n",
    "print(f'Лучший результат accuracy_score {best_result:,.2%}')\n",
    "print(f'Лучшее качество модели с количеством деревьев {number_est}')"
   ]
  },
  {
   "cell_type": "markdown",
   "metadata": {},
   "source": [
    "### LogisticRegression"
   ]
  },
  {
   "cell_type": "code",
   "execution_count": 22,
   "metadata": {},
   "outputs": [
    {
     "name": "stdout",
     "output_type": "stream",
     "text": [
      "LogisticRegression(C=0.4, max_iter=10000, random_state=12345)\n",
      "Лучший результат accuracy_score 73.44%\n"
     ]
    }
   ],
   "source": [
    "param_grid = ({'C':[0.2, 0.4, 0.8, 1.6, 3.2],'solver' : ['lbfgs'], 'max_iter' : [10000]})\n",
    "\n",
    "clf = (GridSearchCV(LogisticRegression(random_state = 12345), param_grid, cv = 5, verbose = 0, n_jobs = -1))\n",
    "\n",
    "best_model = clf.fit(X_train, y_train)\n",
    "print(best_model.best_estimator_)\n",
    "\n",
    "result = best_model.score(X_valid, y_valid)\n",
    "print(f'Лучший результат accuracy_score {result:,.2%}')\n",
    "\n",
    "final_result['LogisticRegression'].append(result)"
   ]
  },
  {
   "cell_type": "code",
   "execution_count": 23,
   "metadata": {},
   "outputs": [
    {
     "name": "stdout",
     "output_type": "stream",
     "text": [
      "Качество модели DecisionTreeClassifier составляет 80.08%\n",
      "Качество модели RandomForestClassifier составляет 80.71%\n",
      "Качество модели LogisticRegression составляет 73.44%\n"
     ]
    }
   ],
   "source": [
    "for i in final_result:\n",
    "    print('Качество модели {} составляет {:,.2%}'.format(i, *final_result[i]))"
   ]
  },
  {
   "cell_type": "code",
   "execution_count": 24,
   "metadata": {},
   "outputs": [
    {
     "data": {
      "image/png": "[encoded data removed]",
      "text/plain": [
       "<Figure size 500x300 with 1 Axes>"
      ]
     },
     "metadata": {},
     "output_type": "display_data"
    }
   ],
   "source": [
    "final_result = pd.DataFrame(final_result)\n",
    "plt.figure(figsize=(5,3));\n",
    "sns.barplot(final_result).set(title='Качество моделей');\n",
    "\n",
    "plt.show()"
   ]
  },
  {
   "cell_type": "markdown",
   "metadata": {},
   "source": [
    "### Вывод\n",
    "Модель классификации RandomForestClassifier показала лучшие показатели с результатом 80.71% <br>\n",
    "и количеством деревьев равное 9<br>\n",
    "\n",
    "Модель DecisionTreeClassifier справилась с с показателем 80.08% <br>\n",
    "и глубиной дерева равной 6<br>\n",
    "\n",
    "LogisticRegression показала худший результат с показателем 73.44% <br>"
   ]
  },
  {
   "cell_type": "markdown",
   "metadata": {},
   "source": [
    "## Проверьте модель на тестовой выборке"
   ]
  },
  {
   "cell_type": "code",
   "execution_count": 25,
   "metadata": {},
   "outputs": [
    {
     "name": "stdout",
     "output_type": "stream",
     "text": [
      "Качество модели DecisionTreeClassifier равно 80.95%\n",
      "Качество модели RandomForestClassifier равно 82.82%\n",
      "Качество модели LogisticRegression равно 74.95%\n"
     ]
    }
   ],
   "source": [
    "result_DT = best_model_DT.score(X_test, y_test)# DecisionTreeClassifier \n",
    "result_FD = best_model_FD.score(X_test, y_test) # RandomForestClassifier\n",
    "result = best_model.score(X_test, y_test) # LogisticRegression\n",
    "\n",
    "\n",
    "print(f'Качество модели DecisionTreeClassifier равно {result_DT:,.2%}')\n",
    "print(f'Качество модели RandomForestClassifier равно {result_FD:,.2%}')\n",
    "print(f'Качество модели LogisticRegression равно {result:,.2%}')"
   ]
  },
  {
   "cell_type": "markdown",
   "metadata": {},
   "source": [
    "### Вывод\n",
    "Проверка моделей на тестовой выборке показала результат немного лучше, чем на <br>\n",
    "валидационной выборке<br>"
   ]
  },
  {
   "cell_type": "markdown",
   "metadata": {
    "toc-hr-collapsed": true
   },
   "source": [
    "## (бонус) Проверьте модели на адекватность"
   ]
  },
  {
   "cell_type": "code",
   "execution_count": 26,
   "metadata": {},
   "outputs": [
    {
     "name": "stdout",
     "output_type": "stream",
     "text": [
      "Вероятность случайного правельного ответа равна 47.41%\n"
     ]
    }
   ],
   "source": [
    "import random\n",
    "\n",
    "random_predictions = np.random.randint(low = 0, high = 2, size = len(X_test)) \n",
    "bonus_result = accuracy_score(y_test, random_predictions)\n",
    "bonus_result\n",
    "\n",
    "print(f'Вероятность случайного правельного ответа равна {bonus_result:,.2%}')"
   ]
  },
  {
   "cell_type": "markdown",
   "metadata": {},
   "source": [
    "### Вывод\n",
    "Все модели классификации обученные нами показали результат, значительно, выше случайного<br>\n",
    "Подтвердив свою адекватность <br>"
   ]
  },
  {
   "cell_type": "markdown",
   "metadata": {},
   "source": [
    "## Вывод финал\n",
    "\n",
    "Цель достигнута <br>\n",
    "Модель построеная с использованием RandomForestClassifier \"best_model_FD\" рекомендуем <br>\n",
    "Для использования при классификации пользователей \"Мегалайн\" и рекомендации новых <br>\n",
    "Тарифов «Ультра» и «Смарт» <br>\n",
    "Точность модели 82.82%<br>"
   ]
  },
  {
   "cell_type": "markdown",
   "metadata": {},
   "source": [
    "## Чек-лист готовности проекта"
   ]
  },
  {
   "cell_type": "markdown",
   "metadata": {},
   "source": [
    "Поставьте 'x' в выполненных пунктах. Далее нажмите Shift+Enter."
   ]
  },
  {
   "cell_type": "markdown",
   "metadata": {},
   "source": [
    "- [x] Jupyter Notebook открыт\n",
    "- [x] Весь код исполняется без ошибок\n",
    "- [x] Ячейки с кодом расположены в порядке исполнения\n",
    "- [x] Выполнено задание 1: данные загружены и изучены\n",
    "- [x] Выполнено задание 2: данные разбиты на три выборки\n",
    "- [x] Выполнено задание 3: проведено исследование моделей\n",
    "    - [x] Рассмотрено больше одной модели\n",
    "    - [x] Рассмотрено хотя бы 3 значения гипепараметров для какой-нибудь модели\n",
    "    - [x] Написаны выводы по результатам исследования\n",
    "- [x] Выполнено задание 3: Проведено тестирование\n",
    "- [x] Удалось достичь accuracy не меньше 0.75\n"
   ]
  },
  {
   "cell_type": "code",
   "execution_count": null,
   "metadata": {},
   "outputs": [],
   "source": []
  }
 ],
 "metadata": {
  "kernelspec": {
   "display_name": "Python 3 (ipykernel)",
   "language": "python",
   "name": "python3"
  },
  "language_info": {
   "codemirror_mode": {
    "name": "ipython",
    "version": 3
   },
   "file_extension": ".py",
   "mimetype": "text/x-python",
   "name": "python",
   "nbconvert_exporter": "python",
   "pygments_lexer": "ipython3",
   "version": "3.9.13"
  },
  "toc": {
   "base_numbering": 1,
   "nav_menu": {},
   "number_sections": true,
   "sideBar": true,
   "skip_h1_title": true,
   "title_cell": "Table of Contents",
   "title_sidebar": "Contents",
   "toc_cell": false,
   "toc_position": {},
   "toc_section_display": true,
   "toc_window_display": false
  },
  "widgets": {
   "application/vnd.jupyter.widget-state+json": {
    "state": {},
    "version_major": 2,
    "version_minor": 0
   }
  }
 },
 "nbformat": 4,
 "nbformat_minor": 4
}
