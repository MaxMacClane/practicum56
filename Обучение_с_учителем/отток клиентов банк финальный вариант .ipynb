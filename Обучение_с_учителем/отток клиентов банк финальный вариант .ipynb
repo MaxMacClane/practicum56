{
 "cells": [
  {
   "cell_type": "markdown",
   "metadata": {},
   "source": [
    "<div style=\"background: #C0C0C0; padding: 5px; border: 1px solid black; border-radius: 5px;\">\n",
    "    <font color='black'><u><b>КОММЕНТАРИЙ РЕВЬЮЕРА</b></u></font><br />\n",
    "    <br />\n",
    "    Привет, Максим! Меня зовут Кирилл Киселев.<br />\n",
    "        На этом проекте я буду ревьюером. Предлагаю общаться на \"ты\". Если так будет неудобно, пожалуйста, дай знать.<br />\n",
    "        <br />\n",
    "        Моя цель - помочь тебе освоиться в новой профессии и научиться применять полученные знания максимально эффективно. Не стесняйся спрашивать, если что-то непонятно. Вместе проще разобраться с любыми вопросами.<br />\n",
    "        <br />\n",
    "В проекте тебе встретятся мои комментарии к коду и выводам. Пожалуйста, не удаляй их, так будет удобнее вести общение.<br />\n",
    "        Ниже приведены примеры оформления моих комментариев:<br />\n",
    "</div>\n",
    "<div class=\"alert alert-success\" style=\"border-color: green; border-radius: 5px\">\n",
    "    <p><u><b>✅ КОММЕНТАРИЙ РЕВЬЮЕРА</b></u></p>\n",
    "    <p>Таким образом оформляется комментарий, означающий что пункт выполнен без ошибок.</p>\n",
    "</div>\n",
    "<div class=\"alert alert-warning\" style=\"border-color: orange; border-radius: 5px\">\n",
    "    <p><u><b>⚠️ КОММЕНТАРИЙ РЕВЬЮЕРА</b></u></p>\n",
    "    <p>Таким образом оформляется комментарий, означающий что в пункте есть некритичные недочеты.</p>\n",
    "</div>\n",
    "<div class=\"alert alert-danger\" style=\"border-color: #8B0000; border-radius: 5px\">\n",
    "    <p><u><b>❌ КОММЕНТАРИЙ РЕВЬЮЕРА</b></u></p>\n",
    "    <p>Таким образом оформляется комментарий, означающий что в пункте есть критичные недочеты, требующие исправления.</p>\n",
    "</div>\n",
    "<div class=\"alert alert-info\" style=\"border-color: #0080FF; border-radius: 5px\">\n",
    "    <p><u><b>КОММЕНТАРИЙ СТУДЕНТА</b></u></p>\n",
    "    <p>Буду очень признателен, если ты тоже оформишь свои комментарии и вопросы ко мне с прменением цветовой разметки. Например, так.</p>     \n",
    "</div>"
   ]
  },
  {
   "cell_type": "markdown",
   "metadata": {
    "toc": true
   },
   "source": [
    "<h1>Содержание<span class=\"tocSkip\"></span></h1>\n",
    "<div class=\"toc\"><ul class=\"toc-item\"><li><span><a href=\"#Цель\" data-toc-modified-id=\"Цель-1\"><span class=\"toc-item-num\">1&nbsp;&nbsp;</span>Цель</a></span></li><li><span><a href=\"#Описание\" data-toc-modified-id=\"Описание-2\"><span class=\"toc-item-num\">2&nbsp;&nbsp;</span>Описание</a></span></li><li><span><a href=\"#Описание-признаков\" data-toc-modified-id=\"Описание-признаков-3\"><span class=\"toc-item-num\">3&nbsp;&nbsp;</span>Описание признаков</a></span></li><li><span><a href=\"#Подготовка-данных\" data-toc-modified-id=\"Подготовка-данных-4\"><span class=\"toc-item-num\">4&nbsp;&nbsp;</span>Подготовка данных</a></span></li><li><span><a href=\"#Цель\" data-toc-modified-id=\"Цель-5\"><span class=\"toc-item-num\">5&nbsp;&nbsp;</span>Цель</a></span></li><li><span><a href=\"#Описание\" data-toc-modified-id=\"Описание-6\"><span class=\"toc-item-num\">6&nbsp;&nbsp;</span>Описание</a></span></li><li><span><a href=\"#Описание-признаков\" data-toc-modified-id=\"Описание-признаков-7\"><span class=\"toc-item-num\">7&nbsp;&nbsp;</span>Описание признаков</a></span></li><li><span><a href=\"#Подготовка-данных\" data-toc-modified-id=\"Подготовка-данных-8\"><span class=\"toc-item-num\">8&nbsp;&nbsp;</span>Подготовка данных</a></span><ul class=\"toc-item\"><li><span><a href=\"#Вывод-подготовка-данных\" data-toc-modified-id=\"Вывод-подготовка-данных-8.1\"><span class=\"toc-item-num\">8.1&nbsp;&nbsp;</span>Вывод подготовка данных</a></span></li></ul></li><li><span><a href=\"#Исследование-задачи\" data-toc-modified-id=\"Исследование-задачи-9\"><span class=\"toc-item-num\">9&nbsp;&nbsp;</span>Исследование задачи</a></span><ul class=\"toc-item\"><li><span><a href=\"#Вывод\" data-toc-modified-id=\"Вывод-9.1\"><span class=\"toc-item-num\">9.1&nbsp;&nbsp;</span>Вывод</a></span></li></ul></li><li><span><a href=\"#Борьба-с-дисбалансом\" data-toc-modified-id=\"Борьба-с-дисбалансом-10\"><span class=\"toc-item-num\">10&nbsp;&nbsp;</span>Борьба с дисбалансом</a></span><ul class=\"toc-item\"><li><span><a href=\"#Вывод\" data-toc-modified-id=\"Вывод-10.1\"><span class=\"toc-item-num\">10.1&nbsp;&nbsp;</span>Вывод</a></span></li></ul></li><li><span><a href=\"#Тестирование-модели\" data-toc-modified-id=\"Тестирование-модели-11\"><span class=\"toc-item-num\">11&nbsp;&nbsp;</span>Тестирование модели</a></span><ul class=\"toc-item\"><li><span><a href=\"#Вывод\" data-toc-modified-id=\"Вывод-11.1\"><span class=\"toc-item-num\">11.1&nbsp;&nbsp;</span>Вывод</a></span></li></ul></li><li><span><a href=\"#Вывод\" data-toc-modified-id=\"Вывод-12\"><span class=\"toc-item-num\">12&nbsp;&nbsp;</span>Вывод</a></span></li><li><span><a href=\"#Чек-лист-готовности-проекта\" data-toc-modified-id=\"Чек-лист-готовности-проекта-13\"><span class=\"toc-item-num\">13&nbsp;&nbsp;</span>Чек-лист готовности проекта</a></span></li><li><span><a href=\"#Финальные-комментарии-ревьюера\" data-toc-modified-id=\"Финальные-комментарии-ревьюера-14\"><span class=\"toc-item-num\">14&nbsp;&nbsp;</span>Финальные комментарии ревьюера</a></span><ul class=\"toc-item\"><li><span><a href=\"#Вывод-подготовка-данных\" data-toc-modified-id=\"Вывод-подготовка-данных-14.1\"><span class=\"toc-item-num\">14.1&nbsp;&nbsp;</span>Вывод подготовка данных</a></span></li></ul></li><li><span><a href=\"#Исследование-задачи\" data-toc-modified-id=\"Исследование-задачи-15\"><span class=\"toc-item-num\">15&nbsp;&nbsp;</span>Исследование задачи</a></span></li><li><span><a href=\"#Цель\" data-toc-modified-id=\"Цель-16\"><span class=\"toc-item-num\">16&nbsp;&nbsp;</span>Цель</a></span></li><li><span><a href=\"#Описание\" data-toc-modified-id=\"Описание-17\"><span class=\"toc-item-num\">17&nbsp;&nbsp;</span>Описание</a></span></li><li><span><a href=\"#Описание-признаков\" data-toc-modified-id=\"Описание-признаков-18\"><span class=\"toc-item-num\">18&nbsp;&nbsp;</span>Описание признаков</a></span></li><li><span><a href=\"#Подготовка-данных\" data-toc-modified-id=\"Подготовка-данных-19\"><span class=\"toc-item-num\">19&nbsp;&nbsp;</span>Подготовка данных</a></span></li><li><span><a href=\"#Цель\" data-toc-modified-id=\"Цель-20\"><span class=\"toc-item-num\">20&nbsp;&nbsp;</span>Цель</a></span></li><li><span><a href=\"#Описание\" data-toc-modified-id=\"Описание-21\"><span class=\"toc-item-num\">21&nbsp;&nbsp;</span>Описание</a></span></li><li><span><a href=\"#Описание-признаков\" data-toc-modified-id=\"Описание-признаков-22\"><span class=\"toc-item-num\">22&nbsp;&nbsp;</span>Описание признаков</a></span></li><li><span><a href=\"#Подготовка-данных\" data-toc-modified-id=\"Подготовка-данных-23\"><span class=\"toc-item-num\">23&nbsp;&nbsp;</span>Подготовка данных</a></span><ul class=\"toc-item\"><li><span><a href=\"#Вывод-подготовка-данных\" data-toc-modified-id=\"Вывод-подготовка-данных-23.1\"><span class=\"toc-item-num\">23.1&nbsp;&nbsp;</span>Вывод подготовка данных</a></span></li></ul></li><li><span><a href=\"#Исследование-задачи\" data-toc-modified-id=\"Исследование-задачи-24\"><span class=\"toc-item-num\">24&nbsp;&nbsp;</span>Исследование задачи</a></span><ul class=\"toc-item\"><li><span><a href=\"#Вывод\" data-toc-modified-id=\"Вывод-24.1\"><span class=\"toc-item-num\">24.1&nbsp;&nbsp;</span>Вывод</a></span></li></ul></li><li><span><a href=\"#Борьба-с-дисбалансом\" data-toc-modified-id=\"Борьба-с-дисбалансом-25\"><span class=\"toc-item-num\">25&nbsp;&nbsp;</span>Борьба с дисбалансом</a></span><ul class=\"toc-item\"><li><span><a href=\"#Вывод\" data-toc-modified-id=\"Вывод-25.1\"><span class=\"toc-item-num\">25.1&nbsp;&nbsp;</span>Вывод</a></span></li></ul></li><li><span><a href=\"#Тестирование-модели\" data-toc-modified-id=\"Тестирование-модели-26\"><span class=\"toc-item-num\">26&nbsp;&nbsp;</span>Тестирование модели</a></span><ul class=\"toc-item\"><li><span><a href=\"#Вывод\" data-toc-modified-id=\"Вывод-26.1\"><span class=\"toc-item-num\">26.1&nbsp;&nbsp;</span>Вывод</a></span></li></ul></li><li><span><a href=\"#Вывод\" data-toc-modified-id=\"Вывод-27\"><span class=\"toc-item-num\">27&nbsp;&nbsp;</span>Вывод</a></span></li><li><span><a href=\"#Чек-лист-готовности-проекта\" data-toc-modified-id=\"Чек-лист-готовности-проекта-28\"><span class=\"toc-item-num\">28&nbsp;&nbsp;</span>Чек-лист готовности проекта</a></span></li><li><span><a href=\"#Финальные-комментарии-ревьюера\" data-toc-modified-id=\"Финальные-комментарии-ревьюера-29\"><span class=\"toc-item-num\">29&nbsp;&nbsp;</span>Финальные комментарии ревьюера</a></span><ul class=\"toc-item\"><li><span><a href=\"#Вывод-подготовка-данных\" data-toc-modified-id=\"Вывод-подготовка-данных-29.1\"><span class=\"toc-item-num\">29.1&nbsp;&nbsp;</span>Вывод подготовка данных</a></span></li></ul></li><li><span><a href=\"#Исследование-задачи\" data-toc-modified-id=\"Исследование-задачи-30\"><span class=\"toc-item-num\">30&nbsp;&nbsp;</span>Исследование задачи</a></span><ul class=\"toc-item\"><li><span><a href=\"#Вывод\" data-toc-modified-id=\"Вывод-30.1\"><span class=\"toc-item-num\">30.1&nbsp;&nbsp;</span>Вывод</a></span></li></ul></li><li><span><a href=\"#Борьба-с-дисбалансом\" data-toc-modified-id=\"Борьба-с-дисбалансом-31\"><span class=\"toc-item-num\">31&nbsp;&nbsp;</span>Борьба с дисбалансом</a></span><ul class=\"toc-item\"><li><span><a href=\"#Вывод\" data-toc-modified-id=\"Вывод-31.1\"><span class=\"toc-item-num\">31.1&nbsp;&nbsp;</span>Вывод</a></span></li></ul></li><li><span><a href=\"#Тестирование-модели\" data-toc-modified-id=\"Тестирование-модели-32\"><span class=\"toc-item-num\">32&nbsp;&nbsp;</span>Тестирование модели</a></span><ul class=\"toc-item\"><li><span><a href=\"#Вывод\" data-toc-modified-id=\"Вывод-32.1\"><span class=\"toc-item-num\">32.1&nbsp;&nbsp;</span>Вывод</a></span></li></ul></li><li><span><a href=\"#Вывод\" data-toc-modified-id=\"Вывод-33\"><span class=\"toc-item-num\">33&nbsp;&nbsp;</span>Вывод</a></span></li><li><span><a href=\"#Чек-лист-готовности-проекта\" data-toc-modified-id=\"Чек-лист-готовности-проекта-34\"><span class=\"toc-item-num\">34&nbsp;&nbsp;</span>Чек-лист готовности проекта</a></span></li><li><span><a href=\"#Финальные-комментарии-ревьюера\" data-toc-modified-id=\"Финальные-комментарии-ревьюера-35\"><span class=\"toc-item-num\">35&nbsp;&nbsp;</span>Финальные комментарии ревьюера</a></span><ul class=\"toc-item\"><li><span><a href=\"#Вывод\" data-toc-modified-id=\"Вывод-35.1\"><span class=\"toc-item-num\">35.1&nbsp;&nbsp;</span>Вывод</a></span></li></ul></li><li><span><a href=\"#Борьба-с-дисбалансом\" data-toc-modified-id=\"Борьба-с-дисбалансом-36\"><span class=\"toc-item-num\">36&nbsp;&nbsp;</span>Борьба с дисбалансом</a></span><ul class=\"toc-item\"><li><span><a href=\"#Вывод\" data-toc-modified-id=\"Вывод-36.1\"><span class=\"toc-item-num\">36.1&nbsp;&nbsp;</span>Вывод</a></span></li></ul></li><li><span><a href=\"#Тестирование-модели\" data-toc-modified-id=\"Тестирование-модели-37\"><span class=\"toc-item-num\">37&nbsp;&nbsp;</span>Тестирование модели</a></span><ul class=\"toc-item\"><li><span><a href=\"#Вывод\" data-toc-modified-id=\"Вывод-37.1\"><span class=\"toc-item-num\">37.1&nbsp;&nbsp;</span>Вывод</a></span></li></ul></li><li><span><a href=\"#Вывод\" data-toc-modified-id=\"Вывод-38\"><span class=\"toc-item-num\">38&nbsp;&nbsp;</span>Вывод</a></span></li><li><span><a href=\"#Чек-лист-готовности-проекта\" data-toc-modified-id=\"Чек-лист-готовности-проекта-39\"><span class=\"toc-item-num\">39&nbsp;&nbsp;</span>Чек-лист готовности проекта</a></span></li><li><span><a href=\"#Финальные-комментарии-ревьюера\" data-toc-modified-id=\"Финальные-комментарии-ревьюера-40\"><span class=\"toc-item-num\">40&nbsp;&nbsp;</span>Финальные комментарии ревьюера</a></span></li></ul></div>"
   ]
  },
  {
   "cell_type": "code",
   "execution_count": null,
   "metadata": {},
   "outputs": [],
   "source": []
  },
  {
   "cell_type": "markdown",
   "metadata": {},
   "source": [
    "<div style=\"background: #2A57DB; padding: 20px; border: 1px solid SteelBlue; border-radius: 5px;\">\n",
    "    <font color='#F3F5F2'><u><b></b></u></font>\n",
    "    <font color='#F3F5F2'>Привет Кирилл<br>\n",
    "        Поправил отмеченные замечания <br>\n",
    "        Теперь проект нравится мне больше<br>\n",
    "        Он стал лаконичнее и точнее<br><br>Жду твои комментарии и проверку)\n",
    "       \n",
    "</font>\n",
    "</div>"
   ]
  },
  {
   "cell_type": "markdown",
   "metadata": {},
   "source": [
    "<div class=\"alert alert-success\" style=\"border-color: green; border-radius: 5px\">\n",
    "    <p><u><b>✅ КОММЕНТАРИЙ РЕВЬЮЕРА v.2</b></u></p>\n",
    "    <p>Привет-привет! Отлично. Пойдем проверять.</p>\n",
    "</div>"
   ]
  },
  {
   "cell_type": "markdown",
   "metadata": {
    "toc": true
   },
   "source": [
    "<h1>Содержание<span class=\"tocSkip\"></span></h1>\n",
    "<div class=\"toc\"><ul class=\"toc-item\"><li><span><a href=\"#Цель\" data-toc-modified-id=\"Цель-1\"><span class=\"toc-item-num\">1&nbsp;&nbsp;</span>Цель</a></span></li><li><span><a href=\"#Описание\" data-toc-modified-id=\"Описание-2\"><span class=\"toc-item-num\">2&nbsp;&nbsp;</span>Описание</a></span></li><li><span><a href=\"#Описание-признаков\" data-toc-modified-id=\"Описание-признаков-3\"><span class=\"toc-item-num\">3&nbsp;&nbsp;</span>Описание признаков</a></span></li><li><span><a href=\"#Подготовка-данных\" data-toc-modified-id=\"Подготовка-данных-4\"><span class=\"toc-item-num\">4&nbsp;&nbsp;</span>Подготовка данных</a></span><ul class=\"toc-item\"><li><span><a href=\"#Вывод-подготовка-данных\" data-toc-modified-id=\"Вывод-подготовка-данных-4.1\"><span class=\"toc-item-num\">4.1&nbsp;&nbsp;</span>Вывод подготовка данных</a></span></li></ul></li><li><span><a href=\"#Исследование-задачи\" data-toc-modified-id=\"Исследование-задачи-5\"><span class=\"toc-item-num\">5&nbsp;&nbsp;</span>Исследование задачи</a></span><ul class=\"toc-item\"><li><span><a href=\"#Вывод\" data-toc-modified-id=\"Вывод-5.1\"><span class=\"toc-item-num\">5.1&nbsp;&nbsp;</span>Вывод</a></span></li></ul></li><li><span><a href=\"#Борьба-с-дисбалансом\" data-toc-modified-id=\"Борьба-с-дисбалансом-6\"><span class=\"toc-item-num\">6&nbsp;&nbsp;</span>Борьба с дисбалансом</a></span><ul class=\"toc-item\"><li><span><a href=\"#Вывод\" data-toc-modified-id=\"Вывод-6.1\"><span class=\"toc-item-num\">6.1&nbsp;&nbsp;</span>Вывод</a></span></li></ul></li><li><span><a href=\"#Тестирование-модели\" data-toc-modified-id=\"Тестирование-модели-7\"><span class=\"toc-item-num\">7&nbsp;&nbsp;</span>Тестирование модели</a></span><ul class=\"toc-item\"><li><span><a href=\"#Вывод\" data-toc-modified-id=\"Вывод-7.1\"><span class=\"toc-item-num\">7.1&nbsp;&nbsp;</span>Вывод</a></span></li></ul></li><li><span><a href=\"#Вывод\" data-toc-modified-id=\"Вывод-8\"><span class=\"toc-item-num\">8&nbsp;&nbsp;</span>Вывод</a></span></li><li><span><a href=\"#Чек-лист-готовности-проекта\" data-toc-modified-id=\"Чек-лист-готовности-проекта-9\"><span class=\"toc-item-num\">9&nbsp;&nbsp;</span>Чек-лист готовности проекта</a></span></li><li><span><a href=\"#Финальные-комментарии-ревьюера\" data-toc-modified-id=\"Финальные-комментарии-ревьюера-10\"><span class=\"toc-item-num\">10&nbsp;&nbsp;</span>Финальные комментарии ревьюера</a></span></li></ul></div>"
   ]
  },
  {
   "cell_type": "markdown",
   "metadata": {
    "tags": []
   },
   "source": [
    "# Отток клиентов\n",
    "Заказчик \"Бета-Банк\""
   ]
  },
  {
   "cell_type": "markdown",
   "metadata": {},
   "source": [
    "## Цель\n",
    "По имеющимся данным, клиентов банка, построить модель классификации прогнозирующую <br>\n",
    "Уйдёт клиент или останется в банке"
   ]
  },
  {
   "cell_type": "markdown",
   "metadata": {},
   "source": [
    "## Описание\n",
    "Из «Бета-Банка» стали уходить клиенты. Каждый месяц. Немного, но заметно. Банковские маркетологи посчитали: сохранять текущих клиентов дешевле, чем привлекать новых.\n",
    "\n",
    "Нужно спрогнозировать, уйдёт клиент из банка в ближайшее время или нет. Вам предоставлены исторические данные о поведении клиентов и расторжении договоров с банком. \n",
    "\n",
    "Постройте модель с предельно большим значением *F1*-меры. Чтобы сдать проект успешно, нужно довести метрику до 0.59. Проверьте *F1*-меру на тестовой выборке самостоятельно.\n",
    "\n",
    "Дополнительно измеряйте *AUC-ROC*, сравнивайте её значение с *F1*-мерой.\n",
    "\n",
    "Источник данных: [https://www.kaggle.com/barelydedicated/bank-customer-churn-modeling](https://www.kaggle.com/barelydedicated/bank-customer-churn-modeling)"
   ]
  },
  {
   "cell_type": "markdown",
   "metadata": {},
   "source": [
    "## Описание признаков\n",
    "- RowNumber — индекс строки в данных<br>\n",
    "- CustomerId — уникальный идентификатор клиента<br>\n",
    "- Surname — фамилия<br>\n",
    "- CreditScore — кредитный рейтинг<br>\n",
    "- Geography — страна проживания<br>\n",
    "- Gender — пол<br>\n",
    "- Age — возраст<br>\n",
    "- Tenure — сколько лет человек является клиентом банка<br>\n",
    "- Balance — баланс на счёте<br>\n",
    "- NumOfProducts — количество продуктов банка, используемых клиентом<br>\n",
    "- HasCrCard — наличие кредитной карты<br>\n",
    "- IsActiveMember — активность клиента<br>\n",
    "- EstimatedSalary — предполагаемая зарплата<br>\n",
    "***Целевой признак***<br>\n",
    "- Exited — факт ухода клиента<br>"
   ]
  },
  {
   "cell_type": "markdown",
   "metadata": {},
   "source": [
    "<div class=\"alert alert-success\" style=\"border-color: green; border-radius: 5px\">\n",
    "    <p><u><b>✅ КОММЕНТАРИЙ РЕВЬЮЕРА v.1</b></u></p>\n",
    "    <p>Содержание и формулировка задачи на месте. Это важный структурный компанент проекта. Отлично!</p>\n",
    "</div>"
   ]
  },
  {
   "cell_type": "markdown",
   "metadata": {},
   "source": [
    "## Подготовка данных"
   ]
  },
  {
   "cell_type": "code",
   "execution_count": 1,
   "metadata": {},
   "outputs": [],
   "source": [
    "import pandas as pd\n",
    "import numpy as np\n",
    "import seaborn as sns\n",
    "import random\n",
    "from scipy import stats as st\n",
    "import matplotlib.pyplot as plt\n",
    "\n",
    "# pd.set_option('display.max_rows', None)\n",
    "# pd.set_option('display.max_columns', None)\n",
    "pd.options.mode.chained_assignment = None\n",
    "import warnings\n",
    "\n",
    "warnings.simplefilter(action='ignore', category=FutureWarning)"
   ]
  },
  {
   "cell_type": "code",
   "execution_count": 2,
   "metadata": {},
   "outputs": [],
   "source": [
    "from sklearn.tree import DecisionTreeClassifier\n",
    "from sklearn.linear_model import LogisticRegression\n",
    "from sklearn.ensemble import RandomForestClassifier\n",
    "from sklearn.linear_model import LinearRegression\n",
    "from sklearn.model_selection import train_test_split\n",
    "from sklearn.metrics import mean_squared_error\n",
    "from sklearn.metrics import accuracy_score, precision_recall_curve\n",
    "from sklearn.preprocessing import StandardScaler, LabelEncoder, OneHotEncoder\n",
    "from sklearn.model_selection import RandomizedSearchCV, GridSearchCV\n",
    "from sklearn.dummy import DummyClassifier\n",
    "from sklearn.metrics import f1_score, roc_auc_score, roc_curve, precision_score, recall_score\n",
    "from sklearn.utils import shuffle"
   ]
  },
  {
   "cell_type": "markdown",
   "metadata": {},
   "source": [
    "<div class=\"alert alert-success\" style=\"border-color: green; border-radius: 5px\">\n",
    "    <p><u><b>✅ КОММЕНТАРИЙ РЕВЬЮЕРА v.1</b></u></p>\n",
    "    <p>Хорошо, что импортируешь нужные библиотеки на первом этапе. Так те, кто будет запускать твой проект в будущем сразу будут знать, какие библиотеки необходимо установить.</p>\n",
    "</div>"
   ]
  },
  {
   "cell_type": "code",
   "execution_count": 3,
   "metadata": {},
   "outputs": [],
   "source": [
    "try:\n",
    "    data = pd.read_csv('/datasets/Churn.csv', index_col='RowNumber')\n",
    "except:\n",
    "    data = pd.read_csv('https://code.s3.yandex.net/datasets/Churn.csv', index_col='RowNumber')"
   ]
  },
  {
   "cell_type": "markdown",
   "metadata": {},
   "source": [
    "def data_info(data):\n",
    "    display(data.head(5))\n",
    "    print('#' * 55)\n",
    "    data.info()\n",
    "    print('#' * 55)\n",
    "    exam = data.isna().sum() > 0\n",
    "    exam = data.isna().sum()[exam]\n",
    "    print(f'Пропуски в признаках', '\\n', '\\n', exam)\n",
    "    print('#' * 55)\n",
    "    display(data.describe().T)\n",
    "\n",
    "\n",
    "data_info(data)  #%% md < div\n",
    "style = \"background: #C0C0C0; padding: 5px; border: 1px solid black; border-radius: 5px;\" > < font\n",
    "color = 'black' > < u > < b > КОММЕНТАРИЙ\n",
    "РЕВЬЮЕРА </ b > < / u > < / font > < br / > < br / >\n",
    "Привет, Максим! Меня зовут Кирилл Киселев.< br / >\n",
    "На\n",
    "этом\n",
    "проекте\n",
    "я\n",
    "буду\n",
    "ревьюером.Предлагаю\n",
    "общаться\n",
    "на\n",
    "\"ты\".Если\n",
    "так\n",
    "будет\n",
    "неудобно, пожалуйста, дай\n",
    "знать. < br / > < br / >\n",
    "Моя\n",
    "цель - помочь\n",
    "тебе\n",
    "освоиться\n",
    "в\n",
    "новой\n",
    "профессии\n",
    "и\n",
    "научиться\n",
    "применять\n",
    "полученные\n",
    "знания\n",
    "максимально\n",
    "эффективно.Не\n",
    "стесняйся\n",
    "спрашивать, если\n",
    "что - то\n",
    "непонятно.Вместе\n",
    "проще\n",
    "разобраться\n",
    "с\n",
    "любыми\n",
    "вопросами. < br / > < br / >\n",
    "В\n",
    "проекте\n",
    "тебе\n",
    "встретятся\n",
    "мои\n",
    "комментарии\n",
    "к\n",
    "коду\n",
    "и\n",
    "выводам.Пожалуйста, не\n",
    "удаляй\n",
    "их, так\n",
    "будет\n",
    "удобнее\n",
    "вести\n",
    "общение. < br / >\n",
    "Ниже\n",
    "приведены\n",
    "примеры\n",
    "оформления\n",
    "моих\n",
    "комментариев: < br / > < / div > < div\n",
    "\n",
    "\n",
    "class =\"alert alert-success\" style=\"border-color: green; border-radius: 5px\" >\n",
    "\n",
    "< p > < u > < b >✅ КОММЕНТАРИЙ\n",
    "РЕВЬЮЕРА </ b > < / u > < / p > < p > Таким\n",
    "образом\n",
    "оформляется\n",
    "комментарий, означающий\n",
    "что\n",
    "пункт\n",
    "выполнен\n",
    "без\n",
    "ошибок. </ p > < / div > < div\n",
    "\n",
    "\n",
    "class =\"alert alert-warning\" style=\"border-color: orange; border-radius: 5px\" >\n",
    "\n",
    "< p > < u > < b >⚠️\n",
    "КОММЕНТАРИЙ\n",
    "РЕВЬЮЕРА </ b > < / u > < / p > < p > Таким\n",
    "образом\n",
    "оформляется\n",
    "комментарий, означающий\n",
    "что\n",
    "в\n",
    "пункте\n",
    "есть\n",
    "некритичные\n",
    "недочеты. </ p > < / div > < div\n",
    "\n",
    "\n",
    "class =\"alert alert-danger\" style=\"border-color: #8B0000; border-radius: 5px\" >\n",
    "\n",
    "< p > < u > < b >❌ КОММЕНТАРИЙ\n",
    "РЕВЬЮЕРА </ b > < / u > < / p > < p > Таким\n",
    "образом\n",
    "оформляется\n",
    "комментарий, означающий\n",
    "что\n",
    "в\n",
    "пункте\n",
    "есть\n",
    "критичные\n",
    "недочеты, требующие\n",
    "исправления. </ p > < / div > < div\n",
    "\n",
    "\n",
    "class =\"alert alert-info\" style=\"border-color: #0080FF; border-radius: 5px\" >\n",
    "\n",
    "< p > < u > < b > КОММЕНТАРИЙ\n",
    "СТУДЕНТА </ b > < / u > < / p > < p > Буду\n",
    "очень\n",
    "признателен, если\n",
    "ты\n",
    "тоже\n",
    "оформишь\n",
    "свои\n",
    "комментарии\n",
    "и\n",
    "вопросы\n",
    "ко\n",
    "мне\n",
    "с\n",
    "прменением\n",
    "цветовой\n",
    "разметки.Например, так. </ p > < / div >"
   ]
  },
  {
   "cell_type": "markdown",
   "metadata": {},
   "source": [
    "<h1>Содержание<span class=\"tocSkip\"></span></h1>\n",
    "<div class=\"toc\"><ul class=\"toc-item\"><li><span><a href=\"#Цель\" data-toc-modified-id=\"Цель-1\"><span class=\"toc-item-num\">1&nbsp;&nbsp;</span>Цель</a></span></li><li><span><a href=\"#Описание\" data-toc-modified-id=\"Описание-2\"><span class=\"toc-item-num\">2&nbsp;&nbsp;</span>Описание</a></span></li><li><span><a href=\"#Описание-признаков\" data-toc-modified-id=\"Описание-признаков-3\"><span class=\"toc-item-num\">3&nbsp;&nbsp;</span>Описание признаков</a></span></li><li><span><a href=\"#Подготовка-данных\" data-toc-modified-id=\"Подготовка-данных-4\"><span class=\"toc-item-num\">4&nbsp;&nbsp;</span>Подготовка данных</a></span><ul class=\"toc-item\"><li><span><a href=\"#Вывод-подготовка-данных\" data-toc-modified-id=\"Вывод-подготовка-данных-4.1\"><span class=\"toc-item-num\">4.1&nbsp;&nbsp;</span>Вывод подготовка данных</a></span></li></ul></li><li><span><a href=\"#Исследование-задачи\" data-toc-modified-id=\"Исследование-задачи-5\"><span class=\"toc-item-num\">5&nbsp;&nbsp;</span>Исследование задачи</a></span><ul class=\"toc-item\"><li><span><a href=\"#Вывод\" data-toc-modified-id=\"Вывод-5.1\"><span class=\"toc-item-num\">5.1&nbsp;&nbsp;</span>Вывод</a></span></li></ul></li><li><span><a href=\"#Борьба-с-дисбалансом\" data-toc-modified-id=\"Борьба-с-дисбалансом-6\"><span class=\"toc-item-num\">6&nbsp;&nbsp;</span>Борьба с дисбалансом</a></span><ul class=\"toc-item\"><li><span><a href=\"#Вывод\" data-toc-modified-id=\"Вывод-6.1\"><span class=\"toc-item-num\">6.1&nbsp;&nbsp;</span>Вывод</a></span></li></ul></li><li><span><a href=\"#Тестирование-модели\" data-toc-modified-id=\"Тестирование-модели-7\"><span class=\"toc-item-num\">7&nbsp;&nbsp;</span>Тестирование модели</a></span><ul class=\"toc-item\"><li><span><a href=\"#Вывод\" data-toc-modified-id=\"Вывод-7.1\"><span class=\"toc-item-num\">7.1&nbsp;&nbsp;</span>Вывод</a></span></li></ul></li><li><span><a href=\"#Вывод\" data-toc-modified-id=\"Вывод-8\"><span class=\"toc-item-num\">8&nbsp;&nbsp;</span>Вывод</a></span></li><li><span><a href=\"#Чек-лист-готовности-проекта\" data-toc-modified-id=\"Чек-лист-готовности-проекта-9\"><span class=\"toc-item-num\">9&nbsp;&nbsp;</span>Чек-лист готовности проекта</a></span></li><li><span><a href=\"#Финальные-комментарии-ревьюера\" data-toc-modified-id=\"Финальные-комментарии-ревьюера-10\"><span class=\"toc-item-num\">10&nbsp;&nbsp;</span>Финальные комментарии ревьюера</a></span></li></ul></div>"
   ]
  },
  {
   "cell_type": "code",
   "execution_count": null,
   "metadata": {},
   "outputs": [],
   "source": []
  },
  {
   "cell_type": "markdown",
   "metadata": {},
   "source": [
    "<div style=\"background: #2A57DB; padding: 20px; border: 1px solid SteelBlue; border-radius: 5px;\">\n",
    "    <font color='#F3F5F2'><u><b></b></u></font>\n",
    "    <font color='#F3F5F2'>Привет Кирилл<br>\n",
    "        Поправил отмеченные замечания <br>\n",
    "        Теперь проект нравится мне больше<br>\n",
    "        Он стал лаконичнее и точнее<br><br>Жду твои комментарии и проверку)\n",
    "\n",
    "</font>\n",
    "</div>"
   ]
  },
  {
   "cell_type": "markdown",
   "metadata": {},
   "source": [
    "<div class=\"alert alert-success\" style=\"border-color: green; border-radius: 5px\">\n",
    "    <p><u><b>✅ КОММЕНТАРИЙ РЕВЬЮЕРА v.2</b></u></p>\n",
    "    <p>Привет-привет! Отлично. Пойдем проверять.</p>\n",
    "</div>"
   ]
  },
  {
   "cell_type": "markdown",
   "metadata": {},
   "source": [
    "<h1>Содержание<span class=\"tocSkip\"></span></h1>\n",
    "<div class=\"toc\"><ul class=\"toc-item\"><li><span><a href=\"#Цель\" data-toc-modified-id=\"Цель-1\"><span class=\"toc-item-num\">1&nbsp;&nbsp;</span>Цель</a></span></li><li><span><a href=\"#Описание\" data-toc-modified-id=\"Описание-2\"><span class=\"toc-item-num\">2&nbsp;&nbsp;</span>Описание</a></span></li><li><span><a href=\"#Описание-признаков\" data-toc-modified-id=\"Описание-признаков-3\"><span class=\"toc-item-num\">3&nbsp;&nbsp;</span>Описание признаков</a></span></li><li><span><a href=\"#Подготовка-данных\" data-toc-modified-id=\"Подготовка-данных-4\"><span class=\"toc-item-num\">4&nbsp;&nbsp;</span>Подготовка данных</a></span><ul class=\"toc-item\"><li><span><a href=\"#Вывод-подготовка-данных\" data-toc-modified-id=\"Вывод-подготовка-данных-4.1\"><span class=\"toc-item-num\">4.1&nbsp;&nbsp;</span>Вывод подготовка данных</a></span></li></ul></li><li><span><a href=\"#Исследование-задачи\" data-toc-modified-id=\"Исследование-задачи-5\"><span class=\"toc-item-num\">5&nbsp;&nbsp;</span>Исследование задачи</a></span><ul class=\"toc-item\"><li><span><a href=\"#Вывод\" data-toc-modified-id=\"Вывод-5.1\"><span class=\"toc-item-num\">5.1&nbsp;&nbsp;</span>Вывод</a></span></li></ul></li><li><span><a href=\"#Борьба-с-дисбалансом\" data-toc-modified-id=\"Борьба-с-дисбалансом-6\"><span class=\"toc-item-num\">6&nbsp;&nbsp;</span>Борьба с дисбалансом</a></span><ul class=\"toc-item\"><li><span><a href=\"#Вывод\" data-toc-modified-id=\"Вывод-6.1\"><span class=\"toc-item-num\">6.1&nbsp;&nbsp;</span>Вывод</a></span></li></ul></li><li><span><a href=\"#Тестирование-модели\" data-toc-modified-id=\"Тестирование-модели-7\"><span class=\"toc-item-num\">7&nbsp;&nbsp;</span>Тестирование модели</a></span><ul class=\"toc-item\"><li><span><a href=\"#Вывод\" data-toc-modified-id=\"Вывод-7.1\"><span class=\"toc-item-num\">7.1&nbsp;&nbsp;</span>Вывод</a></span></li></ul></li><li><span><a href=\"#Вывод\" data-toc-modified-id=\"Вывод-8\"><span class=\"toc-item-num\">8&nbsp;&nbsp;</span>Вывод</a></span></li><li><span><a href=\"#Чек-лист-готовности-проекта\" data-toc-modified-id=\"Чек-лист-готовности-проекта-9\"><span class=\"toc-item-num\">9&nbsp;&nbsp;</span>Чек-лист готовности проекта</a></span></li><li><span><a href=\"#Финальные-комментарии-ревьюера\" data-toc-modified-id=\"Финальные-комментарии-ревьюера-10\"><span class=\"toc-item-num\">10&nbsp;&nbsp;</span>Финальные комментарии ревьюера</a></span></li></ul></div>"
   ]
  },
  {
   "cell_type": "markdown",
   "metadata": {},
   "source": [
    "# Отток клиентов\n",
    "Заказчик \"Бета-Банк\""
   ]
  },
  {
   "cell_type": "markdown",
   "metadata": {},
   "source": [
    "## Цель\n",
    "По имеющимся данным, клиентов банка, построить модель классификации прогнозирующую <br>\n",
    "Уйдёт клиент или останется в банке"
   ]
  },
  {
   "cell_type": "markdown",
   "metadata": {},
   "source": [
    "## Описание\n",
    "Из «Бета-Банка» стали уходить клиенты. Каждый месяц. Немного, но заметно. Банковские маркетологи посчитали: сохранять текущих клиентов дешевле, чем привлекать новых.\n",
    "\n",
    "Нужно спрогнозировать, уйдёт клиент из банка в ближайшее время или нет. Вам предоставлены исторические данные о поведении клиентов и расторжении договоров с банком.\n",
    "\n",
    "Постройте модель с предельно большим значением *F1*-меры. Чтобы сдать проект успешно, нужно довести метрику до 0.59. Проверьте *F1*-меру на тестовой выборке самостоятельно.\n",
    "\n",
    "Дополнительно измеряйте *AUC-ROC*, сравнивайте её значение с *F1*-мерой.\n",
    "\n",
    "Источник данных: [https://www.kaggle.com/barelydedicated/bank-customer-churn-modeling](https://www.kaggle.com/barelydedicated/bank-customer-churn-modeling)"
   ]
  },
  {
   "cell_type": "markdown",
   "metadata": {},
   "source": [
    "## Описание признаков\n",
    "- RowNumber — индекс строки в данных<br>\n",
    "- CustomerId — уникальный идентификатор клиента<br>\n",
    "- Surname — фамилия<br>\n",
    "- CreditScore — кредитный рейтинг<br>\n",
    "- Geography — страна проживания<br>\n",
    "- Gender — пол<br>\n",
    "- Age — возраст<br>\n",
    "- Tenure — сколько лет человек является клиентом банка<br>\n",
    "- Balance — баланс на счёте<br>\n",
    "- NumOfProducts — количество продуктов банка, используемых клиентом<br>\n",
    "- HasCrCard — наличие кредитной карты<br>\n",
    "- IsActiveMember — активность клиента<br>\n",
    "- EstimatedSalary — предполагаемая зарплата<br>\n",
    "***Целевой признак***<br>\n",
    "- Exited — факт ухода клиента<br>"
   ]
  },
  {
   "cell_type": "markdown",
   "metadata": {},
   "source": [
    "<div class=\"alert alert-success\" style=\"border-color: green; border-radius: 5px\">\n",
    "    <p><u><b>✅ КОММЕНТАРИЙ РЕВЬЮЕРА v.1</b></u></p>\n",
    "    <p>Содержание и формулировка задачи на месте. Это важный структурный компанент проекта. Отлично!</p>\n",
    "</div>"
   ]
  },
  {
   "cell_type": "markdown",
   "metadata": {},
   "source": [
    "## Подготовка данных"
   ]
  },
  {
   "cell_type": "code",
   "execution_count": 4,
   "metadata": {},
   "outputs": [],
   "source": [
    "import pandas as pd\n",
    "import numpy as np\n",
    "import seaborn as sns\n",
    "import random\n",
    "from scipy import stats as st\n",
    "import matplotlib.pyplot as plt\n",
    "\n",
    "# pd.set_option('display.max_rows', None)\n",
    "# pd.set_option('display.max_columns', None)\n",
    "pd.options.mode.chained_assignment = None\n",
    "import warnings\n",
    "\n",
    "warnings.simplefilter(action='ignore', category=FutureWarning)"
   ]
  },
  {
   "cell_type": "code",
   "execution_count": 5,
   "metadata": {},
   "outputs": [],
   "source": [
    "from sklearn.tree import DecisionTreeClassifier\n",
    "from sklearn.linear_model import LogisticRegression\n",
    "from sklearn.ensemble import RandomForestClassifier\n",
    "from sklearn.linear_model import LinearRegression\n",
    "from sklearn.model_selection import train_test_split\n",
    "from sklearn.metrics import mean_squared_error\n",
    "from sklearn.metrics import accuracy_score, precision_recall_curve\n",
    "from sklearn.preprocessing import StandardScaler, LabelEncoder, OneHotEncoder\n",
    "from sklearn.model_selection import RandomizedSearchCV, GridSearchCV\n",
    "from sklearn.dummy import DummyClassifier\n",
    "from sklearn.metrics import f1_score, roc_auc_score, roc_curve, precision_score, recall_score\n",
    "from sklearn.utils import shuffle"
   ]
  },
  {
   "cell_type": "markdown",
   "metadata": {},
   "source": [
    "<div class=\"alert alert-success\" style=\"border-color: green; border-radius: 5px\">\n",
    "    <p><u><b>✅ КОММЕНТАРИЙ РЕВЬЮЕРА v.1</b></u></p>\n",
    "    <p>Хорошо, что импортируешь нужные библиотеки на первом этапе. Так те, кто будет запускать твой проект в будущем сразу будут знать, какие библиотеки необходимо установить.</p>\n",
    "</div>"
   ]
  },
  {
   "cell_type": "code",
   "execution_count": 6,
   "metadata": {},
   "outputs": [],
   "source": [
    "try:\n",
    "    data = pd.read_csv('/datasets/Churn.csv', index_col='RowNumber')\n",
    "except:\n",
    "    data = pd.read_csv('https://code.s3.yandex.net/datasets/Churn.csv', index_col='RowNumber')"
   ]
  },
  {
   "cell_type": "code",
   "execution_count": 7,
   "metadata": {},
   "outputs": [
    {
     "data": {
      "text/html": [
       "<div>\n",
       "<style scoped>\n",
       "    .dataframe tbody tr th:only-of-type {\n",
       "        vertical-align: middle;\n",
       "    }\n",
       "\n",
       "    .dataframe tbody tr th {\n",
       "        vertical-align: top;\n",
       "    }\n",
       "\n",
       "    .dataframe thead th {\n",
       "        text-align: right;\n",
       "    }\n",
       "</style>\n",
       "<table border=\"1\" class=\"dataframe\">\n",
       "  <thead>\n",
       "    <tr style=\"text-align: right;\">\n",
       "      <th></th>\n",
       "      <th>CustomerId</th>\n",
       "      <th>Surname</th>\n",
       "      <th>CreditScore</th>\n",
       "      <th>Geography</th>\n",
       "      <th>Gender</th>\n",
       "      <th>Age</th>\n",
       "      <th>Tenure</th>\n",
       "      <th>Balance</th>\n",
       "      <th>NumOfProducts</th>\n",
       "      <th>HasCrCard</th>\n",
       "      <th>IsActiveMember</th>\n",
       "      <th>EstimatedSalary</th>\n",
       "      <th>Exited</th>\n",
       "    </tr>\n",
       "    <tr>\n",
       "      <th>RowNumber</th>\n",
       "      <th></th>\n",
       "      <th></th>\n",
       "      <th></th>\n",
       "      <th></th>\n",
       "      <th></th>\n",
       "      <th></th>\n",
       "      <th></th>\n",
       "      <th></th>\n",
       "      <th></th>\n",
       "      <th></th>\n",
       "      <th></th>\n",
       "      <th></th>\n",
       "      <th></th>\n",
       "    </tr>\n",
       "  </thead>\n",
       "  <tbody>\n",
       "    <tr>\n",
       "      <th>1</th>\n",
       "      <td>15634602</td>\n",
       "      <td>Hargrave</td>\n",
       "      <td>619</td>\n",
       "      <td>France</td>\n",
       "      <td>Female</td>\n",
       "      <td>42</td>\n",
       "      <td>2.0</td>\n",
       "      <td>0.00</td>\n",
       "      <td>1</td>\n",
       "      <td>1</td>\n",
       "      <td>1</td>\n",
       "      <td>101348.88</td>\n",
       "      <td>1</td>\n",
       "    </tr>\n",
       "    <tr>\n",
       "      <th>2</th>\n",
       "      <td>15647311</td>\n",
       "      <td>Hill</td>\n",
       "      <td>608</td>\n",
       "      <td>Spain</td>\n",
       "      <td>Female</td>\n",
       "      <td>41</td>\n",
       "      <td>1.0</td>\n",
       "      <td>83807.86</td>\n",
       "      <td>1</td>\n",
       "      <td>0</td>\n",
       "      <td>1</td>\n",
       "      <td>112542.58</td>\n",
       "      <td>0</td>\n",
       "    </tr>\n",
       "    <tr>\n",
       "      <th>3</th>\n",
       "      <td>15619304</td>\n",
       "      <td>Onio</td>\n",
       "      <td>502</td>\n",
       "      <td>France</td>\n",
       "      <td>Female</td>\n",
       "      <td>42</td>\n",
       "      <td>8.0</td>\n",
       "      <td>159660.80</td>\n",
       "      <td>3</td>\n",
       "      <td>1</td>\n",
       "      <td>0</td>\n",
       "      <td>113931.57</td>\n",
       "      <td>1</td>\n",
       "    </tr>\n",
       "    <tr>\n",
       "      <th>4</th>\n",
       "      <td>15701354</td>\n",
       "      <td>Boni</td>\n",
       "      <td>699</td>\n",
       "      <td>France</td>\n",
       "      <td>Female</td>\n",
       "      <td>39</td>\n",
       "      <td>1.0</td>\n",
       "      <td>0.00</td>\n",
       "      <td>2</td>\n",
       "      <td>0</td>\n",
       "      <td>0</td>\n",
       "      <td>93826.63</td>\n",
       "      <td>0</td>\n",
       "    </tr>\n",
       "    <tr>\n",
       "      <th>5</th>\n",
       "      <td>15737888</td>\n",
       "      <td>Mitchell</td>\n",
       "      <td>850</td>\n",
       "      <td>Spain</td>\n",
       "      <td>Female</td>\n",
       "      <td>43</td>\n",
       "      <td>2.0</td>\n",
       "      <td>125510.82</td>\n",
       "      <td>1</td>\n",
       "      <td>1</td>\n",
       "      <td>1</td>\n",
       "      <td>79084.10</td>\n",
       "      <td>0</td>\n",
       "    </tr>\n",
       "  </tbody>\n",
       "</table>\n",
       "</div>"
      ],
      "text/plain": [
       "           CustomerId   Surname  CreditScore Geography  Gender  Age  Tenure  \\\n",
       "RowNumber                                                                     \n",
       "1            15634602  Hargrave          619    France  Female   42     2.0   \n",
       "2            15647311      Hill          608     Spain  Female   41     1.0   \n",
       "3            15619304      Onio          502    France  Female   42     8.0   \n",
       "4            15701354      Boni          699    France  Female   39     1.0   \n",
       "5            15737888  Mitchell          850     Spain  Female   43     2.0   \n",
       "\n",
       "             Balance  NumOfProducts  HasCrCard  IsActiveMember  \\\n",
       "RowNumber                                                        \n",
       "1               0.00              1          1               1   \n",
       "2           83807.86              1          0               1   \n",
       "3          159660.80              3          1               0   \n",
       "4               0.00              2          0               0   \n",
       "5          125510.82              1          1               1   \n",
       "\n",
       "           EstimatedSalary  Exited  \n",
       "RowNumber                           \n",
       "1                101348.88       1  \n",
       "2                112542.58       0  \n",
       "3                113931.57       1  \n",
       "4                 93826.63       0  \n",
       "5                 79084.10       0  "
      ]
     },
     "metadata": {},
     "output_type": "display_data"
    },
    {
     "name": "stdout",
     "output_type": "stream",
     "text": [
      "#######################################################\n",
      "<class 'pandas.core.frame.DataFrame'>\n",
      "Int64Index: 10000 entries, 1 to 10000\n",
      "Data columns (total 13 columns):\n",
      " #   Column           Non-Null Count  Dtype  \n",
      "---  ------           --------------  -----  \n",
      " 0   CustomerId       10000 non-null  int64  \n",
      " 1   Surname          10000 non-null  object \n",
      " 2   CreditScore      10000 non-null  int64  \n",
      " 3   Geography        10000 non-null  object \n",
      " 4   Gender           10000 non-null  object \n",
      " 5   Age              10000 non-null  int64  \n",
      " 6   Tenure           9091 non-null   float64\n",
      " 7   Balance          10000 non-null  float64\n",
      " 8   NumOfProducts    10000 non-null  int64  \n",
      " 9   HasCrCard        10000 non-null  int64  \n",
      " 10  IsActiveMember   10000 non-null  int64  \n",
      " 11  EstimatedSalary  10000 non-null  float64\n",
      " 12  Exited           10000 non-null  int64  \n",
      "dtypes: float64(3), int64(7), object(3)\n",
      "memory usage: 1.1+ MB\n",
      "#######################################################\n",
      "Пропуски в признаках \n",
      " \n",
      " Tenure    909\n",
      "dtype: int64\n",
      "#######################################################\n"
     ]
    },
    {
     "data": {
      "text/html": [
       "<div>\n",
       "<style scoped>\n",
       "    .dataframe tbody tr th:only-of-type {\n",
       "        vertical-align: middle;\n",
       "    }\n",
       "\n",
       "    .dataframe tbody tr th {\n",
       "        vertical-align: top;\n",
       "    }\n",
       "\n",
       "    .dataframe thead th {\n",
       "        text-align: right;\n",
       "    }\n",
       "</style>\n",
       "<table border=\"1\" class=\"dataframe\">\n",
       "  <thead>\n",
       "    <tr style=\"text-align: right;\">\n",
       "      <th></th>\n",
       "      <th>count</th>\n",
       "      <th>mean</th>\n",
       "      <th>std</th>\n",
       "      <th>min</th>\n",
       "      <th>25%</th>\n",
       "      <th>50%</th>\n",
       "      <th>75%</th>\n",
       "      <th>max</th>\n",
       "    </tr>\n",
       "  </thead>\n",
       "  <tbody>\n",
       "    <tr>\n",
       "      <th>CustomerId</th>\n",
       "      <td>10000.0</td>\n",
       "      <td>1.569094e+07</td>\n",
       "      <td>71936.186123</td>\n",
       "      <td>15565701.00</td>\n",
       "      <td>15628528.25</td>\n",
       "      <td>1.569074e+07</td>\n",
       "      <td>1.575323e+07</td>\n",
       "      <td>15815690.00</td>\n",
       "    </tr>\n",
       "    <tr>\n",
       "      <th>CreditScore</th>\n",
       "      <td>10000.0</td>\n",
       "      <td>6.505288e+02</td>\n",
       "      <td>96.653299</td>\n",
       "      <td>350.00</td>\n",
       "      <td>584.00</td>\n",
       "      <td>6.520000e+02</td>\n",
       "      <td>7.180000e+02</td>\n",
       "      <td>850.00</td>\n",
       "    </tr>\n",
       "    <tr>\n",
       "      <th>Age</th>\n",
       "      <td>10000.0</td>\n",
       "      <td>3.892180e+01</td>\n",
       "      <td>10.487806</td>\n",
       "      <td>18.00</td>\n",
       "      <td>32.00</td>\n",
       "      <td>3.700000e+01</td>\n",
       "      <td>4.400000e+01</td>\n",
       "      <td>92.00</td>\n",
       "    </tr>\n",
       "    <tr>\n",
       "      <th>Tenure</th>\n",
       "      <td>9091.0</td>\n",
       "      <td>4.997690e+00</td>\n",
       "      <td>2.894723</td>\n",
       "      <td>0.00</td>\n",
       "      <td>2.00</td>\n",
       "      <td>5.000000e+00</td>\n",
       "      <td>7.000000e+00</td>\n",
       "      <td>10.00</td>\n",
       "    </tr>\n",
       "    <tr>\n",
       "      <th>Balance</th>\n",
       "      <td>10000.0</td>\n",
       "      <td>7.648589e+04</td>\n",
       "      <td>62397.405202</td>\n",
       "      <td>0.00</td>\n",
       "      <td>0.00</td>\n",
       "      <td>9.719854e+04</td>\n",
       "      <td>1.276442e+05</td>\n",
       "      <td>250898.09</td>\n",
       "    </tr>\n",
       "    <tr>\n",
       "      <th>NumOfProducts</th>\n",
       "      <td>10000.0</td>\n",
       "      <td>1.530200e+00</td>\n",
       "      <td>0.581654</td>\n",
       "      <td>1.00</td>\n",
       "      <td>1.00</td>\n",
       "      <td>1.000000e+00</td>\n",
       "      <td>2.000000e+00</td>\n",
       "      <td>4.00</td>\n",
       "    </tr>\n",
       "    <tr>\n",
       "      <th>HasCrCard</th>\n",
       "      <td>10000.0</td>\n",
       "      <td>7.055000e-01</td>\n",
       "      <td>0.455840</td>\n",
       "      <td>0.00</td>\n",
       "      <td>0.00</td>\n",
       "      <td>1.000000e+00</td>\n",
       "      <td>1.000000e+00</td>\n",
       "      <td>1.00</td>\n",
       "    </tr>\n",
       "    <tr>\n",
       "      <th>IsActiveMember</th>\n",
       "      <td>10000.0</td>\n",
       "      <td>5.151000e-01</td>\n",
       "      <td>0.499797</td>\n",
       "      <td>0.00</td>\n",
       "      <td>0.00</td>\n",
       "      <td>1.000000e+00</td>\n",
       "      <td>1.000000e+00</td>\n",
       "      <td>1.00</td>\n",
       "    </tr>\n",
       "    <tr>\n",
       "      <th>EstimatedSalary</th>\n",
       "      <td>10000.0</td>\n",
       "      <td>1.000902e+05</td>\n",
       "      <td>57510.492818</td>\n",
       "      <td>11.58</td>\n",
       "      <td>51002.11</td>\n",
       "      <td>1.001939e+05</td>\n",
       "      <td>1.493882e+05</td>\n",
       "      <td>199992.48</td>\n",
       "    </tr>\n",
       "    <tr>\n",
       "      <th>Exited</th>\n",
       "      <td>10000.0</td>\n",
       "      <td>2.037000e-01</td>\n",
       "      <td>0.402769</td>\n",
       "      <td>0.00</td>\n",
       "      <td>0.00</td>\n",
       "      <td>0.000000e+00</td>\n",
       "      <td>0.000000e+00</td>\n",
       "      <td>1.00</td>\n",
       "    </tr>\n",
       "  </tbody>\n",
       "</table>\n",
       "</div>"
      ],
      "text/plain": [
       "                   count          mean           std          min  \\\n",
       "CustomerId       10000.0  1.569094e+07  71936.186123  15565701.00   \n",
       "CreditScore      10000.0  6.505288e+02     96.653299       350.00   \n",
       "Age              10000.0  3.892180e+01     10.487806        18.00   \n",
       "Tenure            9091.0  4.997690e+00      2.894723         0.00   \n",
       "Balance          10000.0  7.648589e+04  62397.405202         0.00   \n",
       "NumOfProducts    10000.0  1.530200e+00      0.581654         1.00   \n",
       "HasCrCard        10000.0  7.055000e-01      0.455840         0.00   \n",
       "IsActiveMember   10000.0  5.151000e-01      0.499797         0.00   \n",
       "EstimatedSalary  10000.0  1.000902e+05  57510.492818        11.58   \n",
       "Exited           10000.0  2.037000e-01      0.402769         0.00   \n",
       "\n",
       "                         25%           50%           75%          max  \n",
       "CustomerId       15628528.25  1.569074e+07  1.575323e+07  15815690.00  \n",
       "CreditScore           584.00  6.520000e+02  7.180000e+02       850.00  \n",
       "Age                    32.00  3.700000e+01  4.400000e+01        92.00  \n",
       "Tenure                  2.00  5.000000e+00  7.000000e+00        10.00  \n",
       "Balance                 0.00  9.719854e+04  1.276442e+05    250898.09  \n",
       "NumOfProducts           1.00  1.000000e+00  2.000000e+00         4.00  \n",
       "HasCrCard               0.00  1.000000e+00  1.000000e+00         1.00  \n",
       "IsActiveMember          0.00  1.000000e+00  1.000000e+00         1.00  \n",
       "EstimatedSalary     51002.11  1.001939e+05  1.493882e+05    199992.48  \n",
       "Exited                  0.00  0.000000e+00  0.000000e+00         1.00  "
      ]
     },
     "metadata": {},
     "output_type": "display_data"
    }
   ],
   "source": [
    "def data_info(data):\n",
    "    display(data.head(5))\n",
    "    print('#' * 55)\n",
    "    data.info()\n",
    "    print('#' * 55)\n",
    "    exam = data.isna().sum() > 0\n",
    "    exam = data.isna().sum()[exam]\n",
    "    print(f'Пропуски в признаках', '\\n', '\\n', exam)\n",
    "    print('#' * 55)\n",
    "    display(data.describe().T)\n",
    "\n",
    "\n",
    "data_info(data)"
   ]
  },
  {
   "cell_type": "raw",
   "metadata": {},
   "source": [
    "Имеем 10000 объектов\n",
    "Пропуски только в признаке Tenure\n",
    "Видимых аномалий в числовых данных нет"
   ]
  },
  {
   "cell_type": "markdown",
   "metadata": {},
   "source": [
    "<div class=\"alert alert-success\" style=\"border-color: green; border-radius: 5px\">\n",
    "    <p><u><b>✅ КОММЕНТАРИЙ РЕВЬЮЕРА v.1</b></u></p>\n",
    "    <p>Данные загружены, отлично. Молодец, что используешь инструкцию <code>try-except</code>.</p>\n",
    "    <p>Хорошо, что применяешь метод <code>.head()</code> таким образом мы можем визуально оценить структуру датасета.</p>\n",
    "    <p>Методы <code>.info()</code> и <code>.describe()</code> также обязательны к применению в таких задачах, с их помощью можно получить первые инсайты. И они на месте.</p>\n",
    "</div>"
   ]
  },
  {
   "cell_type": "code",
   "execution_count": 8,
   "metadata": {},
   "outputs": [
    {
     "name": "stdout",
     "output_type": "stream",
     "text": [
      "Количество дубликатов в данных равно 0\n"
     ]
    }
   ],
   "source": [
    "# Проверим на дубликаты\n",
    "s = data.duplicated().sum()\n",
    "print(f'Количество дубликатов в данных равно {s}')"
   ]
  },
  {
   "cell_type": "markdown",
   "metadata": {},
   "source": [
    "<div class=\"alert alert-success\" style=\"border-color: green; border-radius: 5px\">\n",
    "    <p><u><b>✅ КОММЕНТАРИЙ РЕВЬЮЕРА v.1</b></u></p>\n",
    "    <p>Хорошо, что проверил на дубликаты, это важно!</p>\n",
    "</div>"
   ]
  },
  {
   "cell_type": "code",
   "execution_count": 9,
   "metadata": {},
   "outputs": [
    {
     "data": {
      "image/png": "[encoded data removed]",
      "text/plain": [
       "<Figure size 1200x400 with 1 Axes>"
      ]
     },
     "metadata": {},
     "output_type": "display_data"
    }
   ],
   "source": [
    "# посмотрим отношение Tenure по группам среди ушедших и оставшихся клиентов\n",
    "exam = data[['Exited', 'Tenure']].copy()\n",
    "exam['Exited'] = exam['Exited'].apply(lambda x:'stayed' if x == 0 else 'left')\n",
    "exam = pd.DataFrame(exam.groupby(['Exited', 'Tenure'])['Tenure'].agg(['size']).reset_index())\n",
    "exam.columns = ['Exited', 'Tenure', 'count']\n",
    "exam['percent'] = round((exam['count'] / exam.groupby('Exited')['count'].transform('sum') * 100), 2)\n",
    "\n",
    "plt.figure(figsize=(12, 4))\n",
    "sns.set_style(\"darkgrid\")\n",
    "ax = sns.barplot(x='Exited', n_boot=1, y='percent', hue='Tenure', data=exam);\n",
    "ax.set_title('отношение оттока и оставшихся по Tenure в %', weight='bold');\n",
    "plt.show()\n"
   ]
  },
  {
   "cell_type": "code",
   "execution_count": 10,
   "metadata": {},
   "outputs": [
    {
     "data": {
      "image/png": "[encoded data removed]",
      "text/plain": [
       "<Figure size 600x300 with 1 Axes>"
      ]
     },
     "metadata": {},
     "output_type": "display_data"
    }
   ],
   "source": [
    "# посмотрем отношение Tenure по группам ушедших и оставшихся с пропусками\n",
    "exam = data[['Exited', 'Tenure']].copy()\n",
    "exam['isna_Tenure'] = exam['Tenure'].isna().astype(int)\n",
    "exam = pd.DataFrame(exam.groupby(['Exited', 'isna_Tenure'])['isna_Tenure'].agg(['size']).reset_index())\n",
    "exam.columns = ['Exited', 'isna_Tenure', 'count']\n",
    "\n",
    "plt.figure(figsize=(6, 3))\n",
    "sns.set_style(\"darkgrid\")\n",
    "ax = sns.barplot(x='isna_Tenure', n_boot=1, y='count', hue='Exited', data=exam);\n",
    "ax.set_title('пропуски и заполненые Tenure', weight='bold');\n",
    "plt.show()"
   ]
  },
  {
   "cell_type": "raw",
   "metadata": {},
   "source": [
    "В процентном отношении Tenure ушедшие и оставшиеся имеют схожее распределение с незначительными различиями\n",
    "Пропуски в Tenure относительно Exited видимых аномалий не имеют\n",
    "Понять природу пропусков в Tenure не удалось заполним их случайными сзначениями в рамках диапазона Tenure"
   ]
  },
  {
   "cell_type": "code",
   "execution_count": 11,
   "metadata": {},
   "outputs": [
    {
     "data": {
      "text/html": [
       "<div>\n",
       "<style scoped>\n",
       "    .dataframe tbody tr th:only-of-type {\n",
       "        vertical-align: middle;\n",
       "    }\n",
       "\n",
       "    .dataframe tbody tr th {\n",
       "        vertical-align: top;\n",
       "    }\n",
       "\n",
       "    .dataframe thead th {\n",
       "        text-align: right;\n",
       "    }\n",
       "</style>\n",
       "<table border=\"1\" class=\"dataframe\">\n",
       "  <thead>\n",
       "    <tr style=\"text-align: right;\">\n",
       "      <th></th>\n",
       "      <th>count</th>\n",
       "      <th>mean</th>\n",
       "      <th>std</th>\n",
       "      <th>min</th>\n",
       "      <th>25%</th>\n",
       "      <th>50%</th>\n",
       "      <th>75%</th>\n",
       "      <th>max</th>\n",
       "    </tr>\n",
       "  </thead>\n",
       "  <tbody>\n",
       "    <tr>\n",
       "      <th>Tenure</th>\n",
       "      <td>9091.0</td>\n",
       "      <td>4.99769</td>\n",
       "      <td>2.894723</td>\n",
       "      <td>0.0</td>\n",
       "      <td>2.0</td>\n",
       "      <td>5.0</td>\n",
       "      <td>7.0</td>\n",
       "      <td>10.0</td>\n",
       "    </tr>\n",
       "  </tbody>\n",
       "</table>\n",
       "</div>"
      ],
      "text/plain": [
       "         count     mean       std  min  25%  50%  75%   max\n",
       "Tenure  9091.0  4.99769  2.894723  0.0  2.0  5.0  7.0  10.0"
      ]
     },
     "execution_count": 11,
     "metadata": {},
     "output_type": "execute_result"
    }
   ],
   "source": [
    "pd.DataFrame(data['Tenure'].describe()).T"
   ]
  },
  {
   "cell_type": "code",
   "execution_count": 12,
   "metadata": {},
   "outputs": [
    {
     "data": {
      "text/html": [
       "<div>\n",
       "<style scoped>\n",
       "    .dataframe tbody tr th:only-of-type {\n",
       "        vertical-align: middle;\n",
       "    }\n",
       "\n",
       "    .dataframe tbody tr th {\n",
       "        vertical-align: top;\n",
       "    }\n",
       "\n",
       "    .dataframe thead th {\n",
       "        text-align: right;\n",
       "    }\n",
       "</style>\n",
       "<table border=\"1\" class=\"dataframe\">\n",
       "  <thead>\n",
       "    <tr style=\"text-align: right;\">\n",
       "      <th></th>\n",
       "      <th>count</th>\n",
       "      <th>mean</th>\n",
       "      <th>std</th>\n",
       "      <th>min</th>\n",
       "      <th>25%</th>\n",
       "      <th>50%</th>\n",
       "      <th>75%</th>\n",
       "      <th>max</th>\n",
       "    </tr>\n",
       "  </thead>\n",
       "  <tbody>\n",
       "    <tr>\n",
       "      <th>Tenure</th>\n",
       "      <td>10000.0</td>\n",
       "      <td>4.9495</td>\n",
       "      <td>2.904685</td>\n",
       "      <td>0.0</td>\n",
       "      <td>2.0</td>\n",
       "      <td>5.0</td>\n",
       "      <td>7.0</td>\n",
       "      <td>10.0</td>\n",
       "    </tr>\n",
       "  </tbody>\n",
       "</table>\n",
       "</div>"
      ],
      "text/plain": [
       "          count    mean       std  min  25%  50%  75%   max\n",
       "Tenure  10000.0  4.9495  2.904685  0.0  2.0  5.0  7.0  10.0"
      ]
     },
     "execution_count": 12,
     "metadata": {},
     "output_type": "execute_result"
    }
   ],
   "source": [
    "exam = (np.random.randint(0, 10, size=data['Tenure'].isna().sum()))\n",
    "data.loc[data['Tenure'].isna(), 'Tenure'] = exam\n",
    "pd.DataFrame(data['Tenure'].describe()).T"
   ]
  },
  {
   "cell_type": "markdown",
   "metadata": {},
   "source": [
    "<div class=\"alert alert-success\" style=\"border-color: green; border-radius: 5px\">\n",
    "    <p><u><b>✅ КОММЕНТАРИЙ РЕВЬЮЕРА v.2</b></u></p>\n",
    "    <p>Ты выбрал приемлимый вариант для заполнения пропусков в данном случае. Также можно было заполнить просто медианным значением, таким образом мы бы практически не нарушили статистические показатели данных.</p>\n",
    "    <p>К заполнению пропусков можно вернуться после получения результатов работы моделей и попробовать другие варианты.</p>\n",
    "    <p>А в реальной жизни с этим вопросом можно обратиться к коллегам, чтобы уточнить причины возникновения пропущенных значений.</p>\n",
    "</div>"
   ]
  },
  {
   "cell_type": "raw",
   "metadata": {},
   "source": [
    "В данных есть признаки, которые не оказывают влияния на результат, это CustomerId, Surname уберём их за ненадобностью\n",
    "Есть категориальные признаки Geography, Gender закодируем их используя OneHotEncoder избегая дамми-ловушки с помощью drop_first=True"
   ]
  },
  {
   "cell_type": "code",
   "execution_count": 13,
   "metadata": {},
   "outputs": [
    {
     "data": {
      "text/html": [
       "<div>\n",
       "<style scoped>\n",
       "    .dataframe tbody tr th:only-of-type {\n",
       "        vertical-align: middle;\n",
       "    }\n",
       "\n",
       "    .dataframe tbody tr th {\n",
       "        vertical-align: top;\n",
       "    }\n",
       "\n",
       "    .dataframe thead th {\n",
       "        text-align: right;\n",
       "    }\n",
       "</style>\n",
       "<table border=\"1\" class=\"dataframe\">\n",
       "  <thead>\n",
       "    <tr style=\"text-align: right;\">\n",
       "      <th></th>\n",
       "      <th>CustomerId</th>\n",
       "      <th>Surname</th>\n",
       "      <th>CreditScore</th>\n",
       "      <th>Geography</th>\n",
       "      <th>Gender</th>\n",
       "      <th>Age</th>\n",
       "      <th>Tenure</th>\n",
       "      <th>Balance</th>\n",
       "      <th>NumOfProducts</th>\n",
       "      <th>HasCrCard</th>\n",
       "      <th>IsActiveMember</th>\n",
       "      <th>EstimatedSalary</th>\n",
       "      <th>Exited</th>\n",
       "    </tr>\n",
       "    <tr>\n",
       "      <th>RowNumber</th>\n",
       "      <th></th>\n",
       "      <th></th>\n",
       "      <th></th>\n",
       "      <th></th>\n",
       "      <th></th>\n",
       "      <th></th>\n",
       "      <th></th>\n",
       "      <th></th>\n",
       "      <th></th>\n",
       "      <th></th>\n",
       "      <th></th>\n",
       "      <th></th>\n",
       "      <th></th>\n",
       "    </tr>\n",
       "  </thead>\n",
       "  <tbody>\n",
       "    <tr>\n",
       "      <th>1</th>\n",
       "      <td>15634602</td>\n",
       "      <td>Hargrave</td>\n",
       "      <td>619</td>\n",
       "      <td>France</td>\n",
       "      <td>Female</td>\n",
       "      <td>42</td>\n",
       "      <td>2.0</td>\n",
       "      <td>0.00</td>\n",
       "      <td>1</td>\n",
       "      <td>1</td>\n",
       "      <td>1</td>\n",
       "      <td>101348.88</td>\n",
       "      <td>1</td>\n",
       "    </tr>\n",
       "    <tr>\n",
       "      <th>2</th>\n",
       "      <td>15647311</td>\n",
       "      <td>Hill</td>\n",
       "      <td>608</td>\n",
       "      <td>Spain</td>\n",
       "      <td>Female</td>\n",
       "      <td>41</td>\n",
       "      <td>1.0</td>\n",
       "      <td>83807.86</td>\n",
       "      <td>1</td>\n",
       "      <td>0</td>\n",
       "      <td>1</td>\n",
       "      <td>112542.58</td>\n",
       "      <td>0</td>\n",
       "    </tr>\n",
       "    <tr>\n",
       "      <th>3</th>\n",
       "      <td>15619304</td>\n",
       "      <td>Onio</td>\n",
       "      <td>502</td>\n",
       "      <td>France</td>\n",
       "      <td>Female</td>\n",
       "      <td>42</td>\n",
       "      <td>8.0</td>\n",
       "      <td>159660.80</td>\n",
       "      <td>3</td>\n",
       "      <td>1</td>\n",
       "      <td>0</td>\n",
       "      <td>113931.57</td>\n",
       "      <td>1</td>\n",
       "    </tr>\n",
       "    <tr>\n",
       "      <th>4</th>\n",
       "      <td>15701354</td>\n",
       "      <td>Boni</td>\n",
       "      <td>699</td>\n",
       "      <td>France</td>\n",
       "      <td>Female</td>\n",
       "      <td>39</td>\n",
       "      <td>1.0</td>\n",
       "      <td>0.00</td>\n",
       "      <td>2</td>\n",
       "      <td>0</td>\n",
       "      <td>0</td>\n",
       "      <td>93826.63</td>\n",
       "      <td>0</td>\n",
       "    </tr>\n",
       "    <tr>\n",
       "      <th>5</th>\n",
       "      <td>15737888</td>\n",
       "      <td>Mitchell</td>\n",
       "      <td>850</td>\n",
       "      <td>Spain</td>\n",
       "      <td>Female</td>\n",
       "      <td>43</td>\n",
       "      <td>2.0</td>\n",
       "      <td>125510.82</td>\n",
       "      <td>1</td>\n",
       "      <td>1</td>\n",
       "      <td>1</td>\n",
       "      <td>79084.10</td>\n",
       "      <td>0</td>\n",
       "    </tr>\n",
       "  </tbody>\n",
       "</table>\n",
       "</div>"
      ],
      "text/plain": [
       "           CustomerId   Surname  CreditScore Geography  Gender  Age  Tenure  \\\n",
       "RowNumber                                                                     \n",
       "1            15634602  Hargrave          619    France  Female   42     2.0   \n",
       "2            15647311      Hill          608     Spain  Female   41     1.0   \n",
       "3            15619304      Onio          502    France  Female   42     8.0   \n",
       "4            15701354      Boni          699    France  Female   39     1.0   \n",
       "5            15737888  Mitchell          850     Spain  Female   43     2.0   \n",
       "\n",
       "             Balance  NumOfProducts  HasCrCard  IsActiveMember  \\\n",
       "RowNumber                                                        \n",
       "1               0.00              1          1               1   \n",
       "2           83807.86              1          0               1   \n",
       "3          159660.80              3          1               0   \n",
       "4               0.00              2          0               0   \n",
       "5          125510.82              1          1               1   \n",
       "\n",
       "           EstimatedSalary  Exited  \n",
       "RowNumber                           \n",
       "1                101348.88       1  \n",
       "2                112542.58       0  \n",
       "3                113931.57       1  \n",
       "4                 93826.63       0  \n",
       "5                 79084.10       0  "
      ]
     },
     "execution_count": 13,
     "metadata": {},
     "output_type": "execute_result"
    }
   ],
   "source": [
    "data.head()"
   ]
  },
  {
   "cell_type": "code",
   "execution_count": 14,
   "metadata": {},
   "outputs": [],
   "source": [
    "# как говорил Микеланджело \"Я беру камень и отсекаю всё лишнее\"\n",
    "X = data.drop(['CustomerId', 'Surname'], axis=1).copy()"
   ]
  },
  {
   "cell_type": "markdown",
   "metadata": {},
   "source": [
    "<div class=\"alert alert-warning\" style=\"border-color: orange; border-radius: 5px\">\n",
    "    <p><u><b>⚠️ КОММЕНТАРИЙ РЕВЬЮЕРА v.2</b></u></p>\n",
    "    <p>Столбцы для удаления выбраны верно. Молодец!</p>\n",
    "    <p>Только их удаление лучше указать явно, с помощью метода <code>.drop()</code>, а не срезом <code>loc</code>, поскольку если вдруг порядок столбцов изменится, то твой метод не сработает как надо.</p>\n",
    "</div>"
   ]
  },
  {
   "cell_type": "markdown",
   "metadata": {},
   "source": [
    "<div style=\"background: #2A57DB; padding: 20px; border: 1px solid SteelBlue; border-radius: 5px;\">\n",
    "    <font color='#F3F5F2'><u><b></b></u></font>\n",
    "    <font color='#F3F5F2'>Поправил<br>\n",
    "\n",
    "</font>\n",
    "</div>"
   ]
  },
  {
   "cell_type": "markdown",
   "metadata": {},
   "source": [
    "<div class=\"alert alert-success\" style=\"border-color: green; border-radius: 5px\">\n",
    "    <p><u><b>✅ КОММЕНТАРИЙ РЕВЬЮЕРА v.2</b></u></p>\n",
    "    <p>Исправление \"желтых\" комментариев - хорошая примета!</p>\n",
    "</div>"
   ]
  },
  {
   "cell_type": "markdown",
   "metadata": {},
   "source": [
    "<div class=\"alert alert-warning\" style=\"border-color: orange; border-radius: 5px\">\n",
    "    <p><u><b>⚠️ КОММЕНТАРИЙ РЕВЬЮЕРА v.1</b></u></p>\n",
    "    <p>Тут стоит обсудить кодирование категориальных признаков.</p>\n",
    "    <p>Ты безусловно верно применил <code>pd.get_dummies</code>, однако, как показывает практика, этот метод имеет ряд существенных недостатков, поскольку кодирует весь датасет целиком. То есть и трейн и валидацию и тест. Но чаще всего тестовый набор у нас вроде как «слепой» в котором могут быть категории, которых не было изначально в данных на которых обучалась модель, поэтому я рекомендую использовать <code>OneHotEncoder</code> из библиотеки <code>sklearn</code> вместо <code>get_dummies</code> из <code>pandas</code>. В проекте «Обучение с учителем» таких проблем не возникает. Однако в последующих проектах кодирование до деления может привести к ошибкам.</p>\n",
    "    <p>То есть верный алгоритм преобразования следующий:</p>\n",
    "    <p>1. Выполняешь разделение данных на выборки.</p>\n",
    "    <p>2. Обучаешь <code>OneHotEncoder</code> на тренировочной выборке.</p>\n",
    "    <p>3. Трансформируешь все выборки.</p>\n",
    "    <p>Оставлю пару полезных ссылок по этой теме.</p>\n",
    "\n",
    "https://stackoverflow.com/questions/55525195/do-i-have-to-do-one-hot-encoding-separately-for-train-and-test-dataset\n",
    "https://albertum.medium.com/preprocessing-onehotencoder-vs-pandas-get-dummies-3de1f3d77dcc\n",
    "</div>"
   ]
  },
  {
   "cell_type": "markdown",
   "metadata": {},
   "source": [
    "<div style=\"background: #2A57DB; padding: 20px; border: 1px solid SteelBlue; border-radius: 5px;\">\n",
    "    <font color='#F3F5F2'><u><b></b></u></font>\n",
    "    <font color='#F3F5F2'>Поправил<br>\n",
    "\n",
    "</font>\n",
    "</div>"
   ]
  },
  {
   "cell_type": "code",
   "execution_count": 15,
   "metadata": {},
   "outputs": [
    {
     "data": {
      "image/png": "[encoded data removed]",
      "text/plain": [
       "<Figure size 1400x900 with 9 Axes>"
      ]
     },
     "metadata": {},
     "output_type": "display_data"
    }
   ],
   "source": [
    "X.hist(bins=50, figsize=(14, 9), edgecolor='black', linewidth=1)\n",
    "plt.show()"
   ]
  },
  {
   "cell_type": "code",
   "execution_count": 16,
   "metadata": {},
   "outputs": [
    {
     "data": {
      "text/html": [
       "<div>\n",
       "<style scoped>\n",
       "    .dataframe tbody tr th:only-of-type {\n",
       "        vertical-align: middle;\n",
       "    }\n",
       "\n",
       "    .dataframe tbody tr th {\n",
       "        vertical-align: top;\n",
       "    }\n",
       "\n",
       "    .dataframe thead th {\n",
       "        text-align: right;\n",
       "    }\n",
       "</style>\n",
       "<table border=\"1\" class=\"dataframe\">\n",
       "  <thead>\n",
       "    <tr style=\"text-align: right;\">\n",
       "      <th></th>\n",
       "      <th>CreditScore</th>\n",
       "      <th>Geography</th>\n",
       "      <th>Gender</th>\n",
       "      <th>Age</th>\n",
       "      <th>Tenure</th>\n",
       "      <th>Balance</th>\n",
       "      <th>NumOfProducts</th>\n",
       "      <th>HasCrCard</th>\n",
       "      <th>IsActiveMember</th>\n",
       "      <th>EstimatedSalary</th>\n",
       "      <th>Exited</th>\n",
       "    </tr>\n",
       "    <tr>\n",
       "      <th>RowNumber</th>\n",
       "      <th></th>\n",
       "      <th></th>\n",
       "      <th></th>\n",
       "      <th></th>\n",
       "      <th></th>\n",
       "      <th></th>\n",
       "      <th></th>\n",
       "      <th></th>\n",
       "      <th></th>\n",
       "      <th></th>\n",
       "      <th></th>\n",
       "    </tr>\n",
       "  </thead>\n",
       "  <tbody>\n",
       "    <tr>\n",
       "      <th>1</th>\n",
       "      <td>619</td>\n",
       "      <td>France</td>\n",
       "      <td>Female</td>\n",
       "      <td>42</td>\n",
       "      <td>2.0</td>\n",
       "      <td>0.00</td>\n",
       "      <td>1</td>\n",
       "      <td>1</td>\n",
       "      <td>1</td>\n",
       "      <td>101348.88</td>\n",
       "      <td>1</td>\n",
       "    </tr>\n",
       "    <tr>\n",
       "      <th>2</th>\n",
       "      <td>608</td>\n",
       "      <td>Spain</td>\n",
       "      <td>Female</td>\n",
       "      <td>41</td>\n",
       "      <td>1.0</td>\n",
       "      <td>83807.86</td>\n",
       "      <td>1</td>\n",
       "      <td>0</td>\n",
       "      <td>1</td>\n",
       "      <td>112542.58</td>\n",
       "      <td>0</td>\n",
       "    </tr>\n",
       "    <tr>\n",
       "      <th>3</th>\n",
       "      <td>502</td>\n",
       "      <td>France</td>\n",
       "      <td>Female</td>\n",
       "      <td>42</td>\n",
       "      <td>8.0</td>\n",
       "      <td>159660.80</td>\n",
       "      <td>3</td>\n",
       "      <td>1</td>\n",
       "      <td>0</td>\n",
       "      <td>113931.57</td>\n",
       "      <td>1</td>\n",
       "    </tr>\n",
       "    <tr>\n",
       "      <th>4</th>\n",
       "      <td>699</td>\n",
       "      <td>France</td>\n",
       "      <td>Female</td>\n",
       "      <td>39</td>\n",
       "      <td>1.0</td>\n",
       "      <td>0.00</td>\n",
       "      <td>2</td>\n",
       "      <td>0</td>\n",
       "      <td>0</td>\n",
       "      <td>93826.63</td>\n",
       "      <td>0</td>\n",
       "    </tr>\n",
       "    <tr>\n",
       "      <th>5</th>\n",
       "      <td>850</td>\n",
       "      <td>Spain</td>\n",
       "      <td>Female</td>\n",
       "      <td>43</td>\n",
       "      <td>2.0</td>\n",
       "      <td>125510.82</td>\n",
       "      <td>1</td>\n",
       "      <td>1</td>\n",
       "      <td>1</td>\n",
       "      <td>79084.10</td>\n",
       "      <td>0</td>\n",
       "    </tr>\n",
       "  </tbody>\n",
       "</table>\n",
       "</div>"
      ],
      "text/plain": [
       "           CreditScore Geography  Gender  Age  Tenure    Balance  \\\n",
       "RowNumber                                                          \n",
       "1                  619    France  Female   42     2.0       0.00   \n",
       "2                  608     Spain  Female   41     1.0   83807.86   \n",
       "3                  502    France  Female   42     8.0  159660.80   \n",
       "4                  699    France  Female   39     1.0       0.00   \n",
       "5                  850     Spain  Female   43     2.0  125510.82   \n",
       "\n",
       "           NumOfProducts  HasCrCard  IsActiveMember  EstimatedSalary  Exited  \n",
       "RowNumber                                                                     \n",
       "1                      1          1               1        101348.88       1  \n",
       "2                      1          0               1        112542.58       0  \n",
       "3                      3          1               0        113931.57       1  \n",
       "4                      2          0               0         93826.63       0  \n",
       "5                      1          1               1         79084.10       0  "
      ]
     },
     "execution_count": 16,
     "metadata": {},
     "output_type": "execute_result"
    }
   ],
   "source": [
    "X.head()"
   ]
  },
  {
   "cell_type": "markdown",
   "metadata": {},
   "source": [
    "Категориальные переменные закодированы <br>\n",
    "Теперь необходимо стандартизировать характеристики, поскольку количественные значения сильно варьируются<br>\n",
    "Мы не будем применять стандартизацию к столбцам tenure, num_of_products, has_crcard, isactive_member и к преобразованным категориальными признакам<br>\n",
    "Масштабируем остальные признаки, но сначала напилим выборки <br>"
   ]
  },
  {
   "cell_type": "code",
   "execution_count": 17,
   "metadata": {},
   "outputs": [],
   "source": [
    "features = X.drop('Exited', axis=1)\n",
    "target = X['Exited']"
   ]
  },
  {
   "cell_type": "code",
   "execution_count": 18,
   "metadata": {},
   "outputs": [
    {
     "name": "stdout",
     "output_type": "stream",
     "text": [
      "Количество строк в y_train по классам: [6370 1630]\n",
      "Количество строк в y_test по классам: [1593  407]\n"
     ]
    }
   ],
   "source": [
    "X_train, X_test, y_train, y_test = train_test_split(features, target, train_size=0.8, random_state=42, stratify=target)\n",
    "\n",
    "print(f\"Количество строк в y_train по классам: {np.bincount(y_train)}\")\n",
    "print(f\"Количество строк в y_test по классам: {np.bincount(y_test)}\")"
   ]
  },
  {
   "cell_type": "markdown",
   "metadata": {},
   "source": [
    "<div class=\"alert alert-danger\" style=\"border-color: #8B0000; border-radius: 5px\">\n",
    "    <p><u><b>❌ КОММЕНТАРИЙ РЕВЬЮЕРА v.1</b></u></p>\n",
    "    <p>Смотри, далее для подбора гиперпараметров ты используешь GridSearchCV. В этот метод уже включена кросс-валидация, как думаешь нужна нам будет валидационная выборка? Или можем ее не выделять и оставить на подбор гиперпараметров больше данных? При этом на тестовую выборку стоит остаить 20% от общей.</p>\n",
    "</div>"
   ]
  },
  {
   "cell_type": "markdown",
   "metadata": {},
   "source": [
    "<div style=\"background: #2A57DB; padding: 20px; border: 1px solid SteelBlue; border-radius: 5px;\">\n",
    "    <font color='#F3F5F2'><u><b></b></u></font>\n",
    "    <font color='#F3F5F2'>Поправил<br>\n",
    "\n",
    "</font>\n",
    "</div>"
   ]
  },
  {
   "cell_type": "markdown",
   "metadata": {},
   "source": [
    "<div class=\"alert alert-success\" style=\"border-color: green; border-radius: 5px\">\n",
    "    <p><u><b>✅ КОММЕНТАРИЙ РЕВЬЮЕРА v.2</b></u></p>\n",
    "    <p>Олтично. Будем работать с двумя выборками.</p>\n",
    "</div>"
   ]
  },
  {
   "cell_type": "code",
   "execution_count": 21,
   "metadata": {},
   "outputs": [
    {
     "data": {
      "text/plain": [
       "OneHotEncoder(drop='first')"
      ]
     },
     "execution_count": 21,
     "metadata": {},
     "output_type": "execute_result"
    }
   ],
   "source": [
    "exam_list = X_train.select_dtypes('object').columns.to_list()\n",
    "\n",
    "enc = OneHotEncoder(categories=\"auto\", drop=\"first\", handle_unknown='error')\n",
    "enc.fit(X_train.loc[:, exam_list])"
   ]
  },
  {
   "cell_type": "code",
   "execution_count": 25,
   "metadata": {},
   "outputs": [
    {
     "data": {
      "text/plain": [
       "['Geography', 'Gender']"
      ]
     },
     "execution_count": 25,
     "metadata": {},
     "output_type": "execute_result"
    }
   ],
   "source": [
    "exam_list"
   ]
  },
  {
   "cell_type": "code",
   "execution_count": 28,
   "metadata": {},
   "outputs": [
    {
     "data": {
      "text/html": [
       "<div>\n",
       "<style scoped>\n",
       "    .dataframe tbody tr th:only-of-type {\n",
       "        vertical-align: middle;\n",
       "    }\n",
       "\n",
       "    .dataframe tbody tr th {\n",
       "        vertical-align: top;\n",
       "    }\n",
       "\n",
       "    .dataframe thead th {\n",
       "        text-align: right;\n",
       "    }\n",
       "</style>\n",
       "<table border=\"1\" class=\"dataframe\">\n",
       "  <thead>\n",
       "    <tr style=\"text-align: right;\">\n",
       "      <th></th>\n",
       "      <th>Geography</th>\n",
       "      <th>Gender</th>\n",
       "    </tr>\n",
       "    <tr>\n",
       "      <th>RowNumber</th>\n",
       "      <th></th>\n",
       "      <th></th>\n",
       "    </tr>\n",
       "  </thead>\n",
       "  <tbody>\n",
       "    <tr>\n",
       "      <th>2152</th>\n",
       "      <td>France</td>\n",
       "      <td>Male</td>\n",
       "    </tr>\n",
       "    <tr>\n",
       "      <th>8393</th>\n",
       "      <td>Germany</td>\n",
       "      <td>Male</td>\n",
       "    </tr>\n",
       "    <tr>\n",
       "      <th>5007</th>\n",
       "      <td>Germany</td>\n",
       "      <td>Female</td>\n",
       "    </tr>\n",
       "    <tr>\n",
       "      <th>4118</th>\n",
       "      <td>France</td>\n",
       "      <td>Male</td>\n",
       "    </tr>\n",
       "    <tr>\n",
       "      <th>7183</th>\n",
       "      <td>Germany</td>\n",
       "      <td>Male</td>\n",
       "    </tr>\n",
       "    <tr>\n",
       "      <th>...</th>\n",
       "      <td>...</td>\n",
       "      <td>...</td>\n",
       "    </tr>\n",
       "    <tr>\n",
       "      <th>4556</th>\n",
       "      <td>Spain</td>\n",
       "      <td>Female</td>\n",
       "    </tr>\n",
       "    <tr>\n",
       "      <th>4645</th>\n",
       "      <td>Spain</td>\n",
       "      <td>Male</td>\n",
       "    </tr>\n",
       "    <tr>\n",
       "      <th>8943</th>\n",
       "      <td>France</td>\n",
       "      <td>Female</td>\n",
       "    </tr>\n",
       "    <tr>\n",
       "      <th>2936</th>\n",
       "      <td>Spain</td>\n",
       "      <td>Male</td>\n",
       "    </tr>\n",
       "    <tr>\n",
       "      <th>6207</th>\n",
       "      <td>Spain</td>\n",
       "      <td>Male</td>\n",
       "    </tr>\n",
       "  </tbody>\n",
       "</table>\n",
       "<p>8000 rows × 2 columns</p>\n",
       "</div>"
      ],
      "text/plain": [
       "          Geography  Gender\n",
       "RowNumber                  \n",
       "2152         France    Male\n",
       "8393        Germany    Male\n",
       "5007        Germany  Female\n",
       "4118         France    Male\n",
       "7183        Germany    Male\n",
       "...             ...     ...\n",
       "4556          Spain  Female\n",
       "4645          Spain    Male\n",
       "8943         France  Female\n",
       "2936          Spain    Male\n",
       "6207          Spain    Male\n",
       "\n",
       "[8000 rows x 2 columns]"
      ]
     },
     "execution_count": 28,
     "metadata": {},
     "output_type": "execute_result"
    }
   ],
   "source": [
    "X_train.loc[:, exam_list]"
   ]
  },
  {
   "cell_type": "code",
   "execution_count": null,
   "metadata": {},
   "outputs": [],
   "source": [
    "enc."
   ]
  },
  {
   "cell_type": "code",
   "execution_count": 24,
   "metadata": {},
   "outputs": [
    {
     "data": {
      "text/plain": [
       "Index(['CreditScore', 'Geography', 'Gender', 'Age', 'Tenure', 'Balance',\n",
       "       'NumOfProducts', 'HasCrCard', 'IsActiveMember', 'EstimatedSalary'],\n",
       "      dtype='object')"
      ]
     },
     "execution_count": 24,
     "metadata": {},
     "output_type": "execute_result"
    }
   ],
   "source": [
    "X_train.columns"
   ]
  },
  {
   "cell_type": "code",
   "execution_count": 23,
   "metadata": {},
   "outputs": [
    {
     "ename": "ValueError",
     "evalue": "input_features should have length equal to number of features (2), got 1",
     "output_type": "error",
     "traceback": [
      "\u001B[0;31m---------------------------------------------------------------------------\u001B[0m",
      "\u001B[0;31mValueError\u001B[0m                                Traceback (most recent call last)",
      "Cell \u001B[0;32mIn [23], line 2\u001B[0m\n\u001B[1;32m      1\u001B[0m exam_train \u001B[38;5;241m=\u001B[39m pd\u001B[38;5;241m.\u001B[39mDataFrame(enc\u001B[38;5;241m.\u001B[39mtransform(X_train\u001B[38;5;241m.\u001B[39mloc[:, exam_list])\u001B[38;5;241m.\u001B[39mtoarray(),\\\n\u001B[0;32m----> 2\u001B[0m                           columns\u001B[38;5;241m=\u001B[39m\u001B[43menc\u001B[49m\u001B[38;5;241;43m.\u001B[39;49m\u001B[43mget_feature_names\u001B[49m\u001B[43m(\u001B[49m\u001B[43m[\u001B[49m\u001B[43mX_train\u001B[49m\u001B[38;5;241;43m.\u001B[39;49m\u001B[43mcolumns\u001B[49m\u001B[43m]\u001B[49m\u001B[43m)\u001B[49m)\n\u001B[1;32m      3\u001B[0m exam_test \u001B[38;5;241m=\u001B[39m pd\u001B[38;5;241m.\u001B[39mDataFrame(enc\u001B[38;5;241m.\u001B[39mtransform(X_test\u001B[38;5;241m.\u001B[39mloc[:, exam_list])\u001B[38;5;241m.\u001B[39mtoarray(),\n\u001B[1;32m      4\u001B[0m                          columns\u001B[38;5;241m=\u001B[39menc\u001B[38;5;241m.\u001B[39mget_feature_names([X_train\u001B[38;5;241m.\u001B[39mcolumns]))\n",
      "File \u001B[0;32m~/opt/anaconda3/envs/practicum/lib/python3.9/site-packages/sklearn/preprocessing/_encoders.py:622\u001B[0m, in \u001B[0;36mOneHotEncoder.get_feature_names\u001B[0;34m(self, input_features)\u001B[0m\n\u001B[1;32m    620\u001B[0m     input_features \u001B[38;5;241m=\u001B[39m [\u001B[38;5;124m'\u001B[39m\u001B[38;5;124mx\u001B[39m\u001B[38;5;132;01m%d\u001B[39;00m\u001B[38;5;124m'\u001B[39m \u001B[38;5;241m%\u001B[39m i \u001B[38;5;28;01mfor\u001B[39;00m i \u001B[38;5;129;01min\u001B[39;00m \u001B[38;5;28mrange\u001B[39m(\u001B[38;5;28mlen\u001B[39m(cats))]\n\u001B[1;32m    621\u001B[0m \u001B[38;5;28;01melif\u001B[39;00m \u001B[38;5;28mlen\u001B[39m(input_features) \u001B[38;5;241m!=\u001B[39m \u001B[38;5;28mlen\u001B[39m(\u001B[38;5;28mself\u001B[39m\u001B[38;5;241m.\u001B[39mcategories_):\n\u001B[0;32m--> 622\u001B[0m     \u001B[38;5;28;01mraise\u001B[39;00m \u001B[38;5;167;01mValueError\u001B[39;00m(\n\u001B[1;32m    623\u001B[0m         \u001B[38;5;124m\"\u001B[39m\u001B[38;5;124minput_features should have length equal to number of \u001B[39m\u001B[38;5;124m\"\u001B[39m\n\u001B[1;32m    624\u001B[0m         \u001B[38;5;124m\"\u001B[39m\u001B[38;5;124mfeatures (\u001B[39m\u001B[38;5;132;01m{}\u001B[39;00m\u001B[38;5;124m), got \u001B[39m\u001B[38;5;132;01m{}\u001B[39;00m\u001B[38;5;124m\"\u001B[39m\u001B[38;5;241m.\u001B[39mformat(\u001B[38;5;28mlen\u001B[39m(\u001B[38;5;28mself\u001B[39m\u001B[38;5;241m.\u001B[39mcategories_),\n\u001B[1;32m    625\u001B[0m                                        \u001B[38;5;28mlen\u001B[39m(input_features)))\n\u001B[1;32m    627\u001B[0m feature_names \u001B[38;5;241m=\u001B[39m []\n\u001B[1;32m    628\u001B[0m \u001B[38;5;28;01mfor\u001B[39;00m i \u001B[38;5;129;01min\u001B[39;00m \u001B[38;5;28mrange\u001B[39m(\u001B[38;5;28mlen\u001B[39m(cats)):\n",
      "\u001B[0;31mValueError\u001B[0m: input_features should have length equal to number of features (2), got 1"
     ]
    }
   ],
   "source": [
    "exam_train = pd.DataFrame(enc.transform(X_train.loc[:, exam_list]).toarray(),\\\n",
    "                          columns=enc.get_feature_names([X_train.columns]))\n",
    "exam_test = pd.DataFrame(enc.transform(X_test.loc[:, exam_list]).toarray(),\n",
    "                         columns=enc.get_feature_names([X_train.columns]))"
   ]
  },
  {
   "cell_type": "code",
   "execution_count": 20,
   "metadata": {},
   "outputs": [
    {
     "ename": "AttributeError",
     "evalue": "'OneHotEncoder' object has no attribute 'get_feature_names_out'",
     "output_type": "error",
     "traceback": [
      "\u001B[0;31m---------------------------------------------------------------------------\u001B[0m",
      "\u001B[0;31mAttributeError\u001B[0m                            Traceback (most recent call last)",
      "Cell \u001B[0;32mIn [20], line 7\u001B[0m\n\u001B[1;32m      3\u001B[0m enc \u001B[38;5;241m=\u001B[39m OneHotEncoder(categories\u001B[38;5;241m=\u001B[39m\u001B[38;5;124m\"\u001B[39m\u001B[38;5;124mauto\u001B[39m\u001B[38;5;124m\"\u001B[39m, drop\u001B[38;5;241m=\u001B[39m\u001B[38;5;124m\"\u001B[39m\u001B[38;5;124mfirst\u001B[39m\u001B[38;5;124m\"\u001B[39m, handle_unknown\u001B[38;5;241m=\u001B[39m\u001B[38;5;124m'\u001B[39m\u001B[38;5;124merror\u001B[39m\u001B[38;5;124m'\u001B[39m)\n\u001B[1;32m      4\u001B[0m enc\u001B[38;5;241m.\u001B[39mfit(X_train\u001B[38;5;241m.\u001B[39mloc[:, exam_list])\n\u001B[1;32m      6\u001B[0m exam_train \u001B[38;5;241m=\u001B[39m pd\u001B[38;5;241m.\u001B[39mDataFrame(enc\u001B[38;5;241m.\u001B[39mtransform(X_train\u001B[38;5;241m.\u001B[39mloc[:, exam_list])\u001B[38;5;241m.\u001B[39mtoarray(),\\\n\u001B[0;32m----> 7\u001B[0m                           columns\u001B[38;5;241m=\u001B[39m\u001B[43menc\u001B[49m\u001B[38;5;241;43m.\u001B[39;49m\u001B[43mget_feature_names_out\u001B[49m([X_train\u001B[38;5;241m.\u001B[39mcolumns]))\n\u001B[1;32m      8\u001B[0m exam_test \u001B[38;5;241m=\u001B[39m pd\u001B[38;5;241m.\u001B[39mDataFrame(enc\u001B[38;5;241m.\u001B[39mtransform(X_test\u001B[38;5;241m.\u001B[39mloc[:, exam_list])\u001B[38;5;241m.\u001B[39mtoarray(),\n\u001B[1;32m      9\u001B[0m                          columns\u001B[38;5;241m=\u001B[39menc\u001B[38;5;241m.\u001B[39mget_feature_names_out([X_train\u001B[38;5;241m.\u001B[39mcolumns]))\n\u001B[1;32m     11\u001B[0m X_train \u001B[38;5;241m=\u001B[39m X_train\u001B[38;5;241m.\u001B[39mdrop(columns\u001B[38;5;241m=\u001B[39mexam_list, axis\u001B[38;5;241m=\u001B[39m\u001B[38;5;241m1\u001B[39m)\n",
      "\u001B[0;31mAttributeError\u001B[0m: 'OneHotEncoder' object has no attribute 'get_feature_names_out'"
     ]
    }
   ],
   "source": [
    "X_train = X_train.drop(columns=exam_list, axis=1)\n",
    "X_test = X_test.drop(columns=exam_list, axis=1)\n",
    "\n",
    "X_train = X_train.merge(pd.DataFrame(data=exam_train, index=X_train.index), left_index=True, right_index=True)\n",
    "X_test = X_test.merge(pd.DataFrame(data=exam_test, index=X_test.index), left_index=True, right_index=True)\n",
    "X_train"
   ]
  },
  {
   "cell_type": "markdown",
   "metadata": {},
   "source": [
    "<div class=\"alert alert-warning\" style=\"border-color: orange; border-radius: 5px\">\n",
    "    <p><u><b>⚠️ КОММЕНТАРИЙ РЕВЬЮЕРА v.1</b></u></p>\n",
    "    <p>Круто, что попробовал <code>OneHotEncoder</code> из библиотеки <code>sklearn</code> вместо <code>get_dummies</code> из <code>pandas</code>. Но у нас пропали названия признаков.</p>\n",
    "    <p>В ячейке ниже оставлю мой пример, в нем реализовано сохранение названий столбцов.</p>\n",
    "</div>"
   ]
  },
  {
   "cell_type": "raw",
   "metadata": {},
   "source": [
    "# Код ревьюера\n",
    "# Чтобы код сработал нужно применить переменные из этого проекта\n",
    "# удаляем первый столбец чтобы не попасть в дамми-ловушку\n",
    "var_categorical = ['Geography', 'Gender']\n",
    "\n",
    "encoder = OneHotEncoder(handle_unknown='ignore', drop='first')\n",
    "\n",
    "features_train_ohe = pd.DataFrame(\n",
    "    encoder.fit_transform(features_train[var_categorical]).toarray(),\n",
    "    columns=encoder.get_feature_names_out()\n",
    ")\n",
    "\n",
    "features_valid_ohe = pd.DataFrame(\n",
    "    encoder.transform(features_valid[var_categorical]).toarray(),\n",
    "    columns=encoder.get_feature_names_out()\n",
    ")\n",
    "\n",
    "features_test_ohe = pd.DataFrame(\n",
    "    encoder.transform(features_test[var_categorical]).toarray(),\n",
    "    columns=encoder.get_feature_names_out()\n",
    ")"
   ]
  },
  {
   "cell_type": "markdown",
   "metadata": {},
   "source": [
    "Выборка была разделена, мы можем перейти к пробному обучению моделей <br>\n",
    "В нашей задаче наблюдается сильный дисбаланс классов, что плохо сказывается на обучении модели<br>\n",
    "Посмотрим на результаты, оценивать модель будем по мере F1 - среднее гармоническое <br>\n",
    "Но вначале обучим StandardScaler на тренировочной выборке это позволит избежать утечкии и отформатируем признаки<br>"
   ]
  },
  {
   "cell_type": "code",
   "execution_count": null,
   "metadata": {},
   "outputs": [],
   "source": [
    "numeric = ['CreditScore', 'Age', 'Balance', 'EstimatedSalary', 'Tenure', 'NumOfProducts']\n",
    "scaler = StandardScaler().fit(X_train[numeric])\n",
    "\n",
    "X_train[numeric] = scaler.transform(X_train[numeric])\n",
    "X_test[numeric] = scaler.transform(X_test[numeric])\n",
    "X_train.head(3)"
   ]
  },
  {
   "cell_type": "markdown",
   "metadata": {},
   "source": [
    "<div class=\"alert alert-danger\" style=\"border-color: #8B0000; border-radius: 5px\">\n",
    "    <p><u><b>❌ КОММЕНТАРИЙ РЕВЬЮЕРА v.1</b></u></p>\n",
    "    <p>Алгоритмически масштабирование выполнено верно, но в списке numeric не хватает числовых признаков. Как думаешь, каких? Напомню, что масштабируются только числовые небинарные признаки. Также не забудь убрать из масштабирования валидационную выборку.</p>\n",
    "</div>"
   ]
  },
  {
   "cell_type": "markdown",
   "metadata": {},
   "source": [
    "<div style=\"background: #2A57DB; padding: 20px; border: 1px solid SteelBlue; border-radius: 5px;\">\n",
    "    <font color='#F3F5F2'><u><b></b></u></font>\n",
    "    <font color='#F3F5F2'>Поправил<br>\n",
    "\n",
    "</font>\n",
    "</div>"
   ]
  },
  {
   "cell_type": "markdown",
   "metadata": {},
   "source": [
    "<div class=\"alert alert-success\" style=\"border-color: green; border-radius: 5px\">\n",
    "    <p><u><b>✅ КОММЕНТАРИЙ РЕВЬЮЕРА v.2</b></u></p>\n",
    "    <p>Теперь масштабирование выполнено верно. Хорошо, что напечатал кусочек датасета для визуальной оценки результата.</p>\n",
    "</div>"
   ]
  },
  {
   "cell_type": "markdown",
   "metadata": {},
   "source": [
    "### Вывод подготовка данных\n",
    "В процессе подготовки заполнили пропуски в Tenure<br>\n",
    "Закодировали категориальные признаки избегая дамми-ловушки<br>\n",
    "Убрали признаки не имеющие влияния<br>\n",
    "Разбили сет на выборки в пропорциях <br>\n",
    "Обучающая 80%<br>\n",
    "Тестовая выборки по 20%<br>\n",
    "Масштабировали числовые признаки которые сильно разбегались по значениям<br>\n",
    "Данные подготовили, можем приступать к обучению моделей<br>"
   ]
  },
  {
   "cell_type": "markdown",
   "metadata": {},
   "source": [
    "<div class=\"alert alert-danger\" style=\"border-color: #8B0000; border-radius: 5px\">\n",
    "    <p><u><b>❌ КОММЕНТАРИЙ РЕВЬЮЕРА v.1</b></u></p>\n",
    "    <p>Максим. Ты проделал большую работу дальше по проекту. Но тут стоит внести некоторые изменения. Давай я напишу алгоритм, согласно которому этот проект приобретет нужную структуру и логику. Также оставлю пример кода для работы с GridSearchCV / RandomizedSearchCV. Договорились?</p>\n",
    "    <p>1. В пункте Исследование задачи сперва нужно определить баланс классов. Давай для наглядности можно показать это на графике.</p>\n",
    "    <p>2. Также в пункте Исследование задачи пробуем подобрать гиперпараметры для моделей без учета дисбаланса классов. Для этого применяем либо GridSearchCV, либо RandomizedSearchCV. Для каждой модели определяем перечень (словарь) с диапазонами гиперпараметров. Для каждой модели считаем F1 и ROC-AUC. По итогу исследования пишем вывод.</p>\n",
    "    <p>3. Начинаем пункт борьба с дисбалансом. Тут достаточно исследовать 2 способа борьбы с дисбалансом. Начнем со Взвешивания классов. Для этого берем те же модели как в пункте 2 нашего алгоритма. Применяем к ним такой же метод подбора гиперпараметров и те же перечни (словари) с гиперпараметрами. При этом Явно указываем при инициализации каждой модели параметр class_weight='balanced' (не передаем его в словарь с гиперпараметрами!!!). Для каждой модели считаем F1 и ROC-AUC. Пишем вывод.</p>\n",
    "    <p>4. Следующим в очереди исследуем downsampling, так как upsampling при кросс-валидации применять крайне нецелессобразно, поскольку мы получим \"утечку\" данных. Тут аналогично берем те же модели, применяем к ним такой же метод подбора гиперпараметров и те же перечни (словари) с гиперпараметрами. Для каждой модели считаем F1 и ROC-AUC. Пишем вывод. Обрати внимание, для функции downsample нужно верно подобрать параметр fraction (он равен не 0.1), это можно сделать зная баланс классов.</p>\n",
    "    <p>6. Подбор порогового значения давай уберем. Это не очень эффективный метод.</p>\n",
    "    <p>5. В итоге выбираем модель с наивысшей метрикой F1.</p>\n",
    "    <p>7. Эту модель используем для тестирования с теми гиперпараметрами, которые были подобраны. Считаем F1 и ROC-AUC. Пишем ввыод.</p>\n",
    "    <p>8. Пишем вывод ко всему проекту.</p>\n",
    "    <p>9. Король под горой найден! Профит.</p>\n",
    "</div>"
   ]
  },
  {
   "cell_type": "markdown",
   "metadata": {},
   "source": [
    "<div style=\"background: #2A57DB; padding: 20px; border: 1px solid SteelBlue; border-radius: 5px;\">\n",
    "    <font color='#F3F5F2'><u><b></b></u></font>\n",
    "    <font color='#F3F5F2'>Поправил<br>\n",
    "\n",
    "</font>\n",
    "</div>"
   ]
  },
  {
   "cell_type": "markdown",
   "metadata": {},
   "source": [
    "<div class=\"alert alert-danger\" style=\"border-color: #8B0000; border-radius: 5px\">\n",
    "    <p><u><b>❌ КОММЕНТАРИЙ РЕВЬЮЕРА v.1</b></u></p>\n",
    "    <p>А тут я расскажу тебе как наилучшим образом использовать GridSearchCV.</p>\n",
    "    <p>Для этого в ячейке ниже оставлю пример кода случайного леса. Твоя задача экстарполировать его на все эксперименты этого проекта.</p>\n",
    "    <p>Обрати внимание, что я нигде не применяю валидационную выборку, при этом получаю и лучшие гиперпараметры и лучшее среднее значение f1-меры и AUC-ROC.</p>\n",
    "</div>"
   ]
  },
  {
   "cell_type": "markdown",
   "metadata": {},
   "source": [
    "<div style=\"background: #2A57DB; padding: 20px; border: 1px solid SteelBlue; border-radius: 5px;\">\n",
    "    <font color='#F3F5F2'><u><b></b></u></font>\n",
    "    <font color='#F3F5F2'>Поправил<br>\n",
    "\n",
    "</font>\n",
    "</div>"
   ]
  },
  {
   "cell_type": "raw",
   "metadata": {},
   "source": [
    "%%time\n",
    "# Код ревьюера\n",
    "parameters = {\n",
    "    'n_estimators': range(50, 121, 5),\n",
    "    'max_depth': range(2, 11),\n",
    "}\n",
    "\n",
    "model = RandomForestClassifier(random_state=96)\n",
    "\n",
    "metrics = ['f1', 'roc_auc']\n",
    "# Обрати внимание я указал в scoring список мужных метрик,\n",
    "\n",
    "# А в refit указал 'f1', теперь GridSearchCV будет оптимизировать эту метрику\n",
    "search = GridSearchCV(model, parameters, cv=4, scoring=metrics, refit='f1')\n",
    "search.fit(X_train, y_train)\n",
    "results = search.cv_results_\n",
    "# Печатаем лучшие значения метрик и гиперпараметры\n",
    "print('F1:', '%.4f' %search.best_score_)\n",
    "print('AUC-ROC:', '%.4f' %results['mean_test_roc_auc'].mean())\n",
    "print(pd.Series(search.best_params_))"
   ]
  },
  {
   "cell_type": "markdown",
   "metadata": {},
   "source": [
    "<div class=\"alert alert-success\" style=\"border-color: green; border-radius: 5px\">\n",
    "    <p><u><b>✅ КОММЕНТАРИЙ РЕВЬЮЕРА v.2</b></u></p>\n",
    "    <p>Ок, сейчас все проверим.</p>\n",
    "</div>"
   ]
  },
  {
   "cell_type": "markdown",
   "metadata": {},
   "source": [
    "## Исследование задачи"
   ]
  },
  {
   "cell_type": "code",
   "execution_count": null,
   "metadata": {},
   "outputs": [],
   "source": [
    "# посмотрим на сбалансированность классов\n",
    "exam = y_train.value_counts()\n",
    "exam\n",
    "plt.figure(figsize=(6, 3))\n",
    "labels = ['Class 0', 'Class 1']\n",
    "plt.title('Баланс классов', weight='bold')\n",
    "plt.pie(exam, labels=labels, autopct='%.0f%%')\n",
    "plt.show()"
   ]
  },
  {
   "cell_type": "markdown",
   "metadata": {},
   "source": [
    "Наблюдается заметный дисбаланс классов <br>\n",
    "Class 0 = 80%   Class 1 =\n",
    "20%<br>\n",
    "Можно ожидать, что результаты предсказаний моделей будут сильно склоняться к одному варианту ответов<br>"
   ]
  },
  {
   "cell_type": "markdown",
   "metadata": {},
   "source": [
    "<div class=\"alert alert-success\" style=\"border-color: green; border-radius: 5px\">\n",
    "    <p><u><b>✅ КОММЕНТАРИЙ РЕВЬЮЕРА v.2</b></u></p>\n",
    "    <p>Исследование баланса (а точнее дисбаланса) классов проведено. Лайк за график!</p>\n",
    "</div>"
   ]
  },
  {
   "cell_type": "markdown",
   "metadata": {},
   "source": [
    "Обучим модели LogisticRegression, RandomForestClassifier и DecisionTreeClassifier без учета дисбаланса классов<br>"
   ]
  },
  {
   "cell_type": "markdown",
   "metadata": {},
   "source": [
    "Logistic regression basic"
   ]
  },
  {
   "cell_type": "code",
   "execution_count": null,
   "metadata": {},
   "outputs": [],
   "source": [
    "% % time\n",
    "parameters = {'C':np.logspace(1, 30, 3), 'solver':['newton-cg', 'lbfgs', 'liblinear'], }\n",
    "\n",
    "model = LogisticRegression(random_state=42)\n",
    "\n",
    "metrics = ['f1', 'roc_auc']\n",
    "# Обрати внимание я указал в scoring список мужных метрик,\n",
    "\n",
    "# А в refit указал 'f1', теперь GridSearchCV будет оптимизировать эту метрику\n",
    "search = GridSearchCV(model, parameters, cv=4, scoring=metrics, refit='f1')\n",
    "search.fit(X_train, y_train)\n",
    "results = search.cv_results_\n",
    "# Печатаем лучшие значения метрик и гиперпараметры\n",
    "print('F1:', '%.4f' % search.best_score_)\n",
    "print('AUC-ROC:', '%.4f' % results['mean_test_roc_auc'].mean())\n",
    "print(pd.Series(search.best_params_))"
   ]
  },
  {
   "cell_type": "code",
   "execution_count": null,
   "metadata": {},
   "outputs": [],
   "source": [
    "# создадим DataFrame в который будем записывать модели с характеристиками и заначение F1 и AUC-ROC\n",
    "result_final = (pd.DataFrame({'model':'Logistic regression', 'F1':round(search.best_score_, 4),\n",
    "                              'AUC-ROC':round(results['mean_test_roc_auc'].mean(), 4)}, index=[0]))\n",
    "\n",
    "\n",
    "def result_F1(result_final, model, F1, AUC_ROC):\n",
    "    result = (pd.concat(\n",
    "        [result_final, pd.Series({'model':model, 'F1':round(F1, 4), 'AUC-ROC':round(AUC_ROC, 4)}).to_frame().T],\n",
    "        ignore_index=True))\n",
    "    return result\n"
   ]
  },
  {
   "cell_type": "markdown",
   "metadata": {},
   "source": [
    "Random forest"
   ]
  },
  {
   "cell_type": "code",
   "execution_count": null,
   "metadata": {},
   "outputs": [],
   "source": [
    "% % time\n",
    "\n",
    "parameters = {'n_estimators':range(50, 121, 5), 'max_depth':range(2, 30, 5), }\n",
    "\n",
    "model = RandomForestClassifier(random_state=42)\n",
    "\n",
    "metrics = ['f1', 'roc_auc']\n",
    "# Обрати внимание я указал в scoring список мужных метрик,\n",
    "\n",
    "# А в refit указал 'f1', теперь GridSearchCV будет оптимизировать эту метрику\n",
    "search = GridSearchCV(model, parameters, cv=4, scoring=metrics, refit='f1')\n",
    "search.fit(X_train, y_train)\n",
    "results = search.cv_results_\n",
    "# Печатаем лучшие значения метрик и гиперпараметры\n",
    "print('F1:', '%.4f' % search.best_score_)\n",
    "print('AUC-ROC:', '%.4f' % results['mean_test_roc_auc'].mean())\n",
    "print(pd.Series(search.best_params_))\n",
    "\n",
    "result_final = (result_F1(result_final, 'Random forest', search.best_score_, results['mean_test_roc_auc'].mean()))"
   ]
  },
  {
   "cell_type": "markdown",
   "metadata": {},
   "source": [
    "DecisionTreeClassifier"
   ]
  },
  {
   "cell_type": "code",
   "execution_count": null,
   "metadata": {},
   "outputs": [],
   "source": [
    "% % time\n",
    "parameters = {'max_features':['auto', 'sqrt', 'log2'], 'ccp_alpha':[0.1, .01, .001], 'max_depth':[5, 6, 7, 8, 9],\n",
    "              'criterion':['gini', 'entropy']}\n",
    "\n",
    "model = DecisionTreeClassifier(random_state=42)\n",
    "\n",
    "metrics = ['f1', 'roc_auc']\n",
    "# Обрати внимание я указал в scoring список мужных метрик,\n",
    "\n",
    "# А в refit указал 'f1', теперь GridSearchCV будет оптимизировать эту метрику\n",
    "search = GridSearchCV(model, parameters, cv=4, scoring=metrics, refit='f1')\n",
    "search.fit(X_train, y_train)\n",
    "results = search.cv_results_\n",
    "# Печатаем лучшие значения метрик и гиперпараметры\n",
    "print('F1:', '%.4f' % search.best_score_)\n",
    "print('AUC-ROC:', '%.4f' % results['mean_test_roc_auc'].mean())\n",
    "print(pd.Series(search.best_params_))\n",
    "\n",
    "result_final = (\n",
    "    result_F1(result_final, 'DecisionTreeClassifier', search.best_score_, results['mean_test_roc_auc'].mean()))\n"
   ]
  },
  {
   "cell_type": "markdown",
   "metadata": {},
   "source": [
    "DecisionTreeClassifier class_balanced"
   ]
  },
  {
   "cell_type": "code",
   "execution_count": null,
   "metadata": {},
   "outputs": [],
   "source": [
    "result_final.drop_duplicates()"
   ]
  },
  {
   "cell_type": "markdown",
   "metadata": {},
   "source": [
    "### Вывод\n",
    "Модели обученные на выборке с дисбалансом классов все показывают высокий AUC-ROC <br>\n",
    "Выше 0.5 и если ориентироваться только на этот критерий, можно прийти к ложному выводу <br>\n",
    "Об адекватности модели<br>\n",
    "F1 мера более строгая, отражает гармоническое среднее полноты и точности и неспособна показывать<br>\n",
    "Высокие значения если одна из мер маленькая <br>\n",
    "Ориентироваться стоит на несколько метрик их обоюдные высокие значения можно принимать в расчёт<br>\n",
    "\n",
    "Лучший результат у модели Random forest F1 = 0.5767, AUC-ROC = 0.8483 <br>\n",
    "Возьмём её на заметку как перспективную<br>"
   ]
  },
  {
   "cell_type": "markdown",
   "metadata": {},
   "source": [
    "<div class=\"alert alert-warning\" style=\"border-color: orange; border-radius: 5px\">\n",
    "    <p><u><b>⚠️ КОММЕНТАРИЙ РЕВЬЮЕРА v.1</b></u></p>\n",
    "    <p>Очень круто. Эксперименты верные. Только стоит удалить мои комментарии из ячеек с кодом и добавить свои.</p>\n",
    "</div>"
   ]
  },
  {
   "cell_type": "markdown",
   "metadata": {},
   "source": [
    "## Борьба с дисбалансом"
   ]
  },
  {
   "cell_type": "markdown",
   "metadata": {},
   "source": [
    "Устранение дисбаланса, совершенствование моделей <br>\n",
    "Натягиваем сову на глобус"
   ]
  },
  {
   "cell_type": "code",
   "execution_count": null,
   "metadata": {},
   "outputs": [],
   "source": [
    "exam = np.bincount(y_train)\n",
    "print(f'Отношение меньшего класса ко всем признакам равно {exam[1] / sum(exam):,.2%}')"
   ]
  },
  {
   "cell_type": "markdown",
   "metadata": {},
   "source": [
    "Применим два способа устранения дисбаланса классов, <br>\n",
    "class_weight, downsampling <br>\n",
    "\n",
    "**class_weight**"
   ]
  },
  {
   "cell_type": "markdown",
   "metadata": {},
   "source": [
    "Logistic regression class_weight"
   ]
  },
  {
   "cell_type": "code",
   "execution_count": null,
   "metadata": {},
   "outputs": [],
   "source": [
    "% % time\n",
    "parameters = {'C':np.logspace(1, 30, 3), 'solver':['newton-cg', 'lbfgs', 'liblinear'], }\n",
    "\n",
    "model = LogisticRegression(random_state=42, class_weight='balanced')\n",
    "\n",
    "metrics = ['f1', 'roc_auc']\n",
    "# Обрати внимание я указал в scoring список мужных метрик,\n",
    "\n",
    "# А в refit указал 'f1', теперь GridSearchCV будет оптимизировать эту метрику\n",
    "search = GridSearchCV(model, parameters, cv=4, scoring=metrics, refit='f1')\n",
    "search.fit(X_train, y_train)\n",
    "results = search.cv_results_\n",
    "# Печатаем лучшие значения метрик и гиперпараметры\n",
    "print('F1:', '%.4f' % search.best_score_)\n",
    "print('AUC-ROC:', '%.4f' % results['mean_test_roc_auc'].mean())\n",
    "print(pd.Series(search.best_params_))\n",
    "\n",
    "result_final = (result_F1(result_final, 'Logistic regression class_weight', search.best_score_,\n",
    "                          results['mean_test_roc_auc'].mean()))"
   ]
  },
  {
   "cell_type": "markdown",
   "metadata": {},
   "source": [
    "Random forest class_weight"
   ]
  },
  {
   "cell_type": "code",
   "execution_count": null,
   "metadata": {},
   "outputs": [],
   "source": [
    "% % time\n",
    "\n",
    "parameters = {'n_estimators':range(50, 121, 5), 'max_depth':range(2, 30, 5), }\n",
    "\n",
    "model = RandomForestClassifier(random_state=42, class_weight='balanced')\n",
    "\n",
    "metrics = ['f1', 'roc_auc']\n",
    "# Обрати внимание я указал в scoring список мужных метрик,\n",
    "\n",
    "# А в refit указал 'f1', теперь GridSearchCV будет оптимизировать эту метрику\n",
    "search = GridSearchCV(model, parameters, cv=4, scoring=metrics, refit='f1')\n",
    "search.fit(X_train, y_train)\n",
    "results = search.cv_results_\n",
    "# Печатаем лучшие значения метрик и гиперпараметры\n",
    "print('F1:', '%.4f' % search.best_score_)\n",
    "print('AUC-ROC:', '%.4f' % results['mean_test_roc_auc'].mean())\n",
    "print(pd.Series(search.best_params_))\n",
    "\n",
    "result_final = (\n",
    "    result_F1(result_final, 'Random forest class_weight', search.best_score_, results['mean_test_roc_auc'].mean()))"
   ]
  },
  {
   "cell_type": "markdown",
   "metadata": {},
   "source": [
    "DecisionTreeClassifier class_weight"
   ]
  },
  {
   "cell_type": "code",
   "execution_count": null,
   "metadata": {},
   "outputs": [],
   "source": [
    "% % time\n",
    "parameters = {'max_features':['auto', 'sqrt', 'log2'], 'ccp_alpha':[0.1, .01, .001], 'max_depth':[5, 6, 7, 8, 9],\n",
    "              'criterion':['gini', 'entropy']}\n",
    "\n",
    "model = DecisionTreeClassifier(random_state=42, class_weight='balanced')\n",
    "\n",
    "metrics = ['f1', 'roc_auc']\n",
    "# Обрати внимание я указал в scoring список мужных метрик,\n",
    "\n",
    "# А в refit указал 'f1', теперь GridSearchCV будет оптимизировать эту метрику\n",
    "search = GridSearchCV(model, parameters, cv=4, scoring=metrics, refit='f1')\n",
    "search.fit(X_train, y_train)\n",
    "results = search.cv_results_\n",
    "# Печатаем лучшие значения метрик и гиперпараметры\n",
    "print('F1:', '%.4f' % search.best_score_)\n",
    "print('AUC-ROC:', '%.4f' % results['mean_test_roc_auc'].mean())\n",
    "print(pd.Series(search.best_params_))\n",
    "\n",
    "result_final = (result_F1(result_final, 'DecisionTreeClassifier class_weight', search.best_score_,\n",
    "                          results['mean_test_roc_auc'].mean()))"
   ]
  },
  {
   "cell_type": "markdown",
   "metadata": {},
   "source": [
    "<div class=\"alert alert-warning\" style=\"border-color: orange; border-radius: 5px\">\n",
    "    <p><u><b>⚠️ КОММЕНТАРИЙ РЕВЬЮЕРА v.1</b></u></p>\n",
    "    <p>Тут тоже все ок. Аналогичное замечание - стоит удалить мои комментарии из ячеек с кодом и добавить свои.</p>\n",
    "</div>"
   ]
  },
  {
   "cell_type": "markdown",
   "metadata": {},
   "source": [
    "**Downsampling**"
   ]
  },
  {
   "cell_type": "code",
   "execution_count": null,
   "metadata": {},
   "outputs": [],
   "source": [
    "def downsample(features, target, fraction):\n",
    "    features_zeros = features[target == 0]\n",
    "    features_ones = features[target == 1]\n",
    "    target_zeros = target[target == 0]\n",
    "    target_ones = target[target == 1]\n",
    "\n",
    "    features_sample = features_zeros.sample(frac=fraction, random_state=12345)\n",
    "    target_sample = target_zeros.sample(frac=fraction, random_state=12345)\n",
    "\n",
    "    features_downsampled = pd.concat([features_sample] + [features_ones])\n",
    "    target_downsampled = pd.concat([target_sample] + [target_ones])\n",
    "\n",
    "    features_downsampled = shuffle(features_downsampled, random_state=12345)\n",
    "    target_downsampled = shuffle(target_downsampled, random_state=12345)\n",
    "\n",
    "    return features_downsampled, target_downsampled\n",
    "\n",
    "\n",
    "X_downsampled, y_downsampled = downsample(X_train, y_train, 0.26)\n",
    "\n",
    "exam = np.bincount(y_downsampled)\n",
    "print(f'Отношение класса 0 ко всем признакам равно {exam[0] / sum(exam):,.2%}')"
   ]
  },
  {
   "cell_type": "markdown",
   "metadata": {},
   "source": [
    "<div class=\"alert alert-success\" style=\"border-color: green; border-radius: 5px\">\n",
    "    <p><u><b>✅ КОММЕНТАРИЙ РЕВЬЮЕРА v.2</b></u></p>\n",
    "    <p>Отлично, теперь параметр fraction подобран верно, молодец.</p>\n",
    "</div>"
   ]
  },
  {
   "cell_type": "markdown",
   "metadata": {},
   "source": [
    "Logistic regression downsampled"
   ]
  },
  {
   "cell_type": "code",
   "execution_count": null,
   "metadata": {},
   "outputs": [],
   "source": [
    "% % time\n",
    "parameters = {'C':np.logspace(1, 30, 3), 'solver':['newton-cg', 'lbfgs', 'liblinear'], }\n",
    "\n",
    "model = LogisticRegression(random_state=42)\n",
    "\n",
    "metrics = ['f1', 'roc_auc']\n",
    "# Обрати внимание я указал в scoring список мужных метрик,\n",
    "\n",
    "# А в refit указал 'f1', теперь GridSearchCV будет оптимизировать эту метрику\n",
    "search = GridSearchCV(model, parameters, cv=4, scoring=metrics, refit='f1')\n",
    "search.fit(X_downsampled, y_downsampled)\n",
    "results = search.cv_results_\n",
    "# Печатаем лучшие значения метрик и гиперпараметры\n",
    "print('F1:', '%.4f' % search.best_score_)\n",
    "print('AUC-ROC:', '%.4f' % results['mean_test_roc_auc'].mean())\n",
    "print(pd.Series(search.best_params_))\n",
    "\n",
    "result_final = (\n",
    "    result_F1(result_final, 'Logistic regression downsampled', search.best_score_, results['mean_test_roc_auc'].mean()))"
   ]
  },
  {
   "cell_type": "markdown",
   "metadata": {},
   "source": [
    "Random forest downsampled"
   ]
  },
  {
   "cell_type": "code",
   "execution_count": null,
   "metadata": {},
   "outputs": [],
   "source": [
    "% % time\n",
    "\n",
    "parameters = {'n_estimators':range(50, 121, 5), 'max_depth':range(2, 30, 5), }\n",
    "\n",
    "model = RandomForestClassifier(random_state=42)\n",
    "\n",
    "metrics = ['f1', 'roc_auc']\n",
    "# Обрати внимание я указал в scoring список мужных метрик,\n",
    "\n",
    "# А в refit указал 'f1', теперь GridSearchCV будет оптимизировать эту метрику\n",
    "search = GridSearchCV(model, parameters, cv=4, scoring=metrics, refit='f1')\n",
    "search.fit(X_downsampled, y_downsampled)\n",
    "results = search.cv_results_\n",
    "# Печатаем лучшие значения метрик и гиперпараметры\n",
    "print('F1:', '%.4f' % search.best_score_)\n",
    "print('AUC-ROC:', '%.4f' % results['mean_test_roc_auc'].mean())\n",
    "print(pd.Series(search.best_params_))\n",
    "\n",
    "result_final = (\n",
    "    result_F1(result_final, 'Random forest downsampled', search.best_score_, results['mean_test_roc_auc'].mean()))"
   ]
  },
  {
   "cell_type": "markdown",
   "metadata": {},
   "source": [
    "DecisionTreeClassifier downsampled"
   ]
  },
  {
   "cell_type": "code",
   "execution_count": null,
   "metadata": {},
   "outputs": [],
   "source": [
    "% % time\n",
    "parameters = {'max_features':['auto', 'sqrt', 'log2'], 'ccp_alpha':[0.1, .01, .001], 'max_depth':[5, 6, 7, 8, 9],\n",
    "              'criterion':['gini', 'entropy']}\n",
    "\n",
    "model = DecisionTreeClassifier(random_state=42)\n",
    "\n",
    "metrics = ['f1', 'roc_auc']\n",
    "# Обрати внимание я указал в scoring список мужных метрик,\n",
    "\n",
    "# А в refit указал 'f1', теперь GridSearchCV будет оптимизировать эту метрику\n",
    "search = GridSearchCV(model, parameters, cv=4, scoring=metrics, refit='f1')\n",
    "search.fit(X_downsampled, y_downsampled)\n",
    "results = search.cv_results_\n",
    "# Печатаем лучшие значения метрик и гиперпараметры\n",
    "print('F1:', '%.4f' % search.best_score_)\n",
    "print('AUC-ROC:', '%.4f' % results['mean_test_roc_auc'].mean())\n",
    "print(pd.Series(search.best_params_))\n",
    "\n",
    "result_final = (result_F1(result_final, 'DecisionTreeClassifier downsampled', search.best_score_,\n",
    "                          results['mean_test_roc_auc'].mean()))"
   ]
  },
  {
   "cell_type": "code",
   "execution_count": null,
   "metadata": {},
   "outputs": [],
   "source": [
    "fig = plt.figure(figsize=(13, 8))\n",
    "plt.subplots_adjust(wspace=1, hspace=0.5)\n",
    "ax_1 = fig.add_subplot(2, 2, 1)\n",
    "ax_2 = fig.add_subplot(2, 2, 2)\n",
    "\n",
    "sns.barplot(data=result_final.sort_values(by='F1'), x=\"F1\", y=\"model\", ax=ax_1,\n",
    "\n",
    "    capsize=1, linewidth=1, );\n",
    "ax_1.set_title('Качество F1 ')\n",
    "\n",
    "sns.barplot(data=result_final.sort_values(by='F1'), x=\"AUC-ROC\", y=\"model\", ax=ax_2,\n",
    "\n",
    "    capsize=1, linewidth=1, );\n",
    "ax_2.set_title('Качество AUC_ROC ')\n",
    "plt.show()\n",
    "\n",
    "for i in result_final.sort_values(by='F1').values:\n",
    "    if i[1] >= 0.59:\n",
    "        print(f'Модели удовлетворяющие условию: {i[0]}, F1 = {i[1]}, AUC_ROC = {i[2]}')"
   ]
  },
  {
   "cell_type": "code",
   "execution_count": null,
   "metadata": {},
   "outputs": [],
   "source": [
    "result_final"
   ]
  },
  {
   "cell_type": "markdown",
   "metadata": {},
   "source": [
    "<div class=\"alert alert-warning\" style=\"border-color: orange; border-radius: 5px\">\n",
    "    <p><u><b>⚠️ КОММЕНТАРИЙ РЕВЬЮЕРА v.1</b></u></p>\n",
    "    <p>Тут тоже все ок. Аналогичное замечание - стоит удалить мои комментарии из ячеек с кодом и добавить свои.</p>\n",
    "</div>"
   ]
  },
  {
   "cell_type": "markdown",
   "metadata": {},
   "source": [
    "\n",
    "### Вывод\n",
    "Балансировка классов downsapled and class_weight справились <br>\n",
    "Значение F1 увеличилось <br>\n",
    "AUC_ROC с class_weight увеличился незначительно, а с downsapled уменьшился <br>\n",
    "\n",
    "Модель с лучшими показателями Random forest downsampled  <br>\n",
    "Используем её для теста"
   ]
  },
  {
   "cell_type": "markdown",
   "metadata": {},
   "source": [
    "<div class=\"alert alert-success\" style=\"border-color: green; border-radius: 5px\">\n",
    "    <p><u><b>✅ КОММЕНТАРИЙ РЕВЬЮЕРА v.1</b></u></p>\n",
    "    <p>Ок, вывод есть.</p>\n",
    "</div>"
   ]
  },
  {
   "cell_type": "markdown",
   "metadata": {},
   "source": [
    "## Тестирование модели"
   ]
  },
  {
   "cell_type": "code",
   "execution_count": null,
   "metadata": {},
   "outputs": [],
   "source": [
    "% % time\n",
    "model_rfc = RandomForestClassifier(random_state=42, max_depth=7, n_estimators=105)\n",
    "model_rfc.fit(X_downsampled, y_downsampled)\n",
    "\n",
    "predictions_test = model_rfc.predict(X_test)\n",
    "test_f1 = f1_score(y_test, predictions_test)\n",
    "\n",
    "probabilities_valid = model_rfc.predict_proba(X_test)\n",
    "probabilities_one_valid = probabilities_valid[:, 1]\n",
    "test_auc_roc = roc_auc_score(y_test, probabilities_one_valid)\n",
    "\n"
   ]
  },
  {
   "cell_type": "code",
   "execution_count": null,
   "metadata": {},
   "outputs": [],
   "source": [
    "fpr1, tpr1, thresholds = roc_curve(y_test, probabilities_one_valid)\n",
    "\n",
    "plt.figure(figsize=(5, 4))\n",
    "plt.plot(fpr1, tpr1, linestyle='-')\n",
    "plt.plot([0, 1], [0, 1], linestyle='--')\n",
    "plt.xlim([0.0, 1.0])\n",
    "plt.ylim([0.0, 1.0])\n",
    "plt.xlabel('False Positive Rate')\n",
    "plt.ylabel('True Positive Rate')\n",
    "plt.title('ROC-curve')\n",
    "\n",
    "plt.show()\n",
    "\n",
    "print(f'AUC_ROC на test выборке равен {test_auc_roc:,.2}')\n",
    "print(f'F1-мера на test выборке равен {test_f1:,.2}')"
   ]
  },
  {
   "cell_type": "markdown",
   "metadata": {},
   "source": [
    "### Вывод\n",
    "Проверка модели на тестовых данных показала удовлетворительный результат <br>\n",
    "Гармоническая средняя F1 равна 0.6, что выше заданной величины 0.59 <br>\n",
    "Это значит, что мы справились и выполнили работу<br>\n",
    "Величина AUC_ROC равна 0.86 также подтверждает адекватность модели"
   ]
  },
  {
   "cell_type": "markdown",
   "metadata": {},
   "source": [
    "Финальное решение<br>\n",
    "Модель с лучшими результатами и гиперпараметрами:<br>\n",
    "\n",
    "Лучший результат от метода балансировки классов downsampled<br>\n",
    "Модель с лучшими параметрами <br>\n",
    "RandomForestClassifier(random_state=42, max_depth=12, n_estimators=90) <br>"
   ]
  },
  {
   "cell_type": "markdown",
   "metadata": {},
   "source": [
    "## Вывод\n",
    "\n",
    "В процессе подготовки заполнили пропуски в Tenure<br>\n",
    "Закодировали категориальные признаки избегая дамми-ловушки<br>\n",
    "Убрали признаки не имеющие влияния<br>\n",
    "Разбили сет на выборки в пропорциях<br>\n",
    "Обучающая 80%<br>\n",
    "Тестовая выборки по 20%<br>\n",
    "Масштабировали числовые признаки которые сильно разбегались по значениям <br>\n",
    "\n",
    "Первоначальные обученные модели с дисбалансом классов показывали слабый результат<br>\n",
    "Кроме модели Random forest она показала <br>\n",
    "Величину  F1 0.5735 <br>\n",
    "\n",
    "Модели обученные на выборке с дисбалансом классов показывают высокий AUC-ROC<br>\n",
    "Выше 0.5 и если ориентироваться только на этот критерий, можно прийти к ложному выводу<br>\n",
    "Об адекватности модели<br>\n",
    "F1 мера более строгая, отражает гармоническое среднее полноты и точности и неспособна показывать<br>\n",
    "Высокие значения если одна из мер маленькая<br>\n",
    "Ориентироваться стоит только на несколько метрик их обоюдные высокие значения можно принимать в расчёт<br>\n",
    "\n",
    "Балансировка классов downsapled and class_weight справились<br>\n",
    "Значение F1 увеличилось<br>\n",
    "AUC_ROC с class_weight увеличился не значительно, а с downsapled уменьшился<br>\n",
    "\n",
    "Проверка модели на тестовых данных показала удовлетворительный результат<br>\n",
    "Гармоническая средняя F1 равна 0.6, что выше заданной величины 0.59<br>\n",
    "Это значит, что мы справились и выполнили работу<br>\n",
    "Величина AUC_ROC равна 0.86 также подтверждает адекватность модели<br>"
   ]
  },
  {
   "cell_type": "markdown",
   "metadata": {},
   "source": [
    "<div class=\"alert alert-warning\" style=\"border-color: orange; border-radius: 5px\">\n",
    "    <p><u><b>⚠️ КОММЕНТАРИЙ РЕВЬЮЕРА v.1</b></u></p>\n",
    "    <p>Отлично вывод на месте. Не забудь откорректировать его после внесения изменений в проект.</p>\n",
    "</div>"
   ]
  },
  {
   "cell_type": "markdown",
   "metadata": {},
   "source": [
    "<div class=\"alert alert-success\" style=\"border-color: green; border-radius: 5px\">\n",
    "    <p><u><b>✅ КОММЕНТАРИЙ РЕВЬЮЕРА v.2</b></u></p>\n",
    "    <p>Вывод на месте. Молодец, что указал достигнутые значения метрик.</p>\n",
    "</div>"
   ]
  },
  {
   "cell_type": "markdown",
   "metadata": {},
   "source": [
    "<div style=\"background: #2A57DB; padding: 20px; border: 1px solid SteelBlue; border-radius: 5px;\">\n",
    "    <font color='#F3F5F2'><u><b></b></u></font>\n",
    "    <font color='#F3F5F2'>Вопрос<br>\n",
    "        Объясни пожалуйста, как получается утечка при upsempled с методом GridSearchCV?<br>\n",
    "\n",
    "</font>\n",
    "</div>"
   ]
  },
  {
   "cell_type": "markdown",
   "metadata": {},
   "source": [
    "<div class=\"alert alert-success\" style=\"border-color: green; border-radius: 5px\">\n",
    "    <p><u><b>✅ КОММЕНТАРИЙ РЕВЬЮЕРА v.2</b></u></p>\n",
    "    <p>Смотри. При помощи метода Upsampling мы искусственно увеличиваем представителей класса 1 путем простого копирования их несколько раз. То есть в тренирововчной выборке появляются дубликаты.</p>\n",
    "    <p>Кросс-валидация делит тренировочную выборку на фолды (например 4 штуки) и при каждой следующей итерации выбирает три из ник как трейн а четвертый как валидационную выборку. Следовательно, наши дублированные данные оказываются одновременно и в трейне и в валидации.</p>\n",
    "    <p>При этом модель конечно же даст отличные метрики при подборе гиперпараметров. Но они будут невалидны, так как на тесте модель провлится.</p>\n",
    "</div>"
   ]
  },
  {
   "cell_type": "markdown",
   "metadata": {},
   "source": [
    "## Чек-лист готовности проекта"
   ]
  },
  {
   "cell_type": "markdown",
   "metadata": {},
   "source": [
    "Поставьте 'x' в выполненных пунктах. Далее нажмите Shift+Enter."
   ]
  },
  {
   "cell_type": "markdown",
   "metadata": {},
   "source": [
    "- [x]  Jupyter Notebook открыт\n",
    "- [x]  Весь код выполняется без ошибок\n",
    "- [x]  Ячейки с кодом расположены в порядке исполнения\n",
    "- [x]  Выполнен шаг 1: данные подготовлены\n",
    "- [x]  Выполнен шаг 2: задача исследована\n",
    "    - [x]  Исследован баланс классов\n",
    "    - [x]  Изучены модели без учёта дисбаланса\n",
    "    - [x]  Написаны выводы по результатам исследования\n",
    "- [x]  Выполнен шаг 3: учтён дисбаланс\n",
    "    - [x]  Применено несколько способов борьбы с дисбалансом\n",
    "    - [x]  Написаны выводы по результатам исследования\n",
    "- [x]  Выполнен шаг 4: проведено тестирование\n",
    "- [x]  Удалось достичь *F1*-меры не менее 0.59\n",
    "- [x]  Исследована метрика *AUC-ROC*"
   ]
  },
  {
   "cell_type": "markdown",
   "metadata": {},
   "source": [
    "## Финальные комментарии ревьюера"
   ]
  },
  {
   "cell_type": "markdown",
   "metadata": {},
   "source": [
    "<div class=\"alert alert-danger\" style=\"border-color: #8B0000; border-radius: 5px\">\n",
    "    <p><u><b>❌ КОММЕНТАРИЙ РЕВЬЮЕРА v.1</b></u></p>\n",
    "    <p>Максим, это супер крутой проект. Видно, что ты старался и очень системно подошел к работе. Осталось немного. Думаю, тебе не составит труда исправить замечания и вернуть мне тетредку на повторную проверку! Я постарался подробно их описать. Если возникнут вопросы задавай.</p>\n",
    "    <p>Успехов!</p>\n",
    "</div>"
   ]
  },
  {
   "cell_type": "markdown",
   "metadata": {},
   "source": [
    "<div class=\"alert alert-success\" style=\"border-color: green; border-radius: 5px\">\n",
    "    <p><u><b>✅ КОММЕНТАРИЙ РЕВЬЮЕРА v.2</b></u></p>\n",
    "    <p>Максим, мы добрались до зачета по всем пунктам, замечаний больше нет. Ты молодец! Особенно хвалю за то, что попробовал <code>OneHotEncoder</code> и за структурированность проекта.</p>\n",
    "    <p>Надеюсь тебя посетило то классное чувство профессиональной прокачки по ходу решения.</p>\n",
    "    <p>Для систематизации знаний делюсь с тобой ссылкой на учебник по ML от ШАД:</p>\n",
    "\n",
    "https://ml-handbook.ru/</p>\n",
    "\n",
    "<p>Тут много полезного по метематике:</p>\n",
    "\n",
    "http://mathprofi.ru/</p>\n",
    "\n",
    "<p>Очень классный бесплатный тренажер по SQL (SQL вы будуте проходить дальше в курсе, он крайне важен для работы, так что лучше начать изучать его заранее):</p>\n",
    "\n",
    "https://sql-ex.ru/</p>\n",
    "\n",
    "<p>Настоятельно рекомендую пройти серию курсов по статистике на Stepik:</p>\n",
    "\n",
    "https://stepik.org/course/76/syllabus</p>\n",
    "\n",
    "<p>Там же на Stepik очень много полезных бесплатных курсов по Python, Ананлизу данных и DS.</p>\n",
    "<p>Желаю не останавливаться на пути к поставленной цели. Все получится!</p>\n",
    "</div>"
   ]
  },
  {
   "cell_type": "code",
   "execution_count": null,
   "metadata": {},
   "outputs": [],
   "source": []
  },
  {
   "cell_type": "raw",
   "metadata": {},
   "source": [
    "Имеем 10000 объектов \n",
    "Пропуски только в признаке Tenure \n",
    "Видимых аномалий в числовых данных нет"
   ]
  },
  {
   "cell_type": "markdown",
   "metadata": {},
   "source": [
    "<div class=\"alert alert-success\" style=\"border-color: green; border-radius: 5px\">\n",
    "    <p><u><b>✅ КОММЕНТАРИЙ РЕВЬЮЕРА v.1</b></u></p>\n",
    "    <p>Данные загружены, отлично. Молодец, что используешь инструкцию <code>try-except</code>.</p>\n",
    "    <p>Хорошо, что применяешь метод <code>.head()</code> таким образом мы можем визуально оценить структуру датасета.</p>\n",
    "    <p>Методы <code>.info()</code> и <code>.describe()</code> также обязательны к применению в таких задачах, с их помощью можно получить первые инсайты. И они на месте.</p>\n",
    "</div>"
   ]
  },
  {
   "cell_type": "code",
   "execution_count": null,
   "metadata": {},
   "outputs": [],
   "source": [
    "# Проверим на дубликаты\n",
    "s = data.duplicated().sum()\n",
    "print(f'Количество дубликатов в данных равно {s}')"
   ]
  },
  {
   "cell_type": "markdown",
   "metadata": {},
   "source": [
    "<div class=\"alert alert-success\" style=\"border-color: green; border-radius: 5px\">\n",
    "    <p><u><b>✅ КОММЕНТАРИЙ РЕВЬЮЕРА v.1</b></u></p>\n",
    "    <p>Хорошо, что проверил на дубликаты, это важно!</p>\n",
    "</div>"
   ]
  },
  {
   "cell_type": "code",
   "execution_count": null,
   "metadata": {},
   "outputs": [],
   "source": [
    "# посмотрим отношение Tenure по группам среди ушедших и оставшихся клиентов\n",
    "exam = data[['Exited', 'Tenure']].copy()\n",
    "exam['Exited'] = exam['Exited'].apply(lambda x:'stayed' if x == 0 else 'left')\n",
    "exam = pd.DataFrame(exam.groupby(['Exited', 'Tenure'])['Tenure'].agg(['size']).reset_index())\n",
    "exam.columns = ['Exited', 'Tenure', 'count']\n",
    "exam['percent'] = round((exam['count'] / exam.groupby('Exited')['count'].transform('sum') * 100), 2)\n",
    "\n",
    "plt.figure(figsize=(12, 4))\n",
    "sns.set_style(\"darkgrid\")\n",
    "ax = sns.barplot(x='Exited', n_boot=1, y='percent', hue='Tenure', data=exam);\n",
    "ax.set_title('отношение оттока и оставшихся по Tenure в %', weight='bold');\n",
    "plt.show()\n"
   ]
  },
  {
   "cell_type": "code",
   "execution_count": null,
   "metadata": {},
   "outputs": [],
   "source": [
    "# посмотрем отношение Tenure по группам ушедших и оставшихся с пропусками\n",
    "exam = data[['Exited', 'Tenure']].copy()\n",
    "exam['isna_Tenure'] = exam['Tenure'].isna().astype(int)\n",
    "exam = pd.DataFrame(exam.groupby(['Exited', 'isna_Tenure'])['isna_Tenure'].agg(['size']).reset_index())\n",
    "exam.columns = ['Exited', 'isna_Tenure', 'count']\n",
    "\n",
    "plt.figure(figsize=(6, 3))\n",
    "sns.set_style(\"darkgrid\")\n",
    "ax = sns.barplot(x='isna_Tenure', n_boot=1, y='count', hue='Exited', data=exam);\n",
    "ax.set_title('пропуски и заполненые Tenure', weight='bold');\n",
    "plt.show()"
   ]
  },
  {
   "cell_type": "raw",
   "metadata": {},
   "source": [
    "В процентном отношении Tenure ушедшие и оставшиеся имеют схожее распределение с незначительными различиями\n",
    "Пропуски в Tenure относительно Exited видимых аномалий не имеют\n",
    "Понять природу пропусков в Tenure не удалось заполним их случайными сзначениями в рамках диапазона Tenure"
   ]
  },
  {
   "cell_type": "code",
   "execution_count": null,
   "metadata": {},
   "outputs": [],
   "source": [
    "pd.DataFrame(data['Tenure'].describe()).T"
   ]
  },
  {
   "cell_type": "code",
   "execution_count": null,
   "metadata": {},
   "outputs": [],
   "source": [
    "exam = (np.random.randint(0, 10, size=data['Tenure'].isna().sum()))\n",
    "data.loc[data['Tenure'].isna(), 'Tenure'] = exam\n",
    "pd.DataFrame(data['Tenure'].describe()).T"
   ]
  },
  {
   "cell_type": "markdown",
   "metadata": {},
   "source": [
    "<div class=\"alert alert-success\" style=\"border-color: green; border-radius: 5px\">\n",
    "    <p><u><b>✅ КОММЕНТАРИЙ РЕВЬЮЕРА v.2</b></u></p>\n",
    "    <p>Ты выбрал приемлимый вариант для заполнения пропусков в данном случае. Также можно было заполнить просто медианным значением, таким образом мы бы практически не нарушили статистические показатели данных.</p>\n",
    "    <p>К заполнению пропусков можно вернуться после получения результатов работы моделей и попробовать другие варианты.</p>\n",
    "    <p>А в реальной жизни с этим вопросом можно обратиться к коллегам, чтобы уточнить причины возникновения пропущенных значений.</p>\n",
    "</div>"
   ]
  },
  {
   "cell_type": "raw",
   "metadata": {},
   "source": [
    "В данных есть признаки, которые не оказывают влияния на результат, это CustomerId, Surname уберём их за ненадобностью \n",
    "Есть категориальные признаки Geography, Gender закодируем их используя OneHotEncoder избегая дамми-ловушки с помощью drop_first=True"
   ]
  },
  {
   "cell_type": "code",
   "execution_count": null,
   "metadata": {},
   "outputs": [],
   "source": [
    "data.head()"
   ]
  },
  {
   "cell_type": "code",
   "execution_count": null,
   "metadata": {},
   "outputs": [],
   "source": [
    "# как говорил Микеланджело \"Я беру камень и отсекаю всё лишнее\"\n",
    "X = data.drop(['CustomerId', 'Surname'], axis=1).copy()"
   ]
  },
  {
   "cell_type": "markdown",
   "metadata": {},
   "source": [
    "<div class=\"alert alert-warning\" style=\"border-color: orange; border-radius: 5px\">\n",
    "    <p><u><b>⚠️ КОММЕНТАРИЙ РЕВЬЮЕРА v.2</b></u></p>\n",
    "    <p>Столбцы для удаления выбраны верно. Молодец!</p>\n",
    "    <p>Только их удаление лучше указать явно, с помощью метода <code>.drop()</code>, а не срезом <code>loc</code>, поскольку если вдруг порядок столбцов изменится, то твой метод не сработает как надо.</p>\n",
    "</div>"
   ]
  },
  {
   "cell_type": "markdown",
   "metadata": {},
   "source": [
    "<div style=\"background: #2A57DB; padding: 20px; border: 1px solid SteelBlue; border-radius: 5px;\">\n",
    "    <font color='#F3F5F2'><u><b></b></u></font>\n",
    "    <font color='#F3F5F2'>Поправил<br>\n",
    "       \n",
    "</font>\n",
    "</div>"
   ]
  },
  {
   "cell_type": "markdown",
   "metadata": {},
   "source": [
    "<div class=\"alert alert-success\" style=\"border-color: green; border-radius: 5px\">\n",
    "    <p><u><b>✅ КОММЕНТАРИЙ РЕВЬЮЕРА v.2</b></u></p>\n",
    "    <p>Исправление \"желтых\" комментариев - хорошая примета!</p>\n",
    "</div>"
   ]
  },
  {
   "cell_type": "markdown",
   "metadata": {},
   "source": [
    "<div class=\"alert alert-warning\" style=\"border-color: orange; border-radius: 5px\">\n",
    "    <p><u><b>⚠️ КОММЕНТАРИЙ РЕВЬЮЕРА v.1</b></u></p>\n",
    "    <p>Тут стоит обсудить кодирование категориальных признаков.</p>\n",
    "    <p>Ты безусловно верно применил <code>pd.get_dummies</code>, однако, как показывает практика, этот метод имеет ряд существенных недостатков, поскольку кодирует весь датасет целиком. То есть и трейн и валидацию и тест. Но чаще всего тестовый набор у нас вроде как «слепой» в котором могут быть категории, которых не было изначально в данных на которых обучалась модель, поэтому я рекомендую использовать <code>OneHotEncoder</code> из библиотеки <code>sklearn</code> вместо <code>get_dummies</code> из <code>pandas</code>. В проекте «Обучение с учителем» таких проблем не возникает. Однако в последующих проектах кодирование до деления может привести к ошибкам.</p>\n",
    "    <p>То есть верный алгоритм преобразования следующий:</p>\n",
    "    <p>1. Выполняешь разделение данных на выборки.</p>\n",
    "    <p>2. Обучаешь <code>OneHotEncoder</code> на тренировочной выборке.</p>\n",
    "    <p>3. Трансформируешь все выборки.</p>\n",
    "    <p>Оставлю пару полезных ссылок по этой теме.</p>\n",
    "    \n",
    "https://stackoverflow.com/questions/55525195/do-i-have-to-do-one-hot-encoding-separately-for-train-and-test-dataset\n",
    "https://albertum.medium.com/preprocessing-onehotencoder-vs-pandas-get-dummies-3de1f3d77dcc\n",
    "</div>"
   ]
  },
  {
   "cell_type": "markdown",
   "metadata": {},
   "source": [
    "<div style=\"background: #2A57DB; padding: 20px; border: 1px solid SteelBlue; border-radius: 5px;\">\n",
    "    <font color='#F3F5F2'><u><b></b></u></font>\n",
    "    <font color='#F3F5F2'>Поправил<br>\n",
    "       \n",
    "</font>\n",
    "</div>"
   ]
  },
  {
   "cell_type": "code",
   "execution_count": null,
   "metadata": {},
   "outputs": [],
   "source": [
    "X.hist(bins=50, figsize=(14, 9), edgecolor='black', linewidth=1)\n",
    "plt.show()"
   ]
  },
  {
   "cell_type": "code",
   "execution_count": null,
   "metadata": {},
   "outputs": [],
   "source": [
    "X.head()"
   ]
  },
  {
   "cell_type": "markdown",
   "metadata": {},
   "source": [
    "Категориальные переменные закодированы <br>\n",
    "Теперь необходимо стандартизировать характеристики, поскольку количественные значения сильно варьируются<br>\n",
    "Мы не будем применять стандартизацию к столбцам tenure, num_of_products, has_crcard, isactive_member и к преобразованным категориальными признакам<br>\n",
    "Масштабируем остальные признаки, но сначала напилим выборки <br>"
   ]
  },
  {
   "cell_type": "code",
   "execution_count": null,
   "metadata": {},
   "outputs": [],
   "source": [
    "features = X.drop('Exited', axis=1)\n",
    "target = X['Exited']"
   ]
  },
  {
   "cell_type": "code",
   "execution_count": null,
   "metadata": {},
   "outputs": [],
   "source": [
    "X_train, X_test, y_train, y_test = train_test_split(features, target, train_size=0.8, random_state=42, stratify=target)\n",
    "\n",
    "print(f\"Количество строк в y_train по классам: {np.bincount(y_train)}\")\n",
    "print(f\"Количество строк в y_test по классам: {np.bincount(y_test)}\")"
   ]
  },
  {
   "cell_type": "markdown",
   "metadata": {},
   "source": [
    "<div class=\"alert alert-danger\" style=\"border-color: #8B0000; border-radius: 5px\">\n",
    "    <p><u><b>❌ КОММЕНТАРИЙ РЕВЬЮЕРА v.1</b></u></p>\n",
    "    <p>Смотри, далее для подбора гиперпараметров ты используешь GridSearchCV. В этот метод уже включена кросс-валидация, как думаешь нужна нам будет валидационная выборка? Или можем ее не выделять и оставить на подбор гиперпараметров больше данных? При этом на тестовую выборку стоит остаить 20% от общей.</p>\n",
    "</div>"
   ]
  },
  {
   "cell_type": "markdown",
   "metadata": {},
   "source": [
    "<div style=\"background: #2A57DB; padding: 20px; border: 1px solid SteelBlue; border-radius: 5px;\">\n",
    "    <font color='#F3F5F2'><u><b></b></u></font>\n",
    "    <font color='#F3F5F2'>Поправил<br>\n",
    "       \n",
    "</font>\n",
    "</div>"
   ]
  },
  {
   "cell_type": "markdown",
   "metadata": {},
   "source": [
    "<div class=\"alert alert-success\" style=\"border-color: green; border-radius: 5px\">\n",
    "    <p><u><b>✅ КОММЕНТАРИЙ РЕВЬЮЕРА v.2</b></u></p>\n",
    "    <p>Олтично. Будем работать с двумя выборками.</p>\n",
    "</div>"
   ]
  },
  {
   "cell_type": "code",
   "execution_count": null,
   "metadata": {},
   "outputs": [],
   "source": [
    "exam_list = X_train.select_dtypes('object').columns.to_list()\n",
    "\n",
    "enc = OneHotEncoder(categories=\"auto\", drop=\"first\", handle_unknown='error')\n",
    "enc.fit(X_train.loc[:, exam_list])\n",
    "\n",
    "exam_train = pd.DataFrame(enc.transform(X_train.loc[:, exam_list]).toarray(),\n",
    "                          columns=enc..get_feature_names_out([X_train.columns]))\n",
    "exam_test = pd.DataFrame(enc.transform(X_test.loc[:, exam_list]).toarray(),\n",
    "                         columns=enc.get_feature_names_out([X_train.columns]))\n",
    "\n",
    "X_train = X_train.drop(columns=exam_list, axis=1)\n",
    "X_test = X_test.drop(columns=exam_list, axis=1)\n",
    "\n",
    "X_train = X_train.merge(pd.DataFrame(data=exam_train, index=X_train.index), left_index=True, right_index=True)\n",
    "X_test = X_test.merge(pd.DataFrame(data=exam_test, index=X_test.index), left_index=True, right_index=True)\n",
    "X_train"
   ]
  },
  {
   "cell_type": "markdown",
   "metadata": {},
   "source": [
    "<div class=\"alert alert-warning\" style=\"border-color: orange; border-radius: 5px\">\n",
    "    <p><u><b>⚠️ КОММЕНТАРИЙ РЕВЬЮЕРА v.1</b></u></p>\n",
    "    <p>Круто, что попробовал <code>OneHotEncoder</code> из библиотеки <code>sklearn</code> вместо <code>get_dummies</code> из <code>pandas</code>. Но у нас пропали названия признаков.</p>\n",
    "    <p>В ячейке ниже оставлю мой пример, в нем реализовано сохранение названий столбцов.</p>\n",
    "</div>"
   ]
  },
  {
   "cell_type": "raw",
   "metadata": {},
   "source": [
    "# Код ревьюера \n",
    "# Чтобы код сработал нужно применить переменные из этого проекта \n",
    "# удаляем первый столбец чтобы не попасть в дамми-ловушку\n",
    "var_categorical = ['Geography', 'Gender']\n",
    "\n",
    "encoder = OneHotEncoder(handle_unknown='ignore', drop='first') \n",
    "\n",
    "features_train_ohe = pd.DataFrame(\n",
    "    encoder.fit_transform(features_train[var_categorical]).toarray(),\n",
    "    columns=encoder.get_feature_names_out()\n",
    ")\n",
    "\n",
    "features_valid_ohe = pd.DataFrame(\n",
    "    encoder.transform(features_valid[var_categorical]).toarray(),\n",
    "    columns=encoder.get_feature_names_out()\n",
    ")\n",
    "\n",
    "features_test_ohe = pd.DataFrame(\n",
    "    encoder.transform(features_test[var_categorical]).toarray(),\n",
    "    columns=encoder.get_feature_names_out()\n",
    ")"
   ]
  },
  {
   "cell_type": "markdown",
   "metadata": {},
   "source": [
    "Выборка была разделена, мы можем перейти к пробному обучению моделей <br>\n",
    "В нашей задаче наблюдается сильный дисбаланс классов, что плохо сказывается на обучении модели<br>\n",
    "Посмотрим на результаты, оценивать модель будем по мере F1 - среднее гармоническое <br>\n",
    "Но вначале обучим StandardScaler на тренировочной выборке это позволит избежать утечкии и отформатируем признаки<br>"
   ]
  },
  {
   "cell_type": "code",
   "execution_count": null,
   "metadata": {},
   "outputs": [],
   "source": [
    "numeric = ['CreditScore', 'Age', 'Balance', 'EstimatedSalary', 'Tenure', 'NumOfProducts']\n",
    "scaler = StandardScaler().fit(X_train[numeric])\n",
    "\n",
    "X_train[numeric] = scaler.transform(X_train[numeric])\n",
    "X_test[numeric] = scaler.transform(X_test[numeric])\n",
    "X_train.head(3)"
   ]
  },
  {
   "cell_type": "markdown",
   "metadata": {},
   "source": [
    "<div class=\"alert alert-danger\" style=\"border-color: #8B0000; border-radius: 5px\">\n",
    "    <p><u><b>❌ КОММЕНТАРИЙ РЕВЬЮЕРА v.1</b></u></p>\n",
    "    <p>Алгоритмически масштабирование выполнено верно, но в списке numeric не хватает числовых признаков. Как думаешь, каких? Напомню, что масштабируются только числовые небинарные признаки. Также не забудь убрать из масштабирования валидационную выборку.</p>\n",
    "</div>"
   ]
  },
  {
   "cell_type": "markdown",
   "metadata": {},
   "source": [
    "<div style=\"background: #2A57DB; padding: 20px; border: 1px solid SteelBlue; border-radius: 5px;\">\n",
    "    <font color='#F3F5F2'><u><b></b></u></font>\n",
    "    <font color='#F3F5F2'>Поправил<br>\n",
    "       \n",
    "</font>\n",
    "</div>"
   ]
  },
  {
   "cell_type": "markdown",
   "metadata": {},
   "source": [
    "<div class=\"alert alert-success\" style=\"border-color: green; border-radius: 5px\">\n",
    "    <p><u><b>✅ КОММЕНТАРИЙ РЕВЬЮЕРА v.2</b></u></p>\n",
    "    <p>Теперь масштабирование выполнено верно. Хорошо, что напечатал кусочек датасета для визуальной оценки результата.</p>\n",
    "</div>"
   ]
  },
  {
   "cell_type": "markdown",
   "metadata": {},
   "source": [
    "### Вывод подготовка данных\n",
    "В процессе подготовки заполнили пропуски в Tenure<br>\n",
    "Закодировали категориальные признаки избегая дамми-ловушки<br>\n",
    "Убрали признаки не имеющие влияния<br>\n",
    "Разбили сет на выборки в пропорциях <br>\n",
    "Обучающая 80%<br>\n",
    "Тестовая выборки по 20%<br>\n",
    "Масштабировали числовые признаки которые сильно разбегались по значениям<br>\n",
    "Данные подготовили, можем приступать к обучению моделей<br>"
   ]
  },
  {
   "cell_type": "markdown",
   "metadata": {},
   "source": [
    "<div class=\"alert alert-danger\" style=\"border-color: #8B0000; border-radius: 5px\">\n",
    "    <p><u><b>❌ КОММЕНТАРИЙ РЕВЬЮЕРА v.1</b></u></p>\n",
    "    <p>Максим. Ты проделал большую работу дальше по проекту. Но тут стоит внести некоторые изменения. Давай я напишу алгоритм, согласно которому этот проект приобретет нужную структуру и логику. Также оставлю пример кода для работы с GridSearchCV / RandomizedSearchCV. Договорились?</p>\n",
    "    <p>1. В пункте Исследование задачи сперва нужно определить баланс классов. Давай для наглядности можно показать это на графике.</p>\n",
    "    <p>2. Также в пункте Исследование задачи пробуем подобрать гиперпараметры для моделей без учета дисбаланса классов. Для этого применяем либо GridSearchCV, либо RandomizedSearchCV. Для каждой модели определяем перечень (словарь) с диапазонами гиперпараметров. Для каждой модели считаем F1 и ROC-AUC. По итогу исследования пишем вывод.</p>\n",
    "    <p>3. Начинаем пункт борьба с дисбалансом. Тут достаточно исследовать 2 способа борьбы с дисбалансом. Начнем со Взвешивания классов. Для этого берем те же модели как в пункте 2 нашего алгоритма. Применяем к ним такой же метод подбора гиперпараметров и те же перечни (словари) с гиперпараметрами. При этом Явно указываем при инициализации каждой модели параметр class_weight='balanced' (не передаем его в словарь с гиперпараметрами!!!). Для каждой модели считаем F1 и ROC-AUC. Пишем вывод.</p>\n",
    "    <p>4. Следующим в очереди исследуем downsampling, так как upsampling при кросс-валидации применять крайне нецелессобразно, поскольку мы получим \"утечку\" данных. Тут аналогично берем те же модели, применяем к ним такой же метод подбора гиперпараметров и те же перечни (словари) с гиперпараметрами. Для каждой модели считаем F1 и ROC-AUC. Пишем вывод. Обрати внимание, для функции downsample нужно верно подобрать параметр fraction (он равен не 0.1), это можно сделать зная баланс классов.</p>\n",
    "    <p>6. Подбор порогового значения давай уберем. Это не очень эффективный метод.</p>\n",
    "    <p>5. В итоге выбираем модель с наивысшей метрикой F1.</p>\n",
    "    <p>7. Эту модель используем для тестирования с теми гиперпараметрами, которые были подобраны. Считаем F1 и ROC-AUC. Пишем ввыод.</p>\n",
    "    <p>8. Пишем вывод ко всему проекту.</p>\n",
    "    <p>9. Король под горой найден! Профит.</p>\n",
    "</div>"
   ]
  },
  {
   "cell_type": "markdown",
   "metadata": {},
   "source": [
    "<div style=\"background: #2A57DB; padding: 20px; border: 1px solid SteelBlue; border-radius: 5px;\">\n",
    "    <font color='#F3F5F2'><u><b></b></u></font>\n",
    "    <font color='#F3F5F2'>Поправил<br>\n",
    "       \n",
    "</font>\n",
    "</div>"
   ]
  },
  {
   "cell_type": "markdown",
   "metadata": {},
   "source": [
    "<div class=\"alert alert-danger\" style=\"border-color: #8B0000; border-radius: 5px\">\n",
    "    <p><u><b>❌ КОММЕНТАРИЙ РЕВЬЮЕРА v.1</b></u></p>\n",
    "    <p>А тут я расскажу тебе как наилучшим образом использовать GridSearchCV.</p>\n",
    "    <p>Для этого в ячейке ниже оставлю пример кода случайного леса. Твоя задача экстарполировать его на все эксперименты этого проекта.</p>\n",
    "    <p>Обрати внимание, что я нигде не применяю валидационную выборку, при этом получаю и лучшие гиперпараметры и лучшее среднее значение f1-меры и AUC-ROC.</p>\n",
    "</div>"
   ]
  },
  {
   "cell_type": "markdown",
   "metadata": {},
   "source": [
    "<div style=\"background: #2A57DB; padding: 20px; border: 1px solid SteelBlue; border-radius: 5px;\">\n",
    "    <font color='#F3F5F2'><u><b></b></u></font>\n",
    "    <font color='#F3F5F2'>Поправил<br>\n",
    "       \n",
    "</font>\n",
    "</div>"
   ]
  },
  {
   "cell_type": "raw",
   "metadata": {},
   "source": [
    "%%time\n",
    "# Код ревьюера\n",
    "parameters = {\n",
    "    'n_estimators': range(50, 121, 5),\n",
    "    'max_depth': range(2, 11),\n",
    "}\n",
    "\n",
    "model = RandomForestClassifier(random_state=96)\n",
    "\n",
    "metrics = ['f1', 'roc_auc']\n",
    "# Обрати внимание я указал в scoring список мужных метрик,\n",
    "\n",
    "# А в refit указал 'f1', теперь GridSearchCV будет оптимизировать эту метрику\n",
    "search = GridSearchCV(model, parameters, cv=4, scoring=metrics, refit='f1')\n",
    "search.fit(X_train, y_train)\n",
    "results = search.cv_results_\n",
    "# Печатаем лучшие значения метрик и гиперпараметры\n",
    "print('F1:', '%.4f' %search.best_score_)\n",
    "print('AUC-ROC:', '%.4f' %results['mean_test_roc_auc'].mean())\n",
    "print(pd.Series(search.best_params_))"
   ]
  },
  {
   "cell_type": "markdown",
   "metadata": {},
   "source": [
    "<div class=\"alert alert-success\" style=\"border-color: green; border-radius: 5px\">\n",
    "    <p><u><b>✅ КОММЕНТАРИЙ РЕВЬЮЕРА v.2</b></u></p>\n",
    "    <p>Ок, сейчас все проверим.</p>\n",
    "</div>"
   ]
  },
  {
   "cell_type": "markdown",
   "metadata": {},
   "source": [
    "## Исследование задачи"
   ]
  },
  {
   "cell_type": "code",
   "execution_count": null,
   "metadata": {},
   "outputs": [],
   "source": [
    "# посмотрим на сбалансированность классов\n",
    "exam = y_train.value_counts()\n",
    "exam\n",
    "plt.figure(figsize=(6, 3))\n",
    "labels = ['Class 0', 'Class 1']\n",
    "plt.title('Баланс классов', weight='bold')\n",
    "plt.pie(exam, labels=labels, autopct='%.0f%%')\n",
    "plt.show()"
   ]
  },
  {
   "cell_type": "markdown",
   "metadata": {},
   "source": []
  },
  {
   "cell_type": "markdown",
   "metadata": {},
   "source": [
    "<div style=\"background: #C0C0C0; padding: 5px; border: 1px solid black; border-radius: 5px;\">\n",
    "    <font color='black'><u><b>КОММЕНТАРИЙ РЕВЬЮЕРА</b></u></font><br />\n",
    "    <br />\n",
    "    Привет, Максим! Меня зовут Кирилл Киселев.<br />\n",
    "        На этом проекте я буду ревьюером. Предлагаю общаться на \"ты\". Если так будет неудобно, пожалуйста, дай знать.<br />\n",
    "        <br />\n",
    "        Моя цель - помочь тебе освоиться в новой профессии и научиться применять полученные знания максимально эффективно. Не стесняйся спрашивать, если что-то непонятно. Вместе проще разобраться с любыми вопросами.<br />\n",
    "        <br />\n",
    "В проекте тебе встретятся мои комментарии к коду и выводам. Пожалуйста, не удаляй их, так будет удобнее вести общение.<br />\n",
    "        Ниже приведены примеры оформления моих комментариев:<br />\n",
    "</div>\n",
    "<div class=\"alert alert-success\" style=\"border-color: green; border-radius: 5px\">\n",
    "    <p><u><b>✅ КОММЕНТАРИЙ РЕВЬЮЕРА</b></u></p>\n",
    "    <p>Таким образом оформляется комментарий, означающий что пункт выполнен без ошибок.</p>\n",
    "</div>\n",
    "<div class=\"alert alert-warning\" style=\"border-color: orange; border-radius: 5px\">\n",
    "    <p><u><b>⚠️ КОММЕНТАРИЙ РЕВЬЮЕРА</b></u></p>\n",
    "    <p>Таким образом оформляется комментарий, означающий что в пункте есть некритичные недочеты.</p>\n",
    "</div>\n",
    "<div class=\"alert alert-danger\" style=\"border-color: #8B0000; border-radius: 5px\">\n",
    "    <p><u><b>❌ КОММЕНТАРИЙ РЕВЬЮЕРА</b></u></p>\n",
    "    <p>Таким образом оформляется комментарий, означающий что в пункте есть критичные недочеты, требующие исправления.</p>\n",
    "</div>\n",
    "<div class=\"alert alert-info\" style=\"border-color: #0080FF; border-radius: 5px\">\n",
    "    <p><u><b>КОММЕНТАРИЙ СТУДЕНТА</b></u></p>\n",
    "    <p>Буду очень признателен, если ты тоже оформишь свои комментарии и вопросы ко мне с прменением цветовой разметки. Например, так.</p>\n",
    "</div>"
   ]
  },
  {
   "cell_type": "markdown",
   "metadata": {},
   "source": [
    "<h1>Содержание<span class=\"tocSkip\"></span></h1>\n",
    "<div class=\"toc\"><ul class=\"toc-item\"><li><span><a href=\"#Цель\" data-toc-modified-id=\"Цель-1\"><span class=\"toc-item-num\">1&nbsp;&nbsp;</span>Цель</a></span></li><li><span><a href=\"#Описание\" data-toc-modified-id=\"Описание-2\"><span class=\"toc-item-num\">2&nbsp;&nbsp;</span>Описание</a></span></li><li><span><a href=\"#Описание-признаков\" data-toc-modified-id=\"Описание-признаков-3\"><span class=\"toc-item-num\">3&nbsp;&nbsp;</span>Описание признаков</a></span></li><li><span><a href=\"#Подготовка-данных\" data-toc-modified-id=\"Подготовка-данных-4\"><span class=\"toc-item-num\">4&nbsp;&nbsp;</span>Подготовка данных</a></span><ul class=\"toc-item\"><li><span><a href=\"#Вывод-подготовка-данных\" data-toc-modified-id=\"Вывод-подготовка-данных-4.1\"><span class=\"toc-item-num\">4.1&nbsp;&nbsp;</span>Вывод подготовка данных</a></span></li></ul></li><li><span><a href=\"#Исследование-задачи\" data-toc-modified-id=\"Исследование-задачи-5\"><span class=\"toc-item-num\">5&nbsp;&nbsp;</span>Исследование задачи</a></span><ul class=\"toc-item\"><li><span><a href=\"#Вывод\" data-toc-modified-id=\"Вывод-5.1\"><span class=\"toc-item-num\">5.1&nbsp;&nbsp;</span>Вывод</a></span></li></ul></li><li><span><a href=\"#Борьба-с-дисбалансом\" data-toc-modified-id=\"Борьба-с-дисбалансом-6\"><span class=\"toc-item-num\">6&nbsp;&nbsp;</span>Борьба с дисбалансом</a></span><ul class=\"toc-item\"><li><span><a href=\"#Вывод\" data-toc-modified-id=\"Вывод-6.1\"><span class=\"toc-item-num\">6.1&nbsp;&nbsp;</span>Вывод</a></span></li></ul></li><li><span><a href=\"#Тестирование-модели\" data-toc-modified-id=\"Тестирование-модели-7\"><span class=\"toc-item-num\">7&nbsp;&nbsp;</span>Тестирование модели</a></span><ul class=\"toc-item\"><li><span><a href=\"#Вывод\" data-toc-modified-id=\"Вывод-7.1\"><span class=\"toc-item-num\">7.1&nbsp;&nbsp;</span>Вывод</a></span></li></ul></li><li><span><a href=\"#Вывод\" data-toc-modified-id=\"Вывод-8\"><span class=\"toc-item-num\">8&nbsp;&nbsp;</span>Вывод</a></span></li><li><span><a href=\"#Чек-лист-готовности-проекта\" data-toc-modified-id=\"Чек-лист-готовности-проекта-9\"><span class=\"toc-item-num\">9&nbsp;&nbsp;</span>Чек-лист готовности проекта</a></span></li><li><span><a href=\"#Финальные-комментарии-ревьюера\" data-toc-modified-id=\"Финальные-комментарии-ревьюера-10\"><span class=\"toc-item-num\">10&nbsp;&nbsp;</span>Финальные комментарии ревьюера</a></span></li></ul></div>"
   ]
  },
  {
   "cell_type": "code",
   "execution_count": null,
   "metadata": {},
   "outputs": [],
   "source": []
  },
  {
   "cell_type": "markdown",
   "metadata": {},
   "source": [
    "<div style=\"background: #2A57DB; padding: 20px; border: 1px solid SteelBlue; border-radius: 5px;\">\n",
    "    <font color='#F3F5F2'><u><b></b></u></font>\n",
    "    <font color='#F3F5F2'>Привет Кирилл<br>\n",
    "        Поправил отмеченные замечания <br>\n",
    "        Теперь проект нравится мне больше<br>\n",
    "        Он стал лаконичнее и точнее<br><br>Жду твои комментарии и проверку)\n",
    "\n",
    "</font>\n",
    "</div>"
   ]
  },
  {
   "cell_type": "markdown",
   "metadata": {},
   "source": [
    "<div class=\"alert alert-success\" style=\"border-color: green; border-radius: 5px\">\n",
    "    <p><u><b>✅ КОММЕНТАРИЙ РЕВЬЮЕРА v.2</b></u></p>\n",
    "    <p>Привет-привет! Отлично. Пойдем проверять.</p>\n",
    "</div>"
   ]
  },
  {
   "cell_type": "markdown",
   "metadata": {},
   "source": [
    "<h1>Содержание<span class=\"tocSkip\"></span></h1>\n",
    "<div class=\"toc\"><ul class=\"toc-item\"><li><span><a href=\"#Цель\" data-toc-modified-id=\"Цель-1\"><span class=\"toc-item-num\">1&nbsp;&nbsp;</span>Цель</a></span></li><li><span><a href=\"#Описание\" data-toc-modified-id=\"Описание-2\"><span class=\"toc-item-num\">2&nbsp;&nbsp;</span>Описание</a></span></li><li><span><a href=\"#Описание-признаков\" data-toc-modified-id=\"Описание-признаков-3\"><span class=\"toc-item-num\">3&nbsp;&nbsp;</span>Описание признаков</a></span></li><li><span><a href=\"#Подготовка-данных\" data-toc-modified-id=\"Подготовка-данных-4\"><span class=\"toc-item-num\">4&nbsp;&nbsp;</span>Подготовка данных</a></span><ul class=\"toc-item\"><li><span><a href=\"#Вывод-подготовка-данных\" data-toc-modified-id=\"Вывод-подготовка-данных-4.1\"><span class=\"toc-item-num\">4.1&nbsp;&nbsp;</span>Вывод подготовка данных</a></span></li></ul></li><li><span><a href=\"#Исследование-задачи\" data-toc-modified-id=\"Исследование-задачи-5\"><span class=\"toc-item-num\">5&nbsp;&nbsp;</span>Исследование задачи</a></span><ul class=\"toc-item\"><li><span><a href=\"#Вывод\" data-toc-modified-id=\"Вывод-5.1\"><span class=\"toc-item-num\">5.1&nbsp;&nbsp;</span>Вывод</a></span></li></ul></li><li><span><a href=\"#Борьба-с-дисбалансом\" data-toc-modified-id=\"Борьба-с-дисбалансом-6\"><span class=\"toc-item-num\">6&nbsp;&nbsp;</span>Борьба с дисбалансом</a></span><ul class=\"toc-item\"><li><span><a href=\"#Вывод\" data-toc-modified-id=\"Вывод-6.1\"><span class=\"toc-item-num\">6.1&nbsp;&nbsp;</span>Вывод</a></span></li></ul></li><li><span><a href=\"#Тестирование-модели\" data-toc-modified-id=\"Тестирование-модели-7\"><span class=\"toc-item-num\">7&nbsp;&nbsp;</span>Тестирование модели</a></span><ul class=\"toc-item\"><li><span><a href=\"#Вывод\" data-toc-modified-id=\"Вывод-7.1\"><span class=\"toc-item-num\">7.1&nbsp;&nbsp;</span>Вывод</a></span></li></ul></li><li><span><a href=\"#Вывод\" data-toc-modified-id=\"Вывод-8\"><span class=\"toc-item-num\">8&nbsp;&nbsp;</span>Вывод</a></span></li><li><span><a href=\"#Чек-лист-готовности-проекта\" data-toc-modified-id=\"Чек-лист-готовности-проекта-9\"><span class=\"toc-item-num\">9&nbsp;&nbsp;</span>Чек-лист готовности проекта</a></span></li><li><span><a href=\"#Финальные-комментарии-ревьюера\" data-toc-modified-id=\"Финальные-комментарии-ревьюера-10\"><span class=\"toc-item-num\">10&nbsp;&nbsp;</span>Финальные комментарии ревьюера</a></span></li></ul></div>"
   ]
  },
  {
   "cell_type": "markdown",
   "metadata": {},
   "source": [
    "# Отток клиентов\n",
    "Заказчик \"Бета-Банк\""
   ]
  },
  {
   "cell_type": "markdown",
   "metadata": {},
   "source": [
    "## Цель\n",
    "По имеющимся данным, клиентов банка, построить модель классификации прогнозирующую <br>\n",
    "Уйдёт клиент или останется в банке"
   ]
  },
  {
   "cell_type": "markdown",
   "metadata": {},
   "source": [
    "## Описание\n",
    "Из «Бета-Банка» стали уходить клиенты. Каждый месяц. Немного, но заметно. Банковские маркетологи посчитали: сохранять текущих клиентов дешевле, чем привлекать новых.\n",
    "\n",
    "Нужно спрогнозировать, уйдёт клиент из банка в ближайшее время или нет. Вам предоставлены исторические данные о поведении клиентов и расторжении договоров с банком.\n",
    "\n",
    "Постройте модель с предельно большим значением *F1*-меры. Чтобы сдать проект успешно, нужно довести метрику до 0.59. Проверьте *F1*-меру на тестовой выборке самостоятельно.\n",
    "\n",
    "Дополнительно измеряйте *AUC-ROC*, сравнивайте её значение с *F1*-мерой.\n",
    "\n",
    "Источник данных: [https://www.kaggle.com/barelydedicated/bank-customer-churn-modeling](https://www.kaggle.com/barelydedicated/bank-customer-churn-modeling)"
   ]
  },
  {
   "cell_type": "markdown",
   "metadata": {},
   "source": [
    "## Описание признаков\n",
    "- RowNumber — индекс строки в данных<br>\n",
    "- CustomerId — уникальный идентификатор клиента<br>\n",
    "- Surname — фамилия<br>\n",
    "- CreditScore — кредитный рейтинг<br>\n",
    "- Geography — страна проживания<br>\n",
    "- Gender — пол<br>\n",
    "- Age — возраст<br>\n",
    "- Tenure — сколько лет человек является клиентом банка<br>\n",
    "- Balance — баланс на счёте<br>\n",
    "- NumOfProducts — количество продуктов банка, используемых клиентом<br>\n",
    "- HasCrCard — наличие кредитной карты<br>\n",
    "- IsActiveMember — активность клиента<br>\n",
    "- EstimatedSalary — предполагаемая зарплата<br>\n",
    "***Целевой признак***<br>\n",
    "- Exited — факт ухода клиента<br>"
   ]
  },
  {
   "cell_type": "markdown",
   "metadata": {},
   "source": [
    "<div class=\"alert alert-success\" style=\"border-color: green; border-radius: 5px\">\n",
    "    <p><u><b>✅ КОММЕНТАРИЙ РЕВЬЮЕРА v.1</b></u></p>\n",
    "    <p>Содержание и формулировка задачи на месте. Это важный структурный компанент проекта. Отлично!</p>\n",
    "</div>"
   ]
  },
  {
   "cell_type": "markdown",
   "metadata": {},
   "source": [
    "## Подготовка данных"
   ]
  },
  {
   "cell_type": "code",
   "execution_count": null,
   "metadata": {},
   "outputs": [],
   "source": [
    "import pandas as pd\n",
    "import numpy as np\n",
    "import seaborn as sns\n",
    "import random\n",
    "from scipy import stats as st\n",
    "import matplotlib.pyplot as plt\n",
    "\n",
    "# pd.set_option('display.max_rows', None)\n",
    "# pd.set_option('display.max_columns', None)\n",
    "pd.options.mode.chained_assignment = None\n",
    "import warnings\n",
    "\n",
    "warnings.simplefilter(action='ignore', category=FutureWarning)"
   ]
  },
  {
   "cell_type": "code",
   "execution_count": null,
   "metadata": {},
   "outputs": [],
   "source": [
    "from sklearn.tree import DecisionTreeClassifier\n",
    "from sklearn.linear_model import LogisticRegression\n",
    "from sklearn.ensemble import RandomForestClassifier\n",
    "from sklearn.linear_model import LinearRegression\n",
    "from sklearn.model_selection import train_test_split\n",
    "from sklearn.metrics import mean_squared_error\n",
    "from sklearn.metrics import accuracy_score, precision_recall_curve\n",
    "from sklearn.preprocessing import StandardScaler, LabelEncoder, OneHotEncoder\n",
    "from sklearn.model_selection import RandomizedSearchCV, GridSearchCV\n",
    "from sklearn.dummy import DummyClassifier\n",
    "from sklearn.metrics import f1_score, roc_auc_score, roc_curve, precision_score, recall_score\n",
    "from sklearn.utils import shuffle"
   ]
  },
  {
   "cell_type": "markdown",
   "metadata": {},
   "source": [
    "<div class=\"alert alert-success\" style=\"border-color: green; border-radius: 5px\">\n",
    "    <p><u><b>✅ КОММЕНТАРИЙ РЕВЬЮЕРА v.1</b></u></p>\n",
    "    <p>Хорошо, что импортируешь нужные библиотеки на первом этапе. Так те, кто будет запускать твой проект в будущем сразу будут знать, какие библиотеки необходимо установить.</p>\n",
    "</div>"
   ]
  },
  {
   "cell_type": "code",
   "execution_count": null,
   "metadata": {},
   "outputs": [],
   "source": [
    "try:\n",
    "    data = pd.read_csv('/datasets/Churn.csv', index_col='RowNumber')\n",
    "except:\n",
    "    data = pd.read_csv('https://code.s3.yandex.net/datasets/Churn.csv', index_col='RowNumber')"
   ]
  },
  {
   "cell_type": "code",
   "execution_count": null,
   "metadata": {},
   "outputs": [],
   "source": [
    "def data_info(data):\n",
    "    display(data.head(5))\n",
    "    print('#' * 55)\n",
    "    data.info()\n",
    "    print('#' * 55)\n",
    "    exam = data.isna().sum() > 0\n",
    "    exam = data.isna().sum()[exam]\n",
    "    print(f'Пропуски в признаках', '\\n', '\\n', exam)\n",
    "    print('#' * 55)\n",
    "    display(data.describe().T)\n",
    "\n",
    "\n",
    "data_info(data)"
   ]
  },
  {
   "cell_type": "code",
   "execution_count": null,
   "metadata": {},
   "outputs": [],
   "source": []
  },
  {
   "cell_type": "markdown",
   "metadata": {},
   "source": [
    " #%% md < div\n",
    "style = \"background: #C0C0C0; padding: 5px; border: 1px solid black; border-radius: 5px;\" > < font\n",
    "color = 'black' > < u > < b > КОММЕНТАРИЙ\n",
    "РЕВЬЮЕРА </ b > < / u > < / font > < br / > < br / >\n",
    "Привет, Максим! Меня зовут Кирилл Киселев.< br / >\n",
    "На\n",
    "этом\n",
    "проекте\n",
    "я\n",
    "буду\n",
    "ревьюером.Предлагаю\n",
    "общаться\n",
    "на\n",
    "\"ты\".Если\n",
    "так\n",
    "будет\n",
    "неудобно, пожалуйста, дай\n",
    "знать. < br / > < br / >\n",
    "Моя\n",
    "цель - помочь\n",
    "тебе\n",
    "освоиться\n",
    "в\n",
    "новой\n",
    "профессии\n",
    "и\n",
    "научиться\n",
    "применять\n",
    "полученные\n",
    "знания\n",
    "максимально\n",
    "эффективно.Не\n",
    "стесняйся\n",
    "спрашивать, если\n",
    "что - то\n",
    "непонятно.Вместе\n",
    "проще\n",
    "разобраться\n",
    "с\n",
    "любыми\n",
    "вопросами. < br / > < br / >\n",
    "В\n",
    "проекте\n",
    "тебе\n",
    "встретятся\n",
    "мои\n",
    "комментарии\n",
    "к\n",
    "коду\n",
    "и\n",
    "выводам.Пожалуйста, не\n",
    "удаляй\n",
    "их, так\n",
    "будет\n",
    "удобнее\n",
    "вести\n",
    "общение. < br / >\n",
    "Ниже\n",
    "приведены\n",
    "примеры\n",
    "оформления\n",
    "моих\n",
    "комментариев: < br / > < / div > < div\n",
    "\n",
    "\n",
    "class =\"alert alert-success\" style=\"border-color: green; border-radius: 5px\" >\n",
    "\n",
    "< p > < u > < b >✅ КОММЕНТАРИЙ\n",
    "РЕВЬЮЕРА </ b > < / u > < / p > < p > Таким\n",
    "образом\n",
    "оформляется\n",
    "комментарий, означающий\n",
    "что\n",
    "пункт\n",
    "выполнен\n",
    "без\n",
    "ошибок. </ p > < / div > < div\n",
    "\n",
    "\n",
    "class =\"alert alert-warning\" style=\"border-color: orange; border-radius: 5px\" >\n",
    "\n",
    "< p > < u > < b >⚠️\n",
    "КОММЕНТАРИЙ\n",
    "РЕВЬЮЕРА </ b > < / u > < / p > < p > Таким\n",
    "образом\n",
    "оформляется\n",
    "комментарий, означающий\n",
    "что\n",
    "в\n",
    "пункте\n",
    "есть\n",
    "некритичные\n",
    "недочеты. </ p > < / div > < div\n",
    "\n",
    "\n",
    "class =\"alert alert-danger\" style=\"border-color: #8B0000; border-radius: 5px\" >\n",
    "\n",
    "< p > < u > < b >❌ КОММЕНТАРИЙ\n",
    "РЕВЬЮЕРА </ b > < / u > < / p > < p > Таким\n",
    "образом\n",
    "оформляется\n",
    "комментарий, означающий\n",
    "что\n",
    "в\n",
    "пункте\n",
    "есть\n",
    "критичные\n",
    "недочеты, требующие\n",
    "исправления. </ p > < / div > < div\n",
    "\n",
    "\n",
    "class =\"alert alert-info\" style=\"border-color: #0080FF; border-radius: 5px\" >\n",
    "\n",
    "< p > < u > < b > КОММЕНТАРИЙ\n",
    "СТУДЕНТА </ b > < / u > < / p > < p > Буду\n",
    "очень\n",
    "признателен, если\n",
    "ты\n",
    "тоже\n",
    "оформишь\n",
    "свои\n",
    "комментарии\n",
    "и\n",
    "вопросы\n",
    "ко\n",
    "мне\n",
    "с\n",
    "прменением\n",
    "цветовой\n",
    "разметки.Например, так. </ p > < / div >"
   ]
  },
  {
   "cell_type": "markdown",
   "metadata": {},
   "source": [
    "<h1>Содержание<span class=\"tocSkip\"></span></h1>\n",
    "<div class=\"toc\"><ul class=\"toc-item\"><li><span><a href=\"#Цель\" data-toc-modified-id=\"Цель-1\"><span class=\"toc-item-num\">1&nbsp;&nbsp;</span>Цель</a></span></li><li><span><a href=\"#Описание\" data-toc-modified-id=\"Описание-2\"><span class=\"toc-item-num\">2&nbsp;&nbsp;</span>Описание</a></span></li><li><span><a href=\"#Описание-признаков\" data-toc-modified-id=\"Описание-признаков-3\"><span class=\"toc-item-num\">3&nbsp;&nbsp;</span>Описание признаков</a></span></li><li><span><a href=\"#Подготовка-данных\" data-toc-modified-id=\"Подготовка-данных-4\"><span class=\"toc-item-num\">4&nbsp;&nbsp;</span>Подготовка данных</a></span><ul class=\"toc-item\"><li><span><a href=\"#Вывод-подготовка-данных\" data-toc-modified-id=\"Вывод-подготовка-данных-4.1\"><span class=\"toc-item-num\">4.1&nbsp;&nbsp;</span>Вывод подготовка данных</a></span></li></ul></li><li><span><a href=\"#Исследование-задачи\" data-toc-modified-id=\"Исследование-задачи-5\"><span class=\"toc-item-num\">5&nbsp;&nbsp;</span>Исследование задачи</a></span><ul class=\"toc-item\"><li><span><a href=\"#Вывод\" data-toc-modified-id=\"Вывод-5.1\"><span class=\"toc-item-num\">5.1&nbsp;&nbsp;</span>Вывод</a></span></li></ul></li><li><span><a href=\"#Борьба-с-дисбалансом\" data-toc-modified-id=\"Борьба-с-дисбалансом-6\"><span class=\"toc-item-num\">6&nbsp;&nbsp;</span>Борьба с дисбалансом</a></span><ul class=\"toc-item\"><li><span><a href=\"#Вывод\" data-toc-modified-id=\"Вывод-6.1\"><span class=\"toc-item-num\">6.1&nbsp;&nbsp;</span>Вывод</a></span></li></ul></li><li><span><a href=\"#Тестирование-модели\" data-toc-modified-id=\"Тестирование-модели-7\"><span class=\"toc-item-num\">7&nbsp;&nbsp;</span>Тестирование модели</a></span><ul class=\"toc-item\"><li><span><a href=\"#Вывод\" data-toc-modified-id=\"Вывод-7.1\"><span class=\"toc-item-num\">7.1&nbsp;&nbsp;</span>Вывод</a></span></li></ul></li><li><span><a href=\"#Вывод\" data-toc-modified-id=\"Вывод-8\"><span class=\"toc-item-num\">8&nbsp;&nbsp;</span>Вывод</a></span></li><li><span><a href=\"#Чек-лист-готовности-проекта\" data-toc-modified-id=\"Чек-лист-готовности-проекта-9\"><span class=\"toc-item-num\">9&nbsp;&nbsp;</span>Чек-лист готовности проекта</a></span></li><li><span><a href=\"#Финальные-комментарии-ревьюера\" data-toc-modified-id=\"Финальные-комментарии-ревьюера-10\"><span class=\"toc-item-num\">10&nbsp;&nbsp;</span>Финальные комментарии ревьюера</a></span></li></ul></div>"
   ]
  },
  {
   "cell_type": "code",
   "execution_count": null,
   "metadata": {},
   "outputs": [],
   "source": []
  },
  {
   "cell_type": "markdown",
   "metadata": {},
   "source": [
    "<div style=\"background: #2A57DB; padding: 20px; border: 1px solid SteelBlue; border-radius: 5px;\">\n",
    "    <font color='#F3F5F2'><u><b></b></u></font>\n",
    "    <font color='#F3F5F2'>Привет Кирилл<br>\n",
    "        Поправил отмеченные замечания <br>\n",
    "        Теперь проект нравится мне больше<br>\n",
    "        Он стал лаконичнее и точнее<br><br>Жду твои комментарии и проверку)\n",
    "\n",
    "</font>\n",
    "</div>"
   ]
  },
  {
   "cell_type": "markdown",
   "metadata": {},
   "source": [
    "<div class=\"alert alert-success\" style=\"border-color: green; border-radius: 5px\">\n",
    "    <p><u><b>✅ КОММЕНТАРИЙ РЕВЬЮЕРА v.2</b></u></p>\n",
    "    <p>Привет-привет! Отлично. Пойдем проверять.</p>\n",
    "</div>"
   ]
  },
  {
   "cell_type": "markdown",
   "metadata": {},
   "source": [
    "<h1>Содержание<span class=\"tocSkip\"></span></h1>\n",
    "<div class=\"toc\"><ul class=\"toc-item\"><li><span><a href=\"#Цель\" data-toc-modified-id=\"Цель-1\"><span class=\"toc-item-num\">1&nbsp;&nbsp;</span>Цель</a></span></li><li><span><a href=\"#Описание\" data-toc-modified-id=\"Описание-2\"><span class=\"toc-item-num\">2&nbsp;&nbsp;</span>Описание</a></span></li><li><span><a href=\"#Описание-признаков\" data-toc-modified-id=\"Описание-признаков-3\"><span class=\"toc-item-num\">3&nbsp;&nbsp;</span>Описание признаков</a></span></li><li><span><a href=\"#Подготовка-данных\" data-toc-modified-id=\"Подготовка-данных-4\"><span class=\"toc-item-num\">4&nbsp;&nbsp;</span>Подготовка данных</a></span><ul class=\"toc-item\"><li><span><a href=\"#Вывод-подготовка-данных\" data-toc-modified-id=\"Вывод-подготовка-данных-4.1\"><span class=\"toc-item-num\">4.1&nbsp;&nbsp;</span>Вывод подготовка данных</a></span></li></ul></li><li><span><a href=\"#Исследование-задачи\" data-toc-modified-id=\"Исследование-задачи-5\"><span class=\"toc-item-num\">5&nbsp;&nbsp;</span>Исследование задачи</a></span><ul class=\"toc-item\"><li><span><a href=\"#Вывод\" data-toc-modified-id=\"Вывод-5.1\"><span class=\"toc-item-num\">5.1&nbsp;&nbsp;</span>Вывод</a></span></li></ul></li><li><span><a href=\"#Борьба-с-дисбалансом\" data-toc-modified-id=\"Борьба-с-дисбалансом-6\"><span class=\"toc-item-num\">6&nbsp;&nbsp;</span>Борьба с дисбалансом</a></span><ul class=\"toc-item\"><li><span><a href=\"#Вывод\" data-toc-modified-id=\"Вывод-6.1\"><span class=\"toc-item-num\">6.1&nbsp;&nbsp;</span>Вывод</a></span></li></ul></li><li><span><a href=\"#Тестирование-модели\" data-toc-modified-id=\"Тестирование-модели-7\"><span class=\"toc-item-num\">7&nbsp;&nbsp;</span>Тестирование модели</a></span><ul class=\"toc-item\"><li><span><a href=\"#Вывод\" data-toc-modified-id=\"Вывод-7.1\"><span class=\"toc-item-num\">7.1&nbsp;&nbsp;</span>Вывод</a></span></li></ul></li><li><span><a href=\"#Вывод\" data-toc-modified-id=\"Вывод-8\"><span class=\"toc-item-num\">8&nbsp;&nbsp;</span>Вывод</a></span></li><li><span><a href=\"#Чек-лист-готовности-проекта\" data-toc-modified-id=\"Чек-лист-готовности-проекта-9\"><span class=\"toc-item-num\">9&nbsp;&nbsp;</span>Чек-лист готовности проекта</a></span></li><li><span><a href=\"#Финальные-комментарии-ревьюера\" data-toc-modified-id=\"Финальные-комментарии-ревьюера-10\"><span class=\"toc-item-num\">10&nbsp;&nbsp;</span>Финальные комментарии ревьюера</a></span></li></ul></div>"
   ]
  },
  {
   "cell_type": "markdown",
   "metadata": {},
   "source": [
    "# Отток клиентов\n",
    "Заказчик \"Бета-Банк\""
   ]
  },
  {
   "cell_type": "markdown",
   "metadata": {},
   "source": [
    "## Цель\n",
    "По имеющимся данным, клиентов банка, построить модель классификации прогнозирующую <br>\n",
    "Уйдёт клиент или останется в банке"
   ]
  },
  {
   "cell_type": "markdown",
   "metadata": {},
   "source": [
    "## Описание\n",
    "Из «Бета-Банка» стали уходить клиенты. Каждый месяц. Немного, но заметно. Банковские маркетологи посчитали: сохранять текущих клиентов дешевле, чем привлекать новых.\n",
    "\n",
    "Нужно спрогнозировать, уйдёт клиент из банка в ближайшее время или нет. Вам предоставлены исторические данные о поведении клиентов и расторжении договоров с банком.\n",
    "\n",
    "Постройте модель с предельно большим значением *F1*-меры. Чтобы сдать проект успешно, нужно довести метрику до 0.59. Проверьте *F1*-меру на тестовой выборке самостоятельно.\n",
    "\n",
    "Дополнительно измеряйте *AUC-ROC*, сравнивайте её значение с *F1*-мерой.\n",
    "\n",
    "Источник данных: [https://www.kaggle.com/barelydedicated/bank-customer-churn-modeling](https://www.kaggle.com/barelydedicated/bank-customer-churn-modeling)"
   ]
  },
  {
   "cell_type": "markdown",
   "metadata": {},
   "source": [
    "## Описание признаков\n",
    "- RowNumber — индекс строки в данных<br>\n",
    "- CustomerId — уникальный идентификатор клиента<br>\n",
    "- Surname — фамилия<br>\n",
    "- CreditScore — кредитный рейтинг<br>\n",
    "- Geography — страна проживания<br>\n",
    "- Gender — пол<br>\n",
    "- Age — возраст<br>\n",
    "- Tenure — сколько лет человек является клиентом банка<br>\n",
    "- Balance — баланс на счёте<br>\n",
    "- NumOfProducts — количество продуктов банка, используемых клиентом<br>\n",
    "- HasCrCard — наличие кредитной карты<br>\n",
    "- IsActiveMember — активность клиента<br>\n",
    "- EstimatedSalary — предполагаемая зарплата<br>\n",
    "***Целевой признак***<br>\n",
    "- Exited — факт ухода клиента<br>"
   ]
  },
  {
   "cell_type": "markdown",
   "metadata": {},
   "source": [
    "<div class=\"alert alert-success\" style=\"border-color: green; border-radius: 5px\">\n",
    "    <p><u><b>✅ КОММЕНТАРИЙ РЕВЬЮЕРА v.1</b></u></p>\n",
    "    <p>Содержание и формулировка задачи на месте. Это важный структурный компанент проекта. Отлично!</p>\n",
    "</div>"
   ]
  },
  {
   "cell_type": "markdown",
   "metadata": {},
   "source": [
    "## Подготовка данных"
   ]
  },
  {
   "cell_type": "code",
   "execution_count": null,
   "metadata": {},
   "outputs": [],
   "source": [
    "import pandas as pd\n",
    "import numpy as np\n",
    "import seaborn as sns\n",
    "import random\n",
    "from scipy import stats as st\n",
    "import matplotlib.pyplot as plt\n",
    "\n",
    "# pd.set_option('display.max_rows', None)\n",
    "# pd.set_option('display.max_columns', None)\n",
    "pd.options.mode.chained_assignment = None\n",
    "import warnings\n",
    "\n",
    "warnings.simplefilter(action='ignore', category=FutureWarning)"
   ]
  },
  {
   "cell_type": "code",
   "execution_count": null,
   "metadata": {},
   "outputs": [],
   "source": [
    "from sklearn.tree import DecisionTreeClassifier\n",
    "from sklearn.linear_model import LogisticRegression\n",
    "from sklearn.ensemble import RandomForestClassifier\n",
    "from sklearn.linear_model import LinearRegression\n",
    "from sklearn.model_selection import train_test_split\n",
    "from sklearn.metrics import mean_squared_error\n",
    "from sklearn.metrics import accuracy_score, precision_recall_curve\n",
    "from sklearn.preprocessing import StandardScaler, LabelEncoder, OneHotEncoder\n",
    "from sklearn.model_selection import RandomizedSearchCV, GridSearchCV\n",
    "from sklearn.dummy import DummyClassifier\n",
    "from sklearn.metrics import f1_score, roc_auc_score, roc_curve, precision_score, recall_score\n",
    "from sklearn.utils import shuffle"
   ]
  },
  {
   "cell_type": "markdown",
   "metadata": {},
   "source": [
    "<div class=\"alert alert-success\" style=\"border-color: green; border-radius: 5px\">\n",
    "    <p><u><b>✅ КОММЕНТАРИЙ РЕВЬЮЕРА v.1</b></u></p>\n",
    "    <p>Хорошо, что импортируешь нужные библиотеки на первом этапе. Так те, кто будет запускать твой проект в будущем сразу будут знать, какие библиотеки необходимо установить.</p>\n",
    "</div>"
   ]
  },
  {
   "cell_type": "code",
   "execution_count": null,
   "metadata": {},
   "outputs": [],
   "source": [
    "try:\n",
    "    data = pd.read_csv('/datasets/Churn.csv', index_col='RowNumber')\n",
    "except:\n",
    "    data = pd.read_csv('https://code.s3.yandex.net/datasets/Churn.csv', index_col='RowNumber')"
   ]
  },
  {
   "cell_type": "code",
   "execution_count": null,
   "metadata": {},
   "outputs": [],
   "source": [
    "def data_info(data):\n",
    "    display(data.head(5))\n",
    "    print('#' * 55)\n",
    "    data.info()\n",
    "    print('#' * 55)\n",
    "    exam = data.isna().sum() > 0\n",
    "    exam = data.isna().sum()[exam]\n",
    "    print(f'Пропуски в признаках', '\\n', '\\n', exam)\n",
    "    print('#' * 55)\n",
    "    display(data.describe().T)\n",
    "\n",
    "\n",
    "data_info(data)"
   ]
  },
  {
   "cell_type": "raw",
   "metadata": {},
   "source": [
    "Имеем 10000 объектов\n",
    "Пропуски только в признаке Tenure\n",
    "Видимых аномалий в числовых данных нет"
   ]
  },
  {
   "cell_type": "markdown",
   "metadata": {},
   "source": [
    "<div class=\"alert alert-success\" style=\"border-color: green; border-radius: 5px\">\n",
    "    <p><u><b>✅ КОММЕНТАРИЙ РЕВЬЮЕРА v.1</b></u></p>\n",
    "    <p>Данные загружены, отлично. Молодец, что используешь инструкцию <code>try-except</code>.</p>\n",
    "    <p>Хорошо, что применяешь метод <code>.head()</code> таким образом мы можем визуально оценить структуру датасета.</p>\n",
    "    <p>Методы <code>.info()</code> и <code>.describe()</code> также обязательны к применению в таких задачах, с их помощью можно получить первые инсайты. И они на месте.</p>\n",
    "</div>"
   ]
  },
  {
   "cell_type": "code",
   "execution_count": null,
   "metadata": {},
   "outputs": [],
   "source": [
    "# Проверим на дубликаты\n",
    "s = data.duplicated().sum()\n",
    "print(f'Количество дубликатов в данных равно {s}')"
   ]
  },
  {
   "cell_type": "markdown",
   "metadata": {},
   "source": [
    "<div class=\"alert alert-success\" style=\"border-color: green; border-radius: 5px\">\n",
    "    <p><u><b>✅ КОММЕНТАРИЙ РЕВЬЮЕРА v.1</b></u></p>\n",
    "    <p>Хорошо, что проверил на дубликаты, это важно!</p>\n",
    "</div>"
   ]
  },
  {
   "cell_type": "code",
   "execution_count": null,
   "metadata": {},
   "outputs": [],
   "source": [
    "# посмотрим отношение Tenure по группам среди ушедших и оставшихся клиентов\n",
    "exam = data[['Exited', 'Tenure']].copy()\n",
    "exam['Exited'] = exam['Exited'].apply(lambda x:'stayed' if x == 0 else 'left')\n",
    "exam = pd.DataFrame(exam.groupby(['Exited', 'Tenure'])['Tenure'].agg(['size']).reset_index())\n",
    "exam.columns = ['Exited', 'Tenure', 'count']\n",
    "exam['percent'] = round((exam['count'] / exam.groupby('Exited')['count'].transform('sum') * 100), 2)\n",
    "\n",
    "plt.figure(figsize=(12, 4))\n",
    "sns.set_style(\"darkgrid\")\n",
    "ax = sns.barplot(x='Exited', n_boot=1, y='percent', hue='Tenure', data=exam);\n",
    "ax.set_title('отношение оттока и оставшихся по Tenure в %', weight='bold');\n",
    "plt.show()\n"
   ]
  },
  {
   "cell_type": "code",
   "execution_count": null,
   "metadata": {},
   "outputs": [],
   "source": [
    "# посмотрем отношение Tenure по группам ушедших и оставшихся с пропусками\n",
    "exam = data[['Exited', 'Tenure']].copy()\n",
    "exam['isna_Tenure'] = exam['Tenure'].isna().astype(int)\n",
    "exam = pd.DataFrame(exam.groupby(['Exited', 'isna_Tenure'])['isna_Tenure'].agg(['size']).reset_index())\n",
    "exam.columns = ['Exited', 'isna_Tenure', 'count']\n",
    "\n",
    "plt.figure(figsize=(6, 3))\n",
    "sns.set_style(\"darkgrid\")\n",
    "ax = sns.barplot(x='isna_Tenure', n_boot=1, y='count', hue='Exited', data=exam);\n",
    "ax.set_title('пропуски и заполненые Tenure', weight='bold');\n",
    "plt.show()"
   ]
  },
  {
   "cell_type": "raw",
   "metadata": {},
   "source": [
    "В процентном отношении Tenure ушедшие и оставшиеся имеют схожее распределение с незначительными различиями\n",
    "Пропуски в Tenure относительно Exited видимых аномалий не имеют\n",
    "Понять природу пропусков в Tenure не удалось заполним их случайными сзначениями в рамках диапазона Tenure"
   ]
  },
  {
   "cell_type": "code",
   "execution_count": null,
   "metadata": {},
   "outputs": [],
   "source": [
    "pd.DataFrame(data['Tenure'].describe()).T"
   ]
  },
  {
   "cell_type": "code",
   "execution_count": null,
   "metadata": {},
   "outputs": [],
   "source": [
    "exam = (np.random.randint(0, 10, size=data['Tenure'].isna().sum()))\n",
    "data.loc[data['Tenure'].isna(), 'Tenure'] = exam\n",
    "pd.DataFrame(data['Tenure'].describe()).T"
   ]
  },
  {
   "cell_type": "markdown",
   "metadata": {},
   "source": [
    "<div class=\"alert alert-success\" style=\"border-color: green; border-radius: 5px\">\n",
    "    <p><u><b>✅ КОММЕНТАРИЙ РЕВЬЮЕРА v.2</b></u></p>\n",
    "    <p>Ты выбрал приемлимый вариант для заполнения пропусков в данном случае. Также можно было заполнить просто медианным значением, таким образом мы бы практически не нарушили статистические показатели данных.</p>\n",
    "    <p>К заполнению пропусков можно вернуться после получения результатов работы моделей и попробовать другие варианты.</p>\n",
    "    <p>А в реальной жизни с этим вопросом можно обратиться к коллегам, чтобы уточнить причины возникновения пропущенных значений.</p>\n",
    "</div>"
   ]
  },
  {
   "cell_type": "raw",
   "metadata": {},
   "source": [
    "В данных есть признаки, которые не оказывают влияния на результат, это CustomerId, Surname уберём их за ненадобностью\n",
    "Есть категориальные признаки Geography, Gender закодируем их используя OneHotEncoder избегая дамми-ловушки с помощью drop_first=True"
   ]
  },
  {
   "cell_type": "code",
   "execution_count": null,
   "metadata": {},
   "outputs": [],
   "source": [
    "data.head()"
   ]
  },
  {
   "cell_type": "code",
   "execution_count": null,
   "metadata": {},
   "outputs": [],
   "source": [
    "# как говорил Микеланджело \"Я беру камень и отсекаю всё лишнее\"\n",
    "X = data.drop(['CustomerId', 'Surname'], axis=1).copy()"
   ]
  },
  {
   "cell_type": "markdown",
   "metadata": {},
   "source": [
    "<div class=\"alert alert-warning\" style=\"border-color: orange; border-radius: 5px\">\n",
    "    <p><u><b>⚠️ КОММЕНТАРИЙ РЕВЬЮЕРА v.2</b></u></p>\n",
    "    <p>Столбцы для удаления выбраны верно. Молодец!</p>\n",
    "    <p>Только их удаление лучше указать явно, с помощью метода <code>.drop()</code>, а не срезом <code>loc</code>, поскольку если вдруг порядок столбцов изменится, то твой метод не сработает как надо.</p>\n",
    "</div>"
   ]
  },
  {
   "cell_type": "markdown",
   "metadata": {},
   "source": [
    "<div style=\"background: #2A57DB; padding: 20px; border: 1px solid SteelBlue; border-radius: 5px;\">\n",
    "    <font color='#F3F5F2'><u><b></b></u></font>\n",
    "    <font color='#F3F5F2'>Поправил<br>\n",
    "\n",
    "</font>\n",
    "</div>"
   ]
  },
  {
   "cell_type": "markdown",
   "metadata": {},
   "source": [
    "<div class=\"alert alert-success\" style=\"border-color: green; border-radius: 5px\">\n",
    "    <p><u><b>✅ КОММЕНТАРИЙ РЕВЬЮЕРА v.2</b></u></p>\n",
    "    <p>Исправление \"желтых\" комментариев - хорошая примета!</p>\n",
    "</div>"
   ]
  },
  {
   "cell_type": "markdown",
   "metadata": {},
   "source": [
    "<div class=\"alert alert-warning\" style=\"border-color: orange; border-radius: 5px\">\n",
    "    <p><u><b>⚠️ КОММЕНТАРИЙ РЕВЬЮЕРА v.1</b></u></p>\n",
    "    <p>Тут стоит обсудить кодирование категориальных признаков.</p>\n",
    "    <p>Ты безусловно верно применил <code>pd.get_dummies</code>, однако, как показывает практика, этот метод имеет ряд существенных недостатков, поскольку кодирует весь датасет целиком. То есть и трейн и валидацию и тест. Но чаще всего тестовый набор у нас вроде как «слепой» в котором могут быть категории, которых не было изначально в данных на которых обучалась модель, поэтому я рекомендую использовать <code>OneHotEncoder</code> из библиотеки <code>sklearn</code> вместо <code>get_dummies</code> из <code>pandas</code>. В проекте «Обучение с учителем» таких проблем не возникает. Однако в последующих проектах кодирование до деления может привести к ошибкам.</p>\n",
    "    <p>То есть верный алгоритм преобразования следующий:</p>\n",
    "    <p>1. Выполняешь разделение данных на выборки.</p>\n",
    "    <p>2. Обучаешь <code>OneHotEncoder</code> на тренировочной выборке.</p>\n",
    "    <p>3. Трансформируешь все выборки.</p>\n",
    "    <p>Оставлю пару полезных ссылок по этой теме.</p>\n",
    "\n",
    "https://stackoverflow.com/questions/55525195/do-i-have-to-do-one-hot-encoding-separately-for-train-and-test-dataset\n",
    "https://albertum.medium.com/preprocessing-onehotencoder-vs-pandas-get-dummies-3de1f3d77dcc\n",
    "</div>"
   ]
  },
  {
   "cell_type": "markdown",
   "metadata": {},
   "source": [
    "<div style=\"background: #2A57DB; padding: 20px; border: 1px solid SteelBlue; border-radius: 5px;\">\n",
    "    <font color='#F3F5F2'><u><b></b></u></font>\n",
    "    <font color='#F3F5F2'>Поправил<br>\n",
    "\n",
    "</font>\n",
    "</div>"
   ]
  },
  {
   "cell_type": "code",
   "execution_count": null,
   "metadata": {},
   "outputs": [],
   "source": [
    "X.hist(bins=50, figsize=(14, 9), edgecolor='black', linewidth=1)\n",
    "plt.show()"
   ]
  },
  {
   "cell_type": "code",
   "execution_count": null,
   "metadata": {},
   "outputs": [],
   "source": [
    "X.head()"
   ]
  },
  {
   "cell_type": "markdown",
   "metadata": {},
   "source": [
    "Категориальные переменные закодированы <br>\n",
    "Теперь необходимо стандартизировать характеристики, поскольку количественные значения сильно варьируются<br>\n",
    "Мы не будем применять стандартизацию к столбцам tenure, num_of_products, has_crcard, isactive_member и к преобразованным категориальными признакам<br>\n",
    "Масштабируем остальные признаки, но сначала напилим выборки <br>"
   ]
  },
  {
   "cell_type": "code",
   "execution_count": null,
   "metadata": {},
   "outputs": [],
   "source": [
    "features = X.drop('Exited', axis=1)\n",
    "target = X['Exited']"
   ]
  },
  {
   "cell_type": "code",
   "execution_count": null,
   "metadata": {},
   "outputs": [],
   "source": [
    "X_train, X_test, y_train, y_test = train_test_split(features, target, train_size=0.8, random_state=42, stratify=target)\n",
    "\n",
    "print(f\"Количество строк в y_train по классам: {np.bincount(y_train)}\")\n",
    "print(f\"Количество строк в y_test по классам: {np.bincount(y_test)}\")"
   ]
  },
  {
   "cell_type": "markdown",
   "metadata": {},
   "source": [
    "<div class=\"alert alert-danger\" style=\"border-color: #8B0000; border-radius: 5px\">\n",
    "    <p><u><b>❌ КОММЕНТАРИЙ РЕВЬЮЕРА v.1</b></u></p>\n",
    "    <p>Смотри, далее для подбора гиперпараметров ты используешь GridSearchCV. В этот метод уже включена кросс-валидация, как думаешь нужна нам будет валидационная выборка? Или можем ее не выделять и оставить на подбор гиперпараметров больше данных? При этом на тестовую выборку стоит остаить 20% от общей.</p>\n",
    "</div>"
   ]
  },
  {
   "cell_type": "markdown",
   "metadata": {},
   "source": [
    "<div style=\"background: #2A57DB; padding: 20px; border: 1px solid SteelBlue; border-radius: 5px;\">\n",
    "    <font color='#F3F5F2'><u><b></b></u></font>\n",
    "    <font color='#F3F5F2'>Поправил<br>\n",
    "\n",
    "</font>\n",
    "</div>"
   ]
  },
  {
   "cell_type": "markdown",
   "metadata": {},
   "source": [
    "<div class=\"alert alert-success\" style=\"border-color: green; border-radius: 5px\">\n",
    "    <p><u><b>✅ КОММЕНТАРИЙ РЕВЬЮЕРА v.2</b></u></p>\n",
    "    <p>Олтично. Будем работать с двумя выборками.</p>\n",
    "</div>"
   ]
  },
  {
   "cell_type": "code",
   "execution_count": null,
   "metadata": {},
   "outputs": [],
   "source": [
    "exam_list = X_train.select_dtypes('object').columns.to_list()\n",
    "\n",
    "enc = OneHotEncoder(categories=\"auto\", drop=\"first\", handle_unknown='error')\n",
    "enc.fit(X_train.loc[:, exam_list])\n",
    "\n",
    "exam_train = pd.DataFrame(enc.transform(X_train.loc[:, exam_list]).toarray(),\n",
    "                          columns=enc.get_feature_names_out([X_train.columns]))\n",
    "exam_test = pd.DataFrame(enc.transform(X_test.loc[:, exam_list]).toarray(),\n",
    "                         columns=enc.get_feature_names_out([X_train.columns]))\n",
    "\n",
    "X_train = X_train.drop(columns=exam_list, axis=1)\n",
    "X_test = X_test.drop(columns=exam_list, axis=1)\n",
    "\n",
    "X_train = X_train.merge(pd.DataFrame(data=exam_train, index=X_train.index), left_index=True, right_index=True)\n",
    "X_test = X_test.merge(pd.DataFrame(data=exam_test, index=X_test.index), left_index=True, right_index=True)\n",
    "X_train"
   ]
  },
  {
   "cell_type": "markdown",
   "metadata": {},
   "source": [
    "<div class=\"alert alert-warning\" style=\"border-color: orange; border-radius: 5px\">\n",
    "    <p><u><b>⚠️ КОММЕНТАРИЙ РЕВЬЮЕРА v.1</b></u></p>\n",
    "    <p>Круто, что попробовал <code>OneHotEncoder</code> из библиотеки <code>sklearn</code> вместо <code>get_dummies</code> из <code>pandas</code>. Но у нас пропали названия признаков.</p>\n",
    "    <p>В ячейке ниже оставлю мой пример, в нем реализовано сохранение названий столбцов.</p>\n",
    "</div>"
   ]
  },
  {
   "cell_type": "raw",
   "metadata": {},
   "source": [
    "# Код ревьюера\n",
    "# Чтобы код сработал нужно применить переменные из этого проекта\n",
    "# удаляем первый столбец чтобы не попасть в дамми-ловушку\n",
    "var_categorical = ['Geography', 'Gender']\n",
    "\n",
    "encoder = OneHotEncoder(handle_unknown='ignore', drop='first')\n",
    "\n",
    "features_train_ohe = pd.DataFrame(\n",
    "    encoder.fit_transform(features_train[var_categorical]).toarray(),\n",
    "    columns=encoder.get_feature_names_out()\n",
    ")\n",
    "\n",
    "features_valid_ohe = pd.DataFrame(\n",
    "    encoder.transform(features_valid[var_categorical]).toarray(),\n",
    "    columns=encoder.get_feature_names_out()\n",
    ")\n",
    "\n",
    "features_test_ohe = pd.DataFrame(\n",
    "    encoder.transform(features_test[var_categorical]).toarray(),\n",
    "    columns=encoder.get_feature_names_out()\n",
    ")"
   ]
  },
  {
   "cell_type": "markdown",
   "metadata": {},
   "source": [
    "Выборка была разделена, мы можем перейти к пробному обучению моделей <br>\n",
    "В нашей задаче наблюдается сильный дисбаланс классов, что плохо сказывается на обучении модели<br>\n",
    "Посмотрим на результаты, оценивать модель будем по мере F1 - среднее гармоническое <br>\n",
    "Но вначале обучим StandardScaler на тренировочной выборке это позволит избежать утечкии и отформатируем признаки<br>"
   ]
  },
  {
   "cell_type": "code",
   "execution_count": null,
   "metadata": {},
   "outputs": [],
   "source": [
    "numeric = ['CreditScore', 'Age', 'Balance', 'EstimatedSalary', 'Tenure', 'NumOfProducts']\n",
    "scaler = StandardScaler().fit(X_train[numeric])\n",
    "\n",
    "X_train[numeric] = scaler.transform(X_train[numeric])\n",
    "X_test[numeric] = scaler.transform(X_test[numeric])\n",
    "X_train.head(3)"
   ]
  },
  {
   "cell_type": "markdown",
   "metadata": {},
   "source": [
    "<div class=\"alert alert-danger\" style=\"border-color: #8B0000; border-radius: 5px\">\n",
    "    <p><u><b>❌ КОММЕНТАРИЙ РЕВЬЮЕРА v.1</b></u></p>\n",
    "    <p>Алгоритмически масштабирование выполнено верно, но в списке numeric не хватает числовых признаков. Как думаешь, каких? Напомню, что масштабируются только числовые небинарные признаки. Также не забудь убрать из масштабирования валидационную выборку.</p>\n",
    "</div>"
   ]
  },
  {
   "cell_type": "markdown",
   "metadata": {},
   "source": [
    "<div style=\"background: #2A57DB; padding: 20px; border: 1px solid SteelBlue; border-radius: 5px;\">\n",
    "    <font color='#F3F5F2'><u><b></b></u></font>\n",
    "    <font color='#F3F5F2'>Поправил<br>\n",
    "\n",
    "</font>\n",
    "</div>"
   ]
  },
  {
   "cell_type": "markdown",
   "metadata": {},
   "source": [
    "<div class=\"alert alert-success\" style=\"border-color: green; border-radius: 5px\">\n",
    "    <p><u><b>✅ КОММЕНТАРИЙ РЕВЬЮЕРА v.2</b></u></p>\n",
    "    <p>Теперь масштабирование выполнено верно. Хорошо, что напечатал кусочек датасета для визуальной оценки результата.</p>\n",
    "</div>"
   ]
  },
  {
   "cell_type": "markdown",
   "metadata": {},
   "source": [
    "### Вывод подготовка данных\n",
    "В процессе подготовки заполнили пропуски в Tenure<br>\n",
    "Закодировали категориальные признаки избегая дамми-ловушки<br>\n",
    "Убрали признаки не имеющие влияния<br>\n",
    "Разбили сет на выборки в пропорциях <br>\n",
    "Обучающая 80%<br>\n",
    "Тестовая выборки по 20%<br>\n",
    "Масштабировали числовые признаки которые сильно разбегались по значениям<br>\n",
    "Данные подготовили, можем приступать к обучению моделей<br>"
   ]
  },
  {
   "cell_type": "markdown",
   "metadata": {},
   "source": [
    "<div class=\"alert alert-danger\" style=\"border-color: #8B0000; border-radius: 5px\">\n",
    "    <p><u><b>❌ КОММЕНТАРИЙ РЕВЬЮЕРА v.1</b></u></p>\n",
    "    <p>Максим. Ты проделал большую работу дальше по проекту. Но тут стоит внести некоторые изменения. Давай я напишу алгоритм, согласно которому этот проект приобретет нужную структуру и логику. Также оставлю пример кода для работы с GridSearchCV / RandomizedSearchCV. Договорились?</p>\n",
    "    <p>1. В пункте Исследование задачи сперва нужно определить баланс классов. Давай для наглядности можно показать это на графике.</p>\n",
    "    <p>2. Также в пункте Исследование задачи пробуем подобрать гиперпараметры для моделей без учета дисбаланса классов. Для этого применяем либо GridSearchCV, либо RandomizedSearchCV. Для каждой модели определяем перечень (словарь) с диапазонами гиперпараметров. Для каждой модели считаем F1 и ROC-AUC. По итогу исследования пишем вывод.</p>\n",
    "    <p>3. Начинаем пункт борьба с дисбалансом. Тут достаточно исследовать 2 способа борьбы с дисбалансом. Начнем со Взвешивания классов. Для этого берем те же модели как в пункте 2 нашего алгоритма. Применяем к ним такой же метод подбора гиперпараметров и те же перечни (словари) с гиперпараметрами. При этом Явно указываем при инициализации каждой модели параметр class_weight='balanced' (не передаем его в словарь с гиперпараметрами!!!). Для каждой модели считаем F1 и ROC-AUC. Пишем вывод.</p>\n",
    "    <p>4. Следующим в очереди исследуем downsampling, так как upsampling при кросс-валидации применять крайне нецелессобразно, поскольку мы получим \"утечку\" данных. Тут аналогично берем те же модели, применяем к ним такой же метод подбора гиперпараметров и те же перечни (словари) с гиперпараметрами. Для каждой модели считаем F1 и ROC-AUC. Пишем вывод. Обрати внимание, для функции downsample нужно верно подобрать параметр fraction (он равен не 0.1), это можно сделать зная баланс классов.</p>\n",
    "    <p>6. Подбор порогового значения давай уберем. Это не очень эффективный метод.</p>\n",
    "    <p>5. В итоге выбираем модель с наивысшей метрикой F1.</p>\n",
    "    <p>7. Эту модель используем для тестирования с теми гиперпараметрами, которые были подобраны. Считаем F1 и ROC-AUC. Пишем ввыод.</p>\n",
    "    <p>8. Пишем вывод ко всему проекту.</p>\n",
    "    <p>9. Король под горой найден! Профит.</p>\n",
    "</div>"
   ]
  },
  {
   "cell_type": "markdown",
   "metadata": {},
   "source": [
    "<div style=\"background: #2A57DB; padding: 20px; border: 1px solid SteelBlue; border-radius: 5px;\">\n",
    "    <font color='#F3F5F2'><u><b></b></u></font>\n",
    "    <font color='#F3F5F2'>Поправил<br>\n",
    "\n",
    "</font>\n",
    "</div>"
   ]
  },
  {
   "cell_type": "markdown",
   "metadata": {},
   "source": [
    "<div class=\"alert alert-danger\" style=\"border-color: #8B0000; border-radius: 5px\">\n",
    "    <p><u><b>❌ КОММЕНТАРИЙ РЕВЬЮЕРА v.1</b></u></p>\n",
    "    <p>А тут я расскажу тебе как наилучшим образом использовать GridSearchCV.</p>\n",
    "    <p>Для этого в ячейке ниже оставлю пример кода случайного леса. Твоя задача экстарполировать его на все эксперименты этого проекта.</p>\n",
    "    <p>Обрати внимание, что я нигде не применяю валидационную выборку, при этом получаю и лучшие гиперпараметры и лучшее среднее значение f1-меры и AUC-ROC.</p>\n",
    "</div>"
   ]
  },
  {
   "cell_type": "markdown",
   "metadata": {},
   "source": [
    "<div style=\"background: #2A57DB; padding: 20px; border: 1px solid SteelBlue; border-radius: 5px;\">\n",
    "    <font color='#F3F5F2'><u><b></b></u></font>\n",
    "    <font color='#F3F5F2'>Поправил<br>\n",
    "\n",
    "</font>\n",
    "</div>"
   ]
  },
  {
   "cell_type": "raw",
   "metadata": {},
   "source": [
    "%%time\n",
    "# Код ревьюера\n",
    "parameters = {\n",
    "    'n_estimators': range(50, 121, 5),\n",
    "    'max_depth': range(2, 11),\n",
    "}\n",
    "\n",
    "model = RandomForestClassifier(random_state=96)\n",
    "\n",
    "metrics = ['f1', 'roc_auc']\n",
    "# Обрати внимание я указал в scoring список мужных метрик,\n",
    "\n",
    "# А в refit указал 'f1', теперь GridSearchCV будет оптимизировать эту метрику\n",
    "search = GridSearchCV(model, parameters, cv=4, scoring=metrics, refit='f1')\n",
    "search.fit(X_train, y_train)\n",
    "results = search.cv_results_\n",
    "# Печатаем лучшие значения метрик и гиперпараметры\n",
    "print('F1:', '%.4f' %search.best_score_)\n",
    "print('AUC-ROC:', '%.4f' %results['mean_test_roc_auc'].mean())\n",
    "print(pd.Series(search.best_params_))"
   ]
  },
  {
   "cell_type": "markdown",
   "metadata": {},
   "source": [
    "<div class=\"alert alert-success\" style=\"border-color: green; border-radius: 5px\">\n",
    "    <p><u><b>✅ КОММЕНТАРИЙ РЕВЬЮЕРА v.2</b></u></p>\n",
    "    <p>Ок, сейчас все проверим.</p>\n",
    "</div>"
   ]
  },
  {
   "cell_type": "markdown",
   "metadata": {},
   "source": [
    "## Исследование задачи"
   ]
  },
  {
   "cell_type": "code",
   "execution_count": null,
   "metadata": {},
   "outputs": [],
   "source": [
    "# посмотрим на сбалансированность классов\n",
    "exam = y_train.value_counts()\n",
    "exam\n",
    "plt.figure(figsize=(6, 3))\n",
    "labels = ['Class 0', 'Class 1']\n",
    "plt.title('Баланс классов', weight='bold')\n",
    "plt.pie(exam, labels=labels, autopct='%.0f%%')\n",
    "plt.show()"
   ]
  },
  {
   "cell_type": "markdown",
   "metadata": {},
   "source": [
    "Наблюдается заметный дисбаланс классов <br>\n",
    "Class 0 = 80%   Class 1 =\n",
    "20%<br>\n",
    "Можно ожидать, что результаты предсказаний моделей будут сильно склоняться к одному варианту ответов<br>"
   ]
  },
  {
   "cell_type": "markdown",
   "metadata": {},
   "source": [
    "<div class=\"alert alert-success\" style=\"border-color: green; border-radius: 5px\">\n",
    "    <p><u><b>✅ КОММЕНТАРИЙ РЕВЬЮЕРА v.2</b></u></p>\n",
    "    <p>Исследование баланса (а точнее дисбаланса) классов проведено. Лайк за график!</p>\n",
    "</div>"
   ]
  },
  {
   "cell_type": "markdown",
   "metadata": {},
   "source": [
    "Обучим модели LogisticRegression, RandomForestClassifier и DecisionTreeClassifier без учета дисбаланса классов<br>"
   ]
  },
  {
   "cell_type": "markdown",
   "metadata": {},
   "source": [
    "Logistic regression basic"
   ]
  },
  {
   "cell_type": "code",
   "execution_count": null,
   "metadata": {},
   "outputs": [],
   "source": [
    "% % time\n",
    "parameters = {'C':np.logspace(1, 30, 3), 'solver':['newton-cg', 'lbfgs', 'liblinear'], }\n",
    "\n",
    "model = LogisticRegression(random_state=42)\n",
    "\n",
    "metrics = ['f1', 'roc_auc']\n",
    "# Обрати внимание я указал в scoring список мужных метрик,\n",
    "\n",
    "# А в refit указал 'f1', теперь GridSearchCV будет оптимизировать эту метрику\n",
    "search = GridSearchCV(model, parameters, cv=4, scoring=metrics, refit='f1')\n",
    "search.fit(X_train, y_train)\n",
    "results = search.cv_results_\n",
    "# Печатаем лучшие значения метрик и гиперпараметры\n",
    "print('F1:', '%.4f' % search.best_score_)\n",
    "print('AUC-ROC:', '%.4f' % results['mean_test_roc_auc'].mean())\n",
    "print(pd.Series(search.best_params_))"
   ]
  },
  {
   "cell_type": "code",
   "execution_count": null,
   "metadata": {},
   "outputs": [],
   "source": [
    "# создадим DataFrame в который будем записывать модели с характеристиками и заначение F1 и AUC-ROC\n",
    "result_final = (pd.DataFrame({'model':'Logistic regression', 'F1':round(search.best_score_, 4),\n",
    "                              'AUC-ROC':round(results['mean_test_roc_auc'].mean(), 4)}, index=[0]))\n",
    "\n",
    "\n",
    "def result_F1(result_final, model, F1, AUC_ROC):\n",
    "    result = (pd.concat(\n",
    "        [result_final, pd.Series({'model':model, 'F1':round(F1, 4), 'AUC-ROC':round(AUC_ROC, 4)}).to_frame().T],\n",
    "        ignore_index=True))\n",
    "    return result\n"
   ]
  },
  {
   "cell_type": "markdown",
   "metadata": {},
   "source": [
    "Random forest"
   ]
  },
  {
   "cell_type": "code",
   "execution_count": null,
   "metadata": {},
   "outputs": [],
   "source": [
    "% % time\n",
    "\n",
    "parameters = {'n_estimators':range(50, 121, 5), 'max_depth':range(2, 30, 5), }\n",
    "\n",
    "model = RandomForestClassifier(random_state=42)\n",
    "\n",
    "metrics = ['f1', 'roc_auc']\n",
    "# Обрати внимание я указал в scoring список мужных метрик,\n",
    "\n",
    "# А в refit указал 'f1', теперь GridSearchCV будет оптимизировать эту метрику\n",
    "search = GridSearchCV(model, parameters, cv=4, scoring=metrics, refit='f1')\n",
    "search.fit(X_train, y_train)\n",
    "results = search.cv_results_\n",
    "# Печатаем лучшие значения метрик и гиперпараметры\n",
    "print('F1:', '%.4f' % search.best_score_)\n",
    "print('AUC-ROC:', '%.4f' % results['mean_test_roc_auc'].mean())\n",
    "print(pd.Series(search.best_params_))\n",
    "\n",
    "result_final = (result_F1(result_final, 'Random forest', search.best_score_, results['mean_test_roc_auc'].mean()))"
   ]
  },
  {
   "cell_type": "markdown",
   "metadata": {},
   "source": [
    "DecisionTreeClassifier"
   ]
  },
  {
   "cell_type": "code",
   "execution_count": null,
   "metadata": {},
   "outputs": [],
   "source": [
    "% % time\n",
    "parameters = {'max_features':['auto', 'sqrt', 'log2'], 'ccp_alpha':[0.1, .01, .001], 'max_depth':[5, 6, 7, 8, 9],\n",
    "              'criterion':['gini', 'entropy']}\n",
    "\n",
    "model = DecisionTreeClassifier(random_state=42)\n",
    "\n",
    "metrics = ['f1', 'roc_auc']\n",
    "# Обрати внимание я указал в scoring список мужных метрик,\n",
    "\n",
    "# А в refit указал 'f1', теперь GridSearchCV будет оптимизировать эту метрику\n",
    "search = GridSearchCV(model, parameters, cv=4, scoring=metrics, refit='f1')\n",
    "search.fit(X_train, y_train)\n",
    "results = search.cv_results_\n",
    "# Печатаем лучшие значения метрик и гиперпараметры\n",
    "print('F1:', '%.4f' % search.best_score_)\n",
    "print('AUC-ROC:', '%.4f' % results['mean_test_roc_auc'].mean())\n",
    "print(pd.Series(search.best_params_))\n",
    "\n",
    "result_final = (\n",
    "    result_F1(result_final, 'DecisionTreeClassifier', search.best_score_, results['mean_test_roc_auc'].mean()))\n"
   ]
  },
  {
   "cell_type": "markdown",
   "metadata": {},
   "source": [
    "DecisionTreeClassifier class_balanced"
   ]
  },
  {
   "cell_type": "code",
   "execution_count": null,
   "metadata": {},
   "outputs": [],
   "source": [
    "result_final.drop_duplicates()"
   ]
  },
  {
   "cell_type": "markdown",
   "metadata": {},
   "source": [
    "### Вывод\n",
    "Модели обученные на выборке с дисбалансом классов все показывают высокий AUC-ROC <br>\n",
    "Выше 0.5 и если ориентироваться только на этот критерий, можно прийти к ложному выводу <br>\n",
    "Об адекватности модели<br>\n",
    "F1 мера более строгая, отражает гармоническое среднее полноты и точности и неспособна показывать<br>\n",
    "Высокие значения если одна из мер маленькая <br>\n",
    "Ориентироваться стоит на несколько метрик их обоюдные высокие значения можно принимать в расчёт<br>\n",
    "\n",
    "Лучший результат у модели Random forest F1 = 0.5767, AUC-ROC = 0.8483 <br>\n",
    "Возьмём её на заметку как перспективную<br>"
   ]
  },
  {
   "cell_type": "markdown",
   "metadata": {},
   "source": [
    "<div class=\"alert alert-warning\" style=\"border-color: orange; border-radius: 5px\">\n",
    "    <p><u><b>⚠️ КОММЕНТАРИЙ РЕВЬЮЕРА v.1</b></u></p>\n",
    "    <p>Очень круто. Эксперименты верные. Только стоит удалить мои комментарии из ячеек с кодом и добавить свои.</p>\n",
    "</div>"
   ]
  },
  {
   "cell_type": "markdown",
   "metadata": {},
   "source": [
    "## Борьба с дисбалансом"
   ]
  },
  {
   "cell_type": "markdown",
   "metadata": {},
   "source": [
    "Устранение дисбаланса, совершенствование моделей <br>\n",
    "Натягиваем сову на глобус"
   ]
  },
  {
   "cell_type": "code",
   "execution_count": null,
   "metadata": {},
   "outputs": [],
   "source": [
    "exam = np.bincount(y_train)\n",
    "print(f'Отношение меньшего класса ко всем признакам равно {exam[1] / sum(exam):,.2%}')"
   ]
  },
  {
   "cell_type": "markdown",
   "metadata": {},
   "source": [
    "Применим два способа устранения дисбаланса классов, <br>\n",
    "class_weight, downsampling <br>\n",
    "\n",
    "**class_weight**"
   ]
  },
  {
   "cell_type": "markdown",
   "metadata": {},
   "source": [
    "Logistic regression class_weight"
   ]
  },
  {
   "cell_type": "code",
   "execution_count": null,
   "metadata": {},
   "outputs": [],
   "source": [
    "% % time\n",
    "parameters = {'C':np.logspace(1, 30, 3), 'solver':['newton-cg', 'lbfgs', 'liblinear'], }\n",
    "\n",
    "model = LogisticRegression(random_state=42, class_weight='balanced')\n",
    "\n",
    "metrics = ['f1', 'roc_auc']\n",
    "# Обрати внимание я указал в scoring список мужных метрик,\n",
    "\n",
    "# А в refit указал 'f1', теперь GridSearchCV будет оптимизировать эту метрику\n",
    "search = GridSearchCV(model, parameters, cv=4, scoring=metrics, refit='f1')\n",
    "search.fit(X_train, y_train)\n",
    "results = search.cv_results_\n",
    "# Печатаем лучшие значения метрик и гиперпараметры\n",
    "print('F1:', '%.4f' % search.best_score_)\n",
    "print('AUC-ROC:', '%.4f' % results['mean_test_roc_auc'].mean())\n",
    "print(pd.Series(search.best_params_))\n",
    "\n",
    "result_final = (result_F1(result_final, 'Logistic regression class_weight', search.best_score_,\n",
    "                          results['mean_test_roc_auc'].mean()))"
   ]
  },
  {
   "cell_type": "markdown",
   "metadata": {},
   "source": [
    "Random forest class_weight"
   ]
  },
  {
   "cell_type": "code",
   "execution_count": null,
   "metadata": {},
   "outputs": [],
   "source": [
    "% % time\n",
    "\n",
    "parameters = {'n_estimators':range(50, 121, 5), 'max_depth':range(2, 30, 5), }\n",
    "\n",
    "model = RandomForestClassifier(random_state=42, class_weight='balanced')\n",
    "\n",
    "metrics = ['f1', 'roc_auc']\n",
    "# Обрати внимание я указал в scoring список мужных метрик,\n",
    "\n",
    "# А в refit указал 'f1', теперь GridSearchCV будет оптимизировать эту метрику\n",
    "search = GridSearchCV(model, parameters, cv=4, scoring=metrics, refit='f1')\n",
    "search.fit(X_train, y_train)\n",
    "results = search.cv_results_\n",
    "# Печатаем лучшие значения метрик и гиперпараметры\n",
    "print('F1:', '%.4f' % search.best_score_)\n",
    "print('AUC-ROC:', '%.4f' % results['mean_test_roc_auc'].mean())\n",
    "print(pd.Series(search.best_params_))\n",
    "\n",
    "result_final = (\n",
    "    result_F1(result_final, 'Random forest class_weight', search.best_score_, results['mean_test_roc_auc'].mean()))"
   ]
  },
  {
   "cell_type": "markdown",
   "metadata": {},
   "source": [
    "DecisionTreeClassifier class_weight"
   ]
  },
  {
   "cell_type": "code",
   "execution_count": null,
   "metadata": {},
   "outputs": [],
   "source": [
    "% % time\n",
    "parameters = {'max_features':['auto', 'sqrt', 'log2'], 'ccp_alpha':[0.1, .01, .001], 'max_depth':[5, 6, 7, 8, 9],\n",
    "              'criterion':['gini', 'entropy']}\n",
    "\n",
    "model = DecisionTreeClassifier(random_state=42, class_weight='balanced')\n",
    "\n",
    "metrics = ['f1', 'roc_auc']\n",
    "# Обрати внимание я указал в scoring список мужных метрик,\n",
    "\n",
    "# А в refit указал 'f1', теперь GridSearchCV будет оптимизировать эту метрику\n",
    "search = GridSearchCV(model, parameters, cv=4, scoring=metrics, refit='f1')\n",
    "search.fit(X_train, y_train)\n",
    "results = search.cv_results_\n",
    "# Печатаем лучшие значения метрик и гиперпараметры\n",
    "print('F1:', '%.4f' % search.best_score_)\n",
    "print('AUC-ROC:', '%.4f' % results['mean_test_roc_auc'].mean())\n",
    "print(pd.Series(search.best_params_))\n",
    "\n",
    "result_final = (result_F1(result_final, 'DecisionTreeClassifier class_weight', search.best_score_,\n",
    "                          results['mean_test_roc_auc'].mean()))"
   ]
  },
  {
   "cell_type": "markdown",
   "metadata": {},
   "source": [
    "<div class=\"alert alert-warning\" style=\"border-color: orange; border-radius: 5px\">\n",
    "    <p><u><b>⚠️ КОММЕНТАРИЙ РЕВЬЮЕРА v.1</b></u></p>\n",
    "    <p>Тут тоже все ок. Аналогичное замечание - стоит удалить мои комментарии из ячеек с кодом и добавить свои.</p>\n",
    "</div>"
   ]
  },
  {
   "cell_type": "markdown",
   "metadata": {},
   "source": [
    "**Downsampling**"
   ]
  },
  {
   "cell_type": "code",
   "execution_count": null,
   "metadata": {},
   "outputs": [],
   "source": [
    "def downsample(features, target, fraction):\n",
    "    features_zeros = features[target == 0]\n",
    "    features_ones = features[target == 1]\n",
    "    target_zeros = target[target == 0]\n",
    "    target_ones = target[target == 1]\n",
    "\n",
    "    features_sample = features_zeros.sample(frac=fraction, random_state=12345)\n",
    "    target_sample = target_zeros.sample(frac=fraction, random_state=12345)\n",
    "\n",
    "    features_downsampled = pd.concat([features_sample] + [features_ones])\n",
    "    target_downsampled = pd.concat([target_sample] + [target_ones])\n",
    "\n",
    "    features_downsampled = shuffle(features_downsampled, random_state=12345)\n",
    "    target_downsampled = shuffle(target_downsampled, random_state=12345)\n",
    "\n",
    "    return features_downsampled, target_downsampled\n",
    "\n",
    "\n",
    "X_downsampled, y_downsampled = downsample(X_train, y_train, 0.26)\n",
    "\n",
    "exam = np.bincount(y_downsampled)\n",
    "print(f'Отношение класса 0 ко всем признакам равно {exam[0] / sum(exam):,.2%}')"
   ]
  },
  {
   "cell_type": "markdown",
   "metadata": {},
   "source": [
    "<div class=\"alert alert-success\" style=\"border-color: green; border-radius: 5px\">\n",
    "    <p><u><b>✅ КОММЕНТАРИЙ РЕВЬЮЕРА v.2</b></u></p>\n",
    "    <p>Отлично, теперь параметр fraction подобран верно, молодец.</p>\n",
    "</div>"
   ]
  },
  {
   "cell_type": "markdown",
   "metadata": {},
   "source": [
    "Logistic regression downsampled"
   ]
  },
  {
   "cell_type": "code",
   "execution_count": null,
   "metadata": {},
   "outputs": [],
   "source": [
    "% % time\n",
    "parameters = {'C':np.logspace(1, 30, 3), 'solver':['newton-cg', 'lbfgs', 'liblinear'], }\n",
    "\n",
    "model = LogisticRegression(random_state=42)\n",
    "\n",
    "metrics = ['f1', 'roc_auc']\n",
    "# Обрати внимание я указал в scoring список мужных метрик,\n",
    "\n",
    "# А в refit указал 'f1', теперь GridSearchCV будет оптимизировать эту метрику\n",
    "search = GridSearchCV(model, parameters, cv=4, scoring=metrics, refit='f1')\n",
    "search.fit(X_downsampled, y_downsampled)\n",
    "results = search.cv_results_\n",
    "# Печатаем лучшие значения метрик и гиперпараметры\n",
    "print('F1:', '%.4f' % search.best_score_)\n",
    "print('AUC-ROC:', '%.4f' % results['mean_test_roc_auc'].mean())\n",
    "print(pd.Series(search.best_params_))\n",
    "\n",
    "result_final = (\n",
    "    result_F1(result_final, 'Logistic regression downsampled', search.best_score_, results['mean_test_roc_auc'].mean()))"
   ]
  },
  {
   "cell_type": "markdown",
   "metadata": {},
   "source": [
    "Random forest downsampled"
   ]
  },
  {
   "cell_type": "code",
   "execution_count": null,
   "metadata": {},
   "outputs": [],
   "source": [
    "% % time\n",
    "\n",
    "parameters = {'n_estimators':range(50, 121, 5), 'max_depth':range(2, 30, 5), }\n",
    "\n",
    "model = RandomForestClassifier(random_state=42)\n",
    "\n",
    "metrics = ['f1', 'roc_auc']\n",
    "# Обрати внимание я указал в scoring список мужных метрик,\n",
    "\n",
    "# А в refit указал 'f1', теперь GridSearchCV будет оптимизировать эту метрику\n",
    "search = GridSearchCV(model, parameters, cv=4, scoring=metrics, refit='f1')\n",
    "search.fit(X_downsampled, y_downsampled)\n",
    "results = search.cv_results_\n",
    "# Печатаем лучшие значения метрик и гиперпараметры\n",
    "print('F1:', '%.4f' % search.best_score_)\n",
    "print('AUC-ROC:', '%.4f' % results['mean_test_roc_auc'].mean())\n",
    "print(pd.Series(search.best_params_))\n",
    "\n",
    "result_final = (\n",
    "    result_F1(result_final, 'Random forest downsampled', search.best_score_, results['mean_test_roc_auc'].mean()))"
   ]
  },
  {
   "cell_type": "markdown",
   "metadata": {},
   "source": [
    "DecisionTreeClassifier downsampled"
   ]
  },
  {
   "cell_type": "code",
   "execution_count": null,
   "metadata": {},
   "outputs": [],
   "source": [
    "% % time\n",
    "parameters = {'max_features':['auto', 'sqrt', 'log2'], 'ccp_alpha':[0.1, .01, .001], 'max_depth':[5, 6, 7, 8, 9],\n",
    "              'criterion':['gini', 'entropy']}\n",
    "\n",
    "model = DecisionTreeClassifier(random_state=42)\n",
    "\n",
    "metrics = ['f1', 'roc_auc']\n",
    "# Обрати внимание я указал в scoring список мужных метрик,\n",
    "\n",
    "# А в refit указал 'f1', теперь GridSearchCV будет оптимизировать эту метрику\n",
    "search = GridSearchCV(model, parameters, cv=4, scoring=metrics, refit='f1')\n",
    "search.fit(X_downsampled, y_downsampled)\n",
    "results = search.cv_results_\n",
    "# Печатаем лучшие значения метрик и гиперпараметры\n",
    "print('F1:', '%.4f' % search.best_score_)\n",
    "print('AUC-ROC:', '%.4f' % results['mean_test_roc_auc'].mean())\n",
    "print(pd.Series(search.best_params_))\n",
    "\n",
    "result_final = (result_F1(result_final, 'DecisionTreeClassifier downsampled', search.best_score_,\n",
    "                          results['mean_test_roc_auc'].mean()))"
   ]
  },
  {
   "cell_type": "code",
   "execution_count": null,
   "metadata": {},
   "outputs": [],
   "source": [
    "fig = plt.figure(figsize=(13, 8))\n",
    "plt.subplots_adjust(wspace=1, hspace=0.5)\n",
    "ax_1 = fig.add_subplot(2, 2, 1)\n",
    "ax_2 = fig.add_subplot(2, 2, 2)\n",
    "\n",
    "sns.barplot(data=result_final.sort_values(by='F1'), x=\"F1\", y=\"model\", ax=ax_1,\n",
    "\n",
    "    capsize=1, linewidth=1, );\n",
    "ax_1.set_title('Качество F1 ')\n",
    "\n",
    "sns.barplot(data=result_final.sort_values(by='F1'), x=\"AUC-ROC\", y=\"model\", ax=ax_2,\n",
    "\n",
    "    capsize=1, linewidth=1, );\n",
    "ax_2.set_title('Качество AUC_ROC ')\n",
    "plt.show()\n",
    "\n",
    "for i in result_final.sort_values(by='F1').values:\n",
    "    if i[1] >= 0.59:\n",
    "        print(f'Модели удовлетворяющие условию: {i[0]}, F1 = {i[1]}, AUC_ROC = {i[2]}')"
   ]
  },
  {
   "cell_type": "code",
   "execution_count": null,
   "metadata": {},
   "outputs": [],
   "source": [
    "result_final"
   ]
  },
  {
   "cell_type": "markdown",
   "metadata": {},
   "source": [
    "<div class=\"alert alert-warning\" style=\"border-color: orange; border-radius: 5px\">\n",
    "    <p><u><b>⚠️ КОММЕНТАРИЙ РЕВЬЮЕРА v.1</b></u></p>\n",
    "    <p>Тут тоже все ок. Аналогичное замечание - стоит удалить мои комментарии из ячеек с кодом и добавить свои.</p>\n",
    "</div>"
   ]
  },
  {
   "cell_type": "markdown",
   "metadata": {},
   "source": [
    "\n",
    "### Вывод\n",
    "Балансировка классов downsapled and class_weight справились <br>\n",
    "Значение F1 увеличилось <br>\n",
    "AUC_ROC с class_weight увеличился незначительно, а с downsapled уменьшился <br>\n",
    "\n",
    "Модель с лучшими показателями Random forest downsampled  <br>\n",
    "Используем её для теста"
   ]
  },
  {
   "cell_type": "markdown",
   "metadata": {},
   "source": [
    "<div class=\"alert alert-success\" style=\"border-color: green; border-radius: 5px\">\n",
    "    <p><u><b>✅ КОММЕНТАРИЙ РЕВЬЮЕРА v.1</b></u></p>\n",
    "    <p>Ок, вывод есть.</p>\n",
    "</div>"
   ]
  },
  {
   "cell_type": "markdown",
   "metadata": {},
   "source": [
    "## Тестирование модели"
   ]
  },
  {
   "cell_type": "code",
   "execution_count": null,
   "metadata": {},
   "outputs": [],
   "source": [
    "% % time\n",
    "model_rfc = RandomForestClassifier(random_state=42, max_depth=7, n_estimators=105)\n",
    "model_rfc.fit(X_downsampled, y_downsampled)\n",
    "\n",
    "predictions_test = model_rfc.predict(X_test)\n",
    "test_f1 = f1_score(y_test, predictions_test)\n",
    "\n",
    "probabilities_valid = model_rfc.predict_proba(X_test)\n",
    "probabilities_one_valid = probabilities_valid[:, 1]\n",
    "test_auc_roc = roc_auc_score(y_test, probabilities_one_valid)\n",
    "\n"
   ]
  },
  {
   "cell_type": "code",
   "execution_count": null,
   "metadata": {},
   "outputs": [],
   "source": [
    "fpr1, tpr1, thresholds = roc_curve(y_test, probabilities_one_valid)\n",
    "\n",
    "plt.figure(figsize=(5, 4))\n",
    "plt.plot(fpr1, tpr1, linestyle='-')\n",
    "plt.plot([0, 1], [0, 1], linestyle='--')\n",
    "plt.xlim([0.0, 1.0])\n",
    "plt.ylim([0.0, 1.0])\n",
    "plt.xlabel('False Positive Rate')\n",
    "plt.ylabel('True Positive Rate')\n",
    "plt.title('ROC-curve')\n",
    "\n",
    "plt.show()\n",
    "\n",
    "print(f'AUC_ROC на test выборке равен {test_auc_roc:,.2}')\n",
    "print(f'F1-мера на test выборке равен {test_f1:,.2}')"
   ]
  },
  {
   "cell_type": "markdown",
   "metadata": {},
   "source": [
    "### Вывод\n",
    "Проверка модели на тестовых данных показала удовлетворительный результат <br>\n",
    "Гармоническая средняя F1 равна 0.6, что выше заданной величины 0.59 <br>\n",
    "Это значит, что мы справились и выполнили работу<br>\n",
    "Величина AUC_ROC равна 0.86 также подтверждает адекватность модели"
   ]
  },
  {
   "cell_type": "markdown",
   "metadata": {},
   "source": [
    "Финальное решение<br>\n",
    "Модель с лучшими результатами и гиперпараметрами:<br>\n",
    "\n",
    "Лучший результат от метода балансировки классов downsampled<br>\n",
    "Модель с лучшими параметрами <br>\n",
    "RandomForestClassifier(random_state=42, max_depth=12, n_estimators=90) <br>"
   ]
  },
  {
   "cell_type": "markdown",
   "metadata": {},
   "source": [
    "## Вывод\n",
    "\n",
    "В процессе подготовки заполнили пропуски в Tenure<br>\n",
    "Закодировали категориальные признаки избегая дамми-ловушки<br>\n",
    "Убрали признаки не имеющие влияния<br>\n",
    "Разбили сет на выборки в пропорциях<br>\n",
    "Обучающая 80%<br>\n",
    "Тестовая выборки по 20%<br>\n",
    "Масштабировали числовые признаки которые сильно разбегались по значениям <br>\n",
    "\n",
    "Первоначальные обученные модели с дисбалансом классов показывали слабый результат<br>\n",
    "Кроме модели Random forest она показала <br>\n",
    "Величину  F1 0.5735 <br>\n",
    "\n",
    "Модели обученные на выборке с дисбалансом классов показывают высокий AUC-ROC<br>\n",
    "Выше 0.5 и если ориентироваться только на этот критерий, можно прийти к ложному выводу<br>\n",
    "Об адекватности модели<br>\n",
    "F1 мера более строгая, отражает гармоническое среднее полноты и точности и неспособна показывать<br>\n",
    "Высокие значения если одна из мер маленькая<br>\n",
    "Ориентироваться стоит только на несколько метрик их обоюдные высокие значения можно принимать в расчёт<br>\n",
    "\n",
    "Балансировка классов downsapled and class_weight справились<br>\n",
    "Значение F1 увеличилось<br>\n",
    "AUC_ROC с class_weight увеличился не значительно, а с downsapled уменьшился<br>\n",
    "\n",
    "Проверка модели на тестовых данных показала удовлетворительный результат<br>\n",
    "Гармоническая средняя F1 равна 0.6, что выше заданной величины 0.59<br>\n",
    "Это значит, что мы справились и выполнили работу<br>\n",
    "Величина AUC_ROC равна 0.86 также подтверждает адекватность модели<br>"
   ]
  },
  {
   "cell_type": "markdown",
   "metadata": {},
   "source": [
    "<div class=\"alert alert-warning\" style=\"border-color: orange; border-radius: 5px\">\n",
    "    <p><u><b>⚠️ КОММЕНТАРИЙ РЕВЬЮЕРА v.1</b></u></p>\n",
    "    <p>Отлично вывод на месте. Не забудь откорректировать его после внесения изменений в проект.</p>\n",
    "</div>"
   ]
  },
  {
   "cell_type": "markdown",
   "metadata": {},
   "source": [
    "<div class=\"alert alert-success\" style=\"border-color: green; border-radius: 5px\">\n",
    "    <p><u><b>✅ КОММЕНТАРИЙ РЕВЬЮЕРА v.2</b></u></p>\n",
    "    <p>Вывод на месте. Молодец, что указал достигнутые значения метрик.</p>\n",
    "</div>"
   ]
  },
  {
   "cell_type": "markdown",
   "metadata": {},
   "source": [
    "<div style=\"background: #2A57DB; padding: 20px; border: 1px solid SteelBlue; border-radius: 5px;\">\n",
    "    <font color='#F3F5F2'><u><b></b></u></font>\n",
    "    <font color='#F3F5F2'>Вопрос<br>\n",
    "        Объясни пожалуйста, как получается утечка при upsempled с методом GridSearchCV?<br>\n",
    "\n",
    "</font>\n",
    "</div>"
   ]
  },
  {
   "cell_type": "markdown",
   "metadata": {},
   "source": [
    "<div class=\"alert alert-success\" style=\"border-color: green; border-radius: 5px\">\n",
    "    <p><u><b>✅ КОММЕНТАРИЙ РЕВЬЮЕРА v.2</b></u></p>\n",
    "    <p>Смотри. При помощи метода Upsampling мы искусственно увеличиваем представителей класса 1 путем простого копирования их несколько раз. То есть в тренирововчной выборке появляются дубликаты.</p>\n",
    "    <p>Кросс-валидация делит тренировочную выборку на фолды (например 4 штуки) и при каждой следующей итерации выбирает три из ник как трейн а четвертый как валидационную выборку. Следовательно, наши дублированные данные оказываются одновременно и в трейне и в валидации.</p>\n",
    "    <p>При этом модель конечно же даст отличные метрики при подборе гиперпараметров. Но они будут невалидны, так как на тесте модель провлится.</p>\n",
    "</div>"
   ]
  },
  {
   "cell_type": "markdown",
   "metadata": {},
   "source": [
    "## Чек-лист готовности проекта"
   ]
  },
  {
   "cell_type": "markdown",
   "metadata": {},
   "source": [
    "Поставьте 'x' в выполненных пунктах. Далее нажмите Shift+Enter."
   ]
  },
  {
   "cell_type": "markdown",
   "metadata": {},
   "source": [
    "- [x]  Jupyter Notebook открыт\n",
    "- [x]  Весь код выполняется без ошибок\n",
    "- [x]  Ячейки с кодом расположены в порядке исполнения\n",
    "- [x]  Выполнен шаг 1: данные подготовлены\n",
    "- [x]  Выполнен шаг 2: задача исследована\n",
    "    - [x]  Исследован баланс классов\n",
    "    - [x]  Изучены модели без учёта дисбаланса\n",
    "    - [x]  Написаны выводы по результатам исследования\n",
    "- [x]  Выполнен шаг 3: учтён дисбаланс\n",
    "    - [x]  Применено несколько способов борьбы с дисбалансом\n",
    "    - [x]  Написаны выводы по результатам исследования\n",
    "- [x]  Выполнен шаг 4: проведено тестирование\n",
    "- [x]  Удалось достичь *F1*-меры не менее 0.59\n",
    "- [x]  Исследована метрика *AUC-ROC*"
   ]
  },
  {
   "cell_type": "markdown",
   "metadata": {},
   "source": [
    "## Финальные комментарии ревьюера"
   ]
  },
  {
   "cell_type": "markdown",
   "metadata": {},
   "source": [
    "<div class=\"alert alert-danger\" style=\"border-color: #8B0000; border-radius: 5px\">\n",
    "    <p><u><b>❌ КОММЕНТАРИЙ РЕВЬЮЕРА v.1</b></u></p>\n",
    "    <p>Максим, это супер крутой проект. Видно, что ты старался и очень системно подошел к работе. Осталось немного. Думаю, тебе не составит труда исправить замечания и вернуть мне тетредку на повторную проверку! Я постарался подробно их описать. Если возникнут вопросы задавай.</p>\n",
    "    <p>Успехов!</p>\n",
    "</div>"
   ]
  },
  {
   "cell_type": "markdown",
   "metadata": {},
   "source": [
    "<div class=\"alert alert-success\" style=\"border-color: green; border-radius: 5px\">\n",
    "    <p><u><b>✅ КОММЕНТАРИЙ РЕВЬЮЕРА v.2</b></u></p>\n",
    "    <p>Максим, мы добрались до зачета по всем пунктам, замечаний больше нет. Ты молодец! Особенно хвалю за то, что попробовал <code>OneHotEncoder</code> и за структурированность проекта.</p>\n",
    "    <p>Надеюсь тебя посетило то классное чувство профессиональной прокачки по ходу решения.</p>\n",
    "    <p>Для систематизации знаний делюсь с тобой ссылкой на учебник по ML от ШАД:</p>\n",
    "\n",
    "https://ml-handbook.ru/</p>\n",
    "\n",
    "<p>Тут много полезного по метематике:</p>\n",
    "\n",
    "http://mathprofi.ru/</p>\n",
    "\n",
    "<p>Очень классный бесплатный тренажер по SQL (SQL вы будуте проходить дальше в курсе, он крайне важен для работы, так что лучше начать изучать его заранее):</p>\n",
    "\n",
    "https://sql-ex.ru/</p>\n",
    "\n",
    "<p>Настоятельно рекомендую пройти серию курсов по статистике на Stepik:</p>\n",
    "\n",
    "https://stepik.org/course/76/syllabus</p>\n",
    "\n",
    "<p>Там же на Stepik очень много полезных бесплатных курсов по Python, Ананлизу данных и DS.</p>\n",
    "<p>Желаю не останавливаться на пути к поставленной цели. Все получится!</p>\n",
    "</div>"
   ]
  },
  {
   "cell_type": "code",
   "execution_count": null,
   "metadata": {},
   "outputs": [],
   "source": []
  },
  {
   "cell_type": "raw",
   "metadata": {},
   "source": [
    "Имеем 10000 объектов\n",
    "Пропуски только в признаке Tenure\n",
    "Видимых аномалий в числовых данных нет"
   ]
  },
  {
   "cell_type": "markdown",
   "metadata": {},
   "source": [
    "<div class=\"alert alert-success\" style=\"border-color: green; border-radius: 5px\">\n",
    "    <p><u><b>✅ КОММЕНТАРИЙ РЕВЬЮЕРА v.1</b></u></p>\n",
    "    <p>Данные загружены, отлично. Молодец, что используешь инструкцию <code>try-except</code>.</p>\n",
    "    <p>Хорошо, что применяешь метод <code>.head()</code> таким образом мы можем визуально оценить структуру датасета.</p>\n",
    "    <p>Методы <code>.info()</code> и <code>.describe()</code> также обязательны к применению в таких задачах, с их помощью можно получить первые инсайты. И они на месте.</p>\n",
    "</div>"
   ]
  },
  {
   "cell_type": "code",
   "execution_count": null,
   "metadata": {},
   "outputs": [],
   "source": [
    "# Проверим на дубликаты\n",
    "s = data.duplicated().sum()\n",
    "print(f'Количество дубликатов в данных равно {s}')"
   ]
  },
  {
   "cell_type": "markdown",
   "metadata": {},
   "source": [
    "<div class=\"alert alert-success\" style=\"border-color: green; border-radius: 5px\">\n",
    "    <p><u><b>✅ КОММЕНТАРИЙ РЕВЬЮЕРА v.1</b></u></p>\n",
    "    <p>Хорошо, что проверил на дубликаты, это важно!</p>\n",
    "</div>"
   ]
  },
  {
   "cell_type": "code",
   "execution_count": null,
   "metadata": {},
   "outputs": [],
   "source": [
    "# посмотрим отношение Tenure по группам среди ушедших и оставшихся клиентов\n",
    "exam = data[['Exited', 'Tenure']].copy()\n",
    "exam['Exited'] = exam['Exited'].apply(lambda x:'stayed' if x == 0 else 'left')\n",
    "exam = pd.DataFrame(exam.groupby(['Exited', 'Tenure'])['Tenure'].agg(['size']).reset_index())\n",
    "exam.columns = ['Exited', 'Tenure', 'count']\n",
    "exam['percent'] = round((exam['count'] / exam.groupby('Exited')['count'].transform('sum') * 100), 2)\n",
    "\n",
    "plt.figure(figsize=(12, 4))\n",
    "sns.set_style(\"darkgrid\")\n",
    "ax = sns.barplot(x='Exited', n_boot=1, y='percent', hue='Tenure', data=exam);\n",
    "ax.set_title('отношение оттока и оставшихся по Tenure в %', weight='bold');\n",
    "plt.show()\n"
   ]
  },
  {
   "cell_type": "code",
   "execution_count": null,
   "metadata": {},
   "outputs": [],
   "source": [
    "# посмотрем отношение Tenure по группам ушедших и оставшихся с пропусками\n",
    "exam = data[['Exited', 'Tenure']].copy()\n",
    "exam['isna_Tenure'] = exam['Tenure'].isna().astype(int)\n",
    "exam = pd.DataFrame(exam.groupby(['Exited', 'isna_Tenure'])['isna_Tenure'].agg(['size']).reset_index())\n",
    "exam.columns = ['Exited', 'isna_Tenure', 'count']\n",
    "\n",
    "plt.figure(figsize=(6, 3))\n",
    "sns.set_style(\"darkgrid\")\n",
    "ax = sns.barplot(x='isna_Tenure', n_boot=1, y='count', hue='Exited', data=exam);\n",
    "ax.set_title('пропуски и заполненые Tenure', weight='bold');\n",
    "plt.show()"
   ]
  },
  {
   "cell_type": "raw",
   "metadata": {},
   "source": [
    "В процентном отношении Tenure ушедшие и оставшиеся имеют схожее распределение с незначительными различиями\n",
    "Пропуски в Tenure относительно Exited видимых аномалий не имеют\n",
    "Понять природу пропусков в Tenure не удалось заполним их случайными сзначениями в рамках диапазона Tenure"
   ]
  },
  {
   "cell_type": "code",
   "execution_count": null,
   "metadata": {},
   "outputs": [],
   "source": [
    "pd.DataFrame(data['Tenure'].describe()).T"
   ]
  },
  {
   "cell_type": "code",
   "execution_count": null,
   "metadata": {},
   "outputs": [],
   "source": [
    "exam = (np.random.randint(0, 10, size=data['Tenure'].isna().sum()))\n",
    "data.loc[data['Tenure'].isna(), 'Tenure'] = exam\n",
    "pd.DataFrame(data['Tenure'].describe()).T"
   ]
  },
  {
   "cell_type": "markdown",
   "metadata": {},
   "source": [
    "<div class=\"alert alert-success\" style=\"border-color: green; border-radius: 5px\">\n",
    "    <p><u><b>✅ КОММЕНТАРИЙ РЕВЬЮЕРА v.2</b></u></p>\n",
    "    <p>Ты выбрал приемлимый вариант для заполнения пропусков в данном случае. Также можно было заполнить просто медианным значением, таким образом мы бы практически не нарушили статистические показатели данных.</p>\n",
    "    <p>К заполнению пропусков можно вернуться после получения результатов работы моделей и попробовать другие варианты.</p>\n",
    "    <p>А в реальной жизни с этим вопросом можно обратиться к коллегам, чтобы уточнить причины возникновения пропущенных значений.</p>\n",
    "</div>"
   ]
  },
  {
   "cell_type": "raw",
   "metadata": {},
   "source": [
    "В данных есть признаки, которые не оказывают влияния на результат, это CustomerId, Surname уберём их за ненадобностью\n",
    "Есть категориальные признаки Geography, Gender закодируем их используя OneHotEncoder избегая дамми-ловушки с помощью drop_first=True"
   ]
  },
  {
   "cell_type": "code",
   "execution_count": null,
   "metadata": {},
   "outputs": [],
   "source": [
    "data.head()"
   ]
  },
  {
   "cell_type": "code",
   "execution_count": null,
   "metadata": {},
   "outputs": [],
   "source": [
    "# как говорил Микеланджело \"Я беру камень и отсекаю всё лишнее\"\n",
    "X = data.drop(['CustomerId', 'Surname'], axis=1).copy()"
   ]
  },
  {
   "cell_type": "markdown",
   "metadata": {},
   "source": [
    "<div class=\"alert alert-warning\" style=\"border-color: orange; border-radius: 5px\">\n",
    "    <p><u><b>⚠️ КОММЕНТАРИЙ РЕВЬЮЕРА v.2</b></u></p>\n",
    "    <p>Столбцы для удаления выбраны верно. Молодец!</p>\n",
    "    <p>Только их удаление лучше указать явно, с помощью метода <code>.drop()</code>, а не срезом <code>loc</code>, поскольку если вдруг порядок столбцов изменится, то твой метод не сработает как надо.</p>\n",
    "</div>"
   ]
  },
  {
   "cell_type": "markdown",
   "metadata": {},
   "source": [
    "<div style=\"background: #2A57DB; padding: 20px; border: 1px solid SteelBlue; border-radius: 5px;\">\n",
    "    <font color='#F3F5F2'><u><b></b></u></font>\n",
    "    <font color='#F3F5F2'>Поправил<br>\n",
    "\n",
    "</font>\n",
    "</div>"
   ]
  },
  {
   "cell_type": "markdown",
   "metadata": {},
   "source": [
    "<div class=\"alert alert-success\" style=\"border-color: green; border-radius: 5px\">\n",
    "    <p><u><b>✅ КОММЕНТАРИЙ РЕВЬЮЕРА v.2</b></u></p>\n",
    "    <p>Исправление \"желтых\" комментариев - хорошая примета!</p>\n",
    "</div>"
   ]
  },
  {
   "cell_type": "markdown",
   "metadata": {},
   "source": [
    "<div class=\"alert alert-warning\" style=\"border-color: orange; border-radius: 5px\">\n",
    "    <p><u><b>⚠️ КОММЕНТАРИЙ РЕВЬЮЕРА v.1</b></u></p>\n",
    "    <p>Тут стоит обсудить кодирование категориальных признаков.</p>\n",
    "    <p>Ты безусловно верно применил <code>pd.get_dummies</code>, однако, как показывает практика, этот метод имеет ряд существенных недостатков, поскольку кодирует весь датасет целиком. То есть и трейн и валидацию и тест. Но чаще всего тестовый набор у нас вроде как «слепой» в котором могут быть категории, которых не было изначально в данных на которых обучалась модель, поэтому я рекомендую использовать <code>OneHotEncoder</code> из библиотеки <code>sklearn</code> вместо <code>get_dummies</code> из <code>pandas</code>. В проекте «Обучение с учителем» таких проблем не возникает. Однако в последующих проектах кодирование до деления может привести к ошибкам.</p>\n",
    "    <p>То есть верный алгоритм преобразования следующий:</p>\n",
    "    <p>1. Выполняешь разделение данных на выборки.</p>\n",
    "    <p>2. Обучаешь <code>OneHotEncoder</code> на тренировочной выборке.</p>\n",
    "    <p>3. Трансформируешь все выборки.</p>\n",
    "    <p>Оставлю пару полезных ссылок по этой теме.</p>\n",
    "\n",
    "https://stackoverflow.com/questions/55525195/do-i-have-to-do-one-hot-encoding-separately-for-train-and-test-dataset\n",
    "https://albertum.medium.com/preprocessing-onehotencoder-vs-pandas-get-dummies-3de1f3d77dcc\n",
    "</div>"
   ]
  },
  {
   "cell_type": "markdown",
   "metadata": {},
   "source": [
    "<div style=\"background: #2A57DB; padding: 20px; border: 1px solid SteelBlue; border-radius: 5px;\">\n",
    "    <font color='#F3F5F2'><u><b></b></u></font>\n",
    "    <font color='#F3F5F2'>Поправил<br>\n",
    "\n",
    "</font>\n",
    "</div>"
   ]
  },
  {
   "cell_type": "code",
   "execution_count": null,
   "metadata": {},
   "outputs": [],
   "source": [
    "X.hist(bins=50, figsize=(14, 9), edgecolor='black', linewidth=1)\n",
    "plt.show()"
   ]
  },
  {
   "cell_type": "code",
   "execution_count": null,
   "metadata": {},
   "outputs": [],
   "source": [
    "X.head()"
   ]
  },
  {
   "cell_type": "markdown",
   "metadata": {},
   "source": [
    "Категориальные переменные закодированы <br>\n",
    "Теперь необходимо стандартизировать характеристики, поскольку количественные значения сильно варьируются<br>\n",
    "Мы не будем применять стандартизацию к столбцам tenure, num_of_products, has_crcard, isactive_member и к преобразованным категориальными признакам<br>\n",
    "Масштабируем остальные признаки, но сначала напилим выборки <br>"
   ]
  },
  {
   "cell_type": "code",
   "execution_count": null,
   "metadata": {},
   "outputs": [],
   "source": [
    "features = X.drop('Exited', axis=1)\n",
    "target = X['Exited']"
   ]
  },
  {
   "cell_type": "code",
   "execution_count": null,
   "metadata": {},
   "outputs": [],
   "source": [
    "X_train, X_test, y_train, y_test = train_test_split(features, target, train_size=0.8, random_state=42, stratify=target)\n",
    "\n",
    "print(f\"Количество строк в y_train по классам: {np.bincount(y_train)}\")\n",
    "print(f\"Количество строк в y_test по классам: {np.bincount(y_test)}\")"
   ]
  },
  {
   "cell_type": "markdown",
   "metadata": {},
   "source": [
    "<div class=\"alert alert-danger\" style=\"border-color: #8B0000; border-radius: 5px\">\n",
    "    <p><u><b>❌ КОММЕНТАРИЙ РЕВЬЮЕРА v.1</b></u></p>\n",
    "    <p>Смотри, далее для подбора гиперпараметров ты используешь GridSearchCV. В этот метод уже включена кросс-валидация, как думаешь нужна нам будет валидационная выборка? Или можем ее не выделять и оставить на подбор гиперпараметров больше данных? При этом на тестовую выборку стоит остаить 20% от общей.</p>\n",
    "</div>"
   ]
  },
  {
   "cell_type": "markdown",
   "metadata": {},
   "source": [
    "<div style=\"background: #2A57DB; padding: 20px; border: 1px solid SteelBlue; border-radius: 5px;\">\n",
    "    <font color='#F3F5F2'><u><b></b></u></font>\n",
    "    <font color='#F3F5F2'>Поправил<br>\n",
    "\n",
    "</font>\n",
    "</div>"
   ]
  },
  {
   "cell_type": "markdown",
   "metadata": {},
   "source": [
    "<div class=\"alert alert-success\" style=\"border-color: green; border-radius: 5px\">\n",
    "    <p><u><b>✅ КОММЕНТАРИЙ РЕВЬЮЕРА v.2</b></u></p>\n",
    "    <p>Олтично. Будем работать с двумя выборками.</p>\n",
    "</div>"
   ]
  },
  {
   "cell_type": "code",
   "execution_count": null,
   "metadata": {},
   "outputs": [],
   "source": [
    "exam_list = X_train.select_dtypes('object').columns.to_list()\n",
    "\n",
    "enc = OneHotEncoder(categories=\"auto\", drop=\"first\", handle_unknown='error')\n",
    "enc.fit(X_train.loc[:, exam_list])\n",
    "\n",
    "exam_train = pd.DataFrame(enc.transform(X_train.loc[:, exam_list]).toarray(),\n",
    "                          columns=enc.get_feature_names_out([X_train.columns]))\n",
    "exam_test = pd.DataFrame(enc.transform(X_test.loc[:, exam_list]).toarray(),\n",
    "                         columns=enc.get_feature_names_out([X_train.columns]))\n",
    "\n",
    "X_train = X_train.drop(columns=exam_list, axis=1)\n",
    "X_test = X_test.drop(columns=exam_list, axis=1)\n",
    "\n",
    "X_train = X_train.merge(pd.DataFrame(data=exam_train, index=X_train.index), left_index=True, right_index=True)\n",
    "X_test = X_test.merge(pd.DataFrame(data=exam_test, index=X_test.index), left_index=True, right_index=True)\n",
    "X_train"
   ]
  },
  {
   "cell_type": "markdown",
   "metadata": {},
   "source": [
    "<div class=\"alert alert-warning\" style=\"border-color: orange; border-radius: 5px\">\n",
    "    <p><u><b>⚠️ КОММЕНТАРИЙ РЕВЬЮЕРА v.1</b></u></p>\n",
    "    <p>Круто, что попробовал <code>OneHotEncoder</code> из библиотеки <code>sklearn</code> вместо <code>get_dummies</code> из <code>pandas</code>. Но у нас пропали названия признаков.</p>\n",
    "    <p>В ячейке ниже оставлю мой пример, в нем реализовано сохранение названий столбцов.</p>\n",
    "</div>"
   ]
  },
  {
   "cell_type": "raw",
   "metadata": {},
   "source": [
    "# Код ревьюера\n",
    "# Чтобы код сработал нужно применить переменные из этого проекта\n",
    "# удаляем первый столбец чтобы не попасть в дамми-ловушку\n",
    "var_categorical = ['Geography', 'Gender']\n",
    "\n",
    "encoder = OneHotEncoder(handle_unknown='ignore', drop='first')\n",
    "\n",
    "features_train_ohe = pd.DataFrame(\n",
    "    encoder.fit_transform(features_train[var_categorical]).toarray(),\n",
    "    columns=encoder.get_feature_names_out()\n",
    ")\n",
    "\n",
    "features_valid_ohe = pd.DataFrame(\n",
    "    encoder.transform(features_valid[var_categorical]).toarray(),\n",
    "    columns=encoder.get_feature_names_out()\n",
    ")\n",
    "\n",
    "features_test_ohe = pd.DataFrame(\n",
    "    encoder.transform(features_test[var_categorical]).toarray(),\n",
    "    columns=encoder.get_feature_names_out()\n",
    ")"
   ]
  },
  {
   "cell_type": "markdown",
   "metadata": {},
   "source": [
    "Выборка была разделена, мы можем перейти к пробному обучению моделей <br>\n",
    "В нашей задаче наблюдается сильный дисбаланс классов, что плохо сказывается на обучении модели<br>\n",
    "Посмотрим на результаты, оценивать модель будем по мере F1 - среднее гармоническое <br>\n",
    "Но вначале обучим StandardScaler на тренировочной выборке это позволит избежать утечкии и отформатируем признаки<br>"
   ]
  },
  {
   "cell_type": "code",
   "execution_count": null,
   "metadata": {},
   "outputs": [],
   "source": [
    "numeric = ['CreditScore', 'Age', 'Balance', 'EstimatedSalary', 'Tenure', 'NumOfProducts']\n",
    "scaler = StandardScaler().fit(X_train[numeric])\n",
    "\n",
    "X_train[numeric] = scaler.transform(X_train[numeric])\n",
    "X_test[numeric] = scaler.transform(X_test[numeric])\n",
    "X_train.head(3)"
   ]
  },
  {
   "cell_type": "markdown",
   "metadata": {},
   "source": [
    "<div class=\"alert alert-danger\" style=\"border-color: #8B0000; border-radius: 5px\">\n",
    "    <p><u><b>❌ КОММЕНТАРИЙ РЕВЬЮЕРА v.1</b></u></p>\n",
    "    <p>Алгоритмически масштабирование выполнено верно, но в списке numeric не хватает числовых признаков. Как думаешь, каких? Напомню, что масштабируются только числовые небинарные признаки. Также не забудь убрать из масштабирования валидационную выборку.</p>\n",
    "</div>"
   ]
  },
  {
   "cell_type": "markdown",
   "metadata": {},
   "source": [
    "<div style=\"background: #2A57DB; padding: 20px; border: 1px solid SteelBlue; border-radius: 5px;\">\n",
    "    <font color='#F3F5F2'><u><b></b></u></font>\n",
    "    <font color='#F3F5F2'>Поправил<br>\n",
    "\n",
    "</font>\n",
    "</div>"
   ]
  },
  {
   "cell_type": "markdown",
   "metadata": {},
   "source": [
    "<div class=\"alert alert-success\" style=\"border-color: green; border-radius: 5px\">\n",
    "    <p><u><b>✅ КОММЕНТАРИЙ РЕВЬЮЕРА v.2</b></u></p>\n",
    "    <p>Теперь масштабирование выполнено верно. Хорошо, что напечатал кусочек датасета для визуальной оценки результата.</p>\n",
    "</div>"
   ]
  },
  {
   "cell_type": "markdown",
   "metadata": {},
   "source": [
    "### Вывод подготовка данных\n",
    "В процессе подготовки заполнили пропуски в Tenure<br>\n",
    "Закодировали категориальные признаки избегая дамми-ловушки<br>\n",
    "Убрали признаки не имеющие влияния<br>\n",
    "Разбили сет на выборки в пропорциях <br>\n",
    "Обучающая 80%<br>\n",
    "Тестовая выборки по 20%<br>\n",
    "Масштабировали числовые признаки которые сильно разбегались по значениям<br>\n",
    "Данные подготовили, можем приступать к обучению моделей<br>"
   ]
  },
  {
   "cell_type": "markdown",
   "metadata": {},
   "source": [
    "<div class=\"alert alert-danger\" style=\"border-color: #8B0000; border-radius: 5px\">\n",
    "    <p><u><b>❌ КОММЕНТАРИЙ РЕВЬЮЕРА v.1</b></u></p>\n",
    "    <p>Максим. Ты проделал большую работу дальше по проекту. Но тут стоит внести некоторые изменения. Давай я напишу алгоритм, согласно которому этот проект приобретет нужную структуру и логику. Также оставлю пример кода для работы с GridSearchCV / RandomizedSearchCV. Договорились?</p>\n",
    "    <p>1. В пункте Исследование задачи сперва нужно определить баланс классов. Давай для наглядности можно показать это на графике.</p>\n",
    "    <p>2. Также в пункте Исследование задачи пробуем подобрать гиперпараметры для моделей без учета дисбаланса классов. Для этого применяем либо GridSearchCV, либо RandomizedSearchCV. Для каждой модели определяем перечень (словарь) с диапазонами гиперпараметров. Для каждой модели считаем F1 и ROC-AUC. По итогу исследования пишем вывод.</p>\n",
    "    <p>3. Начинаем пункт борьба с дисбалансом. Тут достаточно исследовать 2 способа борьбы с дисбалансом. Начнем со Взвешивания классов. Для этого берем те же модели как в пункте 2 нашего алгоритма. Применяем к ним такой же метод подбора гиперпараметров и те же перечни (словари) с гиперпараметрами. При этом Явно указываем при инициализации каждой модели параметр class_weight='balanced' (не передаем его в словарь с гиперпараметрами!!!). Для каждой модели считаем F1 и ROC-AUC. Пишем вывод.</p>\n",
    "    <p>4. Следующим в очереди исследуем downsampling, так как upsampling при кросс-валидации применять крайне нецелессобразно, поскольку мы получим \"утечку\" данных. Тут аналогично берем те же модели, применяем к ним такой же метод подбора гиперпараметров и те же перечни (словари) с гиперпараметрами. Для каждой модели считаем F1 и ROC-AUC. Пишем вывод. Обрати внимание, для функции downsample нужно верно подобрать параметр fraction (он равен не 0.1), это можно сделать зная баланс классов.</p>\n",
    "    <p>6. Подбор порогового значения давай уберем. Это не очень эффективный метод.</p>\n",
    "    <p>5. В итоге выбираем модель с наивысшей метрикой F1.</p>\n",
    "    <p>7. Эту модель используем для тестирования с теми гиперпараметрами, которые были подобраны. Считаем F1 и ROC-AUC. Пишем ввыод.</p>\n",
    "    <p>8. Пишем вывод ко всему проекту.</p>\n",
    "    <p>9. Король под горой найден! Профит.</p>\n",
    "</div>"
   ]
  },
  {
   "cell_type": "markdown",
   "metadata": {},
   "source": [
    "<div style=\"background: #2A57DB; padding: 20px; border: 1px solid SteelBlue; border-radius: 5px;\">\n",
    "    <font color='#F3F5F2'><u><b></b></u></font>\n",
    "    <font color='#F3F5F2'>Поправил<br>\n",
    "\n",
    "</font>\n",
    "</div>"
   ]
  },
  {
   "cell_type": "markdown",
   "metadata": {},
   "source": [
    "<div class=\"alert alert-danger\" style=\"border-color: #8B0000; border-radius: 5px\">\n",
    "    <p><u><b>❌ КОММЕНТАРИЙ РЕВЬЮЕРА v.1</b></u></p>\n",
    "    <p>А тут я расскажу тебе как наилучшим образом использовать GridSearchCV.</p>\n",
    "    <p>Для этого в ячейке ниже оставлю пример кода случайного леса. Твоя задача экстарполировать его на все эксперименты этого проекта.</p>\n",
    "    <p>Обрати внимание, что я нигде не применяю валидационную выборку, при этом получаю и лучшие гиперпараметры и лучшее среднее значение f1-меры и AUC-ROC.</p>\n",
    "</div>"
   ]
  },
  {
   "cell_type": "markdown",
   "metadata": {},
   "source": [
    "<div style=\"background: #2A57DB; padding: 20px; border: 1px solid SteelBlue; border-radius: 5px;\">\n",
    "    <font color='#F3F5F2'><u><b></b></u></font>\n",
    "    <font color='#F3F5F2'>Поправил<br>\n",
    "\n",
    "</font>\n",
    "</div>"
   ]
  },
  {
   "cell_type": "raw",
   "metadata": {},
   "source": [
    "%%time\n",
    "# Код ревьюера\n",
    "parameters = {\n",
    "    'n_estimators': range(50, 121, 5),\n",
    "    'max_depth': range(2, 11),\n",
    "}\n",
    "\n",
    "model = RandomForestClassifier(random_state=96)\n",
    "\n",
    "metrics = ['f1', 'roc_auc']\n",
    "# Обрати внимание я указал в scoring список мужных метрик,\n",
    "\n",
    "# А в refit указал 'f1', теперь GridSearchCV будет оптимизировать эту метрику\n",
    "search = GridSearchCV(model, parameters, cv=4, scoring=metrics, refit='f1')\n",
    "search.fit(X_train, y_train)\n",
    "results = search.cv_results_\n",
    "# Печатаем лучшие значения метрик и гиперпараметры\n",
    "print('F1:', '%.4f' %search.best_score_)\n",
    "print('AUC-ROC:', '%.4f' %results['mean_test_roc_auc'].mean())\n",
    "print(pd.Series(search.best_params_))"
   ]
  },
  {
   "cell_type": "markdown",
   "metadata": {},
   "source": [
    "<div class=\"alert alert-success\" style=\"border-color: green; border-radius: 5px\">\n",
    "    <p><u><b>✅ КОММЕНТАРИЙ РЕВЬЮЕРА v.2</b></u></p>\n",
    "    <p>Ок, сейчас все проверим.</p>\n",
    "</div>"
   ]
  },
  {
   "cell_type": "markdown",
   "metadata": {},
   "source": [
    "## Исследование задачи"
   ]
  },
  {
   "cell_type": "code",
   "execution_count": null,
   "metadata": {},
   "outputs": [],
   "source": [
    "# посмотрим на сбалансированность классов\n",
    "exam = y_train.value_counts()\n",
    "exam\n",
    "plt.figure(figsize=(6, 3))\n",
    "labels = ['Class 0', 'Class 1']\n",
    "plt.title('Баланс классов', weight='bold')\n",
    "plt.pie(exam, labels=labels, autopct='%.0f%%')\n",
    "plt.show()"
   ]
  },
  {
   "cell_type": "markdown",
   "metadata": {},
   "source": [
    "Наблюдается заметный дисбаланс классов <br>\n",
    "Class 0 = 80%   Class 1 =\n",
    "20%<br>\n",
    "Можно ожидать, что результаты предсказаний моделей будут сильно склоняться к одному варианту ответов<br>"
   ]
  },
  {
   "cell_type": "markdown",
   "metadata": {},
   "source": [
    "<div class=\"alert alert-success\" style=\"border-color: green; border-radius: 5px\">\n",
    "    <p><u><b>✅ КОММЕНТАРИЙ РЕВЬЮЕРА v.2</b></u></p>\n",
    "    <p>Исследование баланса (а точнее дисбаланса) классов проведено. Лайк за график!</p>\n",
    "</div>"
   ]
  },
  {
   "cell_type": "markdown",
   "metadata": {},
   "source": [
    "Обучим модели LogisticRegression, RandomForestClassifier и DecisionTreeClassifier без учета дисбаланса классов<br>"
   ]
  },
  {
   "cell_type": "markdown",
   "metadata": {},
   "source": [
    "Logistic regression basic"
   ]
  },
  {
   "cell_type": "code",
   "execution_count": null,
   "metadata": {},
   "outputs": [],
   "source": [
    "%%time\n",
    "parameters = {\n",
    "    'C'       : np.logspace(1,30,3),\n",
    "    'solver'  : ['newton-cg', 'lbfgs', 'liblinear'],\n",
    "}\n",
    "\n",
    "model = LogisticRegression(random_state=42)\n",
    "\n",
    "metrics = ['f1', 'roc_auc']\n",
    "# Обрати внимание я указал в scoring список мужных метрик,\n",
    "\n",
    "# А в refit указал 'f1', теперь GridSearchCV будет оптимизировать эту метрику\n",
    "search = GridSearchCV(model, parameters, cv=4, scoring=metrics, refit='f1')\n",
    "search.fit(X_train, y_train)\n",
    "results = search.cv_results_\n",
    "# Печатаем лучшие значения метрик и гиперпараметры\n",
    "print('F1:', '%.4f' %search.best_score_)\n",
    "print('AUC-ROC:', '%.4f' %results['mean_test_roc_auc'].mean())\n",
    "print(pd.Series(search.best_params_))"
   ]
  },
  {
   "cell_type": "code",
   "execution_count": null,
   "metadata": {},
   "outputs": [],
   "source": [
    "# создадим DataFrame в который будем записывать модели с характеристиками и заначение F1 и AUC-ROC\n",
    "result_final = (pd.DataFrame({'model': 'Logistic regression',\n",
    "                           'F1': round(search.best_score_,4),\n",
    "                             'AUC-ROC': round(results['mean_test_roc_auc'].mean(),4)}, index=[0]))\n",
    "def result_F1(result_final, model, F1, AUC_ROC):\n",
    "    result  = (pd.concat([result_final, pd.Series({'model': model,\n",
    "                                                   'F1': round(F1,4),\n",
    "                                                  'AUC-ROC':round(AUC_ROC,4)}).to_frame().T], ignore_index=True))\n",
    "    return result\n"
   ]
  },
  {
   "cell_type": "markdown",
   "metadata": {},
   "source": [
    "Random forest"
   ]
  },
  {
   "cell_type": "code",
   "execution_count": null,
   "metadata": {},
   "outputs": [],
   "source": [
    "%%time\n",
    "\n",
    "parameters = {\n",
    "    'n_estimators': range(50, 121, 5),\n",
    "    'max_depth': range(2, 30, 5),\n",
    "}\n",
    "\n",
    "model = RandomForestClassifier(random_state=42)\n",
    "\n",
    "metrics = ['f1', 'roc_auc']\n",
    "# Обрати внимание я указал в scoring список мужных метрик,\n",
    "\n",
    "# А в refit указал 'f1', теперь GridSearchCV будет оптимизировать эту метрику\n",
    "search = GridSearchCV(model, parameters, cv=4, scoring=metrics, refit='f1')\n",
    "search.fit(X_train, y_train)\n",
    "results = search.cv_results_\n",
    "# Печатаем лучшие значения метрик и гиперпараметры\n",
    "print('F1:', '%.4f' %search.best_score_)\n",
    "print('AUC-ROC:', '%.4f' %results['mean_test_roc_auc'].mean())\n",
    "print(pd.Series(search.best_params_))\n",
    "\n",
    "result_final = (result_F1(result_final, 'Random forest',\n",
    "                            search.best_score_, results['mean_test_roc_auc'].mean()))"
   ]
  },
  {
   "cell_type": "markdown",
   "metadata": {},
   "source": [
    "DecisionTreeClassifier"
   ]
  },
  {
   "cell_type": "code",
   "execution_count": null,
   "metadata": {},
   "outputs": [],
   "source": [
    "%%time\n",
    "parameters = {'max_features': ['auto', 'sqrt', 'log2'],\n",
    "              'ccp_alpha': [0.1, .01, .001],\n",
    "              'max_depth' : [5, 6, 7, 8, 9],\n",
    "              'criterion' :['gini', 'entropy']\n",
    "             }\n",
    "\n",
    "model = DecisionTreeClassifier(random_state=42)\n",
    "\n",
    "metrics = ['f1', 'roc_auc']\n",
    "# Обрати внимание я указал в scoring список мужных метрик,\n",
    "\n",
    "# А в refit указал 'f1', теперь GridSearchCV будет оптимизировать эту метрику\n",
    "search = GridSearchCV(model, parameters, cv=4, scoring=metrics, refit='f1')\n",
    "search.fit(X_train, y_train)\n",
    "results = search.cv_results_\n",
    "# Печатаем лучшие значения метрик и гиперпараметры\n",
    "print('F1:', '%.4f' %search.best_score_)\n",
    "print('AUC-ROC:', '%.4f' %results['mean_test_roc_auc'].mean())\n",
    "print(pd.Series(search.best_params_))\n",
    "\n",
    "result_final = (result_F1(result_final, 'DecisionTreeClassifier',\n",
    "                          search.best_score_, results['mean_test_roc_auc'].mean()))\n"
   ]
  },
  {
   "cell_type": "markdown",
   "metadata": {},
   "source": [
    "DecisionTreeClassifier class_balanced"
   ]
  },
  {
   "cell_type": "code",
   "execution_count": null,
   "metadata": {},
   "outputs": [],
   "source": [
    "result_final.drop_duplicates()"
   ]
  },
  {
   "cell_type": "markdown",
   "metadata": {},
   "source": [
    "### Вывод\n",
    "Модели обученные на выборке с дисбалансом классов все показывают высокий AUC-ROC <br>\n",
    "Выше 0.5 и если ориентироваться только на этот критерий, можно прийти к ложному выводу <br>\n",
    "Об адекватности модели<br>\n",
    "F1 мера более строгая, отражает гармоническое среднее полноты и точности и неспособна показывать<br>\n",
    "Высокие значения если одна из мер маленькая <br>\n",
    "Ориентироваться стоит на несколько метрик их обоюдные высокие значения можно принимать в расчёт<br>\n",
    "\n",
    "Лучший результат у модели Random forest F1 = 0.5767, AUC-ROC = 0.8483 <br>\n",
    "Возьмём её на заметку как перспективную<br>"
   ]
  },
  {
   "cell_type": "markdown",
   "metadata": {},
   "source": [
    "<div class=\"alert alert-warning\" style=\"border-color: orange; border-radius: 5px\">\n",
    "    <p><u><b>⚠️ КОММЕНТАРИЙ РЕВЬЮЕРА v.1</b></u></p>\n",
    "    <p>Очень круто. Эксперименты верные. Только стоит удалить мои комментарии из ячеек с кодом и добавить свои.</p>\n",
    "</div>"
   ]
  },
  {
   "cell_type": "markdown",
   "metadata": {},
   "source": [
    "## Борьба с дисбалансом"
   ]
  },
  {
   "cell_type": "markdown",
   "metadata": {},
   "source": [
    "Устранение дисбаланса, совершенствование моделей <br>\n",
    "Натягиваем сову на глобус"
   ]
  },
  {
   "cell_type": "code",
   "execution_count": null,
   "metadata": {},
   "outputs": [],
   "source": [
    "exam = np.bincount(y_train)\n",
    "print(f'Отношение меньшего класса ко всем признакам равно {exam[1]/sum(exam):,.2%}')"
   ]
  },
  {
   "cell_type": "markdown",
   "metadata": {},
   "source": [
    "Применим два способа устранения дисбаланса классов, <br>\n",
    "class_weight, downsampling <br>\n",
    "\n",
    "**class_weight**"
   ]
  },
  {
   "cell_type": "markdown",
   "metadata": {},
   "source": [
    "Logistic regression class_weight"
   ]
  },
  {
   "cell_type": "code",
   "execution_count": null,
   "metadata": {},
   "outputs": [],
   "source": [
    "%%time\n",
    "parameters = {\n",
    "    'C'       : np.logspace(1,30,3),\n",
    "    'solver'  : ['newton-cg', 'lbfgs', 'liblinear'],\n",
    "}\n",
    "\n",
    "model = LogisticRegression(random_state=42, class_weight='balanced')\n",
    "\n",
    "metrics = ['f1', 'roc_auc']\n",
    "# Обрати внимание я указал в scoring список мужных метрик,\n",
    "\n",
    "# А в refit указал 'f1', теперь GridSearchCV будет оптимизировать эту метрику\n",
    "search = GridSearchCV(model, parameters, cv=4, scoring=metrics, refit='f1')\n",
    "search.fit(X_train, y_train)\n",
    "results = search.cv_results_\n",
    "# Печатаем лучшие значения метрик и гиперпараметры\n",
    "print('F1:', '%.4f' %search.best_score_)\n",
    "print('AUC-ROC:', '%.4f' %results['mean_test_roc_auc'].mean())\n",
    "print(pd.Series(search.best_params_))\n",
    "\n",
    "\n",
    "result_final = (result_F1(result_final, 'Logistic regression class_weight',\n",
    "                          search.best_score_, results['mean_test_roc_auc'].mean()) )"
   ]
  },
  {
   "cell_type": "markdown",
   "metadata": {},
   "source": [
    "Random forest class_weight"
   ]
  },
  {
   "cell_type": "code",
   "execution_count": null,
   "metadata": {},
   "outputs": [],
   "source": [
    "%%time\n",
    "\n",
    "parameters = {\n",
    "    'n_estimators': range(50, 121, 5),\n",
    "    'max_depth': range(2, 30, 5),\n",
    "}\n",
    "\n",
    "model = RandomForestClassifier(random_state=42, class_weight='balanced')\n",
    "\n",
    "metrics = ['f1', 'roc_auc']\n",
    "# Обрати внимание я указал в scoring список мужных метрик,\n",
    "\n",
    "# А в refit указал 'f1', теперь GridSearchCV будет оптимизировать эту метрику\n",
    "search = GridSearchCV(model, parameters, cv=4, scoring=metrics, refit='f1')\n",
    "search.fit(X_train, y_train)\n",
    "results = search.cv_results_\n",
    "# Печатаем лучшие значения метрик и гиперпараметры\n",
    "print('F1:', '%.4f' %search.best_score_)\n",
    "print('AUC-ROC:', '%.4f' %results['mean_test_roc_auc'].mean())\n",
    "print(pd.Series(search.best_params_))\n",
    "\n",
    "result_final = (result_F1(result_final, 'Random forest class_weight',\n",
    "                            search.best_score_, results['mean_test_roc_auc'].mean()))"
   ]
  },
  {
   "cell_type": "markdown",
   "metadata": {},
   "source": [
    "DecisionTreeClassifier class_weight"
   ]
  },
  {
   "cell_type": "code",
   "execution_count": null,
   "metadata": {},
   "outputs": [],
   "source": [
    "%%time\n",
    "parameters = {'max_features': ['auto', 'sqrt', 'log2'],\n",
    "              'ccp_alpha': [0.1, .01, .001],\n",
    "              'max_depth' : [5, 6, 7, 8, 9],\n",
    "              'criterion' :['gini', 'entropy']\n",
    "             }\n",
    "\n",
    "model = DecisionTreeClassifier(random_state=42, class_weight='balanced')\n",
    "\n",
    "metrics = ['f1', 'roc_auc']\n",
    "# Обрати внимание я указал в scoring список мужных метрик,\n",
    "\n",
    "# А в refit указал 'f1', теперь GridSearchCV будет оптимизировать эту метрику\n",
    "search = GridSearchCV(model, parameters, cv=4, scoring=metrics, refit='f1')\n",
    "search.fit(X_train, y_train)\n",
    "results = search.cv_results_\n",
    "# Печатаем лучшие значения метрик и гиперпараметры\n",
    "print('F1:', '%.4f' %search.best_score_)\n",
    "print('AUC-ROC:', '%.4f' %results['mean_test_roc_auc'].mean())\n",
    "print(pd.Series(search.best_params_))\n",
    "\n",
    "result_final = (result_F1(result_final, 'DecisionTreeClassifier class_weight',\n",
    "                          search.best_score_, results['mean_test_roc_auc'].mean()))"
   ]
  },
  {
   "cell_type": "markdown",
   "metadata": {},
   "source": [
    "<div class=\"alert alert-warning\" style=\"border-color: orange; border-radius: 5px\">\n",
    "    <p><u><b>⚠️ КОММЕНТАРИЙ РЕВЬЮЕРА v.1</b></u></p>\n",
    "    <p>Тут тоже все ок. Аналогичное замечание - стоит удалить мои комментарии из ячеек с кодом и добавить свои.</p>\n",
    "</div>"
   ]
  },
  {
   "cell_type": "markdown",
   "metadata": {},
   "source": [
    "**Downsampling**"
   ]
  },
  {
   "cell_type": "code",
   "execution_count": null,
   "metadata": {},
   "outputs": [],
   "source": [
    "def downsample(features, target, fraction):\n",
    "    features_zeros = features[target == 0]\n",
    "    features_ones = features[target == 1]\n",
    "    target_zeros = target[target == 0]\n",
    "    target_ones = target[target == 1]\n",
    "\n",
    "    features_sample = features_zeros.sample(frac=fraction, random_state=12345)\n",
    "    target_sample = target_zeros.sample(frac=fraction, random_state=12345)\n",
    "\n",
    "    features_downsampled = pd.concat([features_sample] + [features_ones])\n",
    "    target_downsampled = pd.concat([target_sample] + [target_ones])\n",
    "\n",
    "    features_downsampled = shuffle(features_downsampled, random_state=12345)\n",
    "    target_downsampled = shuffle(target_downsampled, random_state=12345)\n",
    "\n",
    "\n",
    "\n",
    "    return features_downsampled, target_downsampled\n",
    "\n",
    "X_downsampled, y_downsampled = downsample(X_train, y_train, 0.26)\n",
    "\n",
    "exam = np.bincount(y_downsampled)\n",
    "print(f'Отношение класса 0 ко всем признакам равно {exam[0]/sum(exam):,.2%}')"
   ]
  },
  {
   "cell_type": "markdown",
   "metadata": {},
   "source": [
    "<div class=\"alert alert-success\" style=\"border-color: green; border-radius: 5px\">\n",
    "    <p><u><b>✅ КОММЕНТАРИЙ РЕВЬЮЕРА v.2</b></u></p>\n",
    "    <p>Отлично, теперь параметр fraction подобран верно, молодец.</p>\n",
    "</div>"
   ]
  },
  {
   "cell_type": "markdown",
   "metadata": {},
   "source": [
    "Logistic regression downsampled"
   ]
  },
  {
   "cell_type": "code",
   "execution_count": null,
   "metadata": {},
   "outputs": [],
   "source": [
    "%%time\n",
    "parameters = {\n",
    "    'C'       : np.logspace(1,30,3),\n",
    "    'solver'  : ['newton-cg', 'lbfgs', 'liblinear'],\n",
    "}\n",
    "\n",
    "model = LogisticRegression(random_state=42)\n",
    "\n",
    "metrics = ['f1', 'roc_auc']\n",
    "# Обрати внимание я указал в scoring список мужных метрик,\n",
    "\n",
    "# А в refit указал 'f1', теперь GridSearchCV будет оптимизировать эту метрику\n",
    "search = GridSearchCV(model, parameters, cv=4, scoring=metrics, refit='f1')\n",
    "search.fit(X_downsampled, y_downsampled)\n",
    "results = search.cv_results_\n",
    "# Печатаем лучшие значения метрик и гиперпараметры\n",
    "print('F1:', '%.4f' %search.best_score_)\n",
    "print('AUC-ROC:', '%.4f' %results['mean_test_roc_auc'].mean())\n",
    "print(pd.Series(search.best_params_))\n",
    "\n",
    "\n",
    "result_final = (result_F1(result_final, 'Logistic regression downsampled',\n",
    "                          search.best_score_, results['mean_test_roc_auc'].mean()) )"
   ]
  },
  {
   "cell_type": "markdown",
   "metadata": {},
   "source": [
    "Random forest downsampled"
   ]
  },
  {
   "cell_type": "code",
   "execution_count": null,
   "metadata": {},
   "outputs": [],
   "source": [
    "%%time\n",
    "\n",
    "parameters = {\n",
    "    'n_estimators': range(50, 121, 5),\n",
    "    'max_depth': range(2, 30, 5),\n",
    "}\n",
    "\n",
    "model = RandomForestClassifier(random_state=42)\n",
    "\n",
    "metrics = ['f1', 'roc_auc']\n",
    "# Обрати внимание я указал в scoring список мужных метрик,\n",
    "\n",
    "# А в refit указал 'f1', теперь GridSearchCV будет оптимизировать эту метрику\n",
    "search = GridSearchCV(model, parameters, cv=4, scoring=metrics, refit='f1')\n",
    "search.fit(X_downsampled, y_downsampled)\n",
    "results = search.cv_results_\n",
    "# Печатаем лучшие значения метрик и гиперпараметры\n",
    "print('F1:', '%.4f' %search.best_score_)\n",
    "print('AUC-ROC:', '%.4f' %results['mean_test_roc_auc'].mean())\n",
    "print(pd.Series(search.best_params_))\n",
    "\n",
    "result_final = (result_F1(result_final, 'Random forest downsampled',\n",
    "                            search.best_score_, results['mean_test_roc_auc'].mean()))"
   ]
  },
  {
   "cell_type": "markdown",
   "metadata": {},
   "source": [
    "DecisionTreeClassifier downsampled"
   ]
  },
  {
   "cell_type": "code",
   "execution_count": null,
   "metadata": {},
   "outputs": [],
   "source": [
    "%%time\n",
    "parameters = {'max_features': ['auto', 'sqrt', 'log2'],\n",
    "              'ccp_alpha': [0.1, .01, .001],\n",
    "              'max_depth' : [5, 6, 7, 8, 9],\n",
    "              'criterion' :['gini', 'entropy']\n",
    "             }\n",
    "\n",
    "model = DecisionTreeClassifier(random_state=42)\n",
    "\n",
    "metrics = ['f1', 'roc_auc']\n",
    "# Обрати внимание я указал в scoring список мужных метрик,\n",
    "\n",
    "# А в refit указал 'f1', теперь GridSearchCV будет оптимизировать эту метрику\n",
    "search = GridSearchCV(model, parameters, cv=4, scoring=metrics, refit='f1')\n",
    "search.fit(X_downsampled, y_downsampled)\n",
    "results = search.cv_results_\n",
    "# Печатаем лучшие значения метрик и гиперпараметры\n",
    "print('F1:', '%.4f' %search.best_score_)\n",
    "print('AUC-ROC:', '%.4f' %results['mean_test_roc_auc'].mean())\n",
    "print(pd.Series(search.best_params_))\n",
    "\n",
    "result_final = (result_F1(result_final, 'DecisionTreeClassifier downsampled',\n",
    "                          search.best_score_, results['mean_test_roc_auc'].mean()))"
   ]
  },
  {
   "cell_type": "code",
   "execution_count": null,
   "metadata": {},
   "outputs": [],
   "source": [
    "fig = plt.figure(figsize =(13,8))\n",
    "plt.subplots_adjust(wspace=1, hspace=0.5)\n",
    "ax_1 = fig.add_subplot(2, 2, 1)\n",
    "ax_2 = fig.add_subplot(2, 2, 2)\n",
    "\n",
    "\n",
    "sns.barplot(\n",
    "    data=result_final.sort_values(by='F1'), x=\"F1\", y=\"model\", ax=ax_1,\n",
    "\n",
    "    capsize=1,\n",
    "    linewidth=1, );\n",
    "ax_1.set_title('Качество F1 ')\n",
    "\n",
    "\n",
    "sns.barplot(\n",
    "    data=result_final.sort_values(by='F1'), x=\"AUC-ROC\", y=\"model\", ax=ax_2,\n",
    "\n",
    "    capsize=1,\n",
    "    linewidth=1, );\n",
    "ax_2.set_title('Качество AUC_ROC ')\n",
    "plt.show()\n",
    "\n",
    "for i in result_final.sort_values(by='F1').values:\n",
    "    if i[1] >= 0.59:\n",
    "        print(f'Модели удовлетворяющие условию: {i[0]}, F1 = {i[1]}, AUC_ROC = {i[2]}')"
   ]
  },
  {
   "cell_type": "code",
   "execution_count": null,
   "metadata": {},
   "outputs": [],
   "source": [
    "result_final"
   ]
  },
  {
   "cell_type": "markdown",
   "metadata": {},
   "source": [
    "<div class=\"alert alert-warning\" style=\"border-color: orange; border-radius: 5px\">\n",
    "    <p><u><b>⚠️ КОММЕНТАРИЙ РЕВЬЮЕРА v.1</b></u></p>\n",
    "    <p>Тут тоже все ок. Аналогичное замечание - стоит удалить мои комментарии из ячеек с кодом и добавить свои.</p>\n",
    "</div>"
   ]
  },
  {
   "cell_type": "markdown",
   "metadata": {},
   "source": [
    "\n",
    "### Вывод\n",
    "Балансировка классов downsapled and class_weight справились <br>\n",
    "Значение F1 увеличилось <br>\n",
    "AUC_ROC с class_weight увеличился незначительно, а с downsapled уменьшился <br>\n",
    "\n",
    "Модель с лучшими показателями Random forest downsampled  <br>\n",
    "Используем её для теста"
   ]
  },
  {
   "cell_type": "markdown",
   "metadata": {},
   "source": [
    "<div class=\"alert alert-success\" style=\"border-color: green; border-radius: 5px\">\n",
    "    <p><u><b>✅ КОММЕНТАРИЙ РЕВЬЮЕРА v.1</b></u></p>\n",
    "    <p>Ок, вывод есть.</p>\n",
    "</div>"
   ]
  },
  {
   "cell_type": "markdown",
   "metadata": {},
   "source": [
    "## Тестирование модели"
   ]
  },
  {
   "cell_type": "code",
   "execution_count": null,
   "metadata": {},
   "outputs": [],
   "source": [
    "%%time\n",
    "model_rfc = RandomForestClassifier(random_state=42, max_depth=7, n_estimators=105)\n",
    "model_rfc.fit(X_downsampled, y_downsampled)\n",
    "\n",
    "\n",
    "predictions_test = model_rfc.predict(X_test)\n",
    "test_f1 = f1_score(y_test, predictions_test)\n",
    "\n",
    "probabilities_valid = model_rfc.predict_proba(X_test)\n",
    "probabilities_one_valid = probabilities_valid[:, 1]\n",
    "test_auc_roc = roc_auc_score (y_test, probabilities_one_valid)\n",
    "\n"
   ]
  },
  {
   "cell_type": "code",
   "execution_count": null,
   "metadata": {},
   "outputs": [],
   "source": [
    "fpr1, tpr1, thresholds = roc_curve(y_test, probabilities_one_valid)\n",
    "\n",
    "plt.figure(figsize=(5, 4))\n",
    "plt.plot(fpr1, tpr1, linestyle='-')\n",
    "plt.plot([0, 1], [0, 1], linestyle='--')\n",
    "plt.xlim([0.0, 1.0])\n",
    "plt.ylim([0.0, 1.0])\n",
    "plt.xlabel('False Positive Rate')\n",
    "plt.ylabel('True Positive Rate')\n",
    "plt.title('ROC-curve')\n",
    "\n",
    "plt.show()\n",
    "\n",
    "print(f'AUC_ROC на test выборке равен {test_auc_roc:,.2}')\n",
    "print(f'F1-мера на test выборке равен {test_f1:,.2}')"
   ]
  },
  {
   "cell_type": "markdown",
   "metadata": {},
   "source": [
    "### Вывод\n",
    "Проверка модели на тестовых данных показала удовлетворительный результат <br>\n",
    "Гармоническая средняя F1 равна 0.6, что выше заданной величины 0.59 <br>\n",
    "Это значит, что мы справились и выполнили работу<br>\n",
    "Величина AUC_ROC равна 0.86 также подтверждает адекватность модели"
   ]
  },
  {
   "cell_type": "markdown",
   "metadata": {},
   "source": [
    "Финальное решение<br>\n",
    "Модель с лучшими результатами и гиперпараметрами:<br>\n",
    "\n",
    "Лучший результат от метода балансировки классов downsampled<br>\n",
    "Модель с лучшими параметрами <br>\n",
    "RandomForestClassifier(random_state=42, max_depth=12, n_estimators=90) <br>"
   ]
  },
  {
   "cell_type": "markdown",
   "metadata": {},
   "source": [
    "## Вывод\n",
    "\n",
    "В процессе подготовки заполнили пропуски в Tenure<br>\n",
    "Закодировали категориальные признаки избегая дамми-ловушки<br>\n",
    "Убрали признаки не имеющие влияния<br>\n",
    "Разбили сет на выборки в пропорциях<br>\n",
    "Обучающая 80%<br>\n",
    "Тестовая выборки по 20%<br>\n",
    "Масштабировали числовые признаки которые сильно разбегались по значениям <br>\n",
    "\n",
    "Первоначальные обученные модели с дисбалансом классов показывали слабый результат<br>\n",
    "Кроме модели Random forest она показала <br>\n",
    "Величину  F1 0.5735 <br>\n",
    "\n",
    "Модели обученные на выборке с дисбалансом классов показывают высокий AUC-ROC<br>\n",
    "Выше 0.5 и если ориентироваться только на этот критерий, можно прийти к ложному выводу<br>\n",
    "Об адекватности модели<br>\n",
    "F1 мера более строгая, отражает гармоническое среднее полноты и точности и неспособна показывать<br>\n",
    "Высокие значения если одна из мер маленькая<br>\n",
    "Ориентироваться стоит только на несколько метрик их обоюдные высокие значения можно принимать в расчёт<br>\n",
    "\n",
    "Балансировка классов downsapled and class_weight справились<br>\n",
    "Значение F1 увеличилось<br>\n",
    "AUC_ROC с class_weight увеличился не значительно, а с downsapled уменьшился<br>\n",
    "\n",
    "Проверка модели на тестовых данных показала удовлетворительный результат<br>\n",
    "Гармоническая средняя F1 равна 0.6, что выше заданной величины 0.59<br>\n",
    "Это значит, что мы справились и выполнили работу<br>\n",
    "Величина AUC_ROC равна 0.86 также подтверждает адекватность модели<br>"
   ]
  },
  {
   "cell_type": "markdown",
   "metadata": {},
   "source": [
    "<div class=\"alert alert-warning\" style=\"border-color: orange; border-radius: 5px\">\n",
    "    <p><u><b>⚠️ КОММЕНТАРИЙ РЕВЬЮЕРА v.1</b></u></p>\n",
    "    <p>Отлично вывод на месте. Не забудь откорректировать его после внесения изменений в проект.</p>\n",
    "</div>"
   ]
  },
  {
   "cell_type": "markdown",
   "metadata": {},
   "source": [
    "<div class=\"alert alert-success\" style=\"border-color: green; border-radius: 5px\">\n",
    "    <p><u><b>✅ КОММЕНТАРИЙ РЕВЬЮЕРА v.2</b></u></p>\n",
    "    <p>Вывод на месте. Молодец, что указал достигнутые значения метрик.</p>\n",
    "</div>"
   ]
  },
  {
   "cell_type": "markdown",
   "metadata": {},
   "source": [
    "<div style=\"background: #2A57DB; padding: 20px; border: 1px solid SteelBlue; border-radius: 5px;\">\n",
    "    <font color='#F3F5F2'><u><b></b></u></font>\n",
    "    <font color='#F3F5F2'>Вопрос<br>\n",
    "        Объясни пожалуйста, как получается утечка при upsempled с методом GridSearchCV?<br>\n",
    "\n",
    "</font>\n",
    "</div>"
   ]
  },
  {
   "cell_type": "markdown",
   "metadata": {},
   "source": [
    "<div class=\"alert alert-success\" style=\"border-color: green; border-radius: 5px\">\n",
    "    <p><u><b>✅ КОММЕНТАРИЙ РЕВЬЮЕРА v.2</b></u></p>\n",
    "    <p>Смотри. При помощи метода Upsampling мы искусственно увеличиваем представителей класса 1 путем простого копирования их несколько раз. То есть в тренирововчной выборке появляются дубликаты.</p>\n",
    "    <p>Кросс-валидация делит тренировочную выборку на фолды (например 4 штуки) и при каждой следующей итерации выбирает три из ник как трейн а четвертый как валидационную выборку. Следовательно, наши дублированные данные оказываются одновременно и в трейне и в валидации.</p>\n",
    "    <p>При этом модель конечно же даст отличные метрики при подборе гиперпараметров. Но они будут невалидны, так как на тесте модель провлится.</p>\n",
    "</div>"
   ]
  },
  {
   "cell_type": "markdown",
   "metadata": {},
   "source": [
    "## Чек-лист готовности проекта"
   ]
  },
  {
   "cell_type": "markdown",
   "metadata": {},
   "source": [
    "Поставьте 'x' в выполненных пунктах. Далее нажмите Shift+Enter."
   ]
  },
  {
   "cell_type": "markdown",
   "metadata": {},
   "source": [
    "- [x]  Jupyter Notebook открыт\n",
    "- [x]  Весь код выполняется без ошибок\n",
    "- [x]  Ячейки с кодом расположены в порядке исполнения\n",
    "- [x]  Выполнен шаг 1: данные подготовлены\n",
    "- [x]  Выполнен шаг 2: задача исследована\n",
    "    - [x]  Исследован баланс классов\n",
    "    - [x]  Изучены модели без учёта дисбаланса\n",
    "    - [x]  Написаны выводы по результатам исследования\n",
    "- [x]  Выполнен шаг 3: учтён дисбаланс\n",
    "    - [x]  Применено несколько способов борьбы с дисбалансом\n",
    "    - [x]  Написаны выводы по результатам исследования\n",
    "- [x]  Выполнен шаг 4: проведено тестирование\n",
    "- [x]  Удалось достичь *F1*-меры не менее 0.59\n",
    "- [x]  Исследована метрика *AUC-ROC*"
   ]
  },
  {
   "cell_type": "markdown",
   "metadata": {},
   "source": [
    "## Финальные комментарии ревьюера"
   ]
  },
  {
   "cell_type": "markdown",
   "metadata": {},
   "source": [
    "<div class=\"alert alert-danger\" style=\"border-color: #8B0000; border-radius: 5px\">\n",
    "    <p><u><b>❌ КОММЕНТАРИЙ РЕВЬЮЕРА v.1</b></u></p>\n",
    "    <p>Максим, это супер крутой проект. Видно, что ты старался и очень системно подошел к работе. Осталось немного. Думаю, тебе не составит труда исправить замечания и вернуть мне тетредку на повторную проверку! Я постарался подробно их описать. Если возникнут вопросы задавай.</p>\n",
    "    <p>Успехов!</p>\n",
    "</div>"
   ]
  },
  {
   "cell_type": "markdown",
   "metadata": {},
   "source": [
    "<div class=\"alert alert-success\" style=\"border-color: green; border-radius: 5px\">\n",
    "    <p><u><b>✅ КОММЕНТАРИЙ РЕВЬЮЕРА v.2</b></u></p>\n",
    "    <p>Максим, мы добрались до зачета по всем пунктам, замечаний больше нет. Ты молодец! Особенно хвалю за то, что попробовал <code>OneHotEncoder</code> и за структурированность проекта.</p>\n",
    "    <p>Надеюсь тебя посетило то классное чувство профессиональной прокачки по ходу решения.</p>\n",
    "    <p>Для систематизации знаний делюсь с тобой ссылкой на учебник по ML от ШАД:</p>\n",
    "\n",
    "https://ml-handbook.ru/</p>\n",
    "\n",
    "<p>Тут много полезного по метематике:</p>\n",
    "\n",
    "http://mathprofi.ru/</p>\n",
    "\n",
    "<p>Очень классный бесплатный тренажер по SQL (SQL вы будуте проходить дальше в курсе, он крайне важен для работы, так что лучше начать изучать его заранее):</p>\n",
    "\n",
    "https://sql-ex.ru/</p>\n",
    "\n",
    "<p>Настоятельно рекомендую пройти серию курсов по статистике на Stepik:</p>\n",
    "\n",
    "https://stepik.org/course/76/syllabus</p>\n",
    "\n",
    "<p>Там же на Stepik очень много полезных бесплатных курсов по Python, Ананлизу данных и DS.</p>\n",
    "<p>Желаю не останавливаться на пути к поставленной цели. Все получится!</p>\n",
    "</div>"
   ]
  },
  {
   "cell_type": "code",
   "execution_count": null,
   "metadata": {},
   "outputs": [],
   "source": []
  },
  {
   "cell_type": "markdown",
   "metadata": {},
   "source": [
    "Наблюдается заметный дисбаланс классов <br>\n",
    "Class 0 = 80%   Class 1 =\n",
    "20%<br>\n",
    "Можно ожидать, что результаты предсказаний моделей будут сильно склоняться к одному варианту ответов<br>"
   ]
  },
  {
   "cell_type": "markdown",
   "metadata": {},
   "source": [
    "<div class=\"alert alert-success\" style=\"border-color: green; border-radius: 5px\">\n",
    "    <p><u><b>✅ КОММЕНТАРИЙ РЕВЬЮЕРА v.2</b></u></p>\n",
    "    <p>Исследование баланса (а точнее дисбаланса) классов проведено. Лайк за график!</p>\n",
    "</div>"
   ]
  },
  {
   "cell_type": "markdown",
   "metadata": {},
   "source": [
    "Обучим модели LogisticRegression, RandomForestClassifier и DecisionTreeClassifier без учета дисбаланса классов<br>"
   ]
  },
  {
   "cell_type": "markdown",
   "metadata": {
    "tags": []
   },
   "source": [
    "Logistic regression basic"
   ]
  },
  {
   "cell_type": "code",
   "execution_count": null,
   "metadata": {},
   "outputs": [],
   "source": [
    "%%time\n",
    "parameters = {\n",
    "    'C'       : np.logspace(1,30,3),\n",
    "    'solver'  : ['newton-cg', 'lbfgs', 'liblinear'],\n",
    "}\n",
    "\n",
    "model = LogisticRegression(random_state=42)\n",
    "\n",
    "metrics = ['f1', 'roc_auc']\n",
    "# Обрати внимание я указал в scoring список мужных метрик,\n",
    "\n",
    "# А в refit указал 'f1', теперь GridSearchCV будет оптимизировать эту метрику\n",
    "search = GridSearchCV(model, parameters, cv=4, scoring=metrics, refit='f1')\n",
    "search.fit(X_train, y_train)\n",
    "results = search.cv_results_\n",
    "# Печатаем лучшие значения метрик и гиперпараметры\n",
    "print('F1:', '%.4f' %search.best_score_)\n",
    "print('AUC-ROC:', '%.4f' %results['mean_test_roc_auc'].mean())\n",
    "print(pd.Series(search.best_params_))"
   ]
  },
  {
   "cell_type": "code",
   "execution_count": null,
   "metadata": {},
   "outputs": [],
   "source": [
    "# создадим DataFrame в который будем записывать модели с характеристиками и заначение F1 и AUC-ROC\n",
    "result_final = (pd.DataFrame({'model': 'Logistic regression', \n",
    "                           'F1': round(search.best_score_,4),\n",
    "                             'AUC-ROC': round(results['mean_test_roc_auc'].mean(),4)}, index=[0]))\n",
    "def result_F1(result_final, model, F1, AUC_ROC):  \n",
    "    result  = (pd.concat([result_final, pd.Series({'model': model,\n",
    "                                                   'F1': round(F1,4),\n",
    "                                                  'AUC-ROC':round(AUC_ROC,4)}).to_frame().T], ignore_index=True))\n",
    "    return result\n",
    "    "
   ]
  },
  {
   "cell_type": "markdown",
   "metadata": {},
   "source": [
    "Random forest "
   ]
  },
  {
   "cell_type": "code",
   "execution_count": null,
   "metadata": {},
   "outputs": [],
   "source": [
    "%%time\n",
    "\n",
    "parameters = {\n",
    "    'n_estimators': range(50, 121, 5),\n",
    "    'max_depth': range(2, 30, 5),\n",
    "}\n",
    "\n",
    "model = RandomForestClassifier(random_state=42)\n",
    "\n",
    "metrics = ['f1', 'roc_auc']\n",
    "# Обрати внимание я указал в scoring список мужных метрик,\n",
    "\n",
    "# А в refit указал 'f1', теперь GridSearchCV будет оптимизировать эту метрику\n",
    "search = GridSearchCV(model, parameters, cv=4, scoring=metrics, refit='f1')\n",
    "search.fit(X_train, y_train)\n",
    "results = search.cv_results_\n",
    "# Печатаем лучшие значения метрик и гиперпараметры\n",
    "print('F1:', '%.4f' %search.best_score_)\n",
    "print('AUC-ROC:', '%.4f' %results['mean_test_roc_auc'].mean())\n",
    "print(pd.Series(search.best_params_))\n",
    "\n",
    "result_final = (result_F1(result_final, 'Random forest', \n",
    "                            search.best_score_, results['mean_test_roc_auc'].mean()))"
   ]
  },
  {
   "cell_type": "markdown",
   "metadata": {},
   "source": [
    "DecisionTreeClassifier"
   ]
  },
  {
   "cell_type": "code",
   "execution_count": null,
   "metadata": {},
   "outputs": [],
   "source": [
    "%%time\n",
    "parameters = {'max_features': ['auto', 'sqrt', 'log2'],\n",
    "              'ccp_alpha': [0.1, .01, .001],\n",
    "              'max_depth' : [5, 6, 7, 8, 9],\n",
    "              'criterion' :['gini', 'entropy']\n",
    "             }\n",
    "\n",
    "model = DecisionTreeClassifier(random_state=42)\n",
    "\n",
    "metrics = ['f1', 'roc_auc']\n",
    "# Обрати внимание я указал в scoring список мужных метрик,\n",
    "\n",
    "# А в refit указал 'f1', теперь GridSearchCV будет оптимизировать эту метрику\n",
    "search = GridSearchCV(model, parameters, cv=4, scoring=metrics, refit='f1')\n",
    "search.fit(X_train, y_train)\n",
    "results = search.cv_results_\n",
    "# Печатаем лучшие значения метрик и гиперпараметры\n",
    "print('F1:', '%.4f' %search.best_score_)\n",
    "print('AUC-ROC:', '%.4f' %results['mean_test_roc_auc'].mean())\n",
    "print(pd.Series(search.best_params_))\n",
    "\n",
    "result_final = (result_F1(result_final, 'DecisionTreeClassifier', \n",
    "                          search.best_score_, results['mean_test_roc_auc'].mean()))\n"
   ]
  },
  {
   "cell_type": "markdown",
   "metadata": {},
   "source": [
    "DecisionTreeClassifier class_balanced"
   ]
  },
  {
   "cell_type": "code",
   "execution_count": null,
   "metadata": {},
   "outputs": [],
   "source": [
    "result_final.drop_duplicates()"
   ]
  },
  {
   "cell_type": "markdown",
   "metadata": {},
   "source": [
    "### Вывод\n",
    "Модели обученные на выборке с дисбалансом классов все показывают высокий AUC-ROC <br>\n",
    "Выше 0.5 и если ориентироваться только на этот критерий, можно прийти к ложному выводу <br>\n",
    "Об адекватности модели<br>\n",
    "F1 мера более строгая, отражает гармоническое среднее полноты и точности и неспособна показывать<br>\n",
    "Высокие значения если одна из мер маленькая <br>\n",
    "Ориентироваться стоит на несколько метрик их обоюдные высокие значения можно принимать в расчёт<br>\n",
    "\n",
    "Лучший результат у модели Random forest F1 = 0.5767, AUC-ROC = 0.8483 <br>\n",
    "Возьмём её на заметку как перспективную<br>"
   ]
  },
  {
   "cell_type": "markdown",
   "metadata": {},
   "source": [
    "<div class=\"alert alert-warning\" style=\"border-color: orange; border-radius: 5px\">\n",
    "    <p><u><b>⚠️ КОММЕНТАРИЙ РЕВЬЮЕРА v.1</b></u></p>\n",
    "    <p>Очень круто. Эксперименты верные. Только стоит удалить мои комментарии из ячеек с кодом и добавить свои.</p>\n",
    "</div>"
   ]
  },
  {
   "cell_type": "markdown",
   "metadata": {},
   "source": [
    "## Борьба с дисбалансом"
   ]
  },
  {
   "cell_type": "markdown",
   "metadata": {},
   "source": [
    "Устранение дисбаланса, совершенствование моделей <br>\n",
    "Натягиваем сову на глобус"
   ]
  },
  {
   "cell_type": "code",
   "execution_count": null,
   "metadata": {},
   "outputs": [],
   "source": [
    "exam = np.bincount(y_train)\n",
    "print(f'Отношение меньшего класса ко всем признакам равно {exam[1]/sum(exam):,.2%}')"
   ]
  },
  {
   "cell_type": "markdown",
   "metadata": {},
   "source": [
    "Применим два способа устранения дисбаланса классов, <br>\n",
    "class_weight, downsampling <br>\n",
    "\n",
    "**class_weight**"
   ]
  },
  {
   "cell_type": "markdown",
   "metadata": {},
   "source": [
    "Logistic regression class_weight"
   ]
  },
  {
   "cell_type": "code",
   "execution_count": null,
   "metadata": {},
   "outputs": [],
   "source": [
    "%%time\n",
    "parameters = {\n",
    "    'C'       : np.logspace(1,30,3),\n",
    "    'solver'  : ['newton-cg', 'lbfgs', 'liblinear'],\n",
    "}\n",
    "\n",
    "model = LogisticRegression(random_state=42, class_weight='balanced')\n",
    "\n",
    "metrics = ['f1', 'roc_auc']\n",
    "# Обрати внимание я указал в scoring список мужных метрик,\n",
    "\n",
    "# А в refit указал 'f1', теперь GridSearchCV будет оптимизировать эту метрику\n",
    "search = GridSearchCV(model, parameters, cv=4, scoring=metrics, refit='f1')\n",
    "search.fit(X_train, y_train)\n",
    "results = search.cv_results_\n",
    "# Печатаем лучшие значения метрик и гиперпараметры\n",
    "print('F1:', '%.4f' %search.best_score_)\n",
    "print('AUC-ROC:', '%.4f' %results['mean_test_roc_auc'].mean())\n",
    "print(pd.Series(search.best_params_))\n",
    "\n",
    "\n",
    "result_final = (result_F1(result_final, 'Logistic regression class_weight', \n",
    "                          search.best_score_, results['mean_test_roc_auc'].mean()) )"
   ]
  },
  {
   "cell_type": "markdown",
   "metadata": {},
   "source": [
    "Random forest class_weight"
   ]
  },
  {
   "cell_type": "code",
   "execution_count": null,
   "metadata": {},
   "outputs": [],
   "source": [
    "%%time\n",
    "\n",
    "parameters = {\n",
    "    'n_estimators': range(50, 121, 5),\n",
    "    'max_depth': range(2, 30, 5),\n",
    "}\n",
    "\n",
    "model = RandomForestClassifier(random_state=42, class_weight='balanced')\n",
    "\n",
    "metrics = ['f1', 'roc_auc']\n",
    "# Обрати внимание я указал в scoring список мужных метрик,\n",
    "\n",
    "# А в refit указал 'f1', теперь GridSearchCV будет оптимизировать эту метрику\n",
    "search = GridSearchCV(model, parameters, cv=4, scoring=metrics, refit='f1')\n",
    "search.fit(X_train, y_train)\n",
    "results = search.cv_results_\n",
    "# Печатаем лучшие значения метрик и гиперпараметры\n",
    "print('F1:', '%.4f' %search.best_score_)\n",
    "print('AUC-ROC:', '%.4f' %results['mean_test_roc_auc'].mean())\n",
    "print(pd.Series(search.best_params_))\n",
    "\n",
    "result_final = (result_F1(result_final, 'Random forest class_weight', \n",
    "                            search.best_score_, results['mean_test_roc_auc'].mean()))"
   ]
  },
  {
   "cell_type": "markdown",
   "metadata": {},
   "source": [
    "DecisionTreeClassifier class_weight"
   ]
  },
  {
   "cell_type": "code",
   "execution_count": null,
   "metadata": {},
   "outputs": [],
   "source": [
    "%%time\n",
    "parameters = {'max_features': ['auto', 'sqrt', 'log2'],\n",
    "              'ccp_alpha': [0.1, .01, .001],\n",
    "              'max_depth' : [5, 6, 7, 8, 9],\n",
    "              'criterion' :['gini', 'entropy']\n",
    "             }\n",
    "\n",
    "model = DecisionTreeClassifier(random_state=42, class_weight='balanced')\n",
    "\n",
    "metrics = ['f1', 'roc_auc']\n",
    "# Обрати внимание я указал в scoring список мужных метрик,\n",
    "\n",
    "# А в refit указал 'f1', теперь GridSearchCV будет оптимизировать эту метрику\n",
    "search = GridSearchCV(model, parameters, cv=4, scoring=metrics, refit='f1')\n",
    "search.fit(X_train, y_train)\n",
    "results = search.cv_results_\n",
    "# Печатаем лучшие значения метрик и гиперпараметры\n",
    "print('F1:', '%.4f' %search.best_score_)\n",
    "print('AUC-ROC:', '%.4f' %results['mean_test_roc_auc'].mean())\n",
    "print(pd.Series(search.best_params_))\n",
    "\n",
    "result_final = (result_F1(result_final, 'DecisionTreeClassifier class_weight', \n",
    "                          search.best_score_, results['mean_test_roc_auc'].mean()))"
   ]
  },
  {
   "cell_type": "markdown",
   "metadata": {},
   "source": [
    "<div class=\"alert alert-warning\" style=\"border-color: orange; border-radius: 5px\">\n",
    "    <p><u><b>⚠️ КОММЕНТАРИЙ РЕВЬЮЕРА v.1</b></u></p>\n",
    "    <p>Тут тоже все ок. Аналогичное замечание - стоит удалить мои комментарии из ячеек с кодом и добавить свои.</p>\n",
    "</div>"
   ]
  },
  {
   "cell_type": "markdown",
   "metadata": {},
   "source": [
    "**Downsampling**"
   ]
  },
  {
   "cell_type": "code",
   "execution_count": null,
   "metadata": {},
   "outputs": [],
   "source": [
    "def downsample(features, target, fraction):\n",
    "    features_zeros = features[target == 0]\n",
    "    features_ones = features[target == 1]\n",
    "    target_zeros = target[target == 0]\n",
    "    target_ones = target[target == 1]\n",
    "\n",
    "    features_sample = features_zeros.sample(frac=fraction, random_state=12345)\n",
    "    target_sample = target_zeros.sample(frac=fraction, random_state=12345)\n",
    "    \n",
    "    features_downsampled = pd.concat([features_sample] + [features_ones])\n",
    "    target_downsampled = pd.concat([target_sample] + [target_ones])\n",
    "    \n",
    "    features_downsampled = shuffle(features_downsampled, random_state=12345)\n",
    "    target_downsampled = shuffle(target_downsampled, random_state=12345)\n",
    "    \n",
    "\n",
    "    \n",
    "    return features_downsampled, target_downsampled\n",
    "\n",
    "X_downsampled, y_downsampled = downsample(X_train, y_train, 0.26)\n",
    "\n",
    "exam = np.bincount(y_downsampled)\n",
    "print(f'Отношение класса 0 ко всем признакам равно {exam[0]/sum(exam):,.2%}')"
   ]
  },
  {
   "cell_type": "markdown",
   "metadata": {},
   "source": [
    "<div class=\"alert alert-success\" style=\"border-color: green; border-radius: 5px\">\n",
    "    <p><u><b>✅ КОММЕНТАРИЙ РЕВЬЮЕРА v.2</b></u></p>\n",
    "    <p>Отлично, теперь параметр fraction подобран верно, молодец.</p>\n",
    "</div>"
   ]
  },
  {
   "cell_type": "markdown",
   "metadata": {},
   "source": [
    "Logistic regression downsampled"
   ]
  },
  {
   "cell_type": "code",
   "execution_count": null,
   "metadata": {},
   "outputs": [],
   "source": [
    "%%time\n",
    "parameters = {\n",
    "    'C'       : np.logspace(1,30,3),\n",
    "    'solver'  : ['newton-cg', 'lbfgs', 'liblinear'],\n",
    "}\n",
    "\n",
    "model = LogisticRegression(random_state=42)\n",
    "\n",
    "metrics = ['f1', 'roc_auc']\n",
    "# Обрати внимание я указал в scoring список мужных метрик,\n",
    "\n",
    "# А в refit указал 'f1', теперь GridSearchCV будет оптимизировать эту метрику\n",
    "search = GridSearchCV(model, parameters, cv=4, scoring=metrics, refit='f1')\n",
    "search.fit(X_downsampled, y_downsampled)\n",
    "results = search.cv_results_\n",
    "# Печатаем лучшие значения метрик и гиперпараметры\n",
    "print('F1:', '%.4f' %search.best_score_)\n",
    "print('AUC-ROC:', '%.4f' %results['mean_test_roc_auc'].mean())\n",
    "print(pd.Series(search.best_params_))\n",
    "\n",
    "\n",
    "result_final = (result_F1(result_final, 'Logistic regression downsampled', \n",
    "                          search.best_score_, results['mean_test_roc_auc'].mean()) )"
   ]
  },
  {
   "cell_type": "markdown",
   "metadata": {},
   "source": [
    "Random forest downsampled"
   ]
  },
  {
   "cell_type": "code",
   "execution_count": null,
   "metadata": {},
   "outputs": [],
   "source": [
    "%%time\n",
    "\n",
    "parameters = {\n",
    "    'n_estimators': range(50, 121, 5),\n",
    "    'max_depth': range(2, 30, 5),\n",
    "}\n",
    "\n",
    "model = RandomForestClassifier(random_state=42)\n",
    "\n",
    "metrics = ['f1', 'roc_auc']\n",
    "# Обрати внимание я указал в scoring список мужных метрик,\n",
    "\n",
    "# А в refit указал 'f1', теперь GridSearchCV будет оптимизировать эту метрику\n",
    "search = GridSearchCV(model, parameters, cv=4, scoring=metrics, refit='f1')\n",
    "search.fit(X_downsampled, y_downsampled)\n",
    "results = search.cv_results_\n",
    "# Печатаем лучшие значения метрик и гиперпараметры\n",
    "print('F1:', '%.4f' %search.best_score_)\n",
    "print('AUC-ROC:', '%.4f' %results['mean_test_roc_auc'].mean())\n",
    "print(pd.Series(search.best_params_))\n",
    "\n",
    "result_final = (result_F1(result_final, 'Random forest downsampled', \n",
    "                            search.best_score_, results['mean_test_roc_auc'].mean()))"
   ]
  },
  {
   "cell_type": "markdown",
   "metadata": {},
   "source": [
    "DecisionTreeClassifier downsampled"
   ]
  },
  {
   "cell_type": "code",
   "execution_count": null,
   "metadata": {},
   "outputs": [],
   "source": [
    "%%time\n",
    "parameters = {'max_features': ['auto', 'sqrt', 'log2'],\n",
    "              'ccp_alpha': [0.1, .01, .001],\n",
    "              'max_depth' : [5, 6, 7, 8, 9],\n",
    "              'criterion' :['gini', 'entropy']\n",
    "             }\n",
    "\n",
    "model = DecisionTreeClassifier(random_state=42)\n",
    "\n",
    "metrics = ['f1', 'roc_auc']\n",
    "# Обрати внимание я указал в scoring список мужных метрик,\n",
    "\n",
    "# А в refit указал 'f1', теперь GridSearchCV будет оптимизировать эту метрику\n",
    "search = GridSearchCV(model, parameters, cv=4, scoring=metrics, refit='f1')\n",
    "search.fit(X_downsampled, y_downsampled)\n",
    "results = search.cv_results_\n",
    "# Печатаем лучшие значения метрик и гиперпараметры\n",
    "print('F1:', '%.4f' %search.best_score_)\n",
    "print('AUC-ROC:', '%.4f' %results['mean_test_roc_auc'].mean())\n",
    "print(pd.Series(search.best_params_))\n",
    "\n",
    "result_final = (result_F1(result_final, 'DecisionTreeClassifier downsampled', \n",
    "                          search.best_score_, results['mean_test_roc_auc'].mean()))"
   ]
  },
  {
   "cell_type": "code",
   "execution_count": null,
   "metadata": {},
   "outputs": [],
   "source": [
    "fig = plt.figure(figsize =(13,8))  \n",
    "plt.subplots_adjust(wspace=1, hspace=0.5)\n",
    "ax_1 = fig.add_subplot(2, 2, 1)\n",
    "ax_2 = fig.add_subplot(2, 2, 2)\n",
    "\n",
    "\n",
    "sns.barplot(\n",
    "    data=result_final.sort_values(by='F1'), x=\"F1\", y=\"model\", ax=ax_1,\n",
    " \n",
    "    capsize=1, \n",
    "    linewidth=1, );\n",
    "ax_1.set_title('Качество F1 ')\n",
    "\n",
    "\n",
    "sns.barplot(\n",
    "    data=result_final.sort_values(by='F1'), x=\"AUC-ROC\", y=\"model\", ax=ax_2,\n",
    "\n",
    "    capsize=1, \n",
    "    linewidth=1, );\n",
    "ax_2.set_title('Качество AUC_ROC ')\n",
    "plt.show()\n",
    "\n",
    "for i in result_final.sort_values(by='F1').values:\n",
    "    if i[1] >= 0.59:\n",
    "        print(f'Модели удовлетворяющие условию: {i[0]}, F1 = {i[1]}, AUC_ROC = {i[2]}')"
   ]
  },
  {
   "cell_type": "code",
   "execution_count": null,
   "metadata": {},
   "outputs": [],
   "source": [
    "result_final"
   ]
  },
  {
   "cell_type": "markdown",
   "metadata": {},
   "source": [
    "<div class=\"alert alert-warning\" style=\"border-color: orange; border-radius: 5px\">\n",
    "    <p><u><b>⚠️ КОММЕНТАРИЙ РЕВЬЮЕРА v.1</b></u></p>\n",
    "    <p>Тут тоже все ок. Аналогичное замечание - стоит удалить мои комментарии из ячеек с кодом и добавить свои.</p>\n",
    "</div>"
   ]
  },
  {
   "cell_type": "markdown",
   "metadata": {},
   "source": [
    "\n",
    "### Вывод  \n",
    "Балансировка классов downsapled and class_weight справились <br> \n",
    "Значение F1 увеличилось <br>\n",
    "AUC_ROC с class_weight увеличился незначительно, а с downsapled уменьшился <br>\n",
    "\n",
    "Модель с лучшими показателями Random forest downsampled  <br>\n",
    "Используем её для теста"
   ]
  },
  {
   "cell_type": "markdown",
   "metadata": {},
   "source": [
    "<div class=\"alert alert-success\" style=\"border-color: green; border-radius: 5px\">\n",
    "    <p><u><b>✅ КОММЕНТАРИЙ РЕВЬЮЕРА v.1</b></u></p>\n",
    "    <p>Ок, вывод есть.</p>\n",
    "</div>"
   ]
  },
  {
   "cell_type": "markdown",
   "metadata": {},
   "source": [
    "## Тестирование модели"
   ]
  },
  {
   "cell_type": "code",
   "execution_count": null,
   "metadata": {},
   "outputs": [],
   "source": [
    "%%time\n",
    "model_rfc = RandomForestClassifier(random_state=42, max_depth=7, n_estimators=105)\n",
    "model_rfc.fit(X_downsampled, y_downsampled)\n",
    "\n",
    "\n",
    "predictions_test = model_rfc.predict(X_test)\n",
    "test_f1 = f1_score(y_test, predictions_test)\n",
    "\n",
    "probabilities_valid = model_rfc.predict_proba(X_test)\n",
    "probabilities_one_valid = probabilities_valid[:, 1]\n",
    "test_auc_roc = roc_auc_score (y_test, probabilities_one_valid)\n",
    "\n"
   ]
  },
  {
   "cell_type": "code",
   "execution_count": null,
   "metadata": {},
   "outputs": [],
   "source": [
    "fpr1, tpr1, thresholds = roc_curve(y_test, probabilities_one_valid) \n",
    "\n",
    "plt.figure(figsize=(5, 4))\n",
    "plt.plot(fpr1, tpr1, linestyle='-')\n",
    "plt.plot([0, 1], [0, 1], linestyle='--')\n",
    "plt.xlim([0.0, 1.0])\n",
    "plt.ylim([0.0, 1.0])\n",
    "plt.xlabel('False Positive Rate')\n",
    "plt.ylabel('True Positive Rate')\n",
    "plt.title('ROC-curve')\n",
    "\n",
    "plt.show()\n",
    "\n",
    "print(f'AUC_ROC на test выборке равен {test_auc_roc:,.2}')\n",
    "print(f'F1-мера на test выборке равен {test_f1:,.2}')"
   ]
  },
  {
   "cell_type": "markdown",
   "metadata": {},
   "source": [
    "### Вывод\n",
    "Проверка модели на тестовых данных показала удовлетворительный результат <br>\n",
    "Гармоническая средняя F1 равна 0.6, что выше заданной величины 0.59 <br>\n",
    "Это значит, что мы справились и выполнили работу<br>\n",
    "Величина AUC_ROC равна 0.86 также подтверждает адекватность модели"
   ]
  },
  {
   "cell_type": "markdown",
   "metadata": {},
   "source": [
    "Финальное решение<br>\n",
    "Модель с лучшими результатами и гиперпараметрами:<br>\n",
    "\n",
    "Лучший результат от метода балансировки классов downsampled<br>\n",
    "Модель с лучшими параметрами <br>\n",
    "RandomForestClassifier(random_state=42, max_depth=12, n_estimators=90) <br>"
   ]
  },
  {
   "cell_type": "markdown",
   "metadata": {},
   "source": [
    "## Вывод\n",
    "\n",
    "В процессе подготовки заполнили пропуски в Tenure<br>\n",
    "Закодировали категориальные признаки избегая дамми-ловушки<br>\n",
    "Убрали признаки не имеющие влияния<br>\n",
    "Разбили сет на выборки в пропорциях<br>\n",
    "Обучающая 80%<br>\n",
    "Тестовая выборки по 20%<br>\n",
    "Масштабировали числовые признаки которые сильно разбегались по значениям <br>\n",
    "\n",
    "Первоначальные обученные модели с дисбалансом классов показывали слабый результат<br>\n",
    "Кроме модели Random forest она показала <br>\n",
    "Величину  F1 0.5735 <br>\n",
    "\n",
    "Модели обученные на выборке с дисбалансом классов показывают высокий AUC-ROC<br>\n",
    "Выше 0.5 и если ориентироваться только на этот критерий, можно прийти к ложному выводу<br>\n",
    "Об адекватности модели<br>\n",
    "F1 мера более строгая, отражает гармоническое среднее полноты и точности и неспособна показывать<br>\n",
    "Высокие значения если одна из мер маленькая<br>\n",
    "Ориентироваться стоит только на несколько метрик их обоюдные высокие значения можно принимать в расчёт<br>\n",
    "\n",
    "Балансировка классов downsapled and class_weight справились<br>\n",
    "Значение F1 увеличилось<br>\n",
    "AUC_ROC с class_weight увеличился не значительно, а с downsapled уменьшился<br>\n",
    "\n",
    "Проверка модели на тестовых данных показала удовлетворительный результат<br>\n",
    "Гармоническая средняя F1 равна 0.6, что выше заданной величины 0.59<br>\n",
    "Это значит, что мы справились и выполнили работу<br>\n",
    "Величина AUC_ROC равна 0.86 также подтверждает адекватность модели<br>"
   ]
  },
  {
   "cell_type": "markdown",
   "metadata": {},
   "source": [
    "<div class=\"alert alert-warning\" style=\"border-color: orange; border-radius: 5px\">\n",
    "    <p><u><b>⚠️ КОММЕНТАРИЙ РЕВЬЮЕРА v.1</b></u></p>\n",
    "    <p>Отлично вывод на месте. Не забудь откорректировать его после внесения изменений в проект.</p>\n",
    "</div>"
   ]
  },
  {
   "cell_type": "markdown",
   "metadata": {},
   "source": [
    "<div class=\"alert alert-success\" style=\"border-color: green; border-radius: 5px\">\n",
    "    <p><u><b>✅ КОММЕНТАРИЙ РЕВЬЮЕРА v.2</b></u></p>\n",
    "    <p>Вывод на месте. Молодец, что указал достигнутые значения метрик.</p>\n",
    "</div>"
   ]
  },
  {
   "cell_type": "markdown",
   "metadata": {},
   "source": [
    "<div style=\"background: #2A57DB; padding: 20px; border: 1px solid SteelBlue; border-radius: 5px;\">\n",
    "    <font color='#F3F5F2'><u><b></b></u></font>\n",
    "    <font color='#F3F5F2'>Вопрос<br>\n",
    "        Объясни пожалуйста, как получается утечка при upsempled с методом GridSearchCV?<br>\n",
    "       \n",
    "</font>\n",
    "</div>"
   ]
  },
  {
   "cell_type": "markdown",
   "metadata": {},
   "source": [
    "<div class=\"alert alert-success\" style=\"border-color: green; border-radius: 5px\">\n",
    "    <p><u><b>✅ КОММЕНТАРИЙ РЕВЬЮЕРА v.2</b></u></p>\n",
    "    <p>Смотри. При помощи метода Upsampling мы искусственно увеличиваем представителей класса 1 путем простого копирования их несколько раз. То есть в тренирововчной выборке появляются дубликаты.</p>\n",
    "    <p>Кросс-валидация делит тренировочную выборку на фолды (например 4 штуки) и при каждой следующей итерации выбирает три из ник как трейн а четвертый как валидационную выборку. Следовательно, наши дублированные данные оказываются одновременно и в трейне и в валидации.</p>\n",
    "    <p>При этом модель конечно же даст отличные метрики при подборе гиперпараметров. Но они будут невалидны, так как на тесте модель провлится.</p>\n",
    "</div>"
   ]
  },
  {
   "cell_type": "markdown",
   "metadata": {},
   "source": [
    "## Чек-лист готовности проекта"
   ]
  },
  {
   "cell_type": "markdown",
   "metadata": {},
   "source": [
    "Поставьте 'x' в выполненных пунктах. Далее нажмите Shift+Enter."
   ]
  },
  {
   "cell_type": "markdown",
   "metadata": {},
   "source": [
    "- [x]  Jupyter Notebook открыт\n",
    "- [x]  Весь код выполняется без ошибок\n",
    "- [x]  Ячейки с кодом расположены в порядке исполнения\n",
    "- [x]  Выполнен шаг 1: данные подготовлены\n",
    "- [x]  Выполнен шаг 2: задача исследована\n",
    "    - [x]  Исследован баланс классов\n",
    "    - [x]  Изучены модели без учёта дисбаланса\n",
    "    - [x]  Написаны выводы по результатам исследования\n",
    "- [x]  Выполнен шаг 3: учтён дисбаланс\n",
    "    - [x]  Применено несколько способов борьбы с дисбалансом\n",
    "    - [x]  Написаны выводы по результатам исследования\n",
    "- [x]  Выполнен шаг 4: проведено тестирование\n",
    "- [x]  Удалось достичь *F1*-меры не менее 0.59\n",
    "- [x]  Исследована метрика *AUC-ROC*"
   ]
  },
  {
   "cell_type": "markdown",
   "metadata": {},
   "source": [
    "## Финальные комментарии ревьюера"
   ]
  },
  {
   "cell_type": "markdown",
   "metadata": {},
   "source": [
    "<div class=\"alert alert-danger\" style=\"border-color: #8B0000; border-radius: 5px\">\n",
    "    <p><u><b>❌ КОММЕНТАРИЙ РЕВЬЮЕРА v.1</b></u></p>\n",
    "    <p>Максим, это супер крутой проект. Видно, что ты старался и очень системно подошел к работе. Осталось немного. Думаю, тебе не составит труда исправить замечания и вернуть мне тетредку на повторную проверку! Я постарался подробно их описать. Если возникнут вопросы задавай.</p>\n",
    "    <p>Успехов!</p>\n",
    "</div>"
   ]
  },
  {
   "cell_type": "markdown",
   "metadata": {},
   "source": [
    "<div class=\"alert alert-success\" style=\"border-color: green; border-radius: 5px\">\n",
    "    <p><u><b>✅ КОММЕНТАРИЙ РЕВЬЮЕРА v.2</b></u></p>\n",
    "    <p>Максим, мы добрались до зачета по всем пунктам, замечаний больше нет. Ты молодец! Особенно хвалю за то, что попробовал <code>OneHotEncoder</code> и за структурированность проекта.</p>\n",
    "    <p>Надеюсь тебя посетило то классное чувство профессиональной прокачки по ходу решения.</p>\n",
    "    <p>Для систематизации знаний делюсь с тобой ссылкой на учебник по ML от ШАД:</p>\n",
    "\n",
    "https://ml-handbook.ru/</p>\n",
    "\n",
    "<p>Тут много полезного по метематике:</p>\n",
    "\n",
    "http://mathprofi.ru/</p>\n",
    "\n",
    "<p>Очень классный бесплатный тренажер по SQL (SQL вы будуте проходить дальше в курсе, он крайне важен для работы, так что лучше начать изучать его заранее):</p>\n",
    "\n",
    "https://sql-ex.ru/</p>\n",
    "\n",
    "<p>Настоятельно рекомендую пройти серию курсов по статистике на Stepik:</p>\n",
    "\n",
    "https://stepik.org/course/76/syllabus</p>\n",
    "\n",
    "<p>Там же на Stepik очень много полезных бесплатных курсов по Python, Ананлизу данных и DS.</p>\n",
    "<p>Желаю не останавливаться на пути к поставленной цели. Все получится!</p>\n",
    "</div>"
   ]
  },
  {
   "cell_type": "code",
   "execution_count": null,
   "metadata": {},
   "outputs": [],
   "source": []
  }
 ],
 "metadata": {
  "ExecuteTimeLog": [
   {
    "duration": 1070,
    "start_time": "2023-01-17T03:47:49.506Z"
   },
   {
    "duration": 424,
    "start_time": "2023-01-17T03:47:50.578Z"
   },
   {
    "duration": 40,
    "start_time": "2023-01-17T03:47:51.003Z"
   },
   {
    "duration": 66,
    "start_time": "2023-01-17T03:47:51.046Z"
   },
   {
    "duration": 9,
    "start_time": "2023-01-17T03:47:51.114Z"
   },
   {
    "duration": 337,
    "start_time": "2023-01-17T03:47:51.124Z"
   },
   {
    "duration": 151,
    "start_time": "2023-01-17T03:47:51.463Z"
   },
   {
    "duration": 14,
    "start_time": "2023-01-17T03:47:51.615Z"
   },
   {
    "duration": 30,
    "start_time": "2023-01-17T03:47:51.631Z"
   },
   {
    "duration": 4,
    "start_time": "2023-01-17T03:47:51.664Z"
   },
   {
    "duration": 12,
    "start_time": "2023-01-17T03:47:51.670Z"
   },
   {
    "duration": 2144,
    "start_time": "2023-01-17T03:47:51.683Z"
   },
   {
    "duration": 12,
    "start_time": "2023-01-17T03:47:53.828Z"
   },
   {
    "duration": 5,
    "start_time": "2023-01-17T03:47:53.848Z"
   },
   {
    "duration": 15,
    "start_time": "2023-01-17T03:47:53.855Z"
   },
   {
    "duration": 6,
    "start_time": "2023-01-17T03:47:53.872Z"
   },
   {
    "duration": 33,
    "start_time": "2023-01-17T03:47:53.880Z"
   },
   {
    "duration": 52,
    "start_time": "2023-01-17T03:47:53.915Z"
   },
   {
    "duration": 88,
    "start_time": "2023-01-17T03:47:53.968Z"
   },
   {
    "duration": 189,
    "start_time": "2023-01-17T03:47:54.059Z"
   },
   {
    "duration": 181,
    "start_time": "2023-01-17T03:47:54.250Z"
   },
   {
    "duration": 99,
    "start_time": "2023-01-17T03:47:54.432Z"
   },
   {
    "duration": 448,
    "start_time": "2023-01-17T03:47:54.533Z"
   },
   {
    "duration": 30,
    "start_time": "2023-01-17T03:47:54.983Z"
   },
   {
    "duration": 43,
    "start_time": "2023-01-17T03:47:55.014Z"
   },
   {
    "duration": 7,
    "start_time": "2023-01-17T03:47:55.059Z"
   },
   {
    "duration": 7,
    "start_time": "2023-01-17T03:47:55.068Z"
   },
   {
    "duration": 12,
    "start_time": "2023-01-17T03:47:55.078Z"
   },
   {
    "duration": 68,
    "start_time": "2023-01-17T03:47:55.092Z"
   },
   {
    "duration": 104,
    "start_time": "2023-01-17T03:47:55.249Z"
   },
   {
    "duration": 194,
    "start_time": "2023-01-17T03:47:55.355Z"
   },
   {
    "duration": 121,
    "start_time": "2023-01-17T03:47:55.551Z"
   },
   {
    "duration": 33,
    "start_time": "2023-01-17T03:47:55.674Z"
   },
   {
    "duration": 11,
    "start_time": "2023-01-17T03:47:55.709Z"
   },
   {
    "duration": 128,
    "start_time": "2023-01-17T03:47:55.722Z"
   },
   {
    "duration": 112,
    "start_time": "2023-01-17T03:47:55.852Z"
   },
   {
    "duration": 215,
    "start_time": "2023-01-17T03:47:55.966Z"
   },
   {
    "duration": 41,
    "start_time": "2023-01-17T03:47:56.182Z"
   },
   {
    "duration": 34,
    "start_time": "2023-01-17T03:47:56.225Z"
   },
   {
    "duration": 6,
    "start_time": "2023-01-17T03:47:56.260Z"
   },
   {
    "duration": 377,
    "start_time": "2023-01-17T03:47:56.268Z"
   },
   {
    "duration": 4,
    "start_time": "2023-01-17T03:47:56.648Z"
   },
   {
    "duration": 391,
    "start_time": "2023-01-17T03:47:56.654Z"
   },
   {
    "duration": 5,
    "start_time": "2023-01-17T03:47:57.048Z"
   },
   {
    "duration": 242,
    "start_time": "2023-01-17T03:47:57.054Z"
   },
   {
    "duration": 5,
    "start_time": "2023-01-17T03:47:57.298Z"
   },
   {
    "duration": 6,
    "start_time": "2023-01-17T03:47:57.305Z"
   },
   {
    "duration": 287,
    "start_time": "2023-01-17T03:47:57.312Z"
   },
   {
    "duration": 0,
    "start_time": "2023-01-17T03:47:57.601Z"
   },
   {
    "duration": 0,
    "start_time": "2023-01-17T03:47:57.602Z"
   },
   {
    "duration": 0,
    "start_time": "2023-01-17T03:47:57.603Z"
   },
   {
    "duration": 0,
    "start_time": "2023-01-17T03:47:57.604Z"
   },
   {
    "duration": 0,
    "start_time": "2023-01-17T03:47:57.606Z"
   },
   {
    "duration": 0,
    "start_time": "2023-01-17T03:47:57.607Z"
   },
   {
    "duration": 0,
    "start_time": "2023-01-17T03:47:57.608Z"
   },
   {
    "duration": 0,
    "start_time": "2023-01-17T03:47:57.609Z"
   },
   {
    "duration": 0,
    "start_time": "2023-01-17T03:47:57.610Z"
   },
   {
    "duration": 0,
    "start_time": "2023-01-17T03:47:57.612Z"
   },
   {
    "duration": 0,
    "start_time": "2023-01-17T03:47:57.612Z"
   },
   {
    "duration": 0,
    "start_time": "2023-01-17T03:47:57.614Z"
   },
   {
    "duration": 0,
    "start_time": "2023-01-17T03:47:57.614Z"
   },
   {
    "duration": 1,
    "start_time": "2023-01-17T03:47:57.615Z"
   },
   {
    "duration": 291,
    "start_time": "2023-01-17T03:48:15.571Z"
   },
   {
    "duration": 15261,
    "start_time": "2023-01-17T03:48:26.488Z"
   },
   {
    "duration": 38,
    "start_time": "2023-01-17T03:48:41.751Z"
   },
   {
    "duration": 315,
    "start_time": "2023-01-17T03:48:41.850Z"
   },
   {
    "duration": 28288,
    "start_time": "2023-01-17T03:48:42.167Z"
   },
   {
    "duration": 222,
    "start_time": "2023-01-17T03:49:10.457Z"
   },
   {
    "duration": 147,
    "start_time": "2023-01-17T03:49:10.681Z"
   },
   {
    "duration": 3495,
    "start_time": "2023-01-17T03:49:10.830Z"
   },
   {
    "duration": 265,
    "start_time": "2023-01-17T03:49:14.327Z"
   },
   {
    "duration": 2014,
    "start_time": "2023-01-17T03:49:14.594Z"
   },
   {
    "duration": 165,
    "start_time": "2023-01-17T03:49:16.609Z"
   },
   {
    "duration": 3,
    "start_time": "2023-01-17T03:49:16.776Z"
   },
   {
    "duration": 35,
    "start_time": "2023-01-17T03:49:16.781Z"
   },
   {
    "duration": 137,
    "start_time": "2023-01-17T03:49:16.817Z"
   },
   {
    "duration": 4,
    "start_time": "2023-01-17T03:49:16.957Z"
   },
   {
    "duration": 1392,
    "start_time": "2023-01-18T17:52:52.788Z"
   },
   {
    "duration": 290,
    "start_time": "2023-01-18T17:52:54.182Z"
   },
   {
    "duration": 164,
    "start_time": "2023-01-18T17:52:54.474Z"
   },
   {
    "duration": 76,
    "start_time": "2023-01-18T17:52:54.640Z"
   },
   {
    "duration": 27,
    "start_time": "2023-01-18T17:52:54.717Z"
   },
   {
    "duration": 348,
    "start_time": "2023-01-18T17:52:54.746Z"
   },
   {
    "duration": 173,
    "start_time": "2023-01-18T17:52:55.096Z"
   },
   {
    "duration": 15,
    "start_time": "2023-01-18T17:52:55.270Z"
   },
   {
    "duration": 16,
    "start_time": "2023-01-18T17:52:55.287Z"
   },
   {
    "duration": 33,
    "start_time": "2023-01-18T17:52:55.306Z"
   },
   {
    "duration": 8,
    "start_time": "2023-01-18T17:52:55.341Z"
   },
   {
    "duration": 1803,
    "start_time": "2023-01-18T17:52:55.351Z"
   },
   {
    "duration": 12,
    "start_time": "2023-01-18T17:52:57.156Z"
   },
   {
    "duration": 10,
    "start_time": "2023-01-18T17:52:57.170Z"
   },
   {
    "duration": 14,
    "start_time": "2023-01-18T17:52:57.182Z"
   },
   {
    "duration": 24,
    "start_time": "2023-01-18T17:52:57.198Z"
   },
   {
    "duration": 33,
    "start_time": "2023-01-18T17:52:57.237Z"
   },
   {
    "duration": 105,
    "start_time": "2023-01-18T17:52:57.271Z"
   },
   {
    "duration": 13962,
    "start_time": "2023-01-18T17:52:57.377Z"
   },
   {
    "duration": 98,
    "start_time": "2023-01-18T17:53:11.341Z"
   },
   {
    "duration": 199827,
    "start_time": "2023-01-18T17:53:11.442Z"
   },
   {
    "duration": 5223,
    "start_time": "2023-01-18T17:56:31.271Z"
   },
   {
    "duration": 9,
    "start_time": "2023-01-18T17:56:36.496Z"
   },
   {
    "duration": 19,
    "start_time": "2023-01-18T17:56:36.507Z"
   },
   {
    "duration": 15210,
    "start_time": "2023-01-18T17:56:36.528Z"
   },
   {
    "duration": 190366,
    "start_time": "2023-01-18T17:56:51.746Z"
   },
   {
    "duration": 5473,
    "start_time": "2023-01-18T18:00:02.114Z"
   },
   {
    "duration": 14,
    "start_time": "2023-01-18T18:00:07.592Z"
   },
   {
    "duration": 6782,
    "start_time": "2023-01-18T18:00:07.608Z"
   },
   {
    "duration": 105175,
    "start_time": "2023-01-18T18:00:14.392Z"
   },
   {
    "duration": 3508,
    "start_time": "2023-01-18T18:01:59.569Z"
   },
   {
    "duration": 343,
    "start_time": "2023-01-18T18:02:03.079Z"
   },
   {
    "duration": 0,
    "start_time": "2023-01-18T18:02:03.424Z"
   },
   {
    "duration": 0,
    "start_time": "2023-01-18T18:02:03.426Z"
   },
   {
    "duration": 0,
    "start_time": "2023-01-18T18:02:03.427Z"
   },
   {
    "duration": 433,
    "start_time": "2023-01-18T18:02:44.408Z"
   },
   {
    "duration": 367,
    "start_time": "2023-01-18T18:02:53.707Z"
   },
   {
    "duration": 8,
    "start_time": "2023-01-18T18:02:54.076Z"
   },
   {
    "duration": 447,
    "start_time": "2023-01-18T18:02:54.086Z"
   },
   {
    "duration": 154,
    "start_time": "2023-01-18T18:02:54.535Z"
   },
   {
    "duration": 368,
    "start_time": "2023-01-18T18:03:34.391Z"
   },
   {
    "duration": 370,
    "start_time": "2023-01-18T18:03:43.098Z"
   },
   {
    "duration": 1232,
    "start_time": "2023-01-19T03:17:24.006Z"
   },
   {
    "duration": 373,
    "start_time": "2023-01-19T03:17:25.240Z"
   },
   {
    "duration": 328,
    "start_time": "2023-01-19T03:17:25.615Z"
   },
   {
    "duration": 63,
    "start_time": "2023-01-19T03:17:25.945Z"
   },
   {
    "duration": 8,
    "start_time": "2023-01-19T03:17:26.010Z"
   },
   {
    "duration": 353,
    "start_time": "2023-01-19T03:17:26.020Z"
   },
   {
    "duration": 200,
    "start_time": "2023-01-19T03:17:26.376Z"
   },
   {
    "duration": 13,
    "start_time": "2023-01-19T03:17:26.581Z"
   },
   {
    "duration": 14,
    "start_time": "2023-01-19T03:17:26.595Z"
   },
   {
    "duration": 10,
    "start_time": "2023-01-19T03:17:26.612Z"
   },
   {
    "duration": 6,
    "start_time": "2023-01-19T03:17:26.623Z"
   },
   {
    "duration": 1604,
    "start_time": "2023-01-19T03:17:26.630Z"
   },
   {
    "duration": 11,
    "start_time": "2023-01-19T03:17:28.236Z"
   },
   {
    "duration": 11,
    "start_time": "2023-01-19T03:17:28.248Z"
   },
   {
    "duration": 9,
    "start_time": "2023-01-19T03:17:28.261Z"
   },
   {
    "duration": 25,
    "start_time": "2023-01-19T03:17:28.271Z"
   },
   {
    "duration": 30,
    "start_time": "2023-01-19T03:17:28.297Z"
   },
   {
    "duration": 85,
    "start_time": "2023-01-19T03:17:28.328Z"
   },
   {
    "duration": 9367,
    "start_time": "2023-01-19T03:17:28.415Z"
   },
   {
    "duration": 6,
    "start_time": "2023-01-19T03:17:37.783Z"
   },
   {
    "duration": 171599,
    "start_time": "2023-01-19T03:17:37.790Z"
   },
   {
    "duration": 4405,
    "start_time": "2023-01-19T03:20:29.391Z"
   },
   {
    "duration": 8,
    "start_time": "2023-01-19T03:20:33.798Z"
   },
   {
    "duration": 7,
    "start_time": "2023-01-19T03:20:33.808Z"
   },
   {
    "duration": 9973,
    "start_time": "2023-01-19T03:20:33.817Z"
   },
   {
    "duration": 172802,
    "start_time": "2023-01-19T03:20:43.881Z"
   },
   {
    "duration": 4947,
    "start_time": "2023-01-19T03:23:36.684Z"
   },
   {
    "duration": 13,
    "start_time": "2023-01-19T03:23:41.635Z"
   },
   {
    "duration": 5482,
    "start_time": "2023-01-19T03:23:41.650Z"
   },
   {
    "duration": 97076,
    "start_time": "2023-01-19T03:23:47.134Z"
   },
   {
    "duration": 3586,
    "start_time": "2023-01-19T03:25:24.211Z"
   },
   {
    "duration": 358,
    "start_time": "2023-01-19T03:25:27.798Z"
   },
   {
    "duration": 7,
    "start_time": "2023-01-19T03:25:28.157Z"
   },
   {
    "duration": 499,
    "start_time": "2023-01-19T03:25:28.165Z"
   },
   {
    "duration": 162,
    "start_time": "2023-01-19T03:25:28.666Z"
   },
   {
    "duration": 385,
    "start_time": "2023-01-19T03:31:08.509Z"
   },
   {
    "duration": 145,
    "start_time": "2023-01-19T03:31:09.082Z"
   }
  ],
  "kernelspec": {
   "display_name": "Python 3 (ipykernel)",
   "language": "python",
   "name": "python3"
  },
  "language_info": {
   "codemirror_mode": {
    "name": "ipython",
    "version": 3
   },
   "file_extension": ".py",
   "mimetype": "text/x-python",
   "name": "python",
   "nbconvert_exporter": "python",
   "pygments_lexer": "ipython3",
   "version": "3.9.15"
  },
  "toc": {
   "base_numbering": 1,
   "nav_menu": {},
   "number_sections": true,
   "sideBar": true,
   "skip_h1_title": true,
   "title_cell": "Содержание",
   "title_sidebar": "Contents",
   "toc_cell": true,
   "toc_position": {},
   "toc_section_display": true,
   "toc_window_display": false
  },
  "varInspector": {
   "cols": {
    "lenName": 16,
    "lenType": 16,
    "lenVar": 40
   },
   "kernels_config": {
    "python": {
     "delete_cmd_postfix": "",
     "delete_cmd_prefix": "del ",
     "library": "var_list.py",
     "varRefreshCmd": "print(var_dic_list())"
    },
    "r": {
     "delete_cmd_postfix": ") ",
     "delete_cmd_prefix": "rm(",
     "library": "var_list.r",
     "varRefreshCmd": "cat(var_dic_list()) "
    }
   },
   "types_to_exclude": [
    "module",
    "function",
    "builtin_function_or_method",
    "instance",
    "_Feature"
   ],
   "window_display": false
  },
  "widgets": {
   "application/vnd.jupyter.widget-state+json": {
    "state": {},
    "version_major": 2,
    "version_minor": 0
   }
  }
 },
 "nbformat": 4,
 "nbformat_minor": 4
}
