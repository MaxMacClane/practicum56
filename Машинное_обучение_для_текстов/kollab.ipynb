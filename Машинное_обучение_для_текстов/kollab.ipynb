{
 "cells": [
  {
   "cell_type": "markdown",
   "metadata": {
    "toc": true
   },
   "source": [
    "<h1>Содержание<span class=\"tocSkip\"></span></h1>\n",
    "<div class=\"toc\"><ul class=\"toc-item\"><li><span><a href=\"#Подготовка\" data-toc-modified-id=\"Подготовка-1\"><span class=\"toc-item-num\">1&nbsp;&nbsp;</span>Подготовка</a></span></li><li><span><a href=\"#Обучение\" data-toc-modified-id=\"Обучение-2\"><span class=\"toc-item-num\">2&nbsp;&nbsp;</span>Обучение</a></span></li><li><span><a href=\"#Выводы\" data-toc-modified-id=\"Выводы-3\"><span class=\"toc-item-num\">3&nbsp;&nbsp;</span>Выводы</a></span></li><li><span><a href=\"#Чек-лист-проверки\" data-toc-modified-id=\"Чек-лист-проверки-4\"><span class=\"toc-item-num\">4&nbsp;&nbsp;</span>Чек-лист проверки</a></span></li></ul></div>"
   ]
  },
  {
   "cell_type": "markdown",
   "metadata": {},
   "source": [
    "# Проект для «Викишоп»"
   ]
  },
  {
   "cell_type": "markdown",
   "metadata": {},
   "source": [
    "## Цель\n",
    "\n",
    "Для интернет-магазина \"Викишоп\" подготовить модель фильтрации комментариев и описания товаров<br>\n",
    "Модель должна классифицировать тексты определяя эмоциональный окрас позитивный или негативный <br>\n",
    "<br>\n",
    "Критерий оценки качества модели метрика F1, допустимые минимальные значения 0.75<br>\n",
    "Данные находятся по ссылке https://code.s3.yandex.net/datasets/toxic_comments.csv<br>\n",
    "В файле два столбца `text и toxic` <br>\n",
    "Признаки находятся в столбце `text`<br>\n",
    "Целевой признак `toxic`<br>"
   ]
  },
  {
   "cell_type": "markdown",
   "metadata": {},
   "source": [
    "## Подготовка"
   ]
  },
  {
   "cell_type": "code",
   "execution_count": 1,
   "metadata": {
    "tags": []
   },
   "outputs": [],
   "source": [
    "import pandas as pd\n",
    "import numpy as np\n",
    "import seaborn as sns\n",
    "import random\n",
    "import matplotlib.pyplot as plt\n",
    "from statsmodels.tsa.seasonal import seasonal_decompose\n",
    "from plotly.subplots import make_subplots\n",
    "\n",
    "# pd.set_option('display.max_rows', None)\n",
    "# pd.set_option('display.max_columns', None)\n",
    "pd.options.mode.chained_assignment = None\n",
    "import warnings\n",
    "warnings.simplefilter(action='ignore', category=FutureWarning)"
   ]
  },
  {
   "cell_type": "code",
   "execution_count": null,
   "metadata": {
    "tags": []
   },
   "outputs": [],
   "source": [
    "import keras\n",
    "import torch\n",
    "import transformers\n",
    "from tqdm import notebook\n",
    "from tensorflow.keras.preprocessing.sequence import pad_sequences\n",
    "from transformers import BertConfig\n",
    "from transformers import BertModel"
   ]
  },
  {
   "cell_type": "code",
   "execution_count": 3,
   "metadata": {
    "execution": {
     "iopub.execute_input": "2023-04-04T23:39:59.727780Z",
     "iopub.status.busy": "2023-04-04T23:39:59.727306Z",
     "iopub.status.idle": "2023-04-04T23:40:19.561818Z",
     "shell.execute_reply": "2023-04-04T23:40:19.560426Z",
     "shell.execute_reply.started": "2023-04-04T23:39:59.727730Z"
    },
    "tags": []
   },
   "outputs": [
    {
     "name": "stdout",
     "output_type": "stream",
     "text": [
      "Collecting detoxify\n",
      "  Downloading detoxify-0.5.1-py3-none-any.whl (12 kB)\n",
      "Requirement already satisfied: sentencepiece>=0.1.94 in /opt/conda/lib/python3.7/site-packages (from detoxify) (0.1.97)\n",
      "Collecting transformers==4.22.1\n",
      "  Downloading transformers-4.22.1-py3-none-any.whl (4.9 MB)\n",
      "\u001b[2K     \u001b[90m━━━━━━━━━━━━━━━━━━━━━━━━━━━━━━━━━━━━━━━━\u001b[0m \u001b[32m4.9/4.9 MB\u001b[0m \u001b[31m43.1 MB/s\u001b[0m eta \u001b[36m0:00:00\u001b[0m00:01\u001b[0m00:01\u001b[0m\n",
      "\u001b[?25hRequirement already satisfied: torch>=1.7.0 in /opt/conda/lib/python3.7/site-packages (from detoxify) (1.13.0)\n",
      "Requirement already satisfied: regex!=2019.12.17 in /opt/conda/lib/python3.7/site-packages (from transformers==4.22.1->detoxify) (2021.11.10)\n",
      "Requirement already satisfied: packaging>=20.0 in /opt/conda/lib/python3.7/site-packages (from transformers==4.22.1->detoxify) (23.0)\n",
      "Collecting tokenizers!=0.11.3,<0.13,>=0.11.1\n",
      "  Downloading tokenizers-0.12.1-cp37-cp37m-manylinux_2_12_x86_64.manylinux2010_x86_64.whl (6.6 MB)\n",
      "\u001b[2K     \u001b[90m━━━━━━━━━━━━━━━━━━━━━━━━━━━━━━━━━━━━━━━━\u001b[0m \u001b[32m6.6/6.6 MB\u001b[0m \u001b[31m56.4 MB/s\u001b[0m eta \u001b[36m0:00:00\u001b[0m00:01\u001b[0m00:01\u001b[0m\n",
      "\u001b[?25hRequirement already satisfied: pyyaml>=5.1 in /opt/conda/lib/python3.7/site-packages (from transformers==4.22.1->detoxify) (6.0)\n",
      "Requirement already satisfied: importlib-metadata in /opt/conda/lib/python3.7/site-packages (from transformers==4.22.1->detoxify) (4.11.4)\n",
      "Requirement already satisfied: numpy>=1.17 in /opt/conda/lib/python3.7/site-packages (from transformers==4.22.1->detoxify) (1.21.6)\n",
      "Requirement already satisfied: huggingface-hub<1.0,>=0.9.0 in /opt/conda/lib/python3.7/site-packages (from transformers==4.22.1->detoxify) (0.13.3)\n",
      "Requirement already satisfied: tqdm>=4.27 in /opt/conda/lib/python3.7/site-packages (from transformers==4.22.1->detoxify) (4.64.1)\n",
      "Requirement already satisfied: filelock in /opt/conda/lib/python3.7/site-packages (from transformers==4.22.1->detoxify) (3.9.0)\n",
      "Requirement already satisfied: requests in /opt/conda/lib/python3.7/site-packages (from transformers==4.22.1->detoxify) (2.28.2)\n",
      "Requirement already satisfied: typing-extensions in /opt/conda/lib/python3.7/site-packages (from torch>=1.7.0->detoxify) (4.4.0)\n",
      "Requirement already satisfied: zipp>=0.5 in /opt/conda/lib/python3.7/site-packages (from importlib-metadata->transformers==4.22.1->detoxify) (3.11.0)\n",
      "Requirement already satisfied: charset-normalizer<4,>=2 in /opt/conda/lib/python3.7/site-packages (from requests->transformers==4.22.1->detoxify) (2.1.1)\n",
      "Requirement already satisfied: certifi>=2017.4.17 in /opt/conda/lib/python3.7/site-packages (from requests->transformers==4.22.1->detoxify) (2022.12.7)\n",
      "Requirement already satisfied: urllib3<1.27,>=1.21.1 in /opt/conda/lib/python3.7/site-packages (from requests->transformers==4.22.1->detoxify) (1.26.14)\n",
      "Requirement already satisfied: idna<4,>=2.5 in /opt/conda/lib/python3.7/site-packages (from requests->transformers==4.22.1->detoxify) (3.4)\n",
      "Installing collected packages: tokenizers, transformers, detoxify\n",
      "  Attempting uninstall: tokenizers\n",
      "    Found existing installation: tokenizers 0.13.2\n",
      "    Uninstalling tokenizers-0.13.2:\n",
      "      Successfully uninstalled tokenizers-0.13.2\n",
      "  Attempting uninstall: transformers\n",
      "    Found existing installation: transformers 4.27.3\n",
      "    Uninstalling transformers-4.27.3:\n",
      "      Successfully uninstalled transformers-4.27.3\n",
      "Successfully installed detoxify-0.5.1 tokenizers-0.12.1 transformers-4.22.1\n",
      "\u001b[33mWARNING: Running pip as the 'root' user can result in broken permissions and conflicting behaviour with the system package manager. It is recommended to use a virtual environment instead: https://pip.pypa.io/warnings/venv\u001b[0m\u001b[33m\n",
      "\u001b[0mNote: you may need to restart the kernel to use updated packages.\n"
     ]
    }
   ],
   "source": [
    "pip install detoxify"
   ]
  },
  {
   "cell_type": "code",
   "execution_count": 4,
   "metadata": {
    "execution": {
     "iopub.execute_input": "2023-04-04T23:40:19.565533Z",
     "iopub.status.busy": "2023-04-04T23:40:19.564908Z",
     "iopub.status.idle": "2023-04-04T23:40:19.571150Z",
     "shell.execute_reply": "2023-04-04T23:40:19.569728Z",
     "shell.execute_reply.started": "2023-04-04T23:40:19.565495Z"
    }
   },
   "outputs": [],
   "source": [
    "# pip install --upgrade transformers\n"
   ]
  },
  {
   "cell_type": "code",
   "execution_count": 5,
   "metadata": {
    "execution": {
     "iopub.execute_input": "2023-04-04T23:40:19.574333Z",
     "iopub.status.busy": "2023-04-04T23:40:19.574048Z",
     "iopub.status.idle": "2023-04-04T23:40:44.436239Z",
     "shell.execute_reply": "2023-04-04T23:40:44.434678Z",
     "shell.execute_reply.started": "2023-04-04T23:40:19.574296Z"
    },
    "tags": []
   },
   "outputs": [
    {
     "name": "stdout",
     "output_type": "stream",
     "text": [
      "Collecting nltk\n",
      "  Downloading nltk-3.8.1-py3-none-any.whl (1.5 MB)\n",
      "\u001b[2K     \u001b[90m━━━━━━━━━━━━━━━━━━━━━━━━━━━━━━━━━━━━━━━━\u001b[0m \u001b[32m1.5/1.5 MB\u001b[0m \u001b[31m21.0 MB/s\u001b[0m eta \u001b[36m0:00:00\u001b[0m00:01\u001b[0m00:01\u001b[0m\n",
      "\u001b[?25hCollecting tqdm\n",
      "  Downloading tqdm-4.65.0-py3-none-any.whl (77 kB)\n",
      "\u001b[2K     \u001b[90m━━━━━━━━━━━━━━━━━━━━━━━━━━━━━━━━━━━━━━━━\u001b[0m \u001b[32m77.1/77.1 kB\u001b[0m \u001b[31m9.1 MB/s\u001b[0m eta \u001b[36m0:00:00\u001b[0m\n",
      "\u001b[?25hCollecting click\n",
      "  Downloading click-8.1.3-py3-none-any.whl (96 kB)\n",
      "\u001b[2K     \u001b[90m━━━━━━━━━━━━━━━━━━━━━━━━━━━━━━━━━━━━━━━━\u001b[0m \u001b[32m96.6/96.6 kB\u001b[0m \u001b[31m9.7 MB/s\u001b[0m eta \u001b[36m0:00:00\u001b[0m\n",
      "\u001b[?25hCollecting joblib\n",
      "  Downloading joblib-1.2.0-py3-none-any.whl (297 kB)\n",
      "\u001b[2K     \u001b[90m━━━━━━━━━━━━━━━━━━━━━━━━━━━━━━━━━━━━━━\u001b[0m \u001b[32m298.0/298.0 kB\u001b[0m \u001b[31m26.7 MB/s\u001b[0m eta \u001b[36m0:00:00\u001b[0m\n",
      "\u001b[?25hCollecting regex>=2021.8.3\n",
      "  Downloading regex-2022.10.31-cp37-cp37m-manylinux_2_17_x86_64.manylinux2014_x86_64.whl (757 kB)\n",
      "\u001b[2K     \u001b[90m━━━━━━━━━━━━━━━━━━━━━━━━━━━━━━━━━━━━━━\u001b[0m \u001b[32m757.1/757.1 kB\u001b[0m \u001b[31m48.4 MB/s\u001b[0m eta \u001b[36m0:00:00\u001b[0m\n",
      "\u001b[?25hCollecting importlib-metadata\n",
      "  Downloading importlib_metadata-6.1.0-py3-none-any.whl (21 kB)\n",
      "Collecting typing-extensions>=3.6.4\n",
      "  Downloading typing_extensions-4.5.0-py3-none-any.whl (27 kB)\n",
      "Collecting zipp>=0.5\n",
      "  Downloading zipp-3.15.0-py3-none-any.whl (6.8 kB)\n",
      "Installing collected packages: zipp, typing-extensions, tqdm, regex, joblib, importlib-metadata, click, nltk\n",
      "  Attempting uninstall: zipp\n",
      "    Found existing installation: zipp 3.11.0\n",
      "    Uninstalling zipp-3.11.0:\n",
      "      Successfully uninstalled zipp-3.11.0\n",
      "  Attempting uninstall: typing-extensions\n",
      "    Found existing installation: typing_extensions 4.4.0\n",
      "    Uninstalling typing_extensions-4.4.0:\n",
      "      Successfully uninstalled typing_extensions-4.4.0\n",
      "  Attempting uninstall: tqdm\n",
      "    Found existing installation: tqdm 4.64.1\n",
      "    Uninstalling tqdm-4.64.1:\n",
      "      Successfully uninstalled tqdm-4.64.1\n",
      "  Attempting uninstall: regex\n",
      "    Found existing installation: regex 2021.11.10\n",
      "    Uninstalling regex-2021.11.10:\n",
      "      Successfully uninstalled regex-2021.11.10\n",
      "  Attempting uninstall: joblib\n",
      "    Found existing installation: joblib 1.2.0\n",
      "    Uninstalling joblib-1.2.0:\n",
      "      Successfully uninstalled joblib-1.2.0\n",
      "  Attempting uninstall: importlib-metadata\n",
      "    Found existing installation: importlib-metadata 4.11.4\n",
      "    Uninstalling importlib-metadata-4.11.4:\n",
      "      Successfully uninstalled importlib-metadata-4.11.4\n",
      "  Attempting uninstall: click\n",
      "    Found existing installation: click 8.1.3\n",
      "    Uninstalling click-8.1.3:\n",
      "      Successfully uninstalled click-8.1.3\n",
      "  Attempting uninstall: nltk\n",
      "    Found existing installation: nltk 3.2.4\n",
      "    Uninstalling nltk-3.2.4:\n",
      "      Successfully uninstalled nltk-3.2.4\n",
      "\u001b[31mERROR: pip's dependency resolver does not currently take into account all the packages that are installed. This behaviour is the source of the following dependency conflicts.\n",
      "dask-cudf 21.12.2 requires cupy-cuda115, which is not installed.\n",
      "cudf 21.12.2 requires cupy-cuda115, which is not installed.\n",
      "wasabi 1.1.1 requires typing-extensions<4.5.0,>=3.7.4.1; python_version < \"3.8\", but you have typing-extensions 4.5.0 which is incompatible.\n",
      "thinc 8.1.9 requires typing-extensions<4.5.0,>=3.7.4.1; python_version < \"3.8\", but you have typing-extensions 4.5.0 which is incompatible.\n",
      "tensorflow 2.11.0 requires protobuf<3.20,>=3.9.2, but you have protobuf 3.20.3 which is incompatible.\n",
      "tensorflow-transform 1.12.0 requires pyarrow<7,>=6, but you have pyarrow 5.0.0 which is incompatible.\n",
      "tensorflow-serving-api 2.11.0 requires protobuf<3.20,>=3.9.2, but you have protobuf 3.20.3 which is incompatible.\n",
      "spacy 3.5.1 requires typing-extensions<4.5.0,>=3.7.4.1; python_version < \"3.8\", but you have typing-extensions 4.5.0 which is incompatible.\n",
      "pydocstyle 6.2.3 requires importlib-metadata<5.0.0,>=2.0.0; python_version < \"3.8\", but you have importlib-metadata 6.1.0 which is incompatible.\n",
      "preprocessing 0.1.13 requires nltk==3.2.4, but you have nltk 3.8.1 which is incompatible.\n",
      "pandas-profiling 3.6.2 requires tqdm<4.65,>=4.48.2, but you have tqdm 4.65.0 which is incompatible.\n",
      "librosa 0.10.0.post2 requires soundfile>=0.12.1, but you have soundfile 0.11.0 which is incompatible.\n",
      "ibis-framework 2.1.1 requires importlib-metadata<5,>=4; python_version < \"3.8\", but you have importlib-metadata 6.1.0 which is incompatible.\n",
      "ibis-framework 2.1.1 requires regex<2022.0.0,>=2021.7.6, but you have regex 2022.10.31 which is incompatible.\n",
      "flake8 5.0.4 requires importlib-metadata<4.3,>=1.1.0; python_version < \"3.8\", but you have importlib-metadata 6.1.0 which is incompatible.\n",
      "distributed 2021.11.2 requires dask==2021.11.2, but you have dask 2022.2.0 which is incompatible.\n",
      "dask-cudf 21.12.2 requires dask<=2021.11.2,>=2021.11.1, but you have dask 2022.2.0 which is incompatible.\n",
      "confection 0.0.4 requires typing-extensions<4.5.0,>=3.7.4.1; python_version < \"3.8\", but you have typing-extensions 4.5.0 which is incompatible.\n",
      "cmudict 1.0.13 requires importlib-metadata<6.0.0,>=5.1.0, but you have importlib-metadata 6.1.0 which is incompatible.\n",
      "apache-beam 2.44.0 requires dill<0.3.2,>=0.3.1.1, but you have dill 0.3.6 which is incompatible.\u001b[0m\u001b[31m\n",
      "\u001b[0mSuccessfully installed click-8.1.3 importlib-metadata-6.1.0 joblib-1.2.0 nltk-3.8.1 regex-2022.10.31 tqdm-4.65.0 typing-extensions-4.5.0 zipp-3.15.0\n",
      "\u001b[33mWARNING: Running pip as the 'root' user can result in broken permissions and conflicting behaviour with the system package manager. It is recommended to use a virtual environment instead: https://pip.pypa.io/warnings/venv\u001b[0m\u001b[33m\n",
      "\u001b[0mNote: you may need to restart the kernel to use updated packages.\n"
     ]
    }
   ],
   "source": [
    "pip install --upgrade --force-reinstall nltk\n"
   ]
  },
  {
   "cell_type": "code",
   "execution_count": 6,
   "metadata": {
    "execution": {
     "iopub.execute_input": "2023-04-04T23:40:44.439063Z",
     "iopub.status.busy": "2023-04-04T23:40:44.438596Z",
     "iopub.status.idle": "2023-04-04T23:40:45.171885Z",
     "shell.execute_reply": "2023-04-04T23:40:45.170848Z",
     "shell.execute_reply.started": "2023-04-04T23:40:44.439011Z"
    },
    "tags": []
   },
   "outputs": [],
   "source": [
    "from detoxify import Detoxify\n",
    "from transformers import BertConfig, BertForSequenceClassification, BertTokenizer\n",
    "import os\n",
    "\n",
    "import nltk\n",
    "from nltk.tokenize import word_tokenize\n",
    "from nltk.stem import WordNetLemmatizer   \n",
    "from nltk.corpus import wordnet"
   ]
  },
  {
   "cell_type": "code",
   "execution_count": 7,
   "metadata": {
    "execution": {
     "iopub.execute_input": "2023-04-04T23:40:45.173736Z",
     "iopub.status.busy": "2023-04-04T23:40:45.173253Z",
     "iopub.status.idle": "2023-04-04T23:40:45.179444Z",
     "shell.execute_reply": "2023-04-04T23:40:45.177877Z",
     "shell.execute_reply.started": "2023-04-04T23:40:45.173698Z"
    },
    "tags": []
   },
   "outputs": [],
   "source": [
    "\n",
    "# nltk.data.path.append('/path/to/nltk_data/')\n",
    "# nltk.download('wordnet', quiet=True)"
   ]
  },
  {
   "cell_type": "code",
   "execution_count": 8,
   "metadata": {
    "execution": {
     "iopub.execute_input": "2023-04-04T23:40:45.181546Z",
     "iopub.status.busy": "2023-04-04T23:40:45.181182Z",
     "iopub.status.idle": "2023-04-04T23:42:21.097687Z",
     "shell.execute_reply": "2023-04-04T23:42:21.096308Z",
     "shell.execute_reply.started": "2023-04-04T23:40:45.181503Z"
    },
    "tags": []
   },
   "outputs": [
    {
     "name": "stdout",
     "output_type": "stream",
     "text": [
      "NLTK Downloader\n",
      "---------------------------------------------------------------------------\n",
      "    d) Download   l) List    u) Update   c) Config   h) Help   q) Quit\n",
      "---------------------------------------------------------------------------\n"
     ]
    },
    {
     "name": "stdin",
     "output_type": "stream",
     "text": [
      "Downloader>  l\n"
     ]
    },
    {
     "name": "stdout",
     "output_type": "stream",
     "text": [
      "\n",
      "Packages:\n",
      "  [*] abc................. Australian Broadcasting Commission 2006\n",
      "  [*] alpino.............. Alpino Dutch Treebank\n",
      "  [*] averaged_perceptron_tagger Averaged Perceptron Tagger\n",
      "  [ ] averaged_perceptron_tagger_ru Averaged Perceptron Tagger (Russian)\n",
      "  [*] basque_grammars..... Grammars for Basque\n",
      "  [ ] bcp47............... BCP-47 Language Tags\n",
      "  [*] biocreative_ppi..... BioCreAtIvE (Critical Assessment of Information\n",
      "                           Extraction Systems in Biology)\n",
      "  [*] bllip_wsj_no_aux.... BLLIP Parser: WSJ Model\n",
      "  [*] book_grammars....... Grammars from NLTK Book\n",
      "  [*] brown............... Brown Corpus\n",
      "  [*] brown_tei........... Brown Corpus (TEI XML Version)\n",
      "  [*] cess_cat............ CESS-CAT Treebank\n",
      "  [*] cess_esp............ CESS-ESP Treebank\n",
      "  [*] chat80.............. Chat-80 Data Files\n",
      "  [*] city_database....... City Database\n",
      "  [*] cmudict............. The Carnegie Mellon Pronouncing Dictionary (0.6)\n",
      "  [ ] comparative_sentences Comparative Sentence Dataset\n",
      "  [*] comtrans............ ComTrans Corpus Sample\n",
      "  [*] conll2000........... CONLL 2000 Chunking Corpus\n"
     ]
    },
    {
     "name": "stdin",
     "output_type": "stream",
     "text": [
      "Hit Enter to continue:  \n"
     ]
    },
    {
     "name": "stdout",
     "output_type": "stream",
     "text": [
      "  [*] conll2002........... CONLL 2002 Named Entity Recognition Corpus\n",
      "  [*] conll2007........... Dependency Treebanks from CoNLL 2007 (Catalan\n",
      "                           and Basque Subset)\n",
      "  [*] crubadan............ Crubadan Corpus\n",
      "  [*] dependency_treebank. Dependency Parsed Treebank\n",
      "  [ ] dolch............... Dolch Word List\n",
      "  [*] europarl_raw........ Sample European Parliament Proceedings Parallel\n",
      "                           Corpus\n",
      "  [ ] extended_omw........ Extended Open Multilingual WordNet\n",
      "  [*] floresta............ Portuguese Treebank\n",
      "  [ ] framenet_v15........ FrameNet 1.5\n",
      "  [ ] framenet_v17........ FrameNet 1.7\n",
      "  [*] gazetteers.......... Gazeteer Lists\n",
      "  [*] genesis............. Genesis Corpus\n",
      "  [*] gutenberg........... Project Gutenberg Selections\n",
      "  [*] ieer................ NIST IE-ER DATA SAMPLE\n",
      "  [*] inaugural........... C-Span Inaugural Address Corpus\n",
      "  [*] indian.............. Indian Language POS-Tagged Corpus\n",
      "  [*] jeita............... JEITA Public Morphologically Tagged Corpus (in\n",
      "                           ChaSen format)\n",
      "  [*] kimmo............... PC-KIMMO Data Files\n"
     ]
    },
    {
     "name": "stdin",
     "output_type": "stream",
     "text": [
      "Hit Enter to continue:  \n"
     ]
    },
    {
     "name": "stdout",
     "output_type": "stream",
     "text": [
      "  [*] knbc................ KNB Corpus (Annotated blog corpus)\n",
      "  [*] large_grammars...... Large context-free and feature-based grammars\n",
      "                           for parser comparison\n",
      "  [*] lin_thesaurus....... Lin's Dependency Thesaurus\n",
      "  [*] mac_morpho.......... MAC-MORPHO: Brazilian Portuguese news text with\n",
      "                           part-of-speech tags\n",
      "  [*] machado............. Machado de Assis -- Obra Completa\n",
      "  [*] masc_tagged......... MASC Tagged Corpus\n",
      "  [*] maxent_ne_chunker... ACE Named Entity Chunker (Maximum entropy)\n",
      "  [*] maxent_treebank_pos_tagger Treebank Part of Speech Tagger (Maximum entropy)\n",
      "  [*] moses_sample........ Moses Sample Models\n",
      "  [*] movie_reviews....... Sentiment Polarity Dataset Version 2.0\n",
      "  [*] mte_teip5........... MULTEXT-East 1984 annotated corpus 4.0\n",
      "  [ ] mwa_ppdb............ The monolingual word aligner (Sultan et al.\n",
      "                           2015) subset of the Paraphrase Database.\n",
      "  [*] names............... Names Corpus, Version 1.3 (1994-03-29)\n",
      "  [ ] nombank.1.0......... NomBank Corpus 1.0\n",
      "  [ ] nonbreaking_prefixes Non-Breaking Prefixes (Moses Decoder)\n",
      "  [*] nps_chat............ NPS Chat\n",
      "  [ ] omw-1.4............. Open Multilingual Wordnet\n",
      "  [*] omw................. Open Multilingual Wordnet\n"
     ]
    },
    {
     "name": "stdin",
     "output_type": "stream",
     "text": [
      "Hit Enter to continue:  \n"
     ]
    },
    {
     "name": "stdout",
     "output_type": "stream",
     "text": [
      "  [*] opinion_lexicon..... Opinion Lexicon\n",
      "  [ ] panlex_swadesh...... PanLex Swadesh Corpora\n",
      "  [*] paradigms........... Paradigm Corpus\n",
      "  [ ] pe08................ Cross-Framework and Cross-Domain Parser\n",
      "                           Evaluation Shared Task\n",
      "  [ ] perluniprops........ perluniprops: Index of Unicode Version 7.0.0\n",
      "                           character properties in Perl\n",
      "  [*] pil................. The Patient Information Leaflet (PIL) Corpus\n",
      "  [*] pl196x.............. Polish language of the XX century sixties\n",
      "  [*] porter_test......... Porter Stemmer Test Files\n",
      "  [*] ppattach............ Prepositional Phrase Attachment Corpus\n",
      "  [*] problem_reports..... Problem Report Corpus\n",
      "  [*] product_reviews_1... Product Reviews (5 Products)\n",
      "  [*] product_reviews_2... Product Reviews (9 Products)\n",
      "  [*] propbank............ Proposition Bank Corpus 1.0\n",
      "  [*] pros_cons........... Pros and Cons\n",
      "  [*] ptb................. Penn Treebank\n",
      "  [*] punkt............... Punkt Tokenizer Models\n",
      "  [*] qc.................. Experimental Data for Question Classification\n",
      "  [*] reuters............. The Reuters-21578 benchmark corpus, ApteMod\n",
      "                           version\n"
     ]
    },
    {
     "name": "stdin",
     "output_type": "stream",
     "text": [
      "Hit Enter to continue:  \n"
     ]
    },
    {
     "name": "stdout",
     "output_type": "stream",
     "text": [
      "  [*] rslp................ RSLP Stemmer (Removedor de Sufixos da Lingua\n",
      "                           Portuguesa)\n",
      "  [*] rte................. PASCAL RTE Challenges 1, 2, and 3\n",
      "  [*] sample_grammars..... Sample Grammars\n",
      "  [*] semcor.............. SemCor 3.0\n",
      "  [*] senseval............ SENSEVAL 2 Corpus: Sense Tagged Text\n",
      "  [*] sentence_polarity... Sentence Polarity Dataset v1.0\n",
      "  [*] sentiwordnet........ SentiWordNet\n",
      "  [*] shakespeare......... Shakespeare XML Corpus Sample\n",
      "  [*] sinica_treebank..... Sinica Treebank Corpus Sample\n",
      "  [*] smultron............ SMULTRON Corpus Sample\n",
      "  [*] snowball_data....... Snowball Data\n",
      "  [*] spanish_grammars.... Grammars for Spanish\n",
      "  [*] state_union......... C-Span State of the Union Address Corpus\n",
      "  [*] stopwords........... Stopwords Corpus\n",
      "  [*] subjectivity........ Subjectivity Dataset v1.0\n",
      "  [*] swadesh............. Swadesh Wordlists\n",
      "  [*] switchboard......... Switchboard Corpus Sample\n",
      "  [*] tagsets............. Help on Tagsets\n",
      "  [*] timit............... TIMIT Corpus Sample\n",
      "  [*] toolbox............. Toolbox Sample Files\n"
     ]
    },
    {
     "name": "stdin",
     "output_type": "stream",
     "text": [
      "Hit Enter to continue:  \n"
     ]
    },
    {
     "name": "stdout",
     "output_type": "stream",
     "text": [
      "  [*] treebank............ Penn Treebank Sample\n",
      "  [*] twitter_samples..... Twitter Samples\n",
      "  [*] udhr2............... Universal Declaration of Human Rights Corpus\n",
      "                           (Unicode Version)\n",
      "  [*] udhr................ Universal Declaration of Human Rights Corpus\n",
      "  [*] unicode_samples..... Unicode Samples\n",
      "  [*] universal_tagset.... Mappings to the Universal Part-of-Speech Tagset\n",
      "  [*] universal_treebanks_v20 Universal Treebanks Version 2.0\n",
      "  [*] vader_lexicon....... VADER Sentiment Lexicon\n",
      "  [ ] verbnet3............ VerbNet Lexicon, Version 3.3\n",
      "  [*] verbnet............. VerbNet Lexicon, Version 2.1\n",
      "  [*] webtext............. Web Text Corpus\n",
      "  [ ] wmt15_eval.......... Evaluation data from WMT15\n",
      "  [*] word2vec_sample..... Word2Vec Sample\n",
      "  [ ] wordnet2021......... Open English Wordnet 2021\n",
      "  [ ] wordnet2022......... Open English Wordnet 2022\n",
      "  [ ] wordnet31........... Wordnet 3.1\n",
      "  [*] wordnet............. WordNet\n",
      "  [*] wordnet_ic.......... WordNet-InfoContent\n",
      "  [*] words............... Word Lists\n",
      "  [*] ycoe................ York-Toronto-Helsinki Parsed Corpus of Old\n",
      "                           English Prose\n"
     ]
    },
    {
     "name": "stdin",
     "output_type": "stream",
     "text": [
      "Hit Enter to continue:  d wordnet2021\n"
     ]
    },
    {
     "name": "stdout",
     "output_type": "stream",
     "text": [
      "\n",
      "Collections:\n",
      "  [P] all-corpora......... All the corpora\n",
      "  [P] all-nltk............ All packages available on nltk_data gh-pages\n",
      "                           branch\n",
      "  [P] all................. All packages\n",
      "  [P] book................ Everything used in the NLTK Book\n",
      "  [P] popular............. Popular packages\n",
      "  [P] tests............... Packages for running tests\n",
      "  [ ] third-party......... Third-party data packages\n",
      "\n",
      "([*] marks installed packages; [P] marks partially installed collections)\n",
      "\n",
      "---------------------------------------------------------------------------\n",
      "    d) Download   l) List    u) Update   c) Config   h) Help   q) Quit\n",
      "---------------------------------------------------------------------------\n"
     ]
    },
    {
     "name": "stdin",
     "output_type": "stream",
     "text": [
      "Downloader>  d all-corpora\n"
     ]
    },
    {
     "name": "stderr",
     "output_type": "stream",
     "text": [
      "    Downloading collection 'all-corpora'\n",
      "       | \n",
      "       | Downloading package abc to /usr/share/nltk_data...\n",
      "       |   Package abc is already up-to-date!\n",
      "       | Downloading package alpino to /usr/share/nltk_data...\n",
      "       |   Package alpino is already up-to-date!\n",
      "       | Downloading package bcp47 to /usr/share/nltk_data...\n",
      "       | Downloading package biocreative_ppi to\n",
      "       |     /usr/share/nltk_data...\n",
      "       |   Package biocreative_ppi is already up-to-date!\n",
      "       | Downloading package brown to /usr/share/nltk_data...\n",
      "       |   Package brown is already up-to-date!\n",
      "       | Downloading package brown_tei to /usr/share/nltk_data...\n",
      "       |   Package brown_tei is already up-to-date!\n",
      "       | Downloading package cess_cat to /usr/share/nltk_data...\n",
      "       |   Package cess_cat is already up-to-date!\n",
      "       | Downloading package cess_esp to /usr/share/nltk_data...\n",
      "       |   Package cess_esp is already up-to-date!\n",
      "       | Downloading package chat80 to /usr/share/nltk_data...\n",
      "       |   Package chat80 is already up-to-date!\n",
      "       | Downloading package city_database to /usr/share/nltk_data...\n",
      "       |   Package city_database is already up-to-date!\n",
      "       | Downloading package cmudict to /usr/share/nltk_data...\n",
      "       |   Package cmudict is already up-to-date!\n",
      "       | Downloading package comparative_sentences to\n",
      "       |     /usr/share/nltk_data...\n",
      "       |   Unzipping corpora/comparative_sentences.zip.\n",
      "       | Downloading package comtrans to /usr/share/nltk_data...\n",
      "       |   Package comtrans is already up-to-date!\n",
      "       | Downloading package conll2000 to /usr/share/nltk_data...\n",
      "       |   Package conll2000 is already up-to-date!\n",
      "       | Downloading package conll2002 to /usr/share/nltk_data...\n",
      "       |   Package conll2002 is already up-to-date!\n",
      "       | Downloading package conll2007 to /usr/share/nltk_data...\n",
      "       |   Package conll2007 is already up-to-date!\n",
      "       | Downloading package crubadan to /usr/share/nltk_data...\n",
      "       |   Package crubadan is already up-to-date!\n",
      "       | Downloading package dependency_treebank to\n",
      "       |     /usr/share/nltk_data...\n",
      "       |   Package dependency_treebank is already up-to-date!\n",
      "       | Downloading package dolch to /usr/share/nltk_data...\n",
      "       |   Unzipping corpora/dolch.zip.\n",
      "       | Downloading package europarl_raw to /usr/share/nltk_data...\n",
      "       |   Package europarl_raw is already up-to-date!\n",
      "       | Downloading package extended_omw to /usr/share/nltk_data...\n",
      "       | Downloading package floresta to /usr/share/nltk_data...\n",
      "       |   Package floresta is already up-to-date!\n",
      "       | Downloading package framenet_v15 to /usr/share/nltk_data...\n",
      "       |   Unzipping corpora/framenet_v15.zip.\n",
      "       | Downloading package framenet_v17 to /usr/share/nltk_data...\n",
      "       |   Unzipping corpora/framenet_v17.zip.\n",
      "       | Downloading package gazetteers to /usr/share/nltk_data...\n",
      "       |   Package gazetteers is already up-to-date!\n",
      "       | Downloading package genesis to /usr/share/nltk_data...\n",
      "       |   Package genesis is already up-to-date!\n",
      "       | Downloading package gutenberg to /usr/share/nltk_data...\n",
      "       |   Package gutenberg is already up-to-date!\n",
      "       | Downloading package ieer to /usr/share/nltk_data...\n",
      "       |   Package ieer is already up-to-date!\n",
      "       | Downloading package inaugural to /usr/share/nltk_data...\n",
      "       |   Package inaugural is already up-to-date!\n",
      "       | Downloading package indian to /usr/share/nltk_data...\n",
      "       |   Package indian is already up-to-date!\n",
      "       | Downloading package jeita to /usr/share/nltk_data...\n",
      "       |   Package jeita is already up-to-date!\n",
      "       | Downloading package kimmo to /usr/share/nltk_data...\n",
      "       |   Package kimmo is already up-to-date!\n",
      "       | Downloading package knbc to /usr/share/nltk_data...\n",
      "       |   Package knbc is already up-to-date!\n",
      "       | Downloading package lin_thesaurus to /usr/share/nltk_data...\n",
      "       |   Package lin_thesaurus is already up-to-date!\n",
      "       | Downloading package mac_morpho to /usr/share/nltk_data...\n",
      "       |   Package mac_morpho is already up-to-date!\n",
      "       | Downloading package machado to /usr/share/nltk_data...\n",
      "       |   Package machado is already up-to-date!\n",
      "       | Downloading package masc_tagged to /usr/share/nltk_data...\n",
      "       |   Package masc_tagged is already up-to-date!\n",
      "       | Downloading package movie_reviews to /usr/share/nltk_data...\n",
      "       |   Package movie_reviews is already up-to-date!\n",
      "       | Downloading package mte_teip5 to /usr/share/nltk_data...\n",
      "       |   Package mte_teip5 is already up-to-date!\n",
      "       | Downloading package names to /usr/share/nltk_data...\n",
      "       |   Package names is already up-to-date!\n",
      "       | Downloading package nombank.1.0 to /usr/share/nltk_data...\n",
      "       | Downloading package nonbreaking_prefixes to\n",
      "       |     /usr/share/nltk_data...\n",
      "       |   Unzipping corpora/nonbreaking_prefixes.zip.\n",
      "       | Downloading package nps_chat to /usr/share/nltk_data...\n",
      "       |   Package nps_chat is already up-to-date!\n",
      "       | Downloading package omw to /usr/share/nltk_data...\n",
      "       |   Package omw is already up-to-date!\n",
      "       | Downloading package omw-1.4 to /usr/share/nltk_data...\n",
      "       | Downloading package opinion_lexicon to\n",
      "       |     /usr/share/nltk_data...\n",
      "       |   Package opinion_lexicon is already up-to-date!\n",
      "       | Downloading package panlex_swadesh to /usr/share/nltk_data...\n",
      "       | Downloading package paradigms to /usr/share/nltk_data...\n",
      "       |   Package paradigms is already up-to-date!\n",
      "       | Downloading package pe08 to /usr/share/nltk_data...\n",
      "       |   Unzipping corpora/pe08.zip.\n",
      "       | Downloading package pil to /usr/share/nltk_data...\n",
      "       |   Package pil is already up-to-date!\n",
      "       | Downloading package pl196x to /usr/share/nltk_data...\n",
      "       |   Package pl196x is already up-to-date!\n",
      "       | Downloading package ppattach to /usr/share/nltk_data...\n",
      "       |   Package ppattach is already up-to-date!\n",
      "       | Downloading package problem_reports to\n",
      "       |     /usr/share/nltk_data...\n",
      "       |   Package problem_reports is already up-to-date!\n",
      "       | Downloading package product_reviews_1 to\n",
      "       |     /usr/share/nltk_data...\n",
      "       |   Package product_reviews_1 is already up-to-date!\n",
      "       | Downloading package product_reviews_2 to\n",
      "       |     /usr/share/nltk_data...\n",
      "       |   Package product_reviews_2 is already up-to-date!\n",
      "       | Downloading package propbank to /usr/share/nltk_data...\n",
      "       |   Package propbank is already up-to-date!\n",
      "       | Downloading package pros_cons to /usr/share/nltk_data...\n",
      "       |   Package pros_cons is already up-to-date!\n",
      "       | Downloading package ptb to /usr/share/nltk_data...\n",
      "       |   Package ptb is already up-to-date!\n",
      "       | Downloading package qc to /usr/share/nltk_data...\n",
      "       |   Package qc is already up-to-date!\n",
      "       | Downloading package reuters to /usr/share/nltk_data...\n",
      "       |   Package reuters is already up-to-date!\n",
      "       | Downloading package rte to /usr/share/nltk_data...\n",
      "       |   Package rte is already up-to-date!\n",
      "       | Downloading package semcor to /usr/share/nltk_data...\n",
      "       |   Package semcor is already up-to-date!\n",
      "       | Downloading package senseval to /usr/share/nltk_data...\n",
      "       |   Package senseval is already up-to-date!\n",
      "       | Downloading package sentence_polarity to\n",
      "       |     /usr/share/nltk_data...\n",
      "       |   Package sentence_polarity is already up-to-date!\n",
      "       | Downloading package sentiwordnet to /usr/share/nltk_data...\n",
      "       |   Package sentiwordnet is already up-to-date!\n",
      "       | Downloading package shakespeare to /usr/share/nltk_data...\n",
      "       |   Package shakespeare is already up-to-date!\n",
      "       | Downloading package sinica_treebank to\n",
      "       |     /usr/share/nltk_data...\n",
      "       |   Package sinica_treebank is already up-to-date!\n",
      "       | Downloading package smultron to /usr/share/nltk_data...\n",
      "       |   Package smultron is already up-to-date!\n",
      "       | Downloading package state_union to /usr/share/nltk_data...\n",
      "       |   Package state_union is already up-to-date!\n",
      "       | Downloading package stopwords to /usr/share/nltk_data...\n",
      "       |   Package stopwords is already up-to-date!\n",
      "       | Downloading package subjectivity to /usr/share/nltk_data...\n",
      "       |   Package subjectivity is already up-to-date!\n",
      "       | Downloading package swadesh to /usr/share/nltk_data...\n",
      "       |   Package swadesh is already up-to-date!\n",
      "       | Downloading package switchboard to /usr/share/nltk_data...\n",
      "       |   Package switchboard is already up-to-date!\n",
      "       | Downloading package timit to /usr/share/nltk_data...\n",
      "       |   Package timit is already up-to-date!\n",
      "       | Downloading package toolbox to /usr/share/nltk_data...\n",
      "       |   Package toolbox is already up-to-date!\n",
      "       | Downloading package treebank to /usr/share/nltk_data...\n",
      "       |   Package treebank is already up-to-date!\n",
      "       | Downloading package twitter_samples to\n",
      "       |     /usr/share/nltk_data...\n",
      "       |   Package twitter_samples is already up-to-date!\n",
      "       | Downloading package udhr to /usr/share/nltk_data...\n",
      "       |   Package udhr is already up-to-date!\n",
      "       | Downloading package udhr2 to /usr/share/nltk_data...\n",
      "       |   Package udhr2 is already up-to-date!\n",
      "       | Downloading package unicode_samples to\n",
      "       |     /usr/share/nltk_data...\n",
      "       |   Package unicode_samples is already up-to-date!\n",
      "       | Downloading package universal_treebanks_v20 to\n",
      "       |     /usr/share/nltk_data...\n",
      "       |   Package universal_treebanks_v20 is already up-to-date!\n",
      "       | Downloading package verbnet to /usr/share/nltk_data...\n",
      "       |   Package verbnet is already up-to-date!\n",
      "       | Downloading package verbnet3 to /usr/share/nltk_data...\n",
      "       |   Unzipping corpora/verbnet3.zip.\n",
      "       | Downloading package webtext to /usr/share/nltk_data...\n",
      "       |   Package webtext is already up-to-date!\n",
      "       | Downloading package wordnet to /usr/share/nltk_data...\n",
      "       |   Package wordnet is already up-to-date!\n",
      "       | Downloading package wordnet2021 to /usr/share/nltk_data...\n",
      "       | Downloading package wordnet2022 to /usr/share/nltk_data...\n",
      "       |   Unzipping corpora/wordnet2022.zip.\n",
      "       | Downloading package wordnet31 to /usr/share/nltk_data...\n",
      "       | Downloading package wordnet_ic to /usr/share/nltk_data...\n",
      "       |   Package wordnet_ic is already up-to-date!\n",
      "       | Downloading package words to /usr/share/nltk_data...\n",
      "       |   Package words is already up-to-date!\n",
      "       | Downloading package ycoe to /usr/share/nltk_data...\n",
      "       |   Package ycoe is already up-to-date!\n",
      "       | \n",
      "     Done downloading collection all-corpora\n"
     ]
    },
    {
     "name": "stdout",
     "output_type": "stream",
     "text": [
      "\n",
      "---------------------------------------------------------------------------\n",
      "    d) Download   l) List    u) Update   c) Config   h) Help   q) Quit\n",
      "---------------------------------------------------------------------------\n"
     ]
    },
    {
     "name": "stdin",
     "output_type": "stream",
     "text": [
      "Downloader>  q\n"
     ]
    },
    {
     "name": "stderr",
     "output_type": "stream",
     "text": [
      "[nltk_data] Downloading package stopwords to /usr/share/nltk_data...\n",
      "[nltk_data]   Package stopwords is already up-to-date!\n",
      "[nltk_data] Downloading package punkt to /usr/share/nltk_data...\n",
      "[nltk_data]   Package punkt is already up-to-date!\n"
     ]
    },
    {
     "data": {
      "text/plain": [
       "True"
      ]
     },
     "execution_count": 8,
     "metadata": {},
     "output_type": "execute_result"
    }
   ],
   "source": [
    "# Загрузка стоп-слов\n",
    "nltk.download()\n",
    "nltk.download('stopwords')\n",
    "nltk.download('punkt')\n",
    "nltk.download('wordnet', quiet=True)"
   ]
  },
  {
   "cell_type": "code",
   "execution_count": 9,
   "metadata": {
    "execution": {
     "iopub.execute_input": "2023-04-04T23:42:30.375555Z",
     "iopub.status.busy": "2023-04-04T23:42:30.375059Z",
     "iopub.status.idle": "2023-04-04T23:42:32.475494Z",
     "shell.execute_reply": "2023-04-04T23:42:32.474495Z",
     "shell.execute_reply.started": "2023-04-04T23:42:30.375512Z"
    },
    "tags": []
   },
   "outputs": [
    {
     "data": {
      "text/html": [
       "<style type='text/css'>\n",
       ".datatable table.frame { margin-bottom: 0; }\n",
       ".datatable table.frame thead { border-bottom: none; }\n",
       ".datatable table.frame tr.coltypes td {  color: #FFFFFF;  line-height: 6px;  padding: 0 0.5em;}\n",
       ".datatable .bool    { background: #DDDD99; }\n",
       ".datatable .object  { background: #565656; }\n",
       ".datatable .int     { background: #5D9E5D; }\n",
       ".datatable .float   { background: #4040CC; }\n",
       ".datatable .str     { background: #CC4040; }\n",
       ".datatable .time    { background: #40CC40; }\n",
       ".datatable .row_index {  background: var(--jp-border-color3);  border-right: 1px solid var(--jp-border-color0);  color: var(--jp-ui-font-color3);  font-size: 9px;}\n",
       ".datatable .frame tbody td { text-align: left; }\n",
       ".datatable .frame tr.coltypes .row_index {  background: var(--jp-border-color0);}\n",
       ".datatable th:nth-child(2) { padding-left: 12px; }\n",
       ".datatable .hellipsis {  color: var(--jp-cell-editor-border-color);}\n",
       ".datatable .vellipsis {  background: var(--jp-layout-color0);  color: var(--jp-cell-editor-border-color);}\n",
       ".datatable .na {  color: var(--jp-cell-editor-border-color);  font-size: 80%;}\n",
       ".datatable .sp {  opacity: 0.25;}\n",
       ".datatable .footer { font-size: 9px; }\n",
       ".datatable .frame_dimensions {  background: var(--jp-border-color3);  border-top: 1px solid var(--jp-border-color0);  color: var(--jp-ui-font-color3);  display: inline-block;  opacity: 0.6;  padding: 1px 10px 1px 5px;}\n",
       "</style>\n"
      ],
      "text/plain": [
       "<IPython.core.display.HTML object>"
      ]
     },
     "metadata": {},
     "output_type": "display_data"
    }
   ],
   "source": [
    "from catboost import Pool, CatBoostRegressor\n",
    "\n",
    "from tqdm import tqdm\n",
    "import xgboost as xgb\n",
    "from xgboost import XGBRegressor\n",
    "from sklearn.model_selection import TimeSeriesSplit\n",
    "from lightgbm import LGBMRegressor\n",
    "import lightgbm as lgb\n",
    "from sklearn.linear_model import LogisticRegression\n",
    "from sklearn.metrics import  f1_score\n",
    "from sklearn.model_selection import train_test_split\n",
    "from sklearn.preprocessing import StandardScaler, LabelEncoder, OneHotEncoder\n",
    "from sklearn.model_selection import cross_val_score, KFold"
   ]
  },
  {
   "cell_type": "code",
   "execution_count": 10,
   "metadata": {
    "execution": {
     "iopub.execute_input": "2023-04-04T23:42:32.477899Z",
     "iopub.status.busy": "2023-04-04T23:42:32.477408Z",
     "iopub.status.idle": "2023-04-04T23:42:32.491715Z",
     "shell.execute_reply": "2023-04-04T23:42:32.489792Z",
     "shell.execute_reply.started": "2023-04-04T23:42:32.477861Z"
    },
    "tags": []
   },
   "outputs": [
    {
     "data": {
      "application/json": {
       "cell": {
        "!": "OSMagics",
        "HTML": "Other",
        "SVG": "Other",
        "bash": "Other",
        "bigquery": "Other",
        "capture": "ExecutionMagics",
        "debug": "ExecutionMagics",
        "file": "Other",
        "html": "DisplayMagics",
        "javascript": "DisplayMagics",
        "js": "DisplayMagics",
        "latex": "DisplayMagics",
        "markdown": "DisplayMagics",
        "perl": "Other",
        "prun": "ExecutionMagics",
        "pypy": "Other",
        "python": "Other",
        "python2": "Other",
        "python3": "Other",
        "ruby": "Other",
        "script": "ScriptMagics",
        "sh": "Other",
        "sql": "SqlMagic",
        "svg": "DisplayMagics",
        "sx": "OSMagics",
        "system": "OSMagics",
        "time": "ExecutionMagics",
        "timeit": "ExecutionMagics",
        "wandb": "WandBMagics",
        "writefile": "OSMagics"
       },
       "line": {
        "alias": "OSMagics",
        "alias_magic": "BasicMagics",
        "autoawait": "AsyncMagics",
        "autocall": "AutoMagics",
        "automagic": "AutoMagics",
        "autosave": "KernelMagics",
        "bigquery_stats": "Other",
        "bookmark": "OSMagics",
        "cat": "Other",
        "cd": "OSMagics",
        "clear": "KernelMagics",
        "colors": "BasicMagics",
        "conda": "PackagingMagics",
        "config": "ConfigMagics",
        "connect_info": "KernelMagics",
        "cp": "Other",
        "debug": "ExecutionMagics",
        "dhist": "OSMagics",
        "dirs": "OSMagics",
        "doctest_mode": "BasicMagics",
        "ed": "Other",
        "edit": "KernelMagics",
        "env": "OSMagics",
        "gui": "BasicMagics",
        "hist": "Other",
        "history": "HistoryMagics",
        "killbgscripts": "ScriptMagics",
        "ldir": "Other",
        "less": "KernelMagics",
        "lf": "Other",
        "lk": "Other",
        "ll": "Other",
        "load": "CodeMagics",
        "load_ext": "ExtensionMagics",
        "loadpy": "CodeMagics",
        "logoff": "LoggingMagics",
        "logon": "LoggingMagics",
        "logstart": "LoggingMagics",
        "logstate": "LoggingMagics",
        "logstop": "LoggingMagics",
        "ls": "Other",
        "lsmagic": "BasicMagics",
        "lx": "Other",
        "macro": "ExecutionMagics",
        "magic": "BasicMagics",
        "man": "KernelMagics",
        "matplotlib": "PylabMagics",
        "mkdir": "Other",
        "more": "KernelMagics",
        "mv": "Other",
        "notebook": "BasicMagics",
        "page": "BasicMagics",
        "pastebin": "CodeMagics",
        "pdb": "ExecutionMagics",
        "pdef": "NamespaceMagics",
        "pdoc": "NamespaceMagics",
        "pfile": "NamespaceMagics",
        "pinfo": "NamespaceMagics",
        "pinfo2": "NamespaceMagics",
        "pip": "PackagingMagics",
        "popd": "OSMagics",
        "pprint": "BasicMagics",
        "precision": "BasicMagics",
        "prun": "ExecutionMagics",
        "psearch": "NamespaceMagics",
        "psource": "NamespaceMagics",
        "pushd": "OSMagics",
        "pwd": "OSMagics",
        "pycat": "OSMagics",
        "pylab": "PylabMagics",
        "qtconsole": "KernelMagics",
        "quickref": "BasicMagics",
        "recall": "HistoryMagics",
        "rehashx": "OSMagics",
        "reload_ext": "ExtensionMagics",
        "rep": "Other",
        "rerun": "HistoryMagics",
        "reset": "NamespaceMagics",
        "reset_selective": "NamespaceMagics",
        "rm": "Other",
        "rmdir": "Other",
        "run": "ExecutionMagics",
        "save": "CodeMagics",
        "sc": "OSMagics",
        "set_env": "OSMagics",
        "sql": "SqlMagic",
        "store": "StoreMagics",
        "sx": "OSMagics",
        "system": "OSMagics",
        "tb": "ExecutionMagics",
        "time": "ExecutionMagics",
        "timeit": "ExecutionMagics",
        "unalias": "OSMagics",
        "unload_ext": "ExtensionMagics",
        "wandb": "WandBMagics",
        "who": "NamespaceMagics",
        "who_ls": "NamespaceMagics",
        "whos": "NamespaceMagics",
        "xdel": "NamespaceMagics",
        "xmode": "BasicMagics"
       }
      },
      "text/plain": [
       "Available line magics:\n",
       "%alias  %alias_magic  %autoawait  %autocall  %automagic  %autosave  %bigquery_stats  %bookmark  %cat  %cd  %clear  %colors  %conda  %config  %connect_info  %cp  %debug  %dhist  %dirs  %doctest_mode  %ed  %edit  %env  %gui  %hist  %history  %killbgscripts  %ldir  %less  %lf  %lk  %ll  %load  %load_ext  %loadpy  %logoff  %logon  %logstart  %logstate  %logstop  %ls  %lsmagic  %lx  %macro  %magic  %man  %matplotlib  %mkdir  %more  %mv  %notebook  %page  %pastebin  %pdb  %pdef  %pdoc  %pfile  %pinfo  %pinfo2  %pip  %popd  %pprint  %precision  %prun  %psearch  %psource  %pushd  %pwd  %pycat  %pylab  %qtconsole  %quickref  %recall  %rehashx  %reload_ext  %rep  %rerun  %reset  %reset_selective  %rm  %rmdir  %run  %save  %sc  %set_env  %sql  %store  %sx  %system  %tb  %time  %timeit  %unalias  %unload_ext  %wandb  %who  %who_ls  %whos  %xdel  %xmode\n",
       "\n",
       "Available cell magics:\n",
       "%%!  %%HTML  %%SVG  %%bash  %%bigquery  %%capture  %%debug  %%file  %%html  %%javascript  %%js  %%latex  %%markdown  %%perl  %%prun  %%pypy  %%python  %%python2  %%python3  %%ruby  %%script  %%sh  %%sql  %%svg  %%sx  %%system  %%time  %%timeit  %%wandb  %%writefile\n",
       "\n",
       "Automagic is ON, % prefix IS NOT needed for line magics."
      ]
     },
     "execution_count": 10,
     "metadata": {},
     "output_type": "execute_result"
    }
   ],
   "source": [
    "%lsmagic"
   ]
  },
  {
   "cell_type": "code",
   "execution_count": 11,
   "metadata": {
    "execution": {
     "iopub.execute_input": "2023-04-04T23:42:32.493479Z",
     "iopub.status.busy": "2023-04-04T23:42:32.493048Z",
     "iopub.status.idle": "2023-04-04T23:42:45.176315Z",
     "shell.execute_reply": "2023-04-04T23:42:45.174964Z",
     "shell.execute_reply.started": "2023-04-04T23:42:32.493430Z"
    },
    "tags": []
   },
   "outputs": [
    {
     "name": "stdout",
     "output_type": "stream",
     "text": [
      "Collecting langdetect\n",
      "  Downloading langdetect-1.0.9.tar.gz (981 kB)\n",
      "\u001b[2K     \u001b[90m━━━━━━━━━━━━━━━━━━━━━━━━━━━━━━━━━━━━━━\u001b[0m \u001b[32m981.5/981.5 kB\u001b[0m \u001b[31m16.1 MB/s\u001b[0m eta \u001b[36m0:00:00\u001b[0ma \u001b[36m0:00:01\u001b[0m\n",
      "\u001b[?25h  Preparing metadata (setup.py) ... \u001b[?25ldone\n",
      "\u001b[?25hRequirement already satisfied: six in /opt/conda/lib/python3.7/site-packages (from langdetect) (1.16.0)\n",
      "Building wheels for collected packages: langdetect\n",
      "  Building wheel for langdetect (setup.py) ... \u001b[?25ldone\n",
      "\u001b[?25h  Created wheel for langdetect: filename=langdetect-1.0.9-py3-none-any.whl size=993242 sha256=9bf90616c9bb7c35876b5857a894551b942c0de97087af76a2d6e4d526063932\n",
      "  Stored in directory: /root/.cache/pip/wheels/73/b2/db/0c9b9eb7a44bf85ec0b42c06ee617d0a0de66840dc0b3248d1\n",
      "Successfully built langdetect\n",
      "Installing collected packages: langdetect\n",
      "Successfully installed langdetect-1.0.9\n",
      "\u001b[33mWARNING: Running pip as the 'root' user can result in broken permissions and conflicting behaviour with the system package manager. It is recommended to use a virtual environment instead: https://pip.pypa.io/warnings/venv\u001b[0m\u001b[33m\n",
      "\u001b[0mNote: you may need to restart the kernel to use updated packages.\n"
     ]
    }
   ],
   "source": [
    "try:\n",
    "    import langdetect\n",
    "    \n",
    "except:\n",
    "    %pip install langdetect\n",
    "    import langdetect\n",
    "from langdetect import detect"
   ]
  },
  {
   "cell_type": "code",
   "execution_count": 12,
   "metadata": {
    "execution": {
     "iopub.execute_input": "2023-04-04T23:42:45.180525Z",
     "iopub.status.busy": "2023-04-04T23:42:45.180207Z",
     "iopub.status.idle": "2023-04-04T23:42:45.186335Z",
     "shell.execute_reply": "2023-04-04T23:42:45.185051Z",
     "shell.execute_reply.started": "2023-04-04T23:42:45.180490Z"
    },
    "tags": []
   },
   "outputs": [],
   "source": [
    "try:\n",
    "    import optuna\n",
    "except:\n",
    "    %pip install optuna\n",
    "    import optuna\n",
    "    from optuna.integration import LightGBMPruningCallback"
   ]
  },
  {
   "cell_type": "code",
   "execution_count": 13,
   "metadata": {
    "execution": {
     "iopub.execute_input": "2023-04-04T23:42:45.188557Z",
     "iopub.status.busy": "2023-04-04T23:42:45.188123Z",
     "iopub.status.idle": "2023-04-04T23:42:50.780153Z",
     "shell.execute_reply": "2023-04-04T23:42:50.778688Z",
     "shell.execute_reply.started": "2023-04-04T23:42:45.188512Z"
    },
    "tags": []
   },
   "outputs": [],
   "source": [
    "try:\n",
    "    data = pd.read_csv('toxic_comments.csv')\n",
    "\n",
    "except:\n",
    "    data = pd.read_csv('https://code.s3.yandex.net/datasets/toxic_comments.csv')\n"
   ]
  },
  {
   "cell_type": "code",
   "execution_count": 14,
   "metadata": {
    "execution": {
     "iopub.execute_input": "2023-04-04T23:42:50.782701Z",
     "iopub.status.busy": "2023-04-04T23:42:50.782191Z",
     "iopub.status.idle": "2023-04-04T23:42:50.817660Z",
     "shell.execute_reply": "2023-04-04T23:42:50.816571Z",
     "shell.execute_reply.started": "2023-04-04T23:42:50.782643Z"
    },
    "tags": []
   },
   "outputs": [
    {
     "data": {
      "text/plain": [
       "(20000, 3)"
      ]
     },
     "execution_count": 14,
     "metadata": {},
     "output_type": "execute_result"
    }
   ],
   "source": [
    "data = data.sample(n=20000)\n",
    "data.shape"
   ]
  },
  {
   "cell_type": "code",
   "execution_count": 15,
   "metadata": {
    "execution": {
     "iopub.execute_input": "2023-04-04T23:42:50.819294Z",
     "iopub.status.busy": "2023-04-04T23:42:50.818917Z",
     "iopub.status.idle": "2023-04-04T23:42:50.826703Z",
     "shell.execute_reply": "2023-04-04T23:42:50.823961Z",
     "shell.execute_reply.started": "2023-04-04T23:42:50.819256Z"
    },
    "tags": []
   },
   "outputs": [],
   "source": [
    "# зададим константы\n",
    "NAME_DATA = 'taxi.csv'\n",
    "RANDOM_STATE = 6568"
   ]
  },
  {
   "cell_type": "code",
   "execution_count": 16,
   "metadata": {
    "execution": {
     "iopub.execute_input": "2023-04-04T23:42:50.831154Z",
     "iopub.status.busy": "2023-04-04T23:42:50.830831Z",
     "iopub.status.idle": "2023-04-04T23:42:50.843734Z",
     "shell.execute_reply": "2023-04-04T23:42:50.842658Z",
     "shell.execute_reply.started": "2023-04-04T23:42:50.831127Z"
    },
    "tags": []
   },
   "outputs": [],
   "source": [
    "def isna_count_procent(data, name):\n",
    "    '''\n",
    "    Создадим таблицу с пропусками в  дата сете\n",
    "    Всего три столбца \n",
    "    1. процентное отношение пропусков к длине\n",
    "    2. количество пропусков в единицах\n",
    "    3. тип\n",
    "    Далее блок выводит всю доступную информацию о данных \n",
    "    Несколько первых строк\n",
    "    Описание числовых признаков\n",
    "    Описание категориальных признаков\n",
    "    \n",
    "    '''\n",
    "    pd.set_option('display.max_rows', None)\n",
    "    isna_columns = data.isna().sum() > 0\n",
    "    type_ = pd.DataFrame(data[data.isna().sum()[isna_columns].index.tolist()].dtypes)[0]\n",
    "    isna_columns = pd.DataFrame([data.isna().sum()[isna_columns]/data.shape[0], data.isna().sum()[isna_columns]]).T\n",
    "    isna_columns = isna_columns.rename(columns={0: 'procent', 1: 'count'})\n",
    "    # isna_columns['type'] = type_[0]\n",
    "    isna_columns['count'] = isna_columns['count'].map('{:,.2f}'.format)\n",
    "    isna_columns['procent'] = isna_columns['procent'].map('{:,.2%}'.format)\n",
    "    isna_columns = isna_columns.sort_values('procent', ascending=False)\n",
    "    # блок показывае всё о данных\n",
    "    display(data.head())\n",
    "    print('#'*55)\n",
    "    print()\n",
    "    display(data.describe(include=np.number))\n",
    "    print()\n",
    "    display(data.describe(include=np.object_))\n",
    "    print('#'*55)\n",
    "    print()\n",
    "    data.info()\n",
    "    print('#'*55)\n",
    "    isna = data.isna().sum().sum()\n",
    "    isna_procent = len(isna_columns)/data.shape[1]\n",
    "    s = data.duplicated().sum()\n",
    "    print(f'Количество дубликатов в данных  равно {s}')\n",
    "    print()\n",
    "    print(f'Всего пропусков в {name} {isna:,} шт. в {len(isna_columns)} столбцах')\n",
    "    print(f'В процентном отношении {isna_procent:.2%} от {data.shape[1]:,} признаков')\n",
    "  \n",
    "    print()\n",
    "    display(isna_columns)\n",
    "    return isna_columns"
   ]
  },
  {
   "cell_type": "code",
   "execution_count": 17,
   "metadata": {
    "execution": {
     "iopub.execute_input": "2023-04-04T23:42:50.846953Z",
     "iopub.status.busy": "2023-04-04T23:42:50.846647Z",
     "iopub.status.idle": "2023-04-04T23:42:50.982245Z",
     "shell.execute_reply": "2023-04-04T23:42:50.981000Z",
     "shell.execute_reply.started": "2023-04-04T23:42:50.846926Z"
    },
    "tags": []
   },
   "outputs": [
    {
     "data": {
      "text/html": [
       "<div>\n",
       "<style scoped>\n",
       "    .dataframe tbody tr th:only-of-type {\n",
       "        vertical-align: middle;\n",
       "    }\n",
       "\n",
       "    .dataframe tbody tr th {\n",
       "        vertical-align: top;\n",
       "    }\n",
       "\n",
       "    .dataframe thead th {\n",
       "        text-align: right;\n",
       "    }\n",
       "</style>\n",
       "<table border=\"1\" class=\"dataframe\">\n",
       "  <thead>\n",
       "    <tr style=\"text-align: right;\">\n",
       "      <th></th>\n",
       "      <th>Unnamed: 0</th>\n",
       "      <th>text</th>\n",
       "      <th>toxic</th>\n",
       "    </tr>\n",
       "  </thead>\n",
       "  <tbody>\n",
       "    <tr>\n",
       "      <th>65770</th>\n",
       "      <td>65837</td>\n",
       "      <td>New C&amp;C; template dispute \\n\\nSeems there is a...</td>\n",
       "      <td>0</td>\n",
       "    </tr>\n",
       "    <tr>\n",
       "      <th>103689</th>\n",
       "      <td>103786</td>\n",
       "      <td>SkepticalRaptor, Wikipedia Editor and Administ...</td>\n",
       "      <td>0</td>\n",
       "    </tr>\n",
       "    <tr>\n",
       "      <th>10399</th>\n",
       "      <td>10412</td>\n",
       "      <td>Defending the 1905 French Law of Separation of...</td>\n",
       "      <td>0</td>\n",
       "    </tr>\n",
       "    <tr>\n",
       "      <th>131860</th>\n",
       "      <td>131996</td>\n",
       "      <td>YOU SUCK YOU SUCK YOU SUCK YOU SUCK YOU SUCK Y...</td>\n",
       "      <td>1</td>\n",
       "    </tr>\n",
       "    <tr>\n",
       "      <th>36312</th>\n",
       "      <td>36354</td>\n",
       "      <td>\"\\n\\n I've seen usage to suggest that a demons...</td>\n",
       "      <td>0</td>\n",
       "    </tr>\n",
       "  </tbody>\n",
       "</table>\n",
       "</div>"
      ],
      "text/plain": [
       "        Unnamed: 0                                               text  toxic\n",
       "65770        65837  New C&C; template dispute \\n\\nSeems there is a...      0\n",
       "103689      103786  SkepticalRaptor, Wikipedia Editor and Administ...      0\n",
       "10399        10412  Defending the 1905 French Law of Separation of...      0\n",
       "131860      131996  YOU SUCK YOU SUCK YOU SUCK YOU SUCK YOU SUCK Y...      1\n",
       "36312        36354  \"\\n\\n I've seen usage to suggest that a demons...      0"
      ]
     },
     "metadata": {},
     "output_type": "display_data"
    },
    {
     "name": "stdout",
     "output_type": "stream",
     "text": [
      "#######################################################\n",
      "\n"
     ]
    },
    {
     "data": {
      "text/html": [
       "<div>\n",
       "<style scoped>\n",
       "    .dataframe tbody tr th:only-of-type {\n",
       "        vertical-align: middle;\n",
       "    }\n",
       "\n",
       "    .dataframe tbody tr th {\n",
       "        vertical-align: top;\n",
       "    }\n",
       "\n",
       "    .dataframe thead th {\n",
       "        text-align: right;\n",
       "    }\n",
       "</style>\n",
       "<table border=\"1\" class=\"dataframe\">\n",
       "  <thead>\n",
       "    <tr style=\"text-align: right;\">\n",
       "      <th></th>\n",
       "      <th>Unnamed: 0</th>\n",
       "      <th>toxic</th>\n",
       "    </tr>\n",
       "  </thead>\n",
       "  <tbody>\n",
       "    <tr>\n",
       "      <th>count</th>\n",
       "      <td>20000.00000</td>\n",
       "      <td>20000.000000</td>\n",
       "    </tr>\n",
       "    <tr>\n",
       "      <th>mean</th>\n",
       "      <td>79898.72265</td>\n",
       "      <td>0.101200</td>\n",
       "    </tr>\n",
       "    <tr>\n",
       "      <th>std</th>\n",
       "      <td>46355.51394</td>\n",
       "      <td>0.301601</td>\n",
       "    </tr>\n",
       "    <tr>\n",
       "      <th>min</th>\n",
       "      <td>8.00000</td>\n",
       "      <td>0.000000</td>\n",
       "    </tr>\n",
       "    <tr>\n",
       "      <th>25%</th>\n",
       "      <td>39492.75000</td>\n",
       "      <td>0.000000</td>\n",
       "    </tr>\n",
       "    <tr>\n",
       "      <th>50%</th>\n",
       "      <td>79806.50000</td>\n",
       "      <td>0.000000</td>\n",
       "    </tr>\n",
       "    <tr>\n",
       "      <th>75%</th>\n",
       "      <td>120484.50000</td>\n",
       "      <td>0.000000</td>\n",
       "    </tr>\n",
       "    <tr>\n",
       "      <th>max</th>\n",
       "      <td>159430.00000</td>\n",
       "      <td>1.000000</td>\n",
       "    </tr>\n",
       "  </tbody>\n",
       "</table>\n",
       "</div>"
      ],
      "text/plain": [
       "         Unnamed: 0         toxic\n",
       "count   20000.00000  20000.000000\n",
       "mean    79898.72265      0.101200\n",
       "std     46355.51394      0.301601\n",
       "min         8.00000      0.000000\n",
       "25%     39492.75000      0.000000\n",
       "50%     79806.50000      0.000000\n",
       "75%    120484.50000      0.000000\n",
       "max    159430.00000      1.000000"
      ]
     },
     "metadata": {},
     "output_type": "display_data"
    },
    {
     "name": "stdout",
     "output_type": "stream",
     "text": [
      "\n"
     ]
    },
    {
     "data": {
      "text/html": [
       "<div>\n",
       "<style scoped>\n",
       "    .dataframe tbody tr th:only-of-type {\n",
       "        vertical-align: middle;\n",
       "    }\n",
       "\n",
       "    .dataframe tbody tr th {\n",
       "        vertical-align: top;\n",
       "    }\n",
       "\n",
       "    .dataframe thead th {\n",
       "        text-align: right;\n",
       "    }\n",
       "</style>\n",
       "<table border=\"1\" class=\"dataframe\">\n",
       "  <thead>\n",
       "    <tr style=\"text-align: right;\">\n",
       "      <th></th>\n",
       "      <th>text</th>\n",
       "    </tr>\n",
       "  </thead>\n",
       "  <tbody>\n",
       "    <tr>\n",
       "      <th>count</th>\n",
       "      <td>20000</td>\n",
       "    </tr>\n",
       "    <tr>\n",
       "      <th>unique</th>\n",
       "      <td>20000</td>\n",
       "    </tr>\n",
       "    <tr>\n",
       "      <th>top</th>\n",
       "      <td>New C&amp;C; template dispute \\n\\nSeems there is a...</td>\n",
       "    </tr>\n",
       "    <tr>\n",
       "      <th>freq</th>\n",
       "      <td>1</td>\n",
       "    </tr>\n",
       "  </tbody>\n",
       "</table>\n",
       "</div>"
      ],
      "text/plain": [
       "                                                     text\n",
       "count                                               20000\n",
       "unique                                              20000\n",
       "top     New C&C; template dispute \\n\\nSeems there is a...\n",
       "freq                                                    1"
      ]
     },
     "metadata": {},
     "output_type": "display_data"
    },
    {
     "name": "stdout",
     "output_type": "stream",
     "text": [
      "#######################################################\n",
      "\n",
      "<class 'pandas.core.frame.DataFrame'>\n",
      "Int64Index: 20000 entries, 65770 to 84273\n",
      "Data columns (total 3 columns):\n",
      " #   Column      Non-Null Count  Dtype \n",
      "---  ------      --------------  ----- \n",
      " 0   Unnamed: 0  20000 non-null  int64 \n",
      " 1   text        20000 non-null  object\n",
      " 2   toxic       20000 non-null  int64 \n",
      "dtypes: int64(2), object(1)\n",
      "memory usage: 625.0+ KB\n",
      "#######################################################\n",
      "Количество дубликатов в данных  равно 0\n",
      "\n",
      "Всего пропусков в taxi.csv 0 шт. в 0 столбцах\n",
      "В процентном отношении 0.00% от 3 признаков\n",
      "\n"
     ]
    },
    {
     "data": {
      "text/html": [
       "<div>\n",
       "<style scoped>\n",
       "    .dataframe tbody tr th:only-of-type {\n",
       "        vertical-align: middle;\n",
       "    }\n",
       "\n",
       "    .dataframe tbody tr th {\n",
       "        vertical-align: top;\n",
       "    }\n",
       "\n",
       "    .dataframe thead th {\n",
       "        text-align: right;\n",
       "    }\n",
       "</style>\n",
       "<table border=\"1\" class=\"dataframe\">\n",
       "  <thead>\n",
       "    <tr style=\"text-align: right;\">\n",
       "      <th></th>\n",
       "      <th>procent</th>\n",
       "      <th>count</th>\n",
       "    </tr>\n",
       "  </thead>\n",
       "  <tbody>\n",
       "  </tbody>\n",
       "</table>\n",
       "</div>"
      ],
      "text/plain": [
       "Empty DataFrame\n",
       "Columns: [procent, count]\n",
       "Index: []"
      ]
     },
     "metadata": {},
     "output_type": "display_data"
    },
    {
     "data": {
      "text/html": [
       "<div>\n",
       "<style scoped>\n",
       "    .dataframe tbody tr th:only-of-type {\n",
       "        vertical-align: middle;\n",
       "    }\n",
       "\n",
       "    .dataframe tbody tr th {\n",
       "        vertical-align: top;\n",
       "    }\n",
       "\n",
       "    .dataframe thead th {\n",
       "        text-align: right;\n",
       "    }\n",
       "</style>\n",
       "<table border=\"1\" class=\"dataframe\">\n",
       "  <thead>\n",
       "    <tr style=\"text-align: right;\">\n",
       "      <th></th>\n",
       "      <th>procent</th>\n",
       "      <th>count</th>\n",
       "    </tr>\n",
       "  </thead>\n",
       "  <tbody>\n",
       "  </tbody>\n",
       "</table>\n",
       "</div>"
      ],
      "text/plain": [
       "Empty DataFrame\n",
       "Columns: [procent, count]\n",
       "Index: []"
      ]
     },
     "execution_count": 17,
     "metadata": {},
     "output_type": "execute_result"
    }
   ],
   "source": [
    "isna_count_procent(data, NAME_DATA)"
   ]
  },
  {
   "cell_type": "markdown",
   "metadata": {},
   "source": [
    "В данных два столбца которые мы ожидали увидеть и <br>\n",
    "Третий столбец о которм заказчик нас не предупредил<br>\n",
    "Проверим является ли столбец `Unnamed: 0` индексом"
   ]
  },
  {
   "cell_type": "code",
   "execution_count": 18,
   "metadata": {
    "execution": {
     "iopub.execute_input": "2023-04-04T23:42:50.984687Z",
     "iopub.status.busy": "2023-04-04T23:42:50.984216Z",
     "iopub.status.idle": "2023-04-04T23:42:50.992312Z",
     "shell.execute_reply": "2023-04-04T23:42:50.990927Z",
     "shell.execute_reply.started": "2023-04-04T23:42:50.984643Z"
    },
    "tags": []
   },
   "outputs": [
    {
     "name": "stdout",
     "output_type": "stream",
     "text": [
      "Столбец не является непрерывным.\n"
     ]
    }
   ],
   "source": [
    "column_array = np.array(data['Unnamed: 0'])\n",
    "\n",
    "# Вычисление разностей между элементами массива\n",
    "diff_array = np.diff(column_array)\n",
    "\n",
    "# Проверка на непрерывность\n",
    "if np.all(diff_array == 1):\n",
    "    print(\"Столбец является непрерывным.\")\n",
    "else:\n",
    "    print(\"Столбец не является непрерывным.\")"
   ]
  },
  {
   "cell_type": "markdown",
   "metadata": {},
   "source": [
    "Информация в столбце `Unnamed: 0` не понятна ценности для выполнения задания не составляет<br>\n",
    "Удалим этот столбец"
   ]
  },
  {
   "cell_type": "code",
   "execution_count": 19,
   "metadata": {
    "execution": {
     "iopub.execute_input": "2023-04-04T23:42:50.995126Z",
     "iopub.status.busy": "2023-04-04T23:42:50.994274Z",
     "iopub.status.idle": "2023-04-04T23:42:51.005321Z",
     "shell.execute_reply": "2023-04-04T23:42:51.004151Z",
     "shell.execute_reply.started": "2023-04-04T23:42:50.995086Z"
    },
    "tags": []
   },
   "outputs": [],
   "source": [
    "data = data.drop(columns='Unnamed: 0', axis=1)"
   ]
  },
  {
   "cell_type": "markdown",
   "metadata": {},
   "source": [
    "Построим график столбца `toxic` посмотрим на распределение"
   ]
  },
  {
   "cell_type": "code",
   "execution_count": 20,
   "metadata": {
    "execution": {
     "iopub.execute_input": "2023-04-04T23:42:51.007402Z",
     "iopub.status.busy": "2023-04-04T23:42:51.006837Z",
     "iopub.status.idle": "2023-04-04T23:42:51.250290Z",
     "shell.execute_reply": "2023-04-04T23:42:51.248690Z",
     "shell.execute_reply.started": "2023-04-04T23:42:51.007360Z"
    },
    "tags": []
   },
   "outputs": [
    {
     "data": {
      "image/png": "[encoded data removed]",
      "text/plain": [
       "<Figure size 800x600 with 1 Axes>"
      ]
     },
     "metadata": {},
     "output_type": "display_data"
    }
   ],
   "source": [
    "fig, (ax1) = plt.subplots( figsize=(8,6));\n",
    "\n",
    "data['toxic'].value_counts().plot.pie( labels=None, ylabel='', autopct='%1.2f%%', legend=True, ax=ax1);\n",
    "ax1.legend(['положительный', 'отрицательный'],loc='lower left');\n",
    "ax1.set_title('Количество положительных и отрицательных текстов');"
   ]
  },
  {
   "cell_type": "markdown",
   "metadata": {},
   "source": [
    "Целевой признак имеет большую диспропорцию, при разбиении на обучающую и проверочную выборки обязательно <br>\n",
    "Выполнить балансировку классов"
   ]
  },
  {
   "cell_type": "code",
   "execution_count": 37,
   "metadata": {
    "execution": {
     "iopub.execute_input": "2023-04-05T00:01:44.547256Z",
     "iopub.status.busy": "2023-04-05T00:01:44.546820Z",
     "iopub.status.idle": "2023-04-05T00:02:36.779119Z",
     "shell.execute_reply": "2023-04-05T00:02:36.777926Z",
     "shell.execute_reply.started": "2023-04-05T00:01:44.547220Z"
    },
    "tags": []
   },
   "outputs": [
    {
     "name": "stderr",
     "output_type": "stream",
     "text": [
      "Token indices sequence length is longer than the specified maximum sequence length for this model (682 > 512). Running this sequence through the model will result in indexing errors\n"
     ]
    },
    {
     "name": "stdout",
     "output_type": "stream",
     "text": [
      "CPU times: user 51.8 s, sys: 73.6 ms, total: 51.9 s\n",
      "Wall time: 52.2 s\n"
     ]
    }
   ],
   "source": [
    "%%time\n",
    "# Инициализация лемматизатора и токенайзера\n",
    "\n",
    "lemmatizer = WordNetLemmatizer()\n",
    "tokenizer = BertTokenizer.from_pretrained('unitary/toxic-bert')\n",
    "\n",
    "\n",
    "# Токенизация и лемматизация каждого текста\n",
    "# data['processed_text'] = data['text'].apply(lambda x: ' '.join([lemmatizer.lemmatize(word) for word in word_tokenize(x.lower()) if word.isalpha()]))\n",
    "\n",
    "# input_ids = [tokenizer.encode(text, add_special_tokens=True) for text in data['processed_text']]\n",
    "# input_ids = data['processed_text'].map(lambda text: tokenizer.encode(text, add_special_tokens=True))\n",
    "\n",
    "data['processed_textrr'] = data['text'].map(lambda x: ' '.join([word.lower() for word in word_tokenize(x) if word.isalnum()]))\n",
    "input_ids = data['processed_textrr'].map(lambda text: tokenizer.encode(text, add_special_tokens=True))"
   ]
  },
  {
   "cell_type": "code",
   "execution_count": 38,
   "metadata": {
    "execution": {
     "iopub.execute_input": "2023-04-05T00:02:41.966837Z",
     "iopub.status.busy": "2023-04-05T00:02:41.966421Z",
     "iopub.status.idle": "2023-04-05T00:02:42.590208Z",
     "shell.execute_reply": "2023-04-05T00:02:42.589089Z",
     "shell.execute_reply.started": "2023-04-05T00:02:41.966801Z"
    },
    "tags": []
   },
   "outputs": [
    {
     "name": "stdout",
     "output_type": "stream",
     "text": [
      "CPU times: user 236 ms, sys: 375 ms, total: 611 ms\n",
      "Wall time: 615 ms\n"
     ]
    }
   ],
   "source": [
    "%%time\n",
    "\n",
    "maxlen = max(len(x) for x in input_ids)\n",
    "padded_input = pad_sequences(input_ids, maxlen=maxlen, padding='post', truncating='post')\n",
    "output_array =torch.LongTensor(padded_input)"
   ]
  },
  {
   "cell_type": "code",
   "execution_count": 39,
   "metadata": {
    "execution": {
     "iopub.execute_input": "2023-04-05T00:02:46.308712Z",
     "iopub.status.busy": "2023-04-05T00:02:46.307924Z",
     "iopub.status.idle": "2023-04-05T00:02:46.316464Z",
     "shell.execute_reply": "2023-04-05T00:02:46.315047Z",
     "shell.execute_reply.started": "2023-04-05T00:02:46.308659Z"
    }
   },
   "outputs": [
    {
     "data": {
      "text/plain": [
       "torch.Size([20000, 2275])"
      ]
     },
     "execution_count": 39,
     "metadata": {},
     "output_type": "execute_result"
    }
   ],
   "source": [
    "output_array.size()"
   ]
  },
  {
   "cell_type": "code",
   "execution_count": 40,
   "metadata": {
    "execution": {
     "iopub.execute_input": "2023-04-05T00:02:49.390385Z",
     "iopub.status.busy": "2023-04-05T00:02:49.389788Z",
     "iopub.status.idle": "2023-04-05T00:14:50.143639Z",
     "shell.execute_reply": "2023-04-05T00:14:50.142337Z",
     "shell.execute_reply.started": "2023-04-05T00:02:49.390347Z"
    },
    "tags": []
   },
   "outputs": [
    {
     "name": "stdout",
     "output_type": "stream",
     "text": [
      "Device being used: cuda\n"
     ]
    },
    {
     "name": "stderr",
     "output_type": "stream",
     "text": [
      "Using cache found in /root/.cache/torch/hub/unitaryai_detoxify_master\n",
      "100%|██████████| 20000/20000 [11:58<00:00, 27.84it/s]\n"
     ]
    }
   ],
   "source": [
    "device = torch.device(\"cuda\" if torch.cuda.is_available() else \"cpu\")\n",
    "print(f\"Device being used: {device}\")\n",
    "\n",
    "# Делим исходный тензор на батчи по 5\n",
    "batch_size = 200\n",
    "input_batches = torch.chunk(output_array, output_array.size()[0] // batch_size)\n",
    "\n",
    "# Создаем модель и переносим её на нужный device\n",
    "model = torch.hub.load('unitaryai/detoxify','toxic_bert').to(device)\n",
    "\n",
    "# Обрабатываем каждый батч\n",
    "output_batches = []\n",
    "with torch.no_grad(), tqdm(total=len(output_array)) as progress_bar:\n",
    "    for batch in input_batches:\n",
    "        batch = batch.view(batch_size, -1)[:,:512].to(device)\n",
    "        # Применяем модель к батчу\n",
    "        output = model(batch)\n",
    "        # Сохраняем результаты модели\n",
    "        output_batches.append(output.logits.to(\"cpu\"))\n",
    "        progress_bar.update(batch_size)\n",
    "\n",
    "# Собираем результаты в исходный тензор\n",
    "output_tensor = torch.cat(output_batches, dim=0)"
   ]
  },
  {
   "cell_type": "code",
   "execution_count": 41,
   "metadata": {
    "execution": {
     "iopub.execute_input": "2023-04-05T00:14:55.279061Z",
     "iopub.status.busy": "2023-04-05T00:14:55.278589Z",
     "iopub.status.idle": "2023-04-05T00:14:55.299588Z",
     "shell.execute_reply": "2023-04-05T00:14:55.298635Z",
     "shell.execute_reply.started": "2023-04-05T00:14:55.279024Z"
    }
   },
   "outputs": [],
   "source": [
    "output_tensor.size()\n",
    "numpy_array = output_tensor.numpy()\n",
    "\n",
    "# # создаем датафрейм из numpy массива\n",
    "features = pd.DataFrame(data=numpy_array)\n",
    "data = data.reset_index(drop=True)"
   ]
  },
  {
   "cell_type": "code",
   "execution_count": 42,
   "metadata": {
    "execution": {
     "iopub.execute_input": "2023-04-05T00:14:56.637963Z",
     "iopub.status.busy": "2023-04-05T00:14:56.637234Z",
     "iopub.status.idle": "2023-04-05T00:14:56.652792Z",
     "shell.execute_reply": "2023-04-05T00:14:56.651651Z",
     "shell.execute_reply.started": "2023-04-05T00:14:56.637923Z"
    }
   },
   "outputs": [],
   "source": [
    "X_train, X_test, y_train, y_test = train_test_split(features, data['toxic'], test_size=0.3, stratify=data['toxic'])\n",
    "\n"
   ]
  },
  {
   "cell_type": "markdown",
   "metadata": {},
   "source": [
    "### LogisticRegression"
   ]
  },
  {
   "cell_type": "code",
   "execution_count": 43,
   "metadata": {
    "execution": {
     "iopub.execute_input": "2023-04-05T00:15:04.719868Z",
     "iopub.status.busy": "2023-04-05T00:15:04.718932Z",
     "iopub.status.idle": "2023-04-05T00:15:07.893073Z",
     "shell.execute_reply": "2023-04-05T00:15:07.891701Z",
     "shell.execute_reply.started": "2023-04-05T00:15:04.719816Z"
    },
    "tags": []
   },
   "outputs": [
    {
     "name": "stderr",
     "output_type": "stream",
     "text": [
      "\u001b[32m[I 2023-04-05 00:15:04,727]\u001b[0m A new study created in memory with name: no-name-b81beac4-88eb-4241-9c53-503a30a75dcc\u001b[0m\n",
      "\u001b[32m[I 2023-04-05 00:15:04,787]\u001b[0m Trial 0 finished with value: 0.02685002008061997 and parameters: {'penalty': 'l1', 'C': 2.3633403170188155e-05}. Best is trial 0 with value: 0.02685002008061997.\u001b[0m\n",
      "\u001b[32m[I 2023-04-05 00:15:04,878]\u001b[0m Trial 1 finished with value: 0.35006250097252545 and parameters: {'penalty': 'l1', 'C': 0.0002101151723749519}. Best is trial 1 with value: 0.35006250097252545.\u001b[0m\n",
      "\u001b[32m[I 2023-04-05 00:15:04,945]\u001b[0m Trial 2 finished with value: 0.02685002008061997 and parameters: {'penalty': 'l1', 'C': 2.6565255767730075e-05}. Best is trial 1 with value: 0.35006250097252545.\u001b[0m\n",
      "\u001b[32m[I 2023-04-05 00:15:05,085]\u001b[0m Trial 3 finished with value: 0.7377509415840777 and parameters: {'penalty': 'l2', 'C': 0.015504929021133713}. Best is trial 3 with value: 0.7377509415840777.\u001b[0m\n",
      "\u001b[32m[I 2023-04-05 00:15:05,197]\u001b[0m Trial 4 finished with value: 0.482445082979051 and parameters: {'penalty': 'l2', 'C': 0.00019645114241116011}. Best is trial 3 with value: 0.7377509415840777.\u001b[0m\n",
      "\u001b[32m[I 2023-04-05 00:15:05,381]\u001b[0m Trial 5 finished with value: 0.5589843454528334 and parameters: {'penalty': 'l1', 'C': 0.0013487626496044636}. Best is trial 3 with value: 0.7377509415840777.\u001b[0m\n",
      "\u001b[32m[I 2023-04-05 00:15:05,562]\u001b[0m Trial 6 finished with value: 0.76701646567718 and parameters: {'penalty': 'l2', 'C': 68.74308623895126}. Best is trial 6 with value: 0.76701646567718.\u001b[0m\n",
      "\u001b[32m[I 2023-04-05 00:15:05,691]\u001b[0m Trial 7 finished with value: 0.645450328456024 and parameters: {'penalty': 'l2', 'C': 0.0010912869883120864}. Best is trial 6 with value: 0.76701646567718.\u001b[0m\n",
      "\u001b[32m[I 2023-04-05 00:15:05,796]\u001b[0m Trial 8 finished with value: 0.35006250097252545 and parameters: {'penalty': 'l1', 'C': 0.0002639243554355165}. Best is trial 6 with value: 0.76701646567718.\u001b[0m\n",
      "\u001b[32m[I 2023-04-05 00:15:05,891]\u001b[0m Trial 9 finished with value: 0.13355901890648952 and parameters: {'penalty': 'l2', 'C': 2.114476686659648e-05}. Best is trial 6 with value: 0.76701646567718.\u001b[0m\n",
      "\u001b[32m[I 2023-04-05 00:15:06,090]\u001b[0m Trial 10 finished with value: 0.76701646567718 and parameters: {'penalty': 'l2', 'C': 22.968234130607996}. Best is trial 6 with value: 0.76701646567718.\u001b[0m\n",
      "\u001b[32m[I 2023-04-05 00:15:06,293]\u001b[0m Trial 11 finished with value: 0.76701646567718 and parameters: {'penalty': 'l2', 'C': 93.3199814840405}. Best is trial 6 with value: 0.76701646567718.\u001b[0m\n",
      "\u001b[32m[I 2023-04-05 00:15:06,494]\u001b[0m Trial 12 finished with value: 0.76701646567718 and parameters: {'penalty': 'l2', 'C': 64.55134060272547}. Best is trial 6 with value: 0.76701646567718.\u001b[0m\n",
      "\u001b[32m[I 2023-04-05 00:15:06,691]\u001b[0m Trial 13 finished with value: 0.7669780795271761 and parameters: {'penalty': 'l2', 'C': 3.1694327517847216}. Best is trial 6 with value: 0.76701646567718.\u001b[0m\n",
      "\u001b[32m[I 2023-04-05 00:15:06,889]\u001b[0m Trial 14 finished with value: 0.7669780795271761 and parameters: {'penalty': 'l2', 'C': 2.29989793795547}. Best is trial 6 with value: 0.76701646567718.\u001b[0m\n",
      "\u001b[32m[I 2023-04-05 00:15:07,088]\u001b[0m Trial 15 finished with value: 0.7665752868311504 and parameters: {'penalty': 'l2', 'C': 5.211412850859095}. Best is trial 6 with value: 0.76701646567718.\u001b[0m\n",
      "\u001b[32m[I 2023-04-05 00:15:07,277]\u001b[0m Trial 16 finished with value: 0.764803736554067 and parameters: {'penalty': 'l2', 'C': 0.3863149433044998}. Best is trial 6 with value: 0.76701646567718.\u001b[0m\n",
      "\u001b[32m[I 2023-04-05 00:15:07,488]\u001b[0m Trial 17 finished with value: 0.76701646567718 and parameters: {'penalty': 'l2', 'C': 15.626671985729232}. Best is trial 6 with value: 0.76701646567718.\u001b[0m\n",
      "\u001b[32m[I 2023-04-05 00:15:07,686]\u001b[0m Trial 18 finished with value: 0.7651406771578444 and parameters: {'penalty': 'l2', 'C': 0.2975903108566838}. Best is trial 6 with value: 0.76701646567718.\u001b[0m\n",
      "\u001b[32m[I 2023-04-05 00:15:07,887]\u001b[0m Trial 19 finished with value: 0.76701646567718 and parameters: {'penalty': 'l2', 'C': 23.602080863063854}. Best is trial 6 with value: 0.76701646567718.\u001b[0m\n"
     ]
    }
   ],
   "source": [
    "\n",
    "def objective(trial):\n",
    "  \n",
    "    # Определение гиперпараметров, которые нужно подобрать\n",
    "    penalty = trial.suggest_categorical('penalty', ['l1', 'l2'])\n",
    "    C = trial.suggest_loguniform('C', 1e-5, 100)\n",
    "\n",
    "    # Создание модели с заданными гиперпараметрами\n",
    "    clf = LogisticRegression(penalty=penalty, C=C, solver='liblinear', max_iter=10000)\n",
    "\n",
    "    # Кросс-валидация модели с использованием метрики f1_score\n",
    "    kf = KFold(n_splits=2, shuffle=True, random_state=12)\n",
    "    scores = []\n",
    "    for train_idx, val_idx in kf.split(X_train):\n",
    "        X_tra, y_tra = X_train.iloc[train_idx], y_train.iloc[train_idx]\n",
    "        X_val, y_val = X_train.iloc[val_idx], y_train.iloc[val_idx]\n",
    "        clf.fit(X_train, y_train)\n",
    "        y_pred = clf.predict(X_val)\n",
    "        scores.append(f1_score(y_val, y_pred))\n",
    "\n",
    "    # Оптимизация целевой метрики (f1_score)\n",
    "    return np.mean(scores)\n",
    "\n",
    "# Создание объекта Optuna и запуск оптимизации\n",
    "\n",
    "LR_study = optuna.create_study(direction='maximize')\n",
    "LR_study.optimize(objective, n_trials=20, show_progress_bar=False)\n",
    "\n",
    "# Получение лучших параметров и модели\n",
    "LR_best_params = LR_study.best_params\n",
    "LR_best_model = LogisticRegression(penalty=LR_best_params['penalty'], C=LR_best_params['C'], solver='liblinear', max_iter=10000)\n",
    "LR_best_score = LR_study.best_value"
   ]
  },
  {
   "cell_type": "code",
   "execution_count": 44,
   "metadata": {
    "execution": {
     "iopub.execute_input": "2023-04-05T00:15:17.410577Z",
     "iopub.status.busy": "2023-04-05T00:15:17.409859Z",
     "iopub.status.idle": "2023-04-05T00:15:17.417888Z",
     "shell.execute_reply": "2023-04-05T00:15:17.416533Z",
     "shell.execute_reply.started": "2023-04-05T00:15:17.410538Z"
    }
   },
   "outputs": [
    {
     "data": {
      "text/plain": [
       "0.76701646567718"
      ]
     },
     "execution_count": 44,
     "metadata": {},
     "output_type": "execute_result"
    }
   ],
   "source": [
    "LR_best_score"
   ]
  },
  {
   "cell_type": "code",
   "execution_count": 45,
   "metadata": {
    "execution": {
     "iopub.execute_input": "2023-04-05T00:15:20.190694Z",
     "iopub.status.busy": "2023-04-05T00:15:20.189726Z",
     "iopub.status.idle": "2023-04-05T00:15:20.249131Z",
     "shell.execute_reply": "2023-04-05T00:15:20.247633Z",
     "shell.execute_reply.started": "2023-04-05T00:15:20.190641Z"
    }
   },
   "outputs": [
    {
     "data": {
      "text/plain": [
       "0.7544581618655694"
      ]
     },
     "execution_count": 45,
     "metadata": {},
     "output_type": "execute_result"
    }
   ],
   "source": [
    "LR_best_model.fit(X_train, y_train)\n",
    "\n",
    "pred = LR_best_model.predict(X_test)\n",
    "LR_f1 = f1_score(y_test, pred)\n",
    "LR_f1"
   ]
  },
  {
   "cell_type": "markdown",
   "metadata": {},
   "source": [
    "### CatBoostClassifier"
   ]
  },
  {
   "cell_type": "code",
   "execution_count": 46,
   "metadata": {
    "execution": {
     "iopub.execute_input": "2023-04-05T00:15:25.265446Z",
     "iopub.status.busy": "2023-04-05T00:15:25.264454Z",
     "iopub.status.idle": "2023-04-05T00:15:57.190945Z",
     "shell.execute_reply": "2023-04-05T00:15:57.189690Z",
     "shell.execute_reply.started": "2023-04-05T00:15:25.265390Z"
    },
    "tags": []
   },
   "outputs": [
    {
     "name": "stderr",
     "output_type": "stream",
     "text": [
      "\u001b[32m[I 2023-04-05 00:15:25,274]\u001b[0m A new study created in memory with name: no-name-7052994d-5434-4349-b7d2-9e1305775db4\u001b[0m\n",
      "/opt/conda/lib/python3.7/site-packages/optuna/progress_bar.py:56: ExperimentalWarning: Progress bar is experimental (supported from v1.2.0). The interface can change in the future.\n",
      "  self._init_valid()\n"
     ]
    },
    {
     "data": {
      "application/vnd.jupyter.widget-view+json": {
       "model_id": "744f5d67e1c74f3b99e9426b1313512d",
       "version_major": 2,
       "version_minor": 0
      },
      "text/plain": [
       "  0%|          | 0/10 [00:00<?, ?it/s]"
      ]
     },
     "metadata": {},
     "output_type": "display_data"
    },
    {
     "name": "stdout",
     "output_type": "stream",
     "text": [
      "\u001b[32m[I 2023-04-05 00:15:29,255]\u001b[0m Trial 0 finished with value: 0.7933010828541465 and parameters: {'learning_rate': 0.034791275572369405, 'depth': 7, 'l2_leaf_reg': 2.1519384465145626}. Best is trial 0 with value: 0.7933010828541465.\u001b[0m\n",
      "\u001b[32m[I 2023-04-05 00:15:30,674]\u001b[0m Trial 1 finished with value: 0.7908408674281597 and parameters: {'learning_rate': 0.13562495566590116, 'depth': 6, 'l2_leaf_reg': 6.4052241005651345}. Best is trial 0 with value: 0.7933010828541465.\u001b[0m\n",
      "\u001b[32m[I 2023-04-05 00:15:33,539]\u001b[0m Trial 2 finished with value: 0.7919436168734059 and parameters: {'learning_rate': 0.02198380295734362, 'depth': 6, 'l2_leaf_reg': 0.10353290442953096}. Best is trial 0 with value: 0.7933010828541465.\u001b[0m\n",
      "\u001b[32m[I 2023-04-05 00:15:39,552]\u001b[0m Trial 3 finished with value: 0.791363201586504 and parameters: {'learning_rate': 0.02417209932174861, 'depth': 9, 'l2_leaf_reg': 0.4852628648889441}. Best is trial 0 with value: 0.7933010828541465.\u001b[0m\n",
      "\u001b[32m[I 2023-04-05 00:15:42,978]\u001b[0m Trial 4 finished with value: 0.7902427955142468 and parameters: {'learning_rate': 0.029398788972576907, 'depth': 8, 'l2_leaf_reg': 0.013579972436927388}. Best is trial 0 with value: 0.7933010828541465.\u001b[0m\n",
      "\u001b[32m[I 2023-04-05 00:15:44,270]\u001b[0m Trial 5 finished with value: 0.7855060451326533 and parameters: {'learning_rate': 0.3190133424991795, 'depth': 7, 'l2_leaf_reg': 4.438802648997132e-05}. Best is trial 0 with value: 0.7933010828541465.\u001b[0m\n",
      "\u001b[32m[I 2023-04-05 00:15:50,650]\u001b[0m Trial 6 finished with value: 0.7911638740575783 and parameters: {'learning_rate': 0.05071244871623823, 'depth': 10, 'l2_leaf_reg': 0.9655190529667356}. Best is trial 0 with value: 0.7933010828541465.\u001b[0m\n",
      "\u001b[32m[I 2023-04-05 00:15:52,217]\u001b[0m Trial 7 finished with value: 0.7899717350838482 and parameters: {'learning_rate': 0.09022759982005188, 'depth': 7, 'l2_leaf_reg': 1.6468255504971905e-05}. Best is trial 0 with value: 0.7933010828541465.\u001b[0m\n",
      "\u001b[32m[I 2023-04-05 00:15:54,386]\u001b[0m Trial 8 finished with value: 0.7907249725334813 and parameters: {'learning_rate': 0.027903015507997335, 'depth': 5, 'l2_leaf_reg': 0.0001914937551005121}. Best is trial 0 with value: 0.7933010828541465.\u001b[0m\n",
      "\u001b[32m[I 2023-04-05 00:15:57,181]\u001b[0m Trial 9 finished with value: 0.7901709523625726 and parameters: {'learning_rate': 0.02603583127279183, 'depth': 6, 'l2_leaf_reg': 0.7042679686317002}. Best is trial 0 with value: 0.7933010828541465.\u001b[0m\n"
     ]
    }
   ],
   "source": [
    "import catboost as cb\n",
    "\n",
    "def objective(trial):\n",
    "  \n",
    "    # Определение гиперпараметров, которые нужно подобрать\n",
    "    learning_rate = trial.suggest_loguniform('learning_rate', 0.01, 0.5)\n",
    "    depth = trial.suggest_int('depth', 4, 10)\n",
    "    l2_leaf_reg = trial.suggest_loguniform('l2_leaf_reg', 1e-5, 10)\n",
    "\n",
    "    # Создание модели с заданными гиперпараметрами\n",
    "    Cat = cb.CatBoostClassifier(\n",
    "        learning_rate=learning_rate,\n",
    "        depth=depth,\n",
    "        l2_leaf_reg=l2_leaf_reg,\n",
    "        iterations=1000,\n",
    "        random_state=12,\n",
    "        verbose=False,\n",
    "#         task_type=\"GPU\"\n",
    "    )\n",
    "\n",
    "    # Кросс-валидация модели с использованием метрики f1_score\n",
    "    kf = KFold(n_splits=2, shuffle=True, random_state=12)\n",
    "    scores = []\n",
    "    for train_idx, val_idx in kf.split(X_train):\n",
    "        X_tra, y_tra = X_train.iloc[train_idx], y_train.iloc[train_idx]\n",
    "        X_val, y_val = X_train.iloc[val_idx], y_train.iloc[val_idx]\n",
    "        # print(y_train)\n",
    "        Cat.fit(X_tra, y_tra, eval_set=[(X_val, y_val)], early_stopping_rounds=100, verbose=False)\n",
    "        y_pred = Cat.predict(X_val)\n",
    "        scores.append(f1_score(y_val, y_pred))\n",
    "    \n",
    "    # Оптимизация целевой метрики (f1_score)\n",
    "    return np.mean(scores)\n",
    "\n",
    "# Создание объекта Optuna и запуск оптимизации\n",
    "\n",
    "Cat_study = optuna.create_study(direction='maximize')\n",
    "Cat_study.optimize(objective, n_trials=10, show_progress_bar=True)\n",
    "\n",
    "# Получение лучших параметров и модели\n",
    "Cat_best_params = Cat_study.best_params\n",
    "Cat_best_model = cb.CatBoostClassifier(**Cat_best_params) # task_type=\"GPU\"\n",
    "Cat_best_score = Cat_study.best_value"
   ]
  },
  {
   "cell_type": "code",
   "execution_count": 47,
   "metadata": {
    "execution": {
     "iopub.execute_input": "2023-04-05T00:16:05.495834Z",
     "iopub.status.busy": "2023-04-05T00:16:05.495303Z",
     "iopub.status.idle": "2023-04-05T00:16:05.503020Z",
     "shell.execute_reply": "2023-04-05T00:16:05.501722Z",
     "shell.execute_reply.started": "2023-04-05T00:16:05.495798Z"
    }
   },
   "outputs": [
    {
     "data": {
      "text/plain": [
       "0.7933010828541465"
      ]
     },
     "execution_count": 47,
     "metadata": {},
     "output_type": "execute_result"
    }
   ],
   "source": [
    "Cat_best_score"
   ]
  },
  {
   "cell_type": "code",
   "execution_count": 48,
   "metadata": {
    "execution": {
     "iopub.execute_input": "2023-04-05T00:16:08.441546Z",
     "iopub.status.busy": "2023-04-05T00:16:08.440483Z",
     "iopub.status.idle": "2023-04-05T00:16:16.409004Z",
     "shell.execute_reply": "2023-04-05T00:16:16.407691Z",
     "shell.execute_reply.started": "2023-04-05T00:16:08.441476Z"
    },
    "tags": []
   },
   "outputs": [
    {
     "data": {
      "text/plain": [
       "0.7750325097529259"
      ]
     },
     "execution_count": 48,
     "metadata": {},
     "output_type": "execute_result"
    }
   ],
   "source": [
    "Cat_best_model.fit(X_train, y_train, verbose=False)\n",
    "\n",
    "Cat_pred = Cat_best_model.predict(X_test)\n",
    "Cat_f1 = f1_score(y_test, Cat_pred)\n",
    "Cat_f1"
   ]
  },
  {
   "cell_type": "markdown",
   "metadata": {},
   "source": [
    "### XGBClassifier"
   ]
  },
  {
   "cell_type": "code",
   "execution_count": 49,
   "metadata": {
    "execution": {
     "iopub.execute_input": "2023-04-05T00:16:20.150345Z",
     "iopub.status.busy": "2023-04-05T00:16:20.149942Z",
     "iopub.status.idle": "2023-04-05T00:16:36.943411Z",
     "shell.execute_reply": "2023-04-05T00:16:36.938865Z",
     "shell.execute_reply.started": "2023-04-05T00:16:20.150310Z"
    },
    "tags": []
   },
   "outputs": [
    {
     "name": "stderr",
     "output_type": "stream",
     "text": [
      "\u001b[32m[I 2023-04-05 00:16:20,159]\u001b[0m A new study created in memory with name: no-name-bda31e19-6ad7-4b41-98a5-e1a10dfe8436\u001b[0m\n",
      "/opt/conda/lib/python3.7/site-packages/optuna/progress_bar.py:56: ExperimentalWarning: Progress bar is experimental (supported from v1.2.0). The interface can change in the future.\n",
      "  self._init_valid()\n"
     ]
    },
    {
     "data": {
      "application/vnd.jupyter.widget-view+json": {
       "model_id": "7e422f4a4162404a91d3d13fe7bb6c66",
       "version_major": 2,
       "version_minor": 0
      },
      "text/plain": [
       "  0%|          | 0/10 [00:00<?, ?it/s]"
      ]
     },
     "metadata": {},
     "output_type": "display_data"
    },
    {
     "name": "stderr",
     "output_type": "stream",
     "text": [
      "/opt/conda/lib/python3.7/site-packages/xgboost/sklearn.py:797: UserWarning: `early_stopping_rounds` in `fit` method is deprecated for better compatibility with scikit-learn, use `early_stopping_rounds` in constructor or`set_params` instead.\n",
      "  UserWarning,\n",
      "/opt/conda/lib/python3.7/site-packages/xgboost/sklearn.py:797: UserWarning: `early_stopping_rounds` in `fit` method is deprecated for better compatibility with scikit-learn, use `early_stopping_rounds` in constructor or`set_params` instead.\n",
      "  UserWarning,\n"
     ]
    },
    {
     "name": "stdout",
     "output_type": "stream",
     "text": [
      "\u001b[32m[I 2023-04-05 00:16:25,857]\u001b[0m Trial 0 finished with value: 0.782000265036064 and parameters: {'learning_rate': 0.022008715974951416, 'max_depth': 7, 'alpha': 0.050701681845255746}. Best is trial 0 with value: 0.782000265036064.\u001b[0m\n"
     ]
    },
    {
     "name": "stderr",
     "output_type": "stream",
     "text": [
      "/opt/conda/lib/python3.7/site-packages/xgboost/sklearn.py:797: UserWarning: `early_stopping_rounds` in `fit` method is deprecated for better compatibility with scikit-learn, use `early_stopping_rounds` in constructor or`set_params` instead.\n",
      "  UserWarning,\n",
      "/opt/conda/lib/python3.7/site-packages/xgboost/sklearn.py:797: UserWarning: `early_stopping_rounds` in `fit` method is deprecated for better compatibility with scikit-learn, use `early_stopping_rounds` in constructor or`set_params` instead.\n",
      "  UserWarning,\n"
     ]
    },
    {
     "name": "stdout",
     "output_type": "stream",
     "text": [
      "\u001b[32m[I 2023-04-05 00:16:26,682]\u001b[0m Trial 1 finished with value: 0.7874226348364279 and parameters: {'learning_rate': 0.05968557142578887, 'max_depth': 5, 'alpha': 0.0248102925008532}. Best is trial 1 with value: 0.7874226348364279.\u001b[0m\n"
     ]
    },
    {
     "name": "stderr",
     "output_type": "stream",
     "text": [
      "/opt/conda/lib/python3.7/site-packages/xgboost/sklearn.py:797: UserWarning: `early_stopping_rounds` in `fit` method is deprecated for better compatibility with scikit-learn, use `early_stopping_rounds` in constructor or`set_params` instead.\n",
      "  UserWarning,\n",
      "/opt/conda/lib/python3.7/site-packages/xgboost/sklearn.py:797: UserWarning: `early_stopping_rounds` in `fit` method is deprecated for better compatibility with scikit-learn, use `early_stopping_rounds` in constructor or`set_params` instead.\n",
      "  UserWarning,\n"
     ]
    },
    {
     "name": "stdout",
     "output_type": "stream",
     "text": [
      "\u001b[32m[I 2023-04-05 00:16:28,468]\u001b[0m Trial 2 finished with value: 0.7836484983314795 and parameters: {'learning_rate': 0.03675345521057577, 'max_depth': 8, 'alpha': 0.0003468219372636222}. Best is trial 1 with value: 0.7874226348364279.\u001b[0m\n"
     ]
    },
    {
     "name": "stderr",
     "output_type": "stream",
     "text": [
      "/opt/conda/lib/python3.7/site-packages/xgboost/sklearn.py:797: UserWarning: `early_stopping_rounds` in `fit` method is deprecated for better compatibility with scikit-learn, use `early_stopping_rounds` in constructor or`set_params` instead.\n",
      "  UserWarning,\n",
      "/opt/conda/lib/python3.7/site-packages/xgboost/sklearn.py:797: UserWarning: `early_stopping_rounds` in `fit` method is deprecated for better compatibility with scikit-learn, use `early_stopping_rounds` in constructor or`set_params` instead.\n",
      "  UserWarning,\n"
     ]
    },
    {
     "name": "stdout",
     "output_type": "stream",
     "text": [
      "\u001b[32m[I 2023-04-05 00:16:30,190]\u001b[0m Trial 3 finished with value: 0.7866913847500172 and parameters: {'learning_rate': 0.023386519561980755, 'max_depth': 5, 'alpha': 1.3872374323116976e-05}. Best is trial 1 with value: 0.7874226348364279.\u001b[0m\n"
     ]
    },
    {
     "name": "stderr",
     "output_type": "stream",
     "text": [
      "/opt/conda/lib/python3.7/site-packages/xgboost/sklearn.py:797: UserWarning: `early_stopping_rounds` in `fit` method is deprecated for better compatibility with scikit-learn, use `early_stopping_rounds` in constructor or`set_params` instead.\n",
      "  UserWarning,\n",
      "/opt/conda/lib/python3.7/site-packages/xgboost/sklearn.py:797: UserWarning: `early_stopping_rounds` in `fit` method is deprecated for better compatibility with scikit-learn, use `early_stopping_rounds` in constructor or`set_params` instead.\n",
      "  UserWarning,\n"
     ]
    },
    {
     "name": "stdout",
     "output_type": "stream",
     "text": [
      "\u001b[32m[I 2023-04-05 00:16:32,832]\u001b[0m Trial 4 finished with value: 0.7842054678296435 and parameters: {'learning_rate': 0.014209629762070157, 'max_depth': 6, 'alpha': 2.9530616552174594e-05}. Best is trial 1 with value: 0.7874226348364279.\u001b[0m\n"
     ]
    },
    {
     "name": "stderr",
     "output_type": "stream",
     "text": [
      "/opt/conda/lib/python3.7/site-packages/xgboost/sklearn.py:797: UserWarning: `early_stopping_rounds` in `fit` method is deprecated for better compatibility with scikit-learn, use `early_stopping_rounds` in constructor or`set_params` instead.\n",
      "  UserWarning,\n",
      "/opt/conda/lib/python3.7/site-packages/xgboost/sklearn.py:797: UserWarning: `early_stopping_rounds` in `fit` method is deprecated for better compatibility with scikit-learn, use `early_stopping_rounds` in constructor or`set_params` instead.\n",
      "  UserWarning,\n"
     ]
    },
    {
     "name": "stdout",
     "output_type": "stream",
     "text": [
      "\u001b[32m[I 2023-04-05 00:16:33,392]\u001b[0m Trial 5 finished with value: 0.7940403019552842 and parameters: {'learning_rate': 0.13790426085697222, 'max_depth': 4, 'alpha': 7.951365127365418}. Best is trial 5 with value: 0.7940403019552842.\u001b[0m\n"
     ]
    },
    {
     "name": "stderr",
     "output_type": "stream",
     "text": [
      "/opt/conda/lib/python3.7/site-packages/xgboost/sklearn.py:797: UserWarning: `early_stopping_rounds` in `fit` method is deprecated for better compatibility with scikit-learn, use `early_stopping_rounds` in constructor or`set_params` instead.\n",
      "  UserWarning,\n",
      "/opt/conda/lib/python3.7/site-packages/xgboost/sklearn.py:797: UserWarning: `early_stopping_rounds` in `fit` method is deprecated for better compatibility with scikit-learn, use `early_stopping_rounds` in constructor or`set_params` instead.\n",
      "  UserWarning,\n"
     ]
    },
    {
     "name": "stdout",
     "output_type": "stream",
     "text": [
      "\u001b[32m[I 2023-04-05 00:16:35,410]\u001b[0m Trial 6 finished with value: 0.7825467441581634 and parameters: {'learning_rate': 0.020204210753729662, 'max_depth': 6, 'alpha': 0.005402338640553034}. Best is trial 5 with value: 0.7940403019552842.\u001b[0m\n"
     ]
    },
    {
     "name": "stderr",
     "output_type": "stream",
     "text": [
      "/opt/conda/lib/python3.7/site-packages/xgboost/sklearn.py:797: UserWarning: `early_stopping_rounds` in `fit` method is deprecated for better compatibility with scikit-learn, use `early_stopping_rounds` in constructor or`set_params` instead.\n",
      "  UserWarning,\n",
      "/opt/conda/lib/python3.7/site-packages/xgboost/sklearn.py:797: UserWarning: `early_stopping_rounds` in `fit` method is deprecated for better compatibility with scikit-learn, use `early_stopping_rounds` in constructor or`set_params` instead.\n",
      "  UserWarning,\n"
     ]
    },
    {
     "name": "stdout",
     "output_type": "stream",
     "text": [
      "\u001b[32m[I 2023-04-05 00:16:35,777]\u001b[0m Trial 7 finished with value: 0.7795739339903441 and parameters: {'learning_rate': 0.32703298472085524, 'max_depth': 6, 'alpha': 0.02634305932345726}. Best is trial 5 with value: 0.7940403019552842.\u001b[0m\n"
     ]
    },
    {
     "name": "stderr",
     "output_type": "stream",
     "text": [
      "/opt/conda/lib/python3.7/site-packages/xgboost/sklearn.py:797: UserWarning: `early_stopping_rounds` in `fit` method is deprecated for better compatibility with scikit-learn, use `early_stopping_rounds` in constructor or`set_params` instead.\n",
      "  UserWarning,\n",
      "/opt/conda/lib/python3.7/site-packages/xgboost/sklearn.py:797: UserWarning: `early_stopping_rounds` in `fit` method is deprecated for better compatibility with scikit-learn, use `early_stopping_rounds` in constructor or`set_params` instead.\n",
      "  UserWarning,\n"
     ]
    },
    {
     "name": "stdout",
     "output_type": "stream",
     "text": [
      "\u001b[32m[I 2023-04-05 00:16:36,457]\u001b[0m Trial 8 finished with value: 0.7831117651293333 and parameters: {'learning_rate': 0.11038222141540711, 'max_depth': 7, 'alpha': 0.03248984997755361}. Best is trial 5 with value: 0.7940403019552842.\u001b[0m\n"
     ]
    },
    {
     "name": "stderr",
     "output_type": "stream",
     "text": [
      "/opt/conda/lib/python3.7/site-packages/xgboost/sklearn.py:797: UserWarning: `early_stopping_rounds` in `fit` method is deprecated for better compatibility with scikit-learn, use `early_stopping_rounds` in constructor or`set_params` instead.\n",
      "  UserWarning,\n",
      "/opt/conda/lib/python3.7/site-packages/xgboost/sklearn.py:797: UserWarning: `early_stopping_rounds` in `fit` method is deprecated for better compatibility with scikit-learn, use `early_stopping_rounds` in constructor or`set_params` instead.\n",
      "  UserWarning,\n"
     ]
    },
    {
     "name": "stdout",
     "output_type": "stream",
     "text": [
      "\u001b[32m[I 2023-04-05 00:16:36,932]\u001b[0m Trial 9 finished with value: 0.786286896575116 and parameters: {'learning_rate': 0.1641637310114204, 'max_depth': 6, 'alpha': 0.00013108629979188233}. Best is trial 5 with value: 0.7940403019552842.\u001b[0m\n"
     ]
    }
   ],
   "source": [
    "import xgboost as xgb\n",
    "\n",
    "def objective(trial):\n",
    "  \n",
    "    # Определение гиперпараметров, которые нужно подобрать\n",
    "    learning_rate = trial.suggest_loguniform('learning_rate', 0.01, 0.5)\n",
    "    max_depth = trial.suggest_int('max_depth', 4, 10)\n",
    "    alpha = trial.suggest_loguniform('alpha', 1e-5, 10)\n",
    "\n",
    "    # Создание модели с заданными гиперпараметрами\n",
    "    xgb_model = xgb.XGBClassifier(\n",
    "        learning_rate=learning_rate,\n",
    "        max_depth=max_depth,\n",
    "        alpha=alpha,\n",
    "        n_estimators=1000,\n",
    "        random_state=12,\n",
    "        verbosity=0,\n",
    "        tree_method=\"gpu_hist\",\n",
    "        gpu_id=0\n",
    "    )\n",
    "\n",
    "    # Кросс-валидация модели с использованием метрики f1_score\n",
    "    kf = KFold(n_splits=2, shuffle=True, random_state=12)\n",
    "    scores = []\n",
    "    for train_idx, val_idx in kf.split(X_train):\n",
    "        X_tra, y_tra = X_train.iloc[train_idx], y_train.iloc[train_idx]\n",
    "        X_val, y_val = X_train.iloc[val_idx], y_train.iloc[val_idx]\n",
    "        xgb_model.fit(X_tra, y_tra, eval_set=[(X_val, y_val)], early_stopping_rounds=100, verbose=False)\n",
    "        y_pred = xgb_model.predict(X_val)\n",
    "        scores.append(f1_score(y_val, y_pred))\n",
    "    \n",
    "    # Оптимизация целевой метрики (f1_score)\n",
    "    return np.mean(scores)\n",
    "\n",
    "# Создание объекта Optuna и запуск оптимизации\n",
    "\n",
    "xgb_study = optuna.create_study(direction='maximize')\n",
    "xgb_study.optimize(objective, n_trials=10, show_progress_bar=True)\n",
    "\n",
    "# Получение лучших параметров и модели\n",
    "xgb_best_params = xgb_study.best_params\n",
    "xgb_best_model = xgb.XGBClassifier(**xgb_best_params, tree_method=\"gpu_hist\", gpu_id=0) # tree_method=\"gpu_hist\", gpu_id=0\n",
    "xgb_best_score = xgb_study.best_value\n",
    "\n",
    "\n",
    "\n"
   ]
  },
  {
   "cell_type": "code",
   "execution_count": 50,
   "metadata": {
    "execution": {
     "iopub.execute_input": "2023-04-05T00:16:45.314141Z",
     "iopub.status.busy": "2023-04-05T00:16:45.313136Z",
     "iopub.status.idle": "2023-04-05T00:16:45.328850Z",
     "shell.execute_reply": "2023-04-05T00:16:45.327463Z",
     "shell.execute_reply.started": "2023-04-05T00:16:45.314079Z"
    }
   },
   "outputs": [
    {
     "data": {
      "text/html": [
       "<div>\n",
       "<style scoped>\n",
       "    .dataframe tbody tr th:only-of-type {\n",
       "        vertical-align: middle;\n",
       "    }\n",
       "\n",
       "    .dataframe tbody tr th {\n",
       "        vertical-align: top;\n",
       "    }\n",
       "\n",
       "    .dataframe thead th {\n",
       "        text-align: right;\n",
       "    }\n",
       "</style>\n",
       "<table border=\"1\" class=\"dataframe\">\n",
       "  <thead>\n",
       "    <tr style=\"text-align: right;\">\n",
       "      <th></th>\n",
       "      <th>F1 metrics on CV</th>\n",
       "    </tr>\n",
       "  </thead>\n",
       "  <tbody>\n",
       "    <tr>\n",
       "      <th>LogisticRegression</th>\n",
       "      <td>0.767016</td>\n",
       "    </tr>\n",
       "    <tr>\n",
       "      <th>CatBoostClassifier</th>\n",
       "      <td>0.793301</td>\n",
       "    </tr>\n",
       "    <tr>\n",
       "      <th>XGBClassifier</th>\n",
       "      <td>0.794040</td>\n",
       "    </tr>\n",
       "  </tbody>\n",
       "</table>\n",
       "</div>"
      ],
      "text/plain": [
       "                    F1 metrics on CV\n",
       "LogisticRegression          0.767016\n",
       "CatBoostClassifier          0.793301\n",
       "XGBClassifier               0.794040"
      ]
     },
     "execution_count": 50,
     "metadata": {},
     "output_type": "execute_result"
    }
   ],
   "source": [
    "best_score_table = pd.DataFrame({'LogisticRegression': LR_best_score,\n",
    "                                'CatBoostClassifier':Cat_best_score,\n",
    "                                'XGBClassifier' : xgb_best_score}, index=['F1 metrics on CV'])\n",
    "\n",
    "best_score_table.T"
   ]
  },
  {
   "cell_type": "markdown",
   "metadata": {},
   "source": [
    "## Обучение"
   ]
  },
  {
   "cell_type": "code",
   "execution_count": null,
   "metadata": {},
   "outputs": [],
   "source": []
  },
  {
   "cell_type": "markdown",
   "metadata": {},
   "source": [
    "## Выводы"
   ]
  },
  {
   "cell_type": "code",
   "execution_count": null,
   "metadata": {},
   "outputs": [],
   "source": []
  },
  {
   "cell_type": "markdown",
   "metadata": {},
   "source": [
    "## Чек-лист проверки"
   ]
  },
  {
   "cell_type": "markdown",
   "metadata": {},
   "source": [
    "- [x]  Jupyter Notebook открыт\n",
    "- [ ]  Весь код выполняется без ошибок\n",
    "- [ ]  Ячейки с кодом расположены в порядке исполнения\n",
    "- [ ]  Данные загружены и подготовлены\n",
    "- [ ]  Модели обучены\n",
    "- [ ]  Значение метрики *F1* не меньше 0.75\n",
    "- [ ]  Выводы написаны"
   ]
  }
 ],
 "metadata": {
  "kernelspec": {
   "display_name": "Python 3 (ipykernel)",
   "language": "python",
   "name": "python3"
  },
  "language_info": {
   "codemirror_mode": {
    "name": "ipython",
    "version": 3
   },
   "file_extension": ".py",
   "mimetype": "text/x-python",
   "name": "python",
   "nbconvert_exporter": "python",
   "pygments_lexer": "ipython3",
   "version": "3.9.2"
  },
  "toc": {
   "base_numbering": 1,
   "nav_menu": {},
   "number_sections": true,
   "sideBar": true,
   "skip_h1_title": true,
   "title_cell": "Содержание",
   "title_sidebar": "Contents",
   "toc_cell": true,
   "toc_position": {
    "height": "calc(100% - 180px)",
    "left": "10px",
    "top": "150px",
    "width": "302.391px"
   },
   "toc_section_display": true,
   "toc_window_display": false
  },
  "widgets": {
   "application/vnd.jupyter.widget-state+json": {
    "state": {},
    "version_major": 2,
    "version_minor": 0
   }
  }
 },
 "nbformat": 4,
 "nbformat_minor": 4
}
